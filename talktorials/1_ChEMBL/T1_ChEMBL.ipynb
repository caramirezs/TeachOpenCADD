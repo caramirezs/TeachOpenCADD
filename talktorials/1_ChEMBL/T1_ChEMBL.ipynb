{
 "cells": [
  {
   "cell_type": "markdown",
   "metadata": {},
   "source": [
    "# Talktorial 1\n",
    "\n",
    "# Compound data acquisition (ChEMBL)\n",
    "\n",
    "#### Developed in the CADD seminars 2017 and 2018, AG Volkamer, Charité/FU Berlin \n",
    "\n",
    "Paula Junge and Svetlana Leng"
   ]
  },
  {
   "cell_type": "markdown",
   "metadata": {},
   "source": [
    "## Aim of this talktorial\n",
    "\n",
    "We learn how to extract data from ChEMBL:\n",
    "\n",
    "* Find ligands which were tested on a certain target\n",
    "* Filter by available bioactivity data\n",
    "* Calculate pIC50 values\n",
    "* Merge dataframes and draw extracted molecules\n",
    "\n",
    "## Learning goals\n",
    "\n",
    "\n",
    "### Theory\n",
    "\n",
    "* ChEMBL database\n",
    "    * ChEMBL web services\n",
    "    * ChEMBL webresource client\n",
    "* Compound activity measures\n",
    "    * IC50\n",
    "    * pIC50\n",
    "\n",
    "### Practical\n",
    "    \n",
    "Goal: Get list of compounds with bioactivity data for a given target\n",
    "\n",
    "* Connect to ChEMBL database\n",
    "* Get target data (EGFR kinase)\n",
    "* Bioactivity data\n",
    "    * Download and filter bioactivities\n",
    "    * Clean and convert\n",
    "* Compound data\n",
    "    * Get list of compounds\n",
    "    * Prepare output data\n",
    "* Output\n",
    "    * Draw molecules with highest pIC50\n",
    "    * Write output file\n",
    "\n",
    "\n",
    "## References\n",
    "\n",
    "* ChEMBL bioactivity database (https://www.ncbi.nlm.nih.gov/pmc/articles/PMC5210557/)\n",
    "* ChEMBL web services: <i>Nucleic Acids Res.</i> (2015), <b>43</b>, 612-620 (https://academic.oup.com/nar/article/43/W1/W612/2467881) \n",
    "* ChEMBL webrescource client GitHub (https://github.com/chembl/chembl_webresource_client)\n",
    "* myChEMBL webservices version 2.x (https://github.com/chembl/mychembl/blob/master/ipython_notebooks/09_myChEMBL_web_services.ipynb)\n",
    "* ChEMBL web-interface (https://www.ebi.ac.uk/chembl/)\n",
    "* EBI-RDF platform (https://www.ncbi.nlm.nih.gov/pubmed/24413672)\n",
    "* IC50 and pIC50 (https://en.wikipedia.org/wiki/IC50)\n",
    "* UniProt website (https://www.uniprot.org/)"
   ]
  },
  {
   "cell_type": "markdown",
   "metadata": {},
   "source": [
    "_____________________________________________________________________________________________________________________\n",
    "\n",
    "\n",
    "## Theory\n",
    "\n",
    "### ChEMBL database\n",
    "\n",
    "* Open large-scale bioactivity database\n",
    "* **Current data content (as of 10.2018):**\n",
    "    * \\>1.8 million distinct compound structures\n",
    "    * \\>15 million activity values from 1 million assays\n",
    "    * Assays are mapped to ∼12 000 targets\n",
    "* **Data sources** include scientific literature, PubChem bioassays, Drugs for Neglected Diseases Initiative (DNDi), BindingDB database, ...\n",
    "* ChEMBL data can be accessed via a [web-interface](https://www.ebi.ac.uk/chembl/), the [EBI-RDF platform](https://www.ncbi.nlm.nih.gov/pubmed/24413672) and the [ChEMBL web services](https://www.ncbi.nlm.nih.gov/pmc/articles/PMC4489243/#B5)\n",
    " \n",
    "    \n",
    "#### ChEMBL web services\n",
    "\n",
    "* RESTful web service\n",
    "* ChEMBL web service version 2.x resource schema: \n",
    "\n",
    "[![ChEMBL web service schema](images/chembl_webservices_schema_diagram.jpg)](https://www.ncbi.nlm.nih.gov/pmc/articles/PMC4489243/figure/F2/)\n",
    "\n",
    "*Figure 1:* \n",
    "\"ChEMBL web service schema diagram. The oval shapes represent ChEMBL web service resources and the line between two resources indicates that they share a common attribute. The arrow direction shows where the primary information about a resource type can be found. A dashed line indicates the relationship between two resources behaves differently. For example, the `Image` resource provides a graphical based representation of a `Molecule`.\"\n",
    "Figure and description taken from: [<i>Nucleic Acids Res.</i> (2015), <b>43</b>, 612-620](https://academic.oup.com/nar/article/43/W1/W612/2467881).\n",
    "\n",
    "\n",
    "#### ChEMBL webresource client\n",
    "\n",
    "* Python client library for accessing ChEMBL data\n",
    "* Handles interaction with the HTTPS protocol\n",
    "* Lazy evaluation of results -> reduced number of network requests\n",
    "\n",
    "### Compound activity measures\n",
    "\n",
    "#### IC50 \n",
    "\n",
    "* [Half maximal inhibitory concentration](https://en.wikipedia.org/wiki/IC50)\n",
    "* Indicates how much of a particular drug or other substance is needed to inhibit a given biological process by half\n",
    "\n",
    "[<img src=\"https://upload.wikimedia.org/wikipedia/commons/8/81/Example_IC50_curve_demonstrating_visually_how_IC50_is_derived.png\" width=\"450\" align=\"center\" >](https://commons.wikimedia.org/wiki/File:Example_IC50_curve_demonstrating_visually_how_IC50_is_derived.png)\n",
    "\n",
    "*Figure 2:* Visual demonstration of how to derive an IC50 value: Arrange data with inhibition on vertical axis and log(concentration) on horizontal axis; then identify max and min inhibition; then the IC50 is the concentration at which the curve passes through the 50% inhibition level.\n",
    "\n",
    "#### pIC50\n",
    "\n",
    "* To facilitate the comparison of IC50 values, we define pIC50 values on a logarithmic scale, such that <br />\n",
    "    $ pIC_{50} = -log_{10}(IC_{50}) $ where $ IC_{50}$ is specified in units of M.\n",
    "* Higher pIC50 values indicate exponentially greater potency of the drug\n",
    "* pIC50 is given in terms of molar concentration (mol/L or M) <br />\n",
    "    * IC50 should be specified in M to convert to pIC50  \n",
    "    * For nM: $pIC_{50} = -log_{10}(IC_{50}*10^{-9})= 9-log_{10}(IC_{50}) $\n",
    "    \n",
    "Besides, IC50 and pIC50, other bioactivity measures are used, such as the equilibrium constant [KI](https://en.wikipedia.org/wiki/Equilibrium_constant) and the half maximal effective concentration  [EC50](https://en.wikipedia.org/wiki/EC50)."
   ]
  },
  {
   "cell_type": "markdown",
   "metadata": {},
   "source": [
    "## Practical\n",
    "\n",
    "In the following, we want to download all molecules that have been tested against our target of interest, the EGFR kinase.\n",
    "\n",
    "### Connect to ChEMBL database"
   ]
  },
  {
   "cell_type": "markdown",
   "metadata": {},
   "source": [
    "First, the ChEMBL webresource client as well as other python libraries are imported."
   ]
  },
  {
   "cell_type": "code",
   "execution_count": 1,
   "metadata": {},
   "outputs": [],
   "source": [
    "from chembl_webresource_client.new_client import new_client\n",
    "import pandas as pd\n",
    "import math\n",
    "from rdkit.Chem import PandasTools"
   ]
  },
  {
   "cell_type": "markdown",
   "metadata": {},
   "source": [
    "Create resource objects for API access."
   ]
  },
  {
   "cell_type": "code",
   "execution_count": 2,
   "metadata": {},
   "outputs": [],
   "source": [
    "targets = new_client.target\n",
    "compounds = new_client.molecule\n",
    "bioactivities = new_client.activity"
   ]
  },
  {
   "cell_type": "markdown",
   "metadata": {},
   "source": [
    "## Target data\n",
    "\n",
    "* Get UniProt-ID (http://www.uniprot.org/uniprot/P00533) of the target of interest (EGFR kinase) from UniProt website (https://www.uniprot.org/)\n",
    "* Use UniProt-ID to get target information\n",
    "* Select a different UniProt-ID if you are interested into another target"
   ]
  },
  {
   "cell_type": "code",
   "execution_count": 3,
   "metadata": {},
   "outputs": [
    {
     "name": "stdout",
     "output_type": "stream",
     "text": [
      "<class 'chembl_webresource_client.query_set.QuerySet'>\n"
     ]
    },
    {
     "data": {
      "text/plain": "                                    cross_references      organism  \\\n0  [{'xref_id': 'O43451', 'xref_name': None, 'xre...  Homo sapiens   \n1                                                NaN  Homo sapiens   \n2                                                NaN  Homo sapiens   \n3                                                NaN  Homo sapiens   \n4                                                NaN  Homo sapiens   \n5                                                NaN  Homo sapiens   \n6                                                NaN  Homo sapiens   \n7                                                NaN  Homo sapiens   \n\n                                           pref_name species_group_flag  \\\n0                               Maltase-glucoamylase              False   \n1             Epidermal growth factor receptor erbB1                NaN   \n2  Epidermal growth factor receptor and ErbB2 (HE...                NaN   \n3                   Epidermal growth factor receptor                NaN   \n4  MER intracellular domain/EGFR extracellular do...                NaN   \n5  Protein cereblon/Epidermal growth factor receptor                NaN   \n6                                        EGFR/PPP1CA                NaN   \n7                                           VHL/EGFR                NaN   \n\n  target_chembl_id                                  target_components  \\\n0       CHEMBL2074  [{'accession': 'O43451', 'component_descriptio...   \n1        CHEMBL203                                                NaN   \n2    CHEMBL2111431                                                NaN   \n3    CHEMBL2363049                                                NaN   \n4    CHEMBL3137284                                                NaN   \n5    CHEMBL4523680                                                NaN   \n6    CHEMBL4523747                                                NaN   \n7    CHEMBL4523998                                                NaN   \n\n                   target_type  tax_id  \n0               SINGLE PROTEIN  9606.0  \n1               SINGLE PROTEIN     NaN  \n2               PROTEIN FAMILY     NaN  \n3               PROTEIN FAMILY     NaN  \n4             CHIMERIC PROTEIN     NaN  \n5  PROTEIN-PROTEIN INTERACTION     NaN  \n6  PROTEIN-PROTEIN INTERACTION     NaN  \n7  PROTEIN-PROTEIN INTERACTION     NaN  ",
      "text/html": "<div>\n<style scoped>\n    .dataframe tbody tr th:only-of-type {\n        vertical-align: middle;\n    }\n\n    .dataframe tbody tr th {\n        vertical-align: top;\n    }\n\n    .dataframe thead th {\n        text-align: right;\n    }\n</style>\n<table border=\"1\" class=\"dataframe\">\n  <thead>\n    <tr style=\"text-align: right;\">\n      <th></th>\n      <th>cross_references</th>\n      <th>organism</th>\n      <th>pref_name</th>\n      <th>species_group_flag</th>\n      <th>target_chembl_id</th>\n      <th>target_components</th>\n      <th>target_type</th>\n      <th>tax_id</th>\n    </tr>\n  </thead>\n  <tbody>\n    <tr>\n      <th>0</th>\n      <td>[{'xref_id': 'O43451', 'xref_name': None, 'xre...</td>\n      <td>Homo sapiens</td>\n      <td>Maltase-glucoamylase</td>\n      <td>False</td>\n      <td>CHEMBL2074</td>\n      <td>[{'accession': 'O43451', 'component_descriptio...</td>\n      <td>SINGLE PROTEIN</td>\n      <td>9606.0</td>\n    </tr>\n    <tr>\n      <th>1</th>\n      <td>NaN</td>\n      <td>Homo sapiens</td>\n      <td>Epidermal growth factor receptor erbB1</td>\n      <td>NaN</td>\n      <td>CHEMBL203</td>\n      <td>NaN</td>\n      <td>SINGLE PROTEIN</td>\n      <td>NaN</td>\n    </tr>\n    <tr>\n      <th>2</th>\n      <td>NaN</td>\n      <td>Homo sapiens</td>\n      <td>Epidermal growth factor receptor and ErbB2 (HE...</td>\n      <td>NaN</td>\n      <td>CHEMBL2111431</td>\n      <td>NaN</td>\n      <td>PROTEIN FAMILY</td>\n      <td>NaN</td>\n    </tr>\n    <tr>\n      <th>3</th>\n      <td>NaN</td>\n      <td>Homo sapiens</td>\n      <td>Epidermal growth factor receptor</td>\n      <td>NaN</td>\n      <td>CHEMBL2363049</td>\n      <td>NaN</td>\n      <td>PROTEIN FAMILY</td>\n      <td>NaN</td>\n    </tr>\n    <tr>\n      <th>4</th>\n      <td>NaN</td>\n      <td>Homo sapiens</td>\n      <td>MER intracellular domain/EGFR extracellular do...</td>\n      <td>NaN</td>\n      <td>CHEMBL3137284</td>\n      <td>NaN</td>\n      <td>CHIMERIC PROTEIN</td>\n      <td>NaN</td>\n    </tr>\n    <tr>\n      <th>5</th>\n      <td>NaN</td>\n      <td>Homo sapiens</td>\n      <td>Protein cereblon/Epidermal growth factor receptor</td>\n      <td>NaN</td>\n      <td>CHEMBL4523680</td>\n      <td>NaN</td>\n      <td>PROTEIN-PROTEIN INTERACTION</td>\n      <td>NaN</td>\n    </tr>\n    <tr>\n      <th>6</th>\n      <td>NaN</td>\n      <td>Homo sapiens</td>\n      <td>EGFR/PPP1CA</td>\n      <td>NaN</td>\n      <td>CHEMBL4523747</td>\n      <td>NaN</td>\n      <td>PROTEIN-PROTEIN INTERACTION</td>\n      <td>NaN</td>\n    </tr>\n    <tr>\n      <th>7</th>\n      <td>NaN</td>\n      <td>Homo sapiens</td>\n      <td>VHL/EGFR</td>\n      <td>NaN</td>\n      <td>CHEMBL4523998</td>\n      <td>NaN</td>\n      <td>PROTEIN-PROTEIN INTERACTION</td>\n      <td>NaN</td>\n    </tr>\n  </tbody>\n</table>\n</div>"
     },
     "execution_count": 3,
     "metadata": {},
     "output_type": "execute_result"
    }
   ],
   "source": [
    "uniprot_id = 'P00533'\n",
    "# Get target information from ChEMBL but restrict to specified values only\n",
    "target_P00533 = targets.get(target_components__accession=uniprot_id) \\\n",
    "                       .only('target_chembl_id', 'organism', 'pref_name', 'target_type')\n",
    "print(type(target_P00533))\n",
    "pd.DataFrame.from_records(target_P00533)"
   ]
  },
  {
   "cell_type": "markdown",
   "metadata": {},
   "source": [
    "### After checking the entries, we select the first entry as our target of interest\n",
    "`CHEMBL203`: It is a single protein and represents the human Epidermal growth factor receptor (EGFR, also named erbB1) "
   ]
  },
  {
   "cell_type": "code",
   "execution_count": 4,
   "metadata": {},
   "outputs": [
    {
     "data": {
      "text/plain": "{'organism': 'Homo sapiens',\n 'pref_name': 'Epidermal growth factor receptor erbB1',\n 'target_chembl_id': 'CHEMBL203',\n 'target_type': 'SINGLE PROTEIN'}"
     },
     "execution_count": 4,
     "metadata": {},
     "output_type": "execute_result"
    }
   ],
   "source": [
    "target = target_P00533[0]\n",
    "target"
   ]
  },
  {
   "cell_type": "markdown",
   "metadata": {},
   "source": [
    "Save selected ChEMBL-ID."
   ]
  },
  {
   "cell_type": "code",
   "execution_count": 5,
   "metadata": {},
   "outputs": [
    {
     "data": {
      "text/plain": "'CHEMBL203'"
     },
     "execution_count": 5,
     "metadata": {},
     "output_type": "execute_result"
    }
   ],
   "source": [
    "chembl_id = target['target_chembl_id']\n",
    "chembl_id"
   ]
  },
  {
   "cell_type": "markdown",
   "metadata": {},
   "source": [
    "### Bioactivity data\n",
    "\n",
    "Now, we want to query bioactivity data for the target of interest.\n",
    "\n",
    "#### Download and filter bioactivities for the target"
   ]
  },
  {
   "cell_type": "markdown",
   "metadata": {},
   "source": [
    "In this step, we download and filter the bioactivity data and only consider\n",
    "\n",
    "* human proteins\n",
    "* bioactivity type IC50\n",
    "* exact measurements (relation '=')    \n",
    "* binding data (assay type 'B')"
   ]
  },
  {
   "cell_type": "code",
   "execution_count": 20,
   "metadata": {},
   "outputs": [],
   "source": [
    "bioact = bioactivities.filter(target_chembl_id = chembl_id).filter(type = 'IC50').filter(relation = '=').\\\n",
    "    filter(assay_type = 'B').only('activity_id','assay_chembl_id', 'assay_description', 'assay_type',\n",
    "                                  'molecule_chembl_id', 'type', 'units', 'relation', 'value','target_chembl_id',\n",
    "                                  'target_organism')"
   ]
  },
  {
   "cell_type": "markdown",
   "metadata": {},
   "source": [
    "If you experience difficulties to query the ChEMBL database, we provide here a file containing the results for the query in the previous cell (11 April 2019). We do this using the Python package pickle which serializes Python objects so they can be saved to a file, and loaded in a program again later on.\n",
    "(Learn more about object serialization on [DataCamp](https://www.datacamp.com/community/tutorials/pickle-python-tutorial))\n",
    "\n",
    "You can load the \"pickled\" compounds by uncommenting and running the next cell."
   ]
  },
  {
   "cell_type": "code",
   "execution_count": 21,
   "metadata": {},
   "outputs": [],
   "source": [
    "#import pickle\n",
    "#bioact = pickle.load(open(\"../data/T1/EGFR_compounds_from_chembl_query_20190411.p\", \"rb\"))"
   ]
  },
  {
   "cell_type": "markdown",
   "metadata": {},
   "source": [
    "#### Clean and convert bioactivity data\n",
    "\n",
    "The data is stored as a list of dictionaries"
   ]
  },
  {
   "cell_type": "code",
   "execution_count": 22,
   "metadata": {},
   "outputs": [
    {
     "data": {
      "text/plain": "{'activity_comment': None,\n 'activity_id': 31863,\n 'activity_properties': [],\n 'assay_chembl_id': 'CHEMBL663853',\n 'assay_description': 'Inhibitory concentration against human DNA topoisomerase II, alpha mediated relaxation of pBR322; no measurable activity',\n 'assay_type': 'B',\n 'assay_variant_accession': None,\n 'assay_variant_mutation': None,\n 'bao_endpoint': 'BAO_0000190',\n 'bao_format': 'BAO_0000357',\n 'bao_label': 'single protein format',\n 'canonical_smiles': 'c1ccc(-c2nc3c(-c4nc5ccccc5o4)cccc3o2)cc1',\n 'data_validity_comment': None,\n 'data_validity_description': None,\n 'document_chembl_id': 'CHEMBL1137930',\n 'document_journal': 'Bioorg. Med. Chem. Lett.',\n 'document_year': 2004,\n 'ligand_efficiency': None,\n 'molecule_chembl_id': 'CHEMBL113081',\n 'molecule_pref_name': None,\n 'parent_molecule_chembl_id': 'CHEMBL113081',\n 'pchembl_value': None,\n 'potential_duplicate': False,\n 'qudt_units': 'http://www.openphacts.org/units/Nanomolar',\n 'record_id': 206172,\n 'relation': '>',\n 'src_id': 1,\n 'standard_flag': True,\n 'standard_relation': '>',\n 'standard_text_value': None,\n 'standard_type': 'IC50',\n 'standard_units': 'nM',\n 'standard_upper_value': None,\n 'standard_value': '100000.0',\n 'target_chembl_id': 'CHEMBL1806',\n 'target_organism': 'Homo sapiens',\n 'target_pref_name': 'DNA topoisomerase II alpha',\n 'target_tax_id': '9606',\n 'text_value': None,\n 'toid': None,\n 'type': 'IC50',\n 'units': 'uM',\n 'uo_units': 'UO_0000065',\n 'upper_value': None,\n 'value': '100.0'}"
     },
     "execution_count": 22,
     "metadata": {},
     "output_type": "execute_result"
    }
   ],
   "source": [
    "bioact[0]"
   ]
  },
  {
   "cell_type": "markdown",
   "metadata": {},
   "source": [
    "Convert to pandas dataframe (this might take some minutes)."
   ]
  },
  {
   "cell_type": "code",
   "execution_count": null,
   "metadata": {
    "pycharm": {
     "is_executing": true
    }
   },
   "outputs": [],
   "source": [
    "bioact_df = pd.DataFrame.from_records(bioact)\n",
    "bioact_df.head(10)"
   ]
  },
  {
   "cell_type": "code",
   "execution_count": 10,
   "metadata": {},
   "outputs": [
    {
     "data": {
      "text/plain": "(8817, 11)"
     },
     "execution_count": 10,
     "metadata": {},
     "output_type": "execute_result"
    }
   ],
   "source": [
    "bioact_df.shape"
   ]
  },
  {
   "cell_type": "markdown",
   "metadata": {},
   "source": [
    "Delete entries with missing values."
   ]
  },
  {
   "cell_type": "code",
   "execution_count": 11,
   "metadata": {},
   "outputs": [
    {
     "data": {
      "text/plain": "(8816, 11)"
     },
     "execution_count": 11,
     "metadata": {},
     "output_type": "execute_result"
    }
   ],
   "source": [
    "bioact_df = bioact_df.dropna(axis=0, how = 'any')\n",
    "bioact_df.shape"
   ]
  },
  {
   "cell_type": "markdown",
   "metadata": {},
   "source": [
    "Delete duplicates:\n",
    "Sometimes the same molecule (`molecule_chembl_id`) has been tested more than once, in this case, we only keep the first one."
   ]
  },
  {
   "cell_type": "code",
   "execution_count": 12,
   "metadata": {},
   "outputs": [
    {
     "data": {
      "text/plain": "(6118, 11)"
     },
     "execution_count": 12,
     "metadata": {},
     "output_type": "execute_result"
    }
   ],
   "source": [
    "bioact_df = bioact_df.drop_duplicates('molecule_chembl_id', keep = 'first')\n",
    "bioact_df.shape"
   ]
  },
  {
   "cell_type": "markdown",
   "metadata": {},
   "source": [
    "We would like to only keep bioactivity data measured in molar units. The following print statements will help us to see what units are contained and to control what is kept after dropping some rows."
   ]
  },
  {
   "cell_type": "code",
   "execution_count": 13,
   "metadata": {},
   "outputs": [
    {
     "name": "stdout",
     "output_type": "stream",
     "text": [
      "['uM' 'nM' 'M' \"10'1 ug/ml\" 'ug ml-1' \"10'-1microM\" \"10'1 uM\"\n",
      " \"10'-1 ug/ml\" \"10'-2 ug/ml\" \"10'2 uM\" '/uM' \"10'-6g/ml\" 'mM' 'umol/L'\n",
      " 'nmol/L' 'nmol']\n",
      "['uM' 'nM' 'M' \"10'-1microM\" \"10'1 uM\" \"10'2 uM\" '/uM' 'mM']\n"
     ]
    },
    {
     "data": {
      "text/plain": "(6027, 11)"
     },
     "execution_count": 13,
     "metadata": {},
     "output_type": "execute_result"
    }
   ],
   "source": [
    "print(bioact_df.units.unique())\n",
    "bioact_df = bioact_df.drop(bioact_df.index[~bioact_df.units.str.contains('M')])\n",
    "print(bioact_df.units.unique())\n",
    "bioact_df.shape"
   ]
  },
  {
   "cell_type": "code",
   "execution_count": 14,
   "outputs": [
    {
     "data": {
      "text/plain": "0       uM\n2       uM\n3       uM\n4       uM\n5       uM\n        ..\n8802    uM\n8803    uM\n8804    uM\n8805    uM\n8806    uM\nName: units, Length: 6027, dtype: object"
     },
     "execution_count": 14,
     "metadata": {},
     "output_type": "execute_result"
    }
   ],
   "source": [
    "bioact_df.units"
   ],
   "metadata": {
    "collapsed": false,
    "pycharm": {
     "name": "#%%\n"
    }
   }
  },
  {
   "cell_type": "markdown",
   "metadata": {},
   "source": [
    "Since we deleted some rows, but we want to iterate over the index later, we reset index to be continuous."
   ]
  },
  {
   "cell_type": "code",
   "execution_count": 15,
   "metadata": {},
   "outputs": [
    {
     "data": {
      "text/plain": "   activity_id assay_chembl_id  \\\n0        32260    CHEMBL674637   \n1        32267    CHEMBL674637   \n2        32680    CHEMBL677833   \n3        32770    CHEMBL674643   \n4        32772    CHEMBL674643   \n\n                                   assay_description assay_type  \\\n0  Inhibitory activity towards tyrosine phosphory...          B   \n1  Inhibitory activity towards tyrosine phosphory...          B   \n2  In vitro inhibition of Epidermal growth factor...          B   \n3  Inhibitory concentration of EGF dependent auto...          B   \n4  Inhibitory concentration of EGF dependent auto...          B   \n\n  molecule_chembl_id relation target_chembl_id target_organism  type units  \\\n0        CHEMBL68920        =        CHEMBL203    Homo sapiens  IC50    uM   \n1        CHEMBL69960        =        CHEMBL203    Homo sapiens  IC50    uM   \n2       CHEMBL137635        =        CHEMBL203    Homo sapiens  IC50    uM   \n3       CHEMBL306988        =        CHEMBL203    Homo sapiens  IC50    uM   \n4        CHEMBL66879        =        CHEMBL203    Homo sapiens  IC50    uM   \n\n    value  \n0   0.041  \n1    0.17  \n2     9.3  \n3   500.0  \n4  3000.0  ",
      "text/html": "<div>\n<style scoped>\n    .dataframe tbody tr th:only-of-type {\n        vertical-align: middle;\n    }\n\n    .dataframe tbody tr th {\n        vertical-align: top;\n    }\n\n    .dataframe thead th {\n        text-align: right;\n    }\n</style>\n<table border=\"1\" class=\"dataframe\">\n  <thead>\n    <tr style=\"text-align: right;\">\n      <th></th>\n      <th>activity_id</th>\n      <th>assay_chembl_id</th>\n      <th>assay_description</th>\n      <th>assay_type</th>\n      <th>molecule_chembl_id</th>\n      <th>relation</th>\n      <th>target_chembl_id</th>\n      <th>target_organism</th>\n      <th>type</th>\n      <th>units</th>\n      <th>value</th>\n    </tr>\n  </thead>\n  <tbody>\n    <tr>\n      <th>0</th>\n      <td>32260</td>\n      <td>CHEMBL674637</td>\n      <td>Inhibitory activity towards tyrosine phosphory...</td>\n      <td>B</td>\n      <td>CHEMBL68920</td>\n      <td>=</td>\n      <td>CHEMBL203</td>\n      <td>Homo sapiens</td>\n      <td>IC50</td>\n      <td>uM</td>\n      <td>0.041</td>\n    </tr>\n    <tr>\n      <th>1</th>\n      <td>32267</td>\n      <td>CHEMBL674637</td>\n      <td>Inhibitory activity towards tyrosine phosphory...</td>\n      <td>B</td>\n      <td>CHEMBL69960</td>\n      <td>=</td>\n      <td>CHEMBL203</td>\n      <td>Homo sapiens</td>\n      <td>IC50</td>\n      <td>uM</td>\n      <td>0.17</td>\n    </tr>\n    <tr>\n      <th>2</th>\n      <td>32680</td>\n      <td>CHEMBL677833</td>\n      <td>In vitro inhibition of Epidermal growth factor...</td>\n      <td>B</td>\n      <td>CHEMBL137635</td>\n      <td>=</td>\n      <td>CHEMBL203</td>\n      <td>Homo sapiens</td>\n      <td>IC50</td>\n      <td>uM</td>\n      <td>9.3</td>\n    </tr>\n    <tr>\n      <th>3</th>\n      <td>32770</td>\n      <td>CHEMBL674643</td>\n      <td>Inhibitory concentration of EGF dependent auto...</td>\n      <td>B</td>\n      <td>CHEMBL306988</td>\n      <td>=</td>\n      <td>CHEMBL203</td>\n      <td>Homo sapiens</td>\n      <td>IC50</td>\n      <td>uM</td>\n      <td>500.0</td>\n    </tr>\n    <tr>\n      <th>4</th>\n      <td>32772</td>\n      <td>CHEMBL674643</td>\n      <td>Inhibitory concentration of EGF dependent auto...</td>\n      <td>B</td>\n      <td>CHEMBL66879</td>\n      <td>=</td>\n      <td>CHEMBL203</td>\n      <td>Homo sapiens</td>\n      <td>IC50</td>\n      <td>uM</td>\n      <td>3000.0</td>\n    </tr>\n  </tbody>\n</table>\n</div>"
     },
     "execution_count": 15,
     "metadata": {},
     "output_type": "execute_result"
    }
   ],
   "source": [
    "bioact_df = bioact_df.reset_index(drop=True) \n",
    "bioact_df.head()"
   ]
  },
  {
   "cell_type": "markdown",
   "metadata": {},
   "source": [
    "To allow further comparison of the IC50 values, we convert all units to nM. First, we write a helper function, which can be applied to the whole dataframe in the next step."
   ]
  },
  {
   "cell_type": "code",
   "execution_count": 16,
   "metadata": {},
   "outputs": [],
   "source": [
    "def convert_to_NM(unit, bioactivity):\n",
    "#     c=0\n",
    "# for i, unit in enumerate(bioact_df.units):\n",
    "    if unit != \"nM\":        \n",
    "        if unit == \"pM\":\n",
    "            value = float(bioactivity)/1000\n",
    "        elif unit == \"10'-11M\":\n",
    "            value = float(bioactivity)/100\n",
    "        elif unit == \"10'-10M\":\n",
    "            value = float(bioactivity)/10\n",
    "        elif unit == \"10'-8M\":\n",
    "            value = float(bioactivity)*10\n",
    "        elif unit == \"10'-1microM\" or unit == \"10'-7M\":\n",
    "            value = float(bioactivity)*100\n",
    "        elif unit == \"uM\" or unit == \"/uM\" or unit == \"10'-6M\":\n",
    "            value = float(bioactivity)*1000\n",
    "        elif unit == \"10'1 uM\":\n",
    "            value = float(bioactivity)*10000\n",
    "        elif unit == \"10'2 uM\":\n",
    "            value = float(bioactivity)*100000\n",
    "        elif unit == \"mM\":\n",
    "            value = float(bioactivity)*1000000\n",
    "        elif unit == \"M\":\n",
    "            value = float(bioactivity)*1000000000\n",
    "        else:\n",
    "            print ('unit not recognized...', unit)\n",
    "        return value\n",
    "    else: return bioactivity"
   ]
  },
  {
   "cell_type": "code",
   "execution_count": 17,
   "metadata": {},
   "outputs": [
    {
     "data": {
      "text/plain": "   activity_id assay_chembl_id  \\\n0        32260    CHEMBL674637   \n1        32267    CHEMBL674637   \n2        32680    CHEMBL677833   \n3        32770    CHEMBL674643   \n4        32772    CHEMBL674643   \n\n                                   assay_description assay_type  \\\n0  Inhibitory activity towards tyrosine phosphory...          B   \n1  Inhibitory activity towards tyrosine phosphory...          B   \n2  In vitro inhibition of Epidermal growth factor...          B   \n3  Inhibitory concentration of EGF dependent auto...          B   \n4  Inhibitory concentration of EGF dependent auto...          B   \n\n  molecule_chembl_id relation target_chembl_id target_organism  type units  \\\n0        CHEMBL68920        =        CHEMBL203    Homo sapiens  IC50    nM   \n1        CHEMBL69960        =        CHEMBL203    Homo sapiens  IC50    nM   \n2       CHEMBL137635        =        CHEMBL203    Homo sapiens  IC50    nM   \n3       CHEMBL306988        =        CHEMBL203    Homo sapiens  IC50    nM   \n4        CHEMBL66879        =        CHEMBL203    Homo sapiens  IC50    nM   \n\n       value  \n0       41.0  \n1      170.0  \n2     9300.0  \n3   500000.0  \n4  3000000.0  ",
      "text/html": "<div>\n<style scoped>\n    .dataframe tbody tr th:only-of-type {\n        vertical-align: middle;\n    }\n\n    .dataframe tbody tr th {\n        vertical-align: top;\n    }\n\n    .dataframe thead th {\n        text-align: right;\n    }\n</style>\n<table border=\"1\" class=\"dataframe\">\n  <thead>\n    <tr style=\"text-align: right;\">\n      <th></th>\n      <th>activity_id</th>\n      <th>assay_chembl_id</th>\n      <th>assay_description</th>\n      <th>assay_type</th>\n      <th>molecule_chembl_id</th>\n      <th>relation</th>\n      <th>target_chembl_id</th>\n      <th>target_organism</th>\n      <th>type</th>\n      <th>units</th>\n      <th>value</th>\n    </tr>\n  </thead>\n  <tbody>\n    <tr>\n      <th>0</th>\n      <td>32260</td>\n      <td>CHEMBL674637</td>\n      <td>Inhibitory activity towards tyrosine phosphory...</td>\n      <td>B</td>\n      <td>CHEMBL68920</td>\n      <td>=</td>\n      <td>CHEMBL203</td>\n      <td>Homo sapiens</td>\n      <td>IC50</td>\n      <td>nM</td>\n      <td>41.0</td>\n    </tr>\n    <tr>\n      <th>1</th>\n      <td>32267</td>\n      <td>CHEMBL674637</td>\n      <td>Inhibitory activity towards tyrosine phosphory...</td>\n      <td>B</td>\n      <td>CHEMBL69960</td>\n      <td>=</td>\n      <td>CHEMBL203</td>\n      <td>Homo sapiens</td>\n      <td>IC50</td>\n      <td>nM</td>\n      <td>170.0</td>\n    </tr>\n    <tr>\n      <th>2</th>\n      <td>32680</td>\n      <td>CHEMBL677833</td>\n      <td>In vitro inhibition of Epidermal growth factor...</td>\n      <td>B</td>\n      <td>CHEMBL137635</td>\n      <td>=</td>\n      <td>CHEMBL203</td>\n      <td>Homo sapiens</td>\n      <td>IC50</td>\n      <td>nM</td>\n      <td>9300.0</td>\n    </tr>\n    <tr>\n      <th>3</th>\n      <td>32770</td>\n      <td>CHEMBL674643</td>\n      <td>Inhibitory concentration of EGF dependent auto...</td>\n      <td>B</td>\n      <td>CHEMBL306988</td>\n      <td>=</td>\n      <td>CHEMBL203</td>\n      <td>Homo sapiens</td>\n      <td>IC50</td>\n      <td>nM</td>\n      <td>500000.0</td>\n    </tr>\n    <tr>\n      <th>4</th>\n      <td>32772</td>\n      <td>CHEMBL674643</td>\n      <td>Inhibitory concentration of EGF dependent auto...</td>\n      <td>B</td>\n      <td>CHEMBL66879</td>\n      <td>=</td>\n      <td>CHEMBL203</td>\n      <td>Homo sapiens</td>\n      <td>IC50</td>\n      <td>nM</td>\n      <td>3000000.0</td>\n    </tr>\n  </tbody>\n</table>\n</div>"
     },
     "execution_count": 17,
     "metadata": {},
     "output_type": "execute_result"
    }
   ],
   "source": [
    "bioactivity_nM = []\n",
    "for i, row in bioact_df.iterrows():\n",
    "    bioact_nM = convert_to_NM(row['units'], row['value'])\n",
    "    bioactivity_nM.append(bioact_nM)\n",
    "bioact_df['value'] = bioactivity_nM\n",
    "bioact_df['units'] = 'nM'\n",
    "bioact_df.head()"
   ]
  },
  {
   "cell_type": "markdown",
   "metadata": {},
   "source": [
    "### Compound data\n",
    "\n",
    "We have a data frame containing all molecules tested (with the respective measure) against EGFR. Now, we want to get the molecules that are stored behind the respective ChEMBL IDs. "
   ]
  },
  {
   "cell_type": "markdown",
   "metadata": {},
   "source": [
    "#### Get list of compounds\n",
    "\n",
    "Let's have a look at the compounds from ChEMBL we have defined bioactivity data for. First, we retrieve ChEMBL ID and structures for the compounds with desired bioactivity data."
   ]
  },
  {
   "cell_type": "code",
   "execution_count": 18,
   "metadata": {},
   "outputs": [],
   "source": [
    "cmpd_id_list = list(bioact_df['molecule_chembl_id'])\n",
    "compound_list = compounds.filter(molecule_chembl_id__in = cmpd_id_list) \\\n",
    "                         .only('molecule_chembl_id','molecule_structures')"
   ]
  },
  {
   "cell_type": "markdown",
   "metadata": {},
   "source": [
    "Then, we convert the list to a pandas dataframe and delete duplicates (again, the pandas from_records function might take some time)."
   ]
  },
  {
   "cell_type": "code",
   "execution_count": 19,
   "metadata": {},
   "outputs": [
    {
     "name": "stdout",
     "output_type": "stream",
     "text": [
      "(6027, 2)\n",
      "(6027, 11)\n"
     ]
    },
    {
     "data": {
      "text/plain": "  molecule_chembl_id                                molecule_structures\n0         CHEMBL6246  {'canonical_smiles': 'O=c1oc2c(O)c(O)cc3c(=O)o...\n2           CHEMBL10  {'canonical_smiles': 'C[S+]([O-])c1ccc(-c2nc(-...\n3         CHEMBL6976  {'canonical_smiles': 'COc1cc2c(cc1OC)Nc1ncn(C)...\n4         CHEMBL7002  {'canonical_smiles': 'CC1(COc2ccc(CC3SC(=O)NC3...\n5       CHEMBL414013  {'canonical_smiles': 'COc1cc2c(cc1OC)Nc1ncnc(O...",
      "text/html": "<div>\n<style scoped>\n    .dataframe tbody tr th:only-of-type {\n        vertical-align: middle;\n    }\n\n    .dataframe tbody tr th {\n        vertical-align: top;\n    }\n\n    .dataframe thead th {\n        text-align: right;\n    }\n</style>\n<table border=\"1\" class=\"dataframe\">\n  <thead>\n    <tr style=\"text-align: right;\">\n      <th></th>\n      <th>molecule_chembl_id</th>\n      <th>molecule_structures</th>\n    </tr>\n  </thead>\n  <tbody>\n    <tr>\n      <th>0</th>\n      <td>CHEMBL6246</td>\n      <td>{'canonical_smiles': 'O=c1oc2c(O)c(O)cc3c(=O)o...</td>\n    </tr>\n    <tr>\n      <th>2</th>\n      <td>CHEMBL10</td>\n      <td>{'canonical_smiles': 'C[S+]([O-])c1ccc(-c2nc(-...</td>\n    </tr>\n    <tr>\n      <th>3</th>\n      <td>CHEMBL6976</td>\n      <td>{'canonical_smiles': 'COc1cc2c(cc1OC)Nc1ncn(C)...</td>\n    </tr>\n    <tr>\n      <th>4</th>\n      <td>CHEMBL7002</td>\n      <td>{'canonical_smiles': 'CC1(COc2ccc(CC3SC(=O)NC3...</td>\n    </tr>\n    <tr>\n      <th>5</th>\n      <td>CHEMBL414013</td>\n      <td>{'canonical_smiles': 'COc1cc2c(cc1OC)Nc1ncnc(O...</td>\n    </tr>\n  </tbody>\n</table>\n</div>"
     },
     "execution_count": 19,
     "metadata": {},
     "output_type": "execute_result"
    }
   ],
   "source": [
    "compound_df = pd.DataFrame.from_records(compound_list)\n",
    "compound_df = compound_df.drop_duplicates('molecule_chembl_id', keep = 'first')\n",
    "print(compound_df.shape)\n",
    "print(bioact_df.shape)\n",
    "compound_df.head()"
   ]
  },
  {
   "cell_type": "markdown",
   "metadata": {},
   "source": [
    "So far, we have multiple different molecular structure representations. We only want to keep the canonical SMILES."
   ]
  },
  {
   "cell_type": "code",
   "execution_count": 20,
   "metadata": {},
   "outputs": [
    {
     "name": "stdout",
     "output_type": "stream",
     "text": [
      "(6027, 2)\n"
     ]
    }
   ],
   "source": [
    "for i, cmpd in compound_df.iterrows():\n",
    "    if compound_df.loc[i]['molecule_structures'] != None:\n",
    "        compound_df.loc[i]['molecule_structures'] = cmpd['molecule_structures']['canonical_smiles']\n",
    "\n",
    "print (compound_df.shape)"
   ]
  },
  {
   "cell_type": "markdown",
   "metadata": {},
   "source": [
    "#### Prepare output data"
   ]
  },
  {
   "cell_type": "markdown",
   "metadata": {},
   "source": [
    "Merge values of interest in one dataframe on ChEMBL-IDs:\n",
    "* ChEMBL-IDs\n",
    "* SMILES\n",
    "* units\n",
    "* IC50"
   ]
  },
  {
   "cell_type": "code",
   "execution_count": 21,
   "metadata": {},
   "outputs": [
    {
     "name": "stdout",
     "output_type": "stream",
     "text": [
      "(6027, 4)\n"
     ]
    },
    {
     "data": {
      "text/plain": "  molecule_chembl_id units      value  \\\n0        CHEMBL68920    nM       41.0   \n1        CHEMBL69960    nM      170.0   \n2       CHEMBL137635    nM     9300.0   \n3       CHEMBL306988    nM   500000.0   \n4        CHEMBL66879    nM  3000000.0   \n\n                                 molecule_structures  \n0  Cc1cc(C)c(/C=C2\\C(=O)Nc3ncnc(Nc4ccc(F)c(Cl)c4)...  \n1  Cc1cc(C(=O)N2CCOCC2)[nH]c1/C=C1\\C(=O)Nc2ncnc(N...  \n2        CN(c1ccccc1)c1ncnc2ccc(N/N=N/Cc3ccccn3)cc12  \n3             CC(=C(C#N)C#N)c1ccc(NC(=O)CCC(=O)O)cc1  \n4                             O=C(O)/C=C/c1ccc(O)cc1  ",
      "text/html": "<div>\n<style scoped>\n    .dataframe tbody tr th:only-of-type {\n        vertical-align: middle;\n    }\n\n    .dataframe tbody tr th {\n        vertical-align: top;\n    }\n\n    .dataframe thead th {\n        text-align: right;\n    }\n</style>\n<table border=\"1\" class=\"dataframe\">\n  <thead>\n    <tr style=\"text-align: right;\">\n      <th></th>\n      <th>molecule_chembl_id</th>\n      <th>units</th>\n      <th>value</th>\n      <th>molecule_structures</th>\n    </tr>\n  </thead>\n  <tbody>\n    <tr>\n      <th>0</th>\n      <td>CHEMBL68920</td>\n      <td>nM</td>\n      <td>41.0</td>\n      <td>Cc1cc(C)c(/C=C2\\C(=O)Nc3ncnc(Nc4ccc(F)c(Cl)c4)...</td>\n    </tr>\n    <tr>\n      <th>1</th>\n      <td>CHEMBL69960</td>\n      <td>nM</td>\n      <td>170.0</td>\n      <td>Cc1cc(C(=O)N2CCOCC2)[nH]c1/C=C1\\C(=O)Nc2ncnc(N...</td>\n    </tr>\n    <tr>\n      <th>2</th>\n      <td>CHEMBL137635</td>\n      <td>nM</td>\n      <td>9300.0</td>\n      <td>CN(c1ccccc1)c1ncnc2ccc(N/N=N/Cc3ccccn3)cc12</td>\n    </tr>\n    <tr>\n      <th>3</th>\n      <td>CHEMBL306988</td>\n      <td>nM</td>\n      <td>500000.0</td>\n      <td>CC(=C(C#N)C#N)c1ccc(NC(=O)CCC(=O)O)cc1</td>\n    </tr>\n    <tr>\n      <th>4</th>\n      <td>CHEMBL66879</td>\n      <td>nM</td>\n      <td>3000000.0</td>\n      <td>O=C(O)/C=C/c1ccc(O)cc1</td>\n    </tr>\n  </tbody>\n</table>\n</div>"
     },
     "execution_count": 21,
     "metadata": {},
     "output_type": "execute_result"
    }
   ],
   "source": [
    "output_df = pd.merge(bioact_df[['molecule_chembl_id','units','value']], compound_df, on='molecule_chembl_id')\n",
    "print(output_df.shape)\n",
    "output_df.head()"
   ]
  },
  {
   "cell_type": "markdown",
   "metadata": {},
   "source": [
    "For distinct column names, we rename IC50 and SMILES columns."
   ]
  },
  {
   "cell_type": "code",
   "execution_count": 22,
   "metadata": {},
   "outputs": [
    {
     "data": {
      "text/plain": "(6027, 4)"
     },
     "execution_count": 22,
     "metadata": {},
     "output_type": "execute_result"
    }
   ],
   "source": [
    "output_df = output_df.rename(columns= {'molecule_structures':'smiles', 'value':'IC50'})\n",
    "output_df.shape"
   ]
  },
  {
   "cell_type": "markdown",
   "metadata": {},
   "source": [
    "If we do not have a SMILES representation of a compound, we can not further use it in the following talktorials. Therefore, we delete compounds without SMILES column."
   ]
  },
  {
   "cell_type": "code",
   "execution_count": 23,
   "metadata": {},
   "outputs": [
    {
     "name": "stdout",
     "output_type": "stream",
     "text": [
      "(6020, 4)\n"
     ]
    },
    {
     "data": {
      "text/plain": "  molecule_chembl_id units       IC50  \\\n0        CHEMBL68920    nM       41.0   \n1        CHEMBL69960    nM      170.0   \n2       CHEMBL137635    nM     9300.0   \n3       CHEMBL306988    nM   500000.0   \n4        CHEMBL66879    nM  3000000.0   \n\n                                              smiles  \n0  Cc1cc(C)c(/C=C2\\C(=O)Nc3ncnc(Nc4ccc(F)c(Cl)c4)...  \n1  Cc1cc(C(=O)N2CCOCC2)[nH]c1/C=C1\\C(=O)Nc2ncnc(N...  \n2        CN(c1ccccc1)c1ncnc2ccc(N/N=N/Cc3ccccn3)cc12  \n3             CC(=C(C#N)C#N)c1ccc(NC(=O)CCC(=O)O)cc1  \n4                             O=C(O)/C=C/c1ccc(O)cc1  ",
      "text/html": "<div>\n<style scoped>\n    .dataframe tbody tr th:only-of-type {\n        vertical-align: middle;\n    }\n\n    .dataframe tbody tr th {\n        vertical-align: top;\n    }\n\n    .dataframe thead th {\n        text-align: right;\n    }\n</style>\n<table border=\"1\" class=\"dataframe\">\n  <thead>\n    <tr style=\"text-align: right;\">\n      <th></th>\n      <th>molecule_chembl_id</th>\n      <th>units</th>\n      <th>IC50</th>\n      <th>smiles</th>\n    </tr>\n  </thead>\n  <tbody>\n    <tr>\n      <th>0</th>\n      <td>CHEMBL68920</td>\n      <td>nM</td>\n      <td>41.0</td>\n      <td>Cc1cc(C)c(/C=C2\\C(=O)Nc3ncnc(Nc4ccc(F)c(Cl)c4)...</td>\n    </tr>\n    <tr>\n      <th>1</th>\n      <td>CHEMBL69960</td>\n      <td>nM</td>\n      <td>170.0</td>\n      <td>Cc1cc(C(=O)N2CCOCC2)[nH]c1/C=C1\\C(=O)Nc2ncnc(N...</td>\n    </tr>\n    <tr>\n      <th>2</th>\n      <td>CHEMBL137635</td>\n      <td>nM</td>\n      <td>9300.0</td>\n      <td>CN(c1ccccc1)c1ncnc2ccc(N/N=N/Cc3ccccn3)cc12</td>\n    </tr>\n    <tr>\n      <th>3</th>\n      <td>CHEMBL306988</td>\n      <td>nM</td>\n      <td>500000.0</td>\n      <td>CC(=C(C#N)C#N)c1ccc(NC(=O)CCC(=O)O)cc1</td>\n    </tr>\n    <tr>\n      <th>4</th>\n      <td>CHEMBL66879</td>\n      <td>nM</td>\n      <td>3000000.0</td>\n      <td>O=C(O)/C=C/c1ccc(O)cc1</td>\n    </tr>\n  </tbody>\n</table>\n</div>"
     },
     "execution_count": 23,
     "metadata": {},
     "output_type": "execute_result"
    }
   ],
   "source": [
    "output_df = output_df[~output_df['smiles'].isnull()]\n",
    "print(output_df.shape)\n",
    "output_df.head()"
   ]
  },
  {
   "cell_type": "markdown",
   "metadata": {},
   "source": [
    "In the next cell, you see that the low IC50 values are difficult to read. Therefore, we prefer to convert the IC50 values to pIC50."
   ]
  },
  {
   "cell_type": "code",
   "execution_count": 24,
   "metadata": {},
   "outputs": [
    {
     "name": "stdout",
     "output_type": "stream",
     "text": [
      "6020\n",
      "0         41.0\n",
      "1        170.0\n",
      "2       9300.0\n",
      "3     500000.0\n",
      "4    3000000.0\n",
      "5      96000.0\n",
      "6       5310.0\n",
      "7     264000.0\n",
      "8        125.0\n",
      "9      35000.0\n",
      "Name: IC50, dtype: float64\n"
     ]
    }
   ],
   "source": [
    "output_df = output_df.reset_index(drop=True)\n",
    "ic50 = output_df.IC50.astype(float)\n",
    "print(len(ic50))\n",
    "print(ic50.head(10))"
   ]
  },
  {
   "cell_type": "code",
   "execution_count": 25,
   "metadata": {},
   "outputs": [
    {
     "name": "stderr",
     "output_type": "stream",
     "text": [
      "C:\\Users\\Public\\Documents\\iSkysoft\\CreatorTemp/ipykernel_17244/3452389729.py:2: DeprecationWarning: The default dtype for empty Series will be 'object' instead of 'float64' in a future version. Specify a dtype explicitly to silence this warning.\n",
      "  pIC50 = pd.Series()\n"
     ]
    },
    {
     "data": {
      "text/plain": "  molecule_chembl_id units       IC50  \\\n0        CHEMBL68920    nM       41.0   \n1        CHEMBL69960    nM      170.0   \n2       CHEMBL137635    nM     9300.0   \n3       CHEMBL306988    nM   500000.0   \n4        CHEMBL66879    nM  3000000.0   \n\n                                              smiles     pIC50  \n0  Cc1cc(C)c(/C=C2\\C(=O)Nc3ncnc(Nc4ccc(F)c(Cl)c4)...  7.387216  \n1  Cc1cc(C(=O)N2CCOCC2)[nH]c1/C=C1\\C(=O)Nc2ncnc(N...  6.769551  \n2        CN(c1ccccc1)c1ncnc2ccc(N/N=N/Cc3ccccn3)cc12  5.031517  \n3             CC(=C(C#N)C#N)c1ccc(NC(=O)CCC(=O)O)cc1  3.301030  \n4                             O=C(O)/C=C/c1ccc(O)cc1  2.522879  ",
      "text/html": "<div>\n<style scoped>\n    .dataframe tbody tr th:only-of-type {\n        vertical-align: middle;\n    }\n\n    .dataframe tbody tr th {\n        vertical-align: top;\n    }\n\n    .dataframe thead th {\n        text-align: right;\n    }\n</style>\n<table border=\"1\" class=\"dataframe\">\n  <thead>\n    <tr style=\"text-align: right;\">\n      <th></th>\n      <th>molecule_chembl_id</th>\n      <th>units</th>\n      <th>IC50</th>\n      <th>smiles</th>\n      <th>pIC50</th>\n    </tr>\n  </thead>\n  <tbody>\n    <tr>\n      <th>0</th>\n      <td>CHEMBL68920</td>\n      <td>nM</td>\n      <td>41.0</td>\n      <td>Cc1cc(C)c(/C=C2\\C(=O)Nc3ncnc(Nc4ccc(F)c(Cl)c4)...</td>\n      <td>7.387216</td>\n    </tr>\n    <tr>\n      <th>1</th>\n      <td>CHEMBL69960</td>\n      <td>nM</td>\n      <td>170.0</td>\n      <td>Cc1cc(C(=O)N2CCOCC2)[nH]c1/C=C1\\C(=O)Nc2ncnc(N...</td>\n      <td>6.769551</td>\n    </tr>\n    <tr>\n      <th>2</th>\n      <td>CHEMBL137635</td>\n      <td>nM</td>\n      <td>9300.0</td>\n      <td>CN(c1ccccc1)c1ncnc2ccc(N/N=N/Cc3ccccn3)cc12</td>\n      <td>5.031517</td>\n    </tr>\n    <tr>\n      <th>3</th>\n      <td>CHEMBL306988</td>\n      <td>nM</td>\n      <td>500000.0</td>\n      <td>CC(=C(C#N)C#N)c1ccc(NC(=O)CCC(=O)O)cc1</td>\n      <td>3.301030</td>\n    </tr>\n    <tr>\n      <th>4</th>\n      <td>CHEMBL66879</td>\n      <td>nM</td>\n      <td>3000000.0</td>\n      <td>O=C(O)/C=C/c1ccc(O)cc1</td>\n      <td>2.522879</td>\n    </tr>\n  </tbody>\n</table>\n</div>"
     },
     "execution_count": 25,
     "metadata": {},
     "output_type": "execute_result"
    }
   ],
   "source": [
    "# Convert IC50 to pIC50 and add pIC50 column:\n",
    "pIC50 = pd.Series() \n",
    "i = 0\n",
    "while i < len(output_df.IC50):\n",
    "    value = 9 - math.log10(ic50[i]) # pIC50=-log10(IC50 mol/l) --> for nM: -log10(IC50*10**-9)= 9-log10(IC50)\n",
    "    if value < 0:\n",
    "        print(\"Negative pIC50 value at index\"+str(i))\n",
    "    pIC50.at[i] = value\n",
    "    i += 1\n",
    "    \n",
    "output_df['pIC50'] = pIC50\n",
    "output_df.head()"
   ]
  },
  {
   "cell_type": "markdown",
   "metadata": {},
   "source": [
    "### Collected bioactivity data for EGFR"
   ]
  },
  {
   "cell_type": "markdown",
   "metadata": {},
   "source": [
    "Let's have a look at our collected data set.\n",
    "#### Draw molecules\n",
    "In the next steps, we add a molecule column to our datafame and look at the structures of the molecules with the highest pIC50 values. "
   ]
  },
  {
   "cell_type": "code",
   "execution_count": 26,
   "metadata": {},
   "outputs": [],
   "source": [
    "PandasTools.AddMoleculeColumnToFrame(output_df, smilesCol='smiles')"
   ]
  },
  {
   "cell_type": "markdown",
   "metadata": {},
   "source": [
    "Sort molecules by pIC50."
   ]
  },
  {
   "cell_type": "code",
   "execution_count": 27,
   "metadata": {},
   "outputs": [],
   "source": [
    "output_df.sort_values(by=\"pIC50\", ascending=False, inplace=True)\n",
    "output_df.reset_index(drop=True, inplace=True)"
   ]
  },
  {
   "cell_type": "markdown",
   "metadata": {},
   "source": [
    "Show the most active molecules = molecules with the highest pIC50 values."
   ]
  },
  {
   "cell_type": "code",
   "execution_count": 28,
   "metadata": {},
   "outputs": [
    {
     "data": {
      "text/plain": "  molecule_chembl_id units   IC50      pIC50  \\\n0        CHEMBL63786    nM  0.003  11.522879   \n1        CHEMBL53711    nM  0.006  11.221849   \n2        CHEMBL35820    nM  0.006  11.221849   \n3        CHEMBL66031    nM  0.008  11.096910   \n4        CHEMBL53753    nM  0.008  11.096910   \n\n                                               ROMol  \n0  <img data-content=\"rdkit/molecule\" src=\"data:i...  \n1  <img data-content=\"rdkit/molecule\" src=\"data:i...  \n2  <img data-content=\"rdkit/molecule\" src=\"data:i...  \n3  <img data-content=\"rdkit/molecule\" src=\"data:i...  \n4  <img data-content=\"rdkit/molecule\" src=\"data:i...  ",
      "text/html": "<div>\n<style scoped>\n    .dataframe tbody tr th:only-of-type {\n        vertical-align: middle;\n    }\n\n    .dataframe tbody tr th {\n        vertical-align: top;\n    }\n\n    .dataframe thead th {\n        text-align: right;\n    }\n</style>\n<table border=\"1\" class=\"dataframe\">\n  <thead>\n    <tr style=\"text-align: right;\">\n      <th></th>\n      <th>molecule_chembl_id</th>\n      <th>units</th>\n      <th>IC50</th>\n      <th>pIC50</th>\n      <th>ROMol</th>\n    </tr>\n  </thead>\n  <tbody>\n    <tr>\n      <th>0</th>\n      <td>CHEMBL63786</td>\n      <td>nM</td>\n      <td>0.003</td>\n      <td>11.522879</td>\n      <td><img data-content=\"rdkit/molecule\" src=\"data:image/png;base64,iVBORw0KGgoAAAANSUhEUgAAAMgAAADICAIAAAAiOjnJAAAABmJLR0QA/wD/AP+gvaeTAAAZg0lEQVR4nO2deXhN1/rHv/tklEESRAwx3EsGZDBU2p+UUrcSpZdwiyJ1hVtjSFDUvUipIWgTVVXPpXVbpG3UWA1qiDGt4lJRMQRBIqYkMpzk5Azr98eSc08j0jPsdRLyfh5/7LWy97vWOb5n7bXXet93S4wxEITcKGq6A8TzCQmLEAIJixACCYsQAgmLEAIJixACCYsQAgmLEAIJixACCYsQAgmLEAIJixACCYsQAgmLEAIJixACCYsQAgmLEAIJixACCYsQAgmLEAIJixACCYsQAgmLEAIJixACCYsQAgmLEAIJixACCYsQAgmLEAIJixACCYsQAgmLEAIJixACCYsQAgmLEAIJixACCYsQAgmLEAIJixACCYsQAgmLEAIJixACCYsQAgmLEAIJixACCYsQAgmLEAIJixACCYsQAgmLEAIJixACCYsQAgmLEAIJixACCYsQAgmLEAIJixCCrewWL1y4UFpaKkkSgHr16jk6OgKQJMnd3Z2f4OTk5ODgIHu7RK1CZmEtWrQoLS1t9+7dxpxsY2NTv359fuzi4mJnZwfA1tZ2w4YNgYGBLi4u8vaNsCYSY0wuW/v373/ttdccHR3btWunUCgAlJaWlpWVAdDpdI8ePeKnlZSUlJeXV2PHzc1twoQJS5YskatjhPWRTVjl5eXBwcEZGRnx8fEzZ8405hKtVltYWMiPi4qKNBoNgDNnzgwZMsTBweHSpUstW7aUpW91kIKCgl27diUlJekHfjc3N/5rd3BwcHJy4pXu7u7VTFpCQkJatWplZg+YTCxevBiAr69vWVmZhabeeustAG+//bYsHauDaDSaLl26tGnTxhJpAnjnnXeSk5PN64M8I9atW7fat29fXFx84MCBV199lVdu2rQpISHB8Bfg7Oxsb2+P38+uXF1dbW1tGzZs+O677/KaGzdu+Pv7q9XqkydPdunSxfLu1TVWr149efLkZs2arVq1SqvV8spHjx7pdDoAZWVlpaWlvDI/P58fPDlpyc7OPnHihLe396VLl/QjnAnI8hMZNGgQgLfeesuwcunSpcZ3w9/f3/Da6dOnA+jZs6cs3atTPHjwoGHDhgC2bdtmiR2dTvfCCy8A+OCDD8y4XIYRa9++fWFhYa6urhcvXmzevLm+Pjc3Nzs723DaXlxcrFarAWg0mqKiIl5ZWFio1WobNWo0ZswY/bUFBQVt27Z9+PDhDz/80LdvXwt7WKcYPXr0hg0bwsLC9uzZY6Gpw4cP9+zZ08XF5cqVK02aNDHtYktEzRhTqVR+fn4APvzwQwtNVeKjjz4C0K5dO7VaLa/l55hjx45JksQffRhjpaWlFhrs378/gIkTJ5p6oaXCWrBgAYAOHTqUl5dbaKoSKpWqbdu2AP7973/La/l5RaPRdOzYEcD8+fN5TVhY2KBBg3Jyckyyk5+fP3PmzIsXLzLGLl68aGtra2tre+HCBZOMWCSsrKwsZ2dnSZIOHjxoiZ2n8fXXXwPw8vIqLCwUYf85IzExEUCrVq1KSkoYY8nJyQAaNGhw7949k+zExsYC+Otf/8qL48aNAzBgwACTjFgkrDfeeANAZGSkJUaqQafTdevWDUBcXJygJp4bcnNz+dP3rl27GGMlJSWtW7cG8Nlnn5lq6t69e/yZff/+/Yyxu3fv8uKBAweMN2K+sFJSUgDUr18/OzvbbCN/yIkTJyRJcnFxMXU8r2uMHDnScFyZNWsWgC5dumg0GjOsLVy4EECnTp20Wi2rmPCEhITodDojLZgpLKVS+ec//xnAypUrzbNgPAMHDgTwzjvviG7o2eXo0aOSJNWrV+/atWuMscuXLzs4OCgUip9++sk8g0qlskWLFgA2b95sWExKSjLSgpnCmjdvHoDAwEArPLJdunTJzs7OxsYmPT1ddFvPImq1OigoCMDChQt5Te/evQGMHz/eErOff/45gNatW/NHy3Xr1vGikTsr5gjr6tWrjo6OkiQdPnzYjMvNYNKkSQD69+9vneaeLVasWAGgbdu2XAFJSUkAGjZseP/+fUvMarXaTp06AVi+fLlhccWKFcZcbo6w+vXrB2D06NFmXGse9+7dc3NzA/Djjz9ardFngjt37vBvZvfu3YyxwsJCvka9fv16y40fOHAAgLu7+4MHD1jFrFpfrB6ThbV161YAHh4ed+/eNaez5rJo0SIAHTt25NNJgjN06FAAgwcP5kW+Fda1a1e5vqU+ffoAiI2NNSxOmzbtDy80TVhKpfJPf/oTgNWrV5vTTQsoLS3lXjRfffWV2UaOHGHXrz8+3ruX5eSwU6ceFw2PnxUOHz4sSZKTk9P169cZY+np6XwyeubMGbmaOHfunI2Njb29/ZUrV3hRoVDoi9VgmrDmzJljyUOshWzYsAGAt7c3XwA0g/Bw1r074z/mwECWksJiYh7/ac8eNnWqTB21CiqVql27dgCWLFnCa3r16gUgOjpa3oZGjx4NYMiQIbw4atQoAEOHDq3+KtM2ob/55pvx48evWLFCv2HMGMvPz2/QoIHxRsxGp9N17tz53LlzHTt29PHxMXRY8/Dw4AeNG8eq1V4AJAkV3jpwdoa9PTw9ER8PPz/4+WHCBAQFYdky7N2LhAQA2LsXKSlITLTC55CH+Pj42bNn+/j4nD9/3sHBYePGjZGRkV5eXhkZGXo/JVnIycnx9fVVKpVHjx4NDQ3Nzs729fUtLS09duwYX76uEtN83s+fP19QULBu3bqoqChJkjIzM0eMGGFvb3/kyBGL+18169ev79evH99aVygUQUFBt27dOnv27NmzZ6s8Pzh49rlzVZvq3Rt2dpg+HRERiIh4XLljB65eBYD79/HSSwI+wFM4ePDg1atXYRBaolAo+DQcBo5rtra2rq6uvJI7rgGws7MrKCj44IMPAHz88ccODg5FRUXcm23ZsmXyqgpAs2bNYmJiFi1aNGPGjBMnTjRv3jwmJmbx4sUzZsw4fvw4d0B9EtNGrOLiYh8fn9zc3K1bt0ZERBQVFfn4+Ny9e3fbtm18GVNe0tLSQkNDPT09r1+/7uTkdPXq1cDAQJVKtXDhQu6q+qTDmiS9k5fnAUCnQ4W3DoqLoVYjOBjHjuHLL/HLL0hOxunTNTNiMcaGDh3K3egssaNQKPr3779jxw5uc+PGjTt37vz222+f9j9tCUVFRW3bti0qKjp9+nS7du2M+X83bcRycXGZN2/exIkT33333X79+rm6us6dO3fy5MmzZs3q168fD7ORC61WO2nSJMbYuHHj+C1v6tSpZWVlUVFR//znP82zyT27Xn8dn3+O7GwZO2sCX3zxRXJyspubW1RUlK2trVKpVKlU+H0EQDWOawDKy8tLSkoA6GcCkiRFRkZGRkYK6rOrq2tSUpKPjw9ff3d1dY2Ojl6wYEFOTs5TrzF1KqfRaNq3bw9g1apVjDG1Ws2nkLI/J3788ccAWrZsWVxczBj77rvvAHh4eJi6V2/I5MksL48xxrKyWLdu7MgRFh//+E/Hj7OlS2XodvXk5eV5enoC+Prrry2xk5mZyTdtZHwANIkhQ4YAmDlz5tNOMGeBdPv27QAaNWpUUFDAKla2PD09eVEW9Hv1O3fuZAZ79WvWrJHFfnExmz6dderErOxEOH78eAA9evQwfjf3aUydOhVAWFiYLB0ziUrLHFVi5l4hj5h47733eLF79+4A5syZY561J3n77bcBhIeH8+J7770HWZc5ysuZjw8D2Nq1stgzilOnTvE1od9++81ya3l5efxhfO/evZZbMx79MsfSakd4M4V18uRJSZIcHR2zsrIYYz///DPfXedFC9Hv1WdmZjKDvfq0tDTLjev59lsGsMaNmXWcCLVa7Ysvvghg1qxZvCY6Ovr777+3xGZ8fDyAoKAgay4r8kBiHx+f6nejzffHGjZsGAyi//jewt///nezDXLUanVwcDCA999/n9eEh4dDjNtMaCgDWIUfr1g+++wzAN7e3kVFRYyx77//HoCbm1sen/SZhUql4s5LX3zxhWwdrZabN2/yCNiUlJTqzzRfWNevX+cDyalTpxhj165d48XTp0+bbZNVxFC0adOG79V/8803ABo0aGDhXn2VpKUxSWL16rFbt2S3/TsePnzYqFEjAFu2bGGMlZWV+fr6AkhMTLTQ8saNGwE0b97c7N0Ikxg8eDCMWHZnFrom8y3PXr168eK0adMMi2ag36vn94iSkhIe4i0unmLQIAawsWMFmX/M2LFjAbz22mu8OH/+fAABAQGWR6BYGP1nEvv27eNrDbdv3/7Dky0SVn5+Po+N/OGHHxhjeXl5vPiH4+TTGD58OICIiAhe5KvJL7zwgjiPhsxMZm/PbGzY+fOCWmAnT57kG7cZGRnMwJstNTVVFvupqakAXFxc7ty5I4vBKtHH+Qn0xzLkww8/hEH0H3c6My8Y8MiRI4b+tRcuXLCzs1MoFD///LOFnaye6GgGsFGjMkQY12q1ISEhAP71r3/xGu7NZvlk1BAe1WJG9J/xcC/49u3bGznKyhCwyqP/1q1bx4s8FwUvGo9arQ4MDASwaNEiXsNXNIR+WZz799lf/jJBkiQelCIvn3zyieEy77Zt2wDUr19f3tiQjIwMW1tbGxsbU6P/jITH+QEwPs5PhtwNPPqvWbNm/LtLSkoKDAw0NdLw7NmzDRo00Cer2bRpE4CGDRsa46xoOfwROjg4WN577t27d7nbxfbt25lgbzbzov+MZMCAAQBGjhxp/CUyCEsf/ccXCHQ6nXnLKvfv3z937hwz8K+12lN0aWkpf0r4z3/+I6NZ7rqkXxzn3mydO3cWsexkXvSfMfAcEKbG+cmTbUbe6D8eidutWzfL9z2M58svv5T3ub1SGoUrV67w5ZgTJ07IYv9JePRf165dK31vly9fzqzg4cOHeXl5eXl5RqZ1MHtlRLbEa9x9Yty4cRba0fvX/ve//5WlY0ai1Wp5Lq7Fixdbbu3JNAo8Z84//vEPy40/jadF//H779OQJMmjAm9v70p3CbNXRmRLFXn58uWAgACdThcXF8efS/n4aWNjA8De3p7P/p5WyRMZMsZeffXV1NTUKVOmrFy5UpaOGU9qamqvXr1cXV2vXLni5eVlianExMTY2Ng2bdqkp6c7OjomJycPGTKkQYMGGRkZ3LtBEOvXrx87dmzr1q0zMjL0qal79+5948YNfvxkprVKrF69euLEifw4MzMzICBApVIdOnTolVdeMa0rlv5MDAgNDTXMj2UeDg4OTZo0kdFRwiRef/11AKNHj75582ZeBaZOiZ5Mo8AncGvF73ibGv3HL9F/0ps3bz569Ej/J57DyLyVEdlGrKysrPbt2yuVyr59++oTqurTE+p90wwrVSqVUqnklVxJAObMmRMeHs7dJaxPenp6cHCwq6urPlmcIVWmhXV0dKxXrx6v5M+AGRkZt2/fHjBgAPcvun37dmRkpFKpTEtL4+llhbJnz56+ffu6u7tfvXqVr1ebx/bt2yMiIurXr5+RkdG0aVNTL5ctz3tMTIxSqRw+fDhfKXhG+fXXX/nMl8cC8UrDXwL39oTBPaVKnJyc+KIlAG9v74MHD+bl5VlBVQDCw8N79uyZmprq7+/fuHHjSqKHQYLkKr3seXpYtVrNV+AWL15shqogVzpufbbIjIyMZs2aWW6wRigqKvL398/JydmwYQNfKahElUOsfrLCGCsoKACwbdu2Tz/91M/P7/z58/K6axvJwIED9+3bpw8IMI8uXbo4OjoePnyYT4hNRQZhqVSqoKCgy5cvJyQkxMTEWGitBomNjU1MTAwNDeUOYWbbUavVHTp0uHLlypo1a7jLqDU5fvx49+7d7e3td+/e3aRJk0qiB6D3sq8+PWxISEhERIT534MZ87JKxMXFQUy2SGvCRxf9MoeFWXS2bNkCoHHjxoZzYSug0Wi4N1uNp6qzVFg3btxwcnKSJOnQoUNy9Kdm0Ol0/HF6akU09NChQ4cPH56bm2u2zZdffhnA3LlzZeqjUSQkJMDAm60GsVRY/Il01KhRcnSmxuDB+15eXvn5+Yyx/fv3A6g+WOAP+emnn7izxs2bN2XraLVUWuaoWSwS1tnjP7Zq2cLd3d2SX3aNk59fyJdDeboRI4MFjOHNN98EEBUVJUc3/5gRI0YAGDhwoHWaqx7zhaVWlSaOeXH+gNbfJ38pY4esz+TJ7KWXsiMiovlCg4wvBdK7a1sh+q+SN1uNY76wDn4VH9e/6aeTX9VqnuEE/7/+ymxtma0tO3eOMYNgAbl8BKwT/afPFmkFB2UjMVNYD3OufzCoddwbzW5dfNaSShmg07H/+z8GsOnTH9eMHVvQqdOMYcOGydWEdaL/li9fDoNskbUBM4W1KW5kXP+mO1b+cWa32sy6dQxgTZowvjOZksIA5urKsrOVMraybNkyiIz+u3PnDvfE4tkiawnmCOu347vj+jddOsy/pMAa7p2CyMtjnp4MYDyLgkrF/PwYwOR+J5Dw6D+eRuFvf/ubCONmY7KwysuUiVEhcf2b/vKDnM6W1mf8eAawHj0Y94pbsIABrEMHJmKVVx/9x723ZUSWlRERmCys/RsWxfVvujYmTKetgWyRcnHqFLOxYfb2jGdRyMpizs5MkpiYdwKJiv6TcWVEdqrzbtgSP56BMZ22S9jINp17Aih6mJu2fa0kKfpNWCIpzNmbrCUcPgzGEBuLdu0A4NgxaDQYMQK9eglpTpKkFStW9OzZc+nSpWPGjNG/+0+j0XCnyGqcH2HgrhMdHR0QEKA3+9FHH128eNHX17c2btFWI7rVE3syxkqLChKjQnQ6bXlpSXmZ8rfjuw9/nWAt3cvJkSNMn3B5xw62cyczvC9dusREr/I+Gf2n95Uwkn379umvlX1lRF6qG7GYTpufm1Vw75a7VwtJUqyNCWvaJsA3pE+PobXv92EEJ09i8WJ07IiAAOzfj8GDUTE0AICvr/AOLF++PCUlZe3atZMmTeLJ6xwcHDIzM/EU58cnKzt06KC3FhMTU1xcPGzYMP1LuGsV1QlLXV52/LvV5aUl9Rs11WrUkiQNfneN1XomgsmTMXUq9u+vmdb9/PzGjBmzdu3aOXPmcOdShULBHxhN5ccff9y6daurqysPPa+FVCcse0fn/pOWAdj20ZRbF39R2NaAz5q8+PqirAyff15jHXj//fc3b968Y8eOkSNHent7A3BxceHOgHZ2dnqX7uqnXDY2NjzeYf78+ZYHGQiiOmHptOprZ4+WFufnXkv3bCn+VmEV5s3DK6+gffuaad3LyysgIOD27dsWOnA3atQoICBgypQpcnVMdqoTVo+hMfm5WbZ29iPiNjm7NXplWKzVuiUOZ2fMmYPhw1HxCgSrcvr0aZ58Ztq0aY0bNwZQVFSk0WgAqNXq4uJiflr18SZlZWWTJk0KDw+vEb9nY6nppwfrsWsXO3r08fGMGez4cWt3QJ8tcvbs2dZu2+rUIWEZMm8eq1eP/fKLVRtds2YNgBYtWvBskc831ghIqoWoVCgtxfTp1mvx4cOHc+fOBZCYmKifpD/P1LSya4bCQta4MQPYzp1WajEqKgpAnz59rNReTVNHhcUYW7mSAczPT8iucyUqZYusC9TRWyGACRPg44NLl7B+vdiGtFokJOxljM2cOVOfLuX5p6aVXZNs2fL4HQJCg/9WrWIA69PnuFIpp/9gLafujlgABg/Gyy/j3j0sXy6qibt3MXcuAEye3E2fRqEuUKeFBWDZMkgSdu8+nZNzR4T9mTNRUIDwcFSkCKkz1PSQWfNMnfqJQqEQEf139OjjN19kZspuu7ZDwhIV/adWs+BgBrCKdwLVLWRLvPZMExMTs3LlyrCwMJ4hmLNp06ZTp07pEy7y/FIKxQwHBxtHRwBQKODmhubNUeUrtxMSMG0a2rRBejr4+XWLmlZ2raDK6L8xVW1T29sz4Hf/3nyzCoN37jA3NwYwy94b9wxDI9Zjli1bNmvWrKCgoDNnznBfqNTU1LNnz/JUUqwiv5QkLSkpkXhaP/4+89BQTJ1a2VpZGeLjkZGBpCQrf45aQ00ru7ZgefRfWRnz8GDHjjHG2OXLTNaX5Tx7yJaD9FnH3t5+wYIFI0eOnD17tqenp4eHB59dGSbqrFfPydGxCSpmV0/i6YlZs3DoELRaVGQwraPQrfB/6HS6kJCQ/Pz8a9euVXmCs7NXSUnuE5WwtweABQuweTMGD4ZGgwEDMG8evv1WdJdrLzRi/Q+FQnHw4MGkpKQtW7aUlJSUl5fj94k6bWwaPngAAFotCgsfX1VS8nhw0moBYMoUvPwyOne2fvdrFzRiWUpxMdRqALCxQXg4TpzAkSOYMQOtW9OIRViA3mmvIgM8evSAvz+qep9IHYJGLNnQ6XD6NLp2BYD8fNy+jcDAmu5TzUHCIoRQ170bCEGQsAghkLAIIZCwCCGQsAghkLAIIZCwCCGQsAghkLAIIZCwCCGQsAghkLAIIZCwCCGQsAghkLAIIZCwCCGQsAghkLAIIZCwCCGQsAghkLAIIZCwCCGQsAghkLAIIZCwCCGQsAghkLAIIZCwCCGQsAghkLAIIZCwCCGQsAghkLAIIZCwCCGQsAghkLAIIZCwCCGQsAghkLAIIZCwCCGQsAghkLAIIZCwCCGQsAghkLAIIZCwCCGQsAghkLAIIZCwCCGQsAghkLAIIZCwCCGQsAghkLAIIZCwCCGQsAghkLAIIZCwCCH8P22PfgMQd7r3AAABrnpUWHRyZGtpdFBLTCByZGtpdCAyMDIxLjA5LjIAAHice79v7T0GIOBlQAAxIJYE4gZGZQYFIM3I5qABpJhZ2BwyQDQzIzYGRAk7A1iACSEAoZnhKhECGIYSYQtutWgC3AyMDIxMGUxMzAnMLBlMLKwJrGwKbOwK7BwZTBycCZxcGUxc3AncPBlMPLwJvHwZTHz8CfwCGUwCggmCQhlMQsIJwiIZTKyiGUyijAki7Aki3AlCvAkiLGyMoqwszExsHJxc3CLsbDy8QsIi3Gx8/AKCQrziQozA0IIHY8e8PQdC1Y7uB3H+XFp8QIaheR+Ircm6+8C68HZ7EHuO5aID/+6JOoDYR8pTDnixiYDZWcJmB/a+rAerea2/Zv+7tgowO+ec3P7fAevB5mRO3bS/x+oC2Pz0mdr7FTVtDoDFQ0LsrzLagdkZEWftY+ZeB6tZsdzN4YjfbTD7oF2Fw82Ft8HmSMuucahIfwVmL39xxOH+jGCwXVXb1joIfeIAu6ehsNrh2CkuMDv9lqdDXVwSWM3TvZft/Q5mgtmp8on2s8T2gc1pXpV+YM/RiWC2GAAAUHa/WTmpmgAAAiV6VFh0TU9MIHJka2l0IDIwMjEuMDkuMgAAeJx9VFtuGzEM/PcpdAELfErkZ2wHRRDEBlq3d+hv0Puj5G5tKYDQXYuQhDFfM9xDyef75f33n/J86HI4lAL/+bl7+cUAcPgouSmn129v13K+v5weN+fbz+v9RyEqpPGfeL9iX+63j8cNltNnOWo1F1YqR6wqQEwFKmzP+DOVcyIRXUHLESqpWoMFknekibBFiAraufECKDsQmitzocqCnXUB1ARy1eaGkEAkM1kAWwIpQ/vmKNrVljn2cs1qWZQwq/UOBr4AWnqE2giYe+5YSHCVpP9z6YqmuWvUuvUFMmrYnXbgCBoJuwDgKk/E8ArVyAV5QzaztuIHk6AICkJRcYbPLix9JkFcEdiNE9mRo/UrpGxI62ZxioyFzNuqTZgUaeVuqrwhtRstfSZHraKy5HWU1lSXwL65jJAaQqaK7L2vGo+2ZemhCUgZYYsOtRXQ98I1OEpHoSHSlYwI9l6qEKdwHRlh5TEqPKej7mzbUHBHaksk7Rpu6NGYbX5MOq6YfL1evgzpPran2/UyxjZfGqMpsXjMn+QaU5avjlmKQ2ljYjBWH3OBsWyoX2L5kLjEwlnIkgZx0qukQZp0KWmQJ/1JGpRJZ5IGddJTHkMtk24kDfZJIJIGbVKCpEGfKJc0NHMraQgnEiV6QDRxJdv383mRGQfsGYhkvxhlku6BRlFJ40xanh/f6dgf/gJqBB0EjwCkdQAAAQ56VFh0U01JTEVTIHJka2l0IDIwMjEuMDkuMgAAeJwtkDtuA0EMQ6+S0gbGA0nUF+5ygFxiexepffhI42yxwDyQIqXv34uv/m4/l7yu14Xr0nnPX3C/+Ot9e9jOUth68DYlwXo2Yq4mtMUs/ZBURS7eZIEPIS/Dkg3l0CbY5pU8hCWziYyrsGhXlY+LW23CQ4KSqhFtFwJi4qCibB9dGeeUcvH41wWhLT22lIjXk3ZKKeMgz2naelLxY5zw9cRmQp1RwYAOycjEBKpkeYtsI9LOymqR3fDpm63Vk+FmPJpWn40ZFTFzavbst6fjJBnKx5IqpqeNqZwDMJj8VI5CniQEy7kKtnNFnoOnNl339x+YwlyAL9t17AAAAABJRU5ErkJggg==\" alt=\"Mol\"/></td>\n    </tr>\n    <tr>\n      <th>1</th>\n      <td>CHEMBL53711</td>\n      <td>nM</td>\n      <td>0.006</td>\n      <td>11.221849</td>\n      <td><img data-content=\"rdkit/molecule\" src=\"data:image/png;base64,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\" alt=\"Mol\"/></td>\n    </tr>\n    <tr>\n      <th>2</th>\n      <td>CHEMBL35820</td>\n      <td>nM</td>\n      <td>0.006</td>\n      <td>11.221849</td>\n      <td><img data-content=\"rdkit/molecule\" src=\"data:image/png;base64,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\" alt=\"Mol\"/></td>\n    </tr>\n    <tr>\n      <th>3</th>\n      <td>CHEMBL66031</td>\n      <td>nM</td>\n      <td>0.008</td>\n      <td>11.096910</td>\n      <td><img data-content=\"rdkit/molecule\" src=\"data:image/png;base64,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\" alt=\"Mol\"/></td>\n    </tr>\n    <tr>\n      <th>4</th>\n      <td>CHEMBL53753</td>\n      <td>nM</td>\n      <td>0.008</td>\n      <td>11.096910</td>\n      <td><img data-content=\"rdkit/molecule\" src=\"data:image/png;base64,iVBORw0KGgoAAAANSUhEUgAAAMgAAADICAIAAAAiOjnJAAAABmJLR0QA/wD/AP+gvaeTAAAciklEQVR4nO2de1zM2f/HXzM1XZSUEuWSbKgpiVpFWHbRrt21irCrfLEuy+8rd357Iav103q4xNcuuW5r2cS6VRZZ1k5ZbJavmu5bcomiO2mmZs7vj0/GqHSZ+ZwJnefDw8PnzOfzfp/Jq/M573N5HwEhBAwG3whbugKM1xMmLAYVmLAYVGDCYlCBCYtBBSYsBhWYsBhUYMJiUIEJi0EFJiwGFZiwGFRgwmJQgQmLQQUmLAYVmLAYVGDCYlCBCYtBBSYsBhWYsBhUYMJiUIEJi0EFJiwGFZiwGFRgwmJQgQmLQQUmLAYVmLAYVGDCYlCBCYtBBSYsBhWYsBhUYMJiUIEJi0EFJiwGFZiwGFRgwmJQgQmLQQUmLAYVmLAYVNBv6Qq0Fn799ddr166dO3fO5SnOzs5t27Zt6XrRQsAOENABJ0+eHDNmjJmZWXFxsapQIBDY2dmp60wsdjEwaOhX/fZtKJWwswMAmQz//AOxmHbdNYQJizqpqakDBw4sLS1dsmTJ8OHDk5+SmppaWVmpfqeDQ6VSaSgWw9kZYjHc3eHoCD29ZzfMm4fISKSmwsoKOTnw9cX167r+Ok2ECYsuhYWFXl5eWVlZ48ePj4qKEggEqo8UCkVWVpZKZ+npORkZiTLZc48bG0MshosLnJ3h5oYTJyCVomdPhIczYbViqqqqfHx8zp8/379/f4lE0qZNm8buR0YGUlIgldb8nZYGpbLmUycnvPMOvLywfj2++w42NkxYrZXZs2fv2LHDxsbmypUrXbp0AUAIUW+0GqWsDFIpkpKQnIwOHVBQAG9vdOmCf/8bhw9j/PiXV1ggDDps2LABgLGx8eXLl7mS0tJSLy+v6OhojW3++9/k558JIWTqVLJkCenbl5eaUoEJiwqnTp3S09MTCAQ/c0IgpKqqatSoUQD69++vUCg0M6sSVn4+sbF5qYXFBkj5RyrFt99WGBoarlq1atKkSVzhwoULz5w5Y2VldejQIaFQwx+7sTEMDADA2hqrVsHMjK8qU6Cllf268eAB6dGDAGTu3EylUskV7t69G4CBgcHvv//Oi5dHj8j27WT5cl6MUYEJi0/kcjJ8OAFI//7k8eOawgsXLhgYGADYuXMnX44KC4mhIdHXJ/fu8WWSZ5iw+GT2bAIQGxty+3ZNSUYGGTlyDoDlfDcvvr4EIBs28GuVN5iweGPjRgIQY2PyNAokxcXE0ZEIBMp58yI17rC/iCNHCEDc3Pi1yhtMWPxw6hTR1ycCATlwoKakupq8/z4BiFhMSkt5c6R6w8pkxMqKAOS//+XNOI+wqJAH0tIwaRKqqxEcjI8/rilcuBCxsbCyQnQ0b+Hb4sXo2BF//w0ABgaYOBEA9u3jxzjPtLSyX3nkctKzJwHIhAnkaRRIdu8mADEwIDxFgTXMn08AsmBBzeXlywQgHTuSqio+vfACE1azefCApKY+u7x2jcTEkLffJhUVNSWZmUQkIgCJiODZ9dWrBCDW1kQurylxdCQAOXmSZ0faw4TVbMLDib4+uX695tLMrJ57du4kX35JxXufPgQgqmmhNWsIQD7+mIovbWB9LE0YOBDz5qGB6fsZM/DNN1RcBwQAwI8/1lwGBkIoxPHjpLS0moo/TWHC0oTBg2Fjg717W8B1QAD09HD8OAoLAaBrV8yY8ZOlpcPhwxEtUJsXw4SlIRs2YPXqmv9dXWJrixEjYGxcEhubypUMGqS4fTv7R1Uj9nLAhKUh3KKo4OAWcD1zpkQmswkPn8Fdjh8/3tTUVCKRZGdnt0BtXgATlubMn4+EBDx5omu/o0d7GBoaXrx4MT09HYCJiYmvry8h5KefftJ1VV4ME1azMTSEkREAiEQIC4Pud3AZGxv7+fkBOHDgAFcSGBgIYN++feTlWQ/c0mHpK0x1NTl6lMyYQfieBmycc+fOAbCzs+NW5igUiq5duwJISEjQdVVeAGuxNEcoxOLF2LULEomuXQ8bNsze3j43N1cikQAQCoWTJ08G8PJ04ZmwNEcgwOTJgNqokg5dCz755BMA+57OFE6ZMgVAZGTkE913+uqDCUsrpkyBQIDDh1FRoXvXU6ytrTt27MhdOjk5eXh4lJaWRkdH67oq9cG2f2nLoEH480/s349PPtG1a4VCoae2UXrZsmWbNm0ihPTu3dvZ2VksFru7uzs7O9vb2zdrzxkvMGFpy/btmDMHPj44daolq3Hv3j0PD4979+7V/Q+1sLDgckO4uro6Ozu7uLi0b9+edn1aQFg5OTlZWVlr1qxxdnbu06cP91UtLCx0XA2+KC6GjQ2qqpCbiy5dWqYOlZWVw4YNu3z58uDBg48cOXLr1i2pVJqSkiKVShMTE+/fv1/rfgsLC1V7JhaL3dzcTE1N+a2SroVVVlY2aNCgW7dulZeXq5fX+qr9+vUzMTHRZcW0wd8fhw9j3TosXdoC3gkhAQEBBw4c6N69++XLl62trWvdUFxcrNLZ1atXb9y4UeuHD8DGxkb97ens7GzEDdZpik6FpVQqx44dGx0d3atXr9DQ0JycHKlUmpSUlJKS8vjxY/U7hUJhjx49uPasT58+Li4uPXv2FIlEOqtqszhxAh99BGdnJCe3gPfVq1cHBwe3bds2ISGhT58+jd5PCLl58yaXiSQpKUkqlaalpcnlcvV7RCJRUFBQSEiIsbGxZrXSqbAWL168ceNGS0vLS5cuOTg4qH+Ul5en+pVKSUlJSUmpFTaLRKKuXbuqt2pOTk4a7/zkl6oqdOmCggJcu6Z0c9NplY4cOeLv7w/g2LFjH374oWZGqqur1d+eV69eTUtLs7W17dOnz8mTJzWsmc6GYn/44QcAIpHo3Llzjd4sl8uTkpIiIyO//PLLsWPHvvHGG3U1ZGpqOmDAgN27d+ug8o0SEpLq7Dx9gWrVsE74+++/uQ7DBr53gd25c8fQ0FBPTy8vL08zCzoSlkQiMTQ0BLB9+3bNLMhksuTk5IiIiOXLl3/wwQc9evTgQugBAwZ8/vnn/NZWAxITEwFYW1vLVauGKXPv3j1uGmfq1Kk07HPTkevXr9fscV0IKycnh+tRLlq0SFWYnJyspdnCwsK9e/cCaN++fWVlpZbWtIfr32iTTKbpPHnyxNPTE8DgwYMpffdjx44BcHFx0exx6sIqKyvjfuI+Pj7V1dVc4YEDB4RCYUhIiPb2+/btC+Do0aPam9KS0NBQABMmTKDtSKlUcvM53bt3z8/P59FyaWlpZGQk92+5XN6hQwcA11XL+5sDXWEpFAquR+no6FhcXMwVJiYmcrnttmzZor0LLg2Vn5+f9qa05O7du3p6ekZGRqpvynHnzp0rV648evSIL0dff/01gLZt2964cYMvm4QQpVLZvXt3AH/99RdXMm/evFrvmaZDV1iLFy/mXlWZmZlcyd27dzt37gxg+vTpvLjIz8/X19c3MDB48OABLwa1YeTIkQDCw8PVCzdt2sRFGzY2NiNGjAgKCoqIiEhMTKxQ7RdrDr/88otQKBQKhSdOnOCp1s9YuHAhgKCgIO7yypUrXMexqvkbFykKq24YWFFR8eabbwIYMmSITCbT2HJ2dvbq1atVb4HRo0cD2Lp1Kw+V1g5urYG3t7d64Y4dO/r27cslnFFHJBI5OztPnDjxm2++OXr0aGZmZqP5HeiFgSr7ADp06KAKQVxcXADExsY21xQtYcXHx9cKA5VKJZeFzN7eXsvWZcyYMQDCwsK4y59//hmAp6entpXWmsePH3NnAqSnp9f6qKqqKiUlJSoqauXKlePGjevZs6f6/DFHmzZtPDw8pk6dWm8spgoD//Wvf9H7Cq6urgCOHz/OXa5duxbApEmTmmuHirBUYeDChQtVhStWrABgZmamfTx4+PBhAP379+cunzx5Ym5uDiBVfYdyCzF16lQAK1eubPROuVyenJwcFRUVHBysPoACwM7OrtbNOggDOdatWwdg/Pjx3OXt27f19Q08PT8vLlY2/GAt+BeWehioejcfOnRIIBDo6enFxMRo70Imk1laWgJQ9V5nzpwJ4IsvvtDeuJYcOXJEIBAYGhqKxWJ/f//g4OCoqKjk5GRVdr8GKC4ujo+P3759+/fff69eTi8MrMv9+/e5PuvDhw+5Ej+/SoDs2NE8OzwLq94w8OrVq1wYuHnzZr4czZkzB8CyZcu4yz/++ANA586dVSMaLUJlZaW3t3e9Mxzt2rXz9vaeNWvWf/7zn3PnzjWrM7B69WoaYeCLGD9+9tChB/fsKeIuIyIIQIYMaZ4RnoVVNwzMy8vjUpzzFQZyXLx4EYCtrS2nJKVS+cYbbwD47bffePTSXLiG09bWNi0tLTExUX2eoK7ULCwsOKmFhYVJJJKysrJ6bVINA+tl/34CkIEDay4fPSKmpkQgIFlZzTDCp7DqDQMHDBigfRhYL46OjgBOnz7NXQYHB4Pa/EZT+PbbbwEYGxtfuXKl7qdFRUUSiSQ8PDwoKGjEiBFWVlZ1paYajwgPD5dIJBUVFaowUOOpFQ2oqCDt2hHgWVKdKVMIQFataoYR3oTVcBhYUFDAlyMVISEhACZPnsxdZmdnCwQCExOT8vJy3n01ysmTJ7nE7gcPHmziIzk5OTExMaGhoQEBAf369eN+euro6+u3a9eO98a+KUyfTgDy1Vc1l2fPEoDY25MmdBRr4EdY9YaBK1eu5HoGSUlJvHipxc2bN4VCobGxcUlJCVcyePBgAD/++CMNdw0glUo5BaxZs0ZjI9XV1f/888+JEydCQ0MDAwPd3d0NDQ2tra3NzMyePHnCY22bwu+/E4DY2dVsmVQoSNeuBCASSVMt8CCs6upqbsLuvffeU/WdVWEg1UnZYcOGAdizZw93GR4eDmDkyJH0PNbl4cOHXPfO39+/KaFf06moqLCzswPQlIVG/KJU1mSrP3++puTzzwlAZs1qqgUehFVYWDhp0iQrKyv1ObK9e/caGBioxjApwSXmHz58OHdZUlJibGwsFApv3bpF1a+KykrF4MFDAHh5edFoV7hWf9q0abxbbpQVKwhAVJ7T0wlA2rUjTZyI4kFY5eXlpqamAoEgOztbvbzu6DPv1HU9YcIEAKGhobRdc8ycSQYOzO3Rw/nOnTs07GdmZgoEAlNTU913HLOyyKJFRL0X8+abBCBN7EPy08fi9nfzsgxGM9fffPMNdxkTEwNALBbrwPW6dQQgJibk+nWKyWW5gbGffvqJnosmsmsXCQggT5c+NAI/wjp16hSAnj178tvJ0MB1VVVVp06doLb2gxInTxI9PSIQNPU3WGO2b98OYNSoUXTdNIFdu8iYMTUZmisrScNdWX6EpVAouFHQP//8kxeD2riutfaDBlJpzUiPFlFgU1F1HG+rzlFpIUJCiLU12bSJEEIqKkjHjg3dzM+WEqFQyE1m6T7biVAo/Pjjj1EnPcb+/ftrbWnii8JCjBmD0lL4++Pzz2l4eI527dp98MEHSqVSlQ2rBZk7F1u34s6dJtzKl5ylUikACwsL3S8/T0pKAmBra6taz1Rr7QePyOXkrbcIQNzdn50+Qhsuz4duOo4NEBJCNm0iu3cTPz9dtVjc1+7fv39xcTHXfdYlLi4uBw8elEqlqi1iXIY7Gs3n//wPLlyArS2OH0djZ4fzxrvvvtupU6eUlBRuIV7LMm0aHj5sQqIKHhUdFhYG4KOPPuLRpmbk5uYKhUJTU9Naa1e0PIIrLY2YmBATE/L333zVtKksWLAAwPz583XtWA2uxSKEXL9OnJwaabH4FFZBQYFIJNLX179//z6PZjVg9uzZAOquBm7btq2Xl9fMmTPDwsLOnj2bn99IDBsXR56u0iC5ueTqVRIVRXbtenZDdHQzps+04erVq3h+0bDuUQmLEDJ/vg6FRQjhFmPxuO5KAzZv3gzAyMhIIpHU2uOqLrL27a0AYmFBvL3JrFkkLIzExZFac+UeHqRv35oA+8AB8tlnZNEi8t13z24wNdXdAUnc8kmdLZ5RJz6+ZrA0I6OmpKyMNFwRnoUVFRUFwMPDg1+zTefMmTP6+voCgWD//v11P3348OH58+e3bt06e/bsSZOCzM0JUPuPnR0ZPZosX05OnSIeHsTXl3ArVlpcWNyyHH9/fx35e0pODrG2JgB5fllrI/AsLNWiYUorGhomLS2NW/y+YsWKJj5SVEQkEhIWRmbNIt7exMTkmcJmzSIeHuTaNWJvT3Jznwlr7lwSE1Pzx9hYd8Li9i2qLxrWAeXlxNWVAGTUqOZ9U55ToxgYGHDJT3SfzL6oqOjDDz8sKSnx8/NbtWpVE5+ysMDgwZg/H+HhiI9HaSkyMvDLL1i9GmPHAoC5OVauxIIFzx7JycGlSzV/FAr+v8iLsLW1HTFihFwu5/aS6AClEgEBuHEDvXvj4EHo6zfnYd41npCQALVFw7pBLpe/8847APr168fjnmMPD5KTQ5RKMngwmTmzhV+F5OnZE4MGDdKNu2XLCEDat3/WtWo6VLZ/9e7dG8CZM2doGK8Xbm9Fp06d+F0wwwmLEPLf/xJDw5YXVkVFBbeiMC0tjbYvbg+FSETOntXkcSpZwmqlIKfNli1btm3bZmRkdPToUW5LJ184OoIbsnB1xRdfoFs3dOsG9VSM7u7QZT7iuoedqNixY0dcXNy9e/d4cXTxImbNAoAtW/DOOxqZ4FvohDxdNGxiYvKinSc8ogoDX4aFJTrg/PnzUDvshKOsrEy12dXc3Nzd3T0wMDAsLCwuLk6DfYi5uaVcGKjNPD6tLfZvvfUWgL1799Yqv3TpkmqJuvZoEAa+6iiVSnt7ewAXLlxQFRYUFMyZM2fo0KH15tnu0qWLj4/PkiVL9u7dm5iY+LjBOc7y8nJXV9chQ2a8955Mm7c8LWHt2rULwNtvv61eWPj03Mha+5w0624XFhb27NkTgJ+fn5ZzNa8WX331FYBPP/203k/v3r17+vTpDRs2TJ8+/c0336ybfFooFDo4OPj6+sbHx9d6VqFQcHkxHB0dtfz9pyWs0tLSNm3aCASCHK73SwghJD093d3dvU2dyVs9Pb1evXqNGzcuODj40KFDqampjebNUYWBbm5uPIaBrwQZGRkCgaBt27ZN3FR39+7duLi4sLAwbvOPKhGyakumimXLlgFo3759hgZx4PNQTGPELZOquyNKoVBkZmYeOXIkJCRkwoQJYrG4bp5tQ0PDfv36BQQEhIaG1lpKz0EpDHxVGDRoEBemaJBzS5U4uKioSL08IiICgEgkOqtZHPg8FIX166+/omnrleVyObelLjg42N/fXywWq+dIPq/agvSULVu2ADAyMtL9gtWXhMrKypkzZzaacysrK6uJnYSEhARux+y2bdt4qSHFPO8KhcLKykomk3Xo0MHV1bVZ+dkfPXqUkpJy48YNqVS6YsUK9T5pXFzc6NGjFQrFvn37uJ0UrZa6+dnT09MVz88GGBgYODg4NHxmU25urqenZ35+flBQEDeFrz0UhbVz585Zs2aZmpo+evRIvZz7qiqdNet4qvT09IEDBxYXF3/11VfcFnuGOnK5PDMzU/0oBq6Pq35Pu3btHBwcVDrr0aOHr6/vjRs3Ro0aFRsbq9+8iZsXQktYEomEm9j6/vvvhw4d2vBXNTc3585v4XTm6upa90AYAEVFRV5eXpmZmX5+focOHXpJjqV4ySkpKUlOTuaOluH+VsXmKgQCQa9evS5dusSN3fACFWHl5OR4eno+ePBg6dKlXIY4dUpLS7OyslQ6S0pKys/Pr3VP3TObDA0N33333d9++83NzS0+Pv4VOsLpZaPWmU1//fWXQqEIDQ1dsmQJn2546ampU1ZWxmVEVU/l0DB37tw5ffr0+vXrp02b5uHhUe94BJdz3MbGpnWGgfTg9i3ynvCC5xZLoVCMHTs2JiZGLBZfvHiRmzHVgFpnNkmlUrlcPn369BkzZnCpOBl8UVpaamNjI5PJbt68yedMK786nT9/PgBLS8usZqV/awyZTPYyJK59XZk4cSKAtWvX8miTT2Ht2bMHgEgkqjvyxHiZ4XbsOTk58WiTN2ElSP7gBtDrTjwzXnJoJLzgJ2Ivyb91adeCGb5vLV26lEt0zniF0NfX5z1DAg+dd9njsl1LP3x4O7O356gJX+xhw0uvItevX+/Xr5+lpWVeXl7dmSIN0FYERKk4smHew9uZHbr28l24hanqFcXNzc3V1bWwsJCb4dUebXVwevfXGX/FGbe1+HjFD4YmZrzUidEiTJkyxcHB5fx5fpZaa/UqvH724PHNC4X6osDVP3fvM4iXCjFaivv3FV276unpIS8P9S1EbR6at1i3pJdjvlsG4P3P/o+p6jWgUye9kSMhkyEykgdrGgqrJP/WwbUzFNVVg/zm9vdp1WtXXicCAwGAl91VDb0Kc5MvKaqr9A0Mrbv1NjJ9Njkjf/Jo99IxBblpDu7DP1n5o0BY+9w9xitKZSVsbFBSgtRUODpqZaqhFuvQt7MzE39LiY8OX+BzS3pZVX47NbHw7j/Wdo7+y8OZql4njIwwbhwA7N+vramGWqz1gX2Ddl40MDK5HL278M4/wwOWlj7Ik1WUKxXVeiIDM8tO5h27aeuf8ZLxxx946y3Y2SE7G9qMHTXy6M0bFzMTf0u7dKqnx9uFd7MPfB2Qfvm07MmjbuIBTFWvJUOGoEcP5ObiwgWt7DQirJwbCZmJ56pkT6qr5AA6dOs96tNgR693tfLJeIkRCBAQAGjdhW9EWMMDlo7+bM3Y+Zvi9oYAENY5H5vx+hEYCIEAhw7h+b0KzaPxlfOEkFupf7Wz7qK5E8YrhYMDFi5Ev36os92zGTQkLHPrLj/8rx8Ay849xsxbL6soNzWvZ48D4/XjzBmYm4M7mjM8HEVFyM3F6NEYMwYAKishFiM7uyELFLd/MV5dunWDiQmOHUPv3ti8GUVFyM7GRx9h/HgAePIEnTujqKghC2wxAqN+1q7F7NnQuNlhLRajHrp1Q1oaJk3ChAkoLKxpsRISwO07JAS5uY20WPxse2W8lmzejBEjMH16zeW6dc+9ChuGvQoZL8TeHtOm4bvvNHmWCYvREMuWQbO9oayPxXiGUokJE/D++/DwgLNzzVxhXh4AKBQwM6sRGSFITYVY3JApJizGMxYvxsaNsLJCRgYsLLQyxV6FjBp++AEbN0IkQlSUtqoCExaDIz4en30GAFu3YvhwHgwyYTFw8ybGjYNMhkWLas4N0B7Wx2rtlJfD2xtJSfDxQWws+Fq/wlqsVo1SicmTkZQEJyccPMibqsCE1cpZs+ZBdDSsrBATo+F41Ytgwmq97NmzZ/XqbsOHJ//yC54/1pgHmLBaKfHx8XPnzq2urpw4MWHoUP7ts857a+TmzZuenp4FBQWLFi3asGEDDRdMWK2O8vJyb2/vpKQkHx+f2NhYPTr7GNirsHWhVConT56clJTk5OQUGRlJSVVgwmptLF26NDo62tLS8sSJEzweF1AX9ipsRUREREydOlUkEp0+fXo4LxM3L4a1WK2IY8eOAdi2bRttVYG1WK0KhUIRGxvLnaFKGyYsBhXYq5BBBSYsBhWYsBhUYMJiUIEJi0EFJiwGFZiwGFRgwmJQgQmLQQUmLAYVmLAYVGDCYlCBCYtBBSYsBhWYsBhUYMJiUIEJi0EFJiwGFZiwGFRgwmJQgQmLQQUmLAYVmLAYVGDCYlCBCYtBBSYsBhWYsBhUYMJiUIEJi0EFJiwGFZiwGFRgwmJQgQmLQQUmLAYVmLAYVGDCYlCBCYtBBSYsBhWYsBhU+H/43DuL3lX5qgAAAY96VFh0cmRraXRQS0wgcmRraXQgMjAyMS4wOS4yAAB4nHu/b+09BiDgZUAAESAWA+IGRjaGBCDNyMzOkAGkmZkY2Rw0QAwWNgewADOSAITGpxKTAVGizKAAsgUuzg4RZ8YigGYmTIKbgZGBkUmBiTmDiZklgYU1g4mVTYGNXYGdI4OJgzOBkyuDiYs7gZuHgZsXKMWXwMefwcQvkCAgmMEkKJQgJJzBJMyUIMiSwMueIMLMxiQsJMjCzMbBycXNy87Gxy8gyMIq/gvkRHgI3bzn67CjrOwAiBO8otVBeosOmL1LI8vhuMXS/SA2Yz+3w5S+FjBb89wV+6zmfXYg9qarNnYy0xTsQewTE932R5awgdXo2AkceGLftQ/ElkgzPFA6fyJYzcv/7QdWeG4Cs8/vWHYgX7kMbM5NlWkHGLKngvUeuLvlgGyFCNgNP9f7HjAR3QYW77yyap+dLZMDiP0hRsH+9n9vMPvrBjaHg6uswexHN9QdRNUOg833s2x2eFi9CMx2OTvZIWUOL9g9YgDoQmbwOmBX5wAAAgR6VFh0TU9MIHJka2l0IDIwMjEuMDkuMgAAeJx9VFuqGzEM/Z9VeANj9LJkfd4kl1LKnUCbdg/9Ld0/lWZIxhdMx7GwzbEs6RxlKfl9v337/be8ProtSynwn5+7l18MAMtHyUW5vH/5upXr4+3yPLnef26PH4WgEMWdGJ+xb4/7x/MEy7VwJVQjKyvX3uIFLVBh/86rVLYiFU3Ne1mpqndxngB596itG2tZsZKDeZsAJYBUsYMCJxC4KeAE2AKIVZWaRD6VjWAaogYOwqEIeCyULN6e4CxSWaGatfCZq0aNcJZLD4+RKzXOFAJJBoA+QfqBNMPeNKJFzkpNgAiJlEri3j2Q7BSlmiGTm7UFORAlCgAJsM0SQjp8qqMnO/G8GlOfQblc/qRXbQTqGTOjd57VHZOhNdXBXVu6FYpK0QzajpoyszYOWoHF+zSAgyUlFewhFOwmPn09aQp9gLSGsXAmcpsB+y4kJdIoBAabojAtU5IUGgYwaQEkdYGp1mEXu2LvYJlWFIB8lvf7dvvUTkeDXe7b7WywHHS2UWwKn80iOc+WyNFO4cem6KlvjGmnjDFmP7UqMf0UpMTEUXeSBnHQl6RBGnSEu+FBLrKfyCAKyUjaQL2kQR0oljRoA5eSBvtAmqRBH9iRNDTSIGle0RAel15vhxYlI+ojH2P1c//8a4z18g+CEgNczVKLGgAAAQR6VFh0U01JTEVTIHJka2l0IDIwMjEuMDkuMgAAeJwdkDuOBCEMRK+yYY9EW3b5h9XZbD6XIO9g4zn8mibCTwW84vezZC2s47N09Tref6+lr3vdDW/5+R5KkEgdp9J0GZeRZMxxgqKm1biUwmfaOIVQPMcFksmxZ1aPcQlFwG0waYKrCXfCjKtRINGXnEyZ3rnRO4dDtCEIrlmbIZmlHpYpM4aQ6Ba5TiNYVTXRwswm3s7cCn3MWPPJRGEr7S76RMLBuXuo1NxoN9U+3ylDKzxWqhquA92lH9nqgTCZQ7tD7v5dl829I6XQPQcQ0joOi+fDmNN7RpQ9Pxgyp+xW/R7a6/X9B9uKUTuMaxF6AAAAAElFTkSuQmCC\" alt=\"Mol\"/></td>\n    </tr>\n  </tbody>\n</table>\n</div>"
     },
     "execution_count": 28,
     "metadata": {},
     "output_type": "execute_result"
    }
   ],
   "source": [
    "output_df.drop(\"smiles\", axis=1).head()"
   ]
  },
  {
   "cell_type": "markdown",
   "metadata": {},
   "source": [
    "#### Write output file\n",
    "To use the data for the following talktorials, we save the data as csv file. Note that it is advisable to drop the molecule column (only contains an image of the molecules) when saving the data."
   ]
  },
  {
   "cell_type": "code",
   "execution_count": 29,
   "metadata": {
    "scrolled": true
   },
   "outputs": [],
   "source": [
    "output_df.drop(\"ROMol\", axis=1).to_csv(\"../data/T1/EGFR_compounds.csv\")"
   ]
  },
  {
   "cell_type": "markdown",
   "metadata": {},
   "source": [
    "## Discussion"
   ]
  },
  {
   "cell_type": "markdown",
   "metadata": {},
   "source": [
    "In this tutorial, we collected all available bioactivity data for our target of interest from the ChEMBL database. We filtered the data set to only contain molecules with measured IC50 or pIC50 bioactivity values. \n",
    "\n",
    "Be aware that ChEMBL data originates from various sources. Compound data has been generated in different labs by different people all over the world. Therefore, we have to be cautious with the predictions we make using this dataset. It is always important to consider the source of the data and consistency of data production assays when interpreting the results and determining how much confidence we have in our predictions.\n",
    "\n",
    "In the next tutorials we will filter our acquired data by the Lipinski rule of five and by unwanted substructures. Another important step would be to clean the data and remove duplicates. As this is not shown in any of our talktorials (yet), we would like to refer to the standardiser library ([github Francis Atkinson](https://github.com/flatkinson/standardiser)) or [MolVS](https://molvs.readthedocs.io/en/latest/) as possible tools for this task."
   ]
  },
  {
   "cell_type": "markdown",
   "metadata": {},
   "source": [
    "## Quiz"
   ]
  },
  {
   "cell_type": "markdown",
   "metadata": {},
   "source": [
    "* We have downloaded in this talktorial molecules and bioactivity data from ChEMBL. What else is the ChEMBL database useful for?\n",
    "* What is the difference between IC50 and EC50?\n",
    "* What can we use the data extracted from ChEMBL for?"
   ]
  },
  {
   "cell_type": "code",
   "execution_count": null,
   "outputs": [],
   "source": [],
   "metadata": {
    "collapsed": false,
    "pycharm": {
     "name": "#%%\n"
    }
   }
  }
 ],
 "metadata": {
  "kernelspec": {
   "display_name": "Python 3 (ipykernel)",
   "language": "python",
   "name": "python3"
  },
  "language_info": {
   "codemirror_mode": {
    "name": "ipython",
    "version": 3
   },
   "file_extension": ".py",
   "mimetype": "text/x-python",
   "name": "python",
   "nbconvert_exporter": "python",
   "pygments_lexer": "ipython3",
   "version": "3.9.7"
  }
 },
 "nbformat": 4,
 "nbformat_minor": 2
}