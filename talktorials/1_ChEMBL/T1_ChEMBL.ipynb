{
 "cells": [
  {
   "cell_type": "markdown",
   "metadata": {},
   "source": [
    "# Talktorial 1\n",
    "\n",
    "# Compound data acquisition (ChEMBL)\n",
    "\n",
    "#### Developed in the CADD seminars 2017 and 2018, AG Volkamer, Charité/FU Berlin \n",
    "\n",
    "Paula Junge, Svetlana Leng, Dominique Sydow"
   ]
  },
  {
   "cell_type": "markdown",
   "metadata": {},
   "source": [
    "## Aim of this talktorial\n",
    "\n",
    "We learn how to extract data from ChEMBL:\n",
    "\n",
    "* Find ligands which were tested on a certain target\n",
    "* Filter available bioactivity data\n",
    "* Calculate pIC50 values\n",
    "* Merge `DataFrame`s and draw extracted molecules\n",
    "\n",
    "## Learning goals\n",
    "\n",
    "\n",
    "### Theory\n",
    "\n",
    "* ChEMBL database\n",
    "    * ChEMBL web services\n",
    "    * ChEMBL webresource client\n",
    "* Compound activity measures\n",
    "    * IC50\n",
    "    * pIC50\n",
    "\n",
    "### Practical\n",
    "    \n",
    "Goal: Get list of compounds with bioactivity data for a given target\n",
    "\n",
    "* Connect to ChEMBL database\n",
    "* Get target data (EGFR kinase)\n",
    "* Get bioactivity data\n",
    "    * Download and filter bioactivities\n",
    "* Get compound data\n",
    "    * Download and filter compounds\n",
    "* Merge bioactivity and compound data\n",
    "    * Draw molecules with highest pIC50\n",
    "    * Write output file\n",
    "\n",
    "## References\n",
    "\n",
    "* ChEMBL bioactivity database (https://www.ncbi.nlm.nih.gov/pmc/articles/PMC5210557/)\n",
    "* ChEMBL web services: <i>Nucleic Acids Res.</i> (2015), <b>43</b>, 612-620 (https://academic.oup.com/nar/article/43/W1/W612/2467881) \n",
    "* ChEMBL webrescource client GitHub (https://github.com/chembl/chembl_webresource_client)\n",
    "* myChEMBL webservices version 2.x (https://github.com/chembl/mychembl/blob/master/ipython_notebooks/09_myChEMBL_web_services.ipynb)\n",
    "* ChEMBL web-interface (https://www.ebi.ac.uk/chembl/)\n",
    "* EBI-RDF platform (https://www.ncbi.nlm.nih.gov/pubmed/24413672)\n",
    "* IC50 and pIC50 (https://en.wikipedia.org/wiki/IC50)\n",
    "* UniProt website (https://www.uniprot.org/)"
   ]
  },
  {
   "cell_type": "markdown",
   "metadata": {},
   "source": [
    "## Theory\n",
    "\n",
    "### ChEMBL database\n",
    "\n",
    "* Open large-scale bioactivity database\n",
    "* **Current data content (as of 10.2018):**\n",
    "    * \\>1.8 million distinct compound structures\n",
    "    * \\>15 million activity values from 1 million assays\n",
    "    * Assays are mapped to ∼12 000 targets\n",
    "* **Data sources** include scientific literature, PubChem bioassays, Drugs for Neglected Diseases Initiative (DNDi), BindingDB database, ...\n",
    "* ChEMBL data can be accessed via a [web-interface](https://www.ebi.ac.uk/chembl/), the [EBI-RDF platform](https://www.ncbi.nlm.nih.gov/pubmed/24413672) and the [ChEMBL web services](https://www.ncbi.nlm.nih.gov/pmc/articles/PMC4489243/#B5)"
   ]
  },
  {
   "cell_type": "markdown",
   "metadata": {},
   "source": [
    "#### ChEMBL web services\n",
    "\n",
    "* RESTful web service\n",
    "* ChEMBL web service version 2.x resource schema: \n",
    "\n",
    "[![ChEMBL web service schema](images/chembl_webservices_schema_diagram.jpg)](https://www.ncbi.nlm.nih.gov/pmc/articles/PMC4489243/figure/F2/)\n",
    "\n",
    "*Figure 1:* \n",
    "\"ChEMBL web service schema diagram. The oval shapes represent ChEMBL web service resources and the line between two resources indicates that they share a common attribute. The arrow direction shows where the primary information about a resource type can be found. A dashed line indicates the relationship between two resources behaves differently. For example, the `Image` resource provides a graphical based representation of a `Molecule`.\"\n",
    "Figure and description taken from: [<i>Nucleic Acids Res.</i> (2015), <b>43</b>, 612-620](https://academic.oup.com/nar/article/43/W1/W612/2467881)."
   ]
  },
  {
   "cell_type": "markdown",
   "metadata": {},
   "source": [
    "#### ChEMBL webresource client\n",
    "\n",
    "* Python client library for accessing ChEMBL data\n",
    "* Handles interaction with the HTTPS protocol\n",
    "* Lazy evaluation of results -> reduced number of network requests"
   ]
  },
  {
   "cell_type": "markdown",
   "metadata": {},
   "source": [
    "### Compound activity measures\n",
    "\n",
    "#### IC50 \n",
    "\n",
    "* [Half maximal inhibitory concentration](https://en.wikipedia.org/wiki/IC50)\n",
    "* Indicates how much of a particular drug or other substance is needed to inhibit a given biological process by half\n",
    "\n",
    "[<img src=\"https://upload.wikimedia.org/wikipedia/commons/8/81/Example_IC50_curve_demonstrating_visually_how_IC50_is_derived.png\" width=\"450\" align=\"center\" >](https://commons.wikimedia.org/wiki/File:Example_IC50_curve_demonstrating_visually_how_IC50_is_derived.png)\n",
    "\n",
    "*Figure 2:* Visual demonstration of how to derive an IC50 value: \n",
    "(i) Arrange data with inhibition on vertical axis and log(concentration) on horizontal axis. (ii) Identify maximum and minimum inhibition. (iii) The IC50 is the concentration at which the curve passes through the 50% inhibition level. Figure [\"Example IC50 curve demonstrating visually how IC50 is derived\"](https://en.wikipedia.org/wiki/IC50#/media/File:Example_IC50_curve_demonstrating_visually_how_IC50_is_derived.png) by JesseAlanGordon is licensed under [CC BY-SA 3.0](https://creativecommons.org/licenses/by-sa/3.0/)."
   ]
  },
  {
   "cell_type": "markdown",
   "metadata": {},
   "source": [
    "#### pIC50\n",
    "\n",
    "* To facilitate the comparison of IC50 values, we define pIC50 values on a logarithmic scale, such that <br />\n",
    "    $ pIC_{50} = -log_{10}(IC_{50}) $ where $ IC_{50}$ is specified in units of M.\n",
    "* Higher pIC50 values indicate exponentially greater potency of the drug\n",
    "* pIC50 is given in terms of molar concentration (mol/L or M) <br />\n",
    "    * IC50 should be specified in M to convert to pIC50  \n",
    "    * For nM: $pIC_{50} = -log_{10}(IC_{50}*10^{-9})= 9-log_{10}(IC_{50}) $\n",
    "\n",
    "#### Other activity measures\n",
    "\n",
    "Besides, IC50 and pIC50, other bioactivity measures are used, such as the equilibrium constant [KI](https://en.wikipedia.org/wiki/Equilibrium_constant) and the half maximal effective concentration  [EC50](https://en.wikipedia.org/wiki/EC50)."
   ]
  },
  {
   "cell_type": "markdown",
   "metadata": {},
   "source": [
    "## Practical\n",
    "\n",
    "In the following, we want to download all molecules that have been tested against our target of interest, the EGFR kinase.\n",
    "\n",
    "### Connect to ChEMBL database"
   ]
  },
  {
   "cell_type": "markdown",
   "metadata": {},
   "source": [
    "First, the ChEMBL webresource client as well as other python libraries are imported."
   ]
  },
  {
   "cell_type": "code",
   "execution_count": 1,
   "metadata": {},
   "outputs": [],
   "source": [
    "import math\n",
    "\n",
    "from chembl_webresource_client.new_client import new_client\n",
    "import numpy as np\n",
    "import pandas as pd\n",
    "from rdkit.Chem import PandasTools"
   ]
  },
  {
   "cell_type": "markdown",
   "metadata": {},
   "source": [
    "Create resource objects for API access."
   ]
  },
  {
   "cell_type": "code",
   "execution_count": 2,
   "metadata": {},
   "outputs": [],
   "source": [
    "targets_api = new_client.target\n",
    "compounds_api = new_client.molecule\n",
    "bioactivities_api = new_client.activity"
   ]
  },
  {
   "cell_type": "code",
   "execution_count": 3,
   "metadata": {},
   "outputs": [
    {
     "data": {
      "text/plain": [
       "chembl_webresource_client.query_set.QuerySet"
      ]
     },
     "execution_count": 3,
     "metadata": {},
     "output_type": "execute_result"
    }
   ],
   "source": [
    "type(targets_api)"
   ]
  },
  {
   "cell_type": "markdown",
   "metadata": {},
   "source": [
    "### Target data\n",
    "\n",
    "* Get UniProt ID (http://www.uniprot.org/uniprot/P00533) of the target of interest (EGFR kinase) from UniProt website (https://www.uniprot.org/)\n",
    "* Use UniProt ID to get target information\n",
    "* Select a different UniProt ID if you are interested in another target"
   ]
  },
  {
   "cell_type": "code",
   "execution_count": 4,
   "metadata": {},
   "outputs": [],
   "source": [
    "uniprot_id = 'P00533'"
   ]
  },
  {
   "cell_type": "markdown",
   "metadata": {},
   "source": [
    "#### Fetch target data from ChEMBL"
   ]
  },
  {
   "cell_type": "code",
   "execution_count": 5,
   "metadata": {},
   "outputs": [
    {
     "name": "stdout",
     "output_type": "stream",
     "text": [
      "<class 'chembl_webresource_client.query_set.QuerySet'>\n"
     ]
    }
   ],
   "source": [
    "# Get target information from ChEMBL but restrict to specified values only\n",
    "targets = targets_api.get(\n",
    "    target_components__accession=uniprot_id\n",
    ").only(\n",
    "    'target_chembl_id', \n",
    "    'organism', \n",
    "    'pref_name', \n",
    "    'target_type'\n",
    ")\n",
    "print(type(targets))"
   ]
  },
  {
   "cell_type": "markdown",
   "metadata": {},
   "source": [
    "#### Download target data from ChEMBL\n",
    "\n",
    "The results of the query are stored in `targets`, a `QuerySet`, i.e. the results are not fetched from ChEMBL unitl we ask for it (here using `pandas.DataFrame.from_records`).\n",
    "\n",
    "More information about the `QuerySet` datatype:\n",
    "\n",
    "> QuerySets are lazy – the act of creating a QuerySet doesn’t involve any database activity. You can stack filters together all day long, and Django won’t actually run the query until the QuerySet is evaluated. \n",
    "From: https://docs.djangoproject.com/en/3.0/topics/db/queries/#querysets-are-lazy"
   ]
  },
  {
   "cell_type": "code",
   "execution_count": 6,
   "metadata": {},
   "outputs": [
    {
     "data": {
      "text/html": [
       "<div>\n",
       "<style scoped>\n",
       "    .dataframe tbody tr th:only-of-type {\n",
       "        vertical-align: middle;\n",
       "    }\n",
       "\n",
       "    .dataframe tbody tr th {\n",
       "        vertical-align: top;\n",
       "    }\n",
       "\n",
       "    .dataframe thead th {\n",
       "        text-align: right;\n",
       "    }\n",
       "</style>\n",
       "<table border=\"1\" class=\"dataframe\">\n",
       "  <thead>\n",
       "    <tr style=\"text-align: right;\">\n",
       "      <th></th>\n",
       "      <th>organism</th>\n",
       "      <th>pref_name</th>\n",
       "      <th>target_chembl_id</th>\n",
       "      <th>target_type</th>\n",
       "    </tr>\n",
       "  </thead>\n",
       "  <tbody>\n",
       "    <tr>\n",
       "      <th>0</th>\n",
       "      <td>Homo sapiens</td>\n",
       "      <td>Epidermal growth factor receptor erbB1</td>\n",
       "      <td>CHEMBL203</td>\n",
       "      <td>SINGLE PROTEIN</td>\n",
       "    </tr>\n",
       "    <tr>\n",
       "      <th>1</th>\n",
       "      <td>Homo sapiens</td>\n",
       "      <td>Epidermal growth factor receptor erbB1</td>\n",
       "      <td>CHEMBL203</td>\n",
       "      <td>SINGLE PROTEIN</td>\n",
       "    </tr>\n",
       "    <tr>\n",
       "      <th>2</th>\n",
       "      <td>Homo sapiens</td>\n",
       "      <td>Epidermal growth factor receptor and ErbB2 (HE...</td>\n",
       "      <td>CHEMBL2111431</td>\n",
       "      <td>PROTEIN FAMILY</td>\n",
       "    </tr>\n",
       "    <tr>\n",
       "      <th>3</th>\n",
       "      <td>Homo sapiens</td>\n",
       "      <td>Epidermal growth factor receptor</td>\n",
       "      <td>CHEMBL2363049</td>\n",
       "      <td>PROTEIN FAMILY</td>\n",
       "    </tr>\n",
       "    <tr>\n",
       "      <th>4</th>\n",
       "      <td>Homo sapiens</td>\n",
       "      <td>MER intracellular domain/EGFR extracellular do...</td>\n",
       "      <td>CHEMBL3137284</td>\n",
       "      <td>CHIMERIC PROTEIN</td>\n",
       "    </tr>\n",
       "  </tbody>\n",
       "</table>\n",
       "</div>"
      ],
      "text/plain": [
       "       organism                                          pref_name  \\\n",
       "0  Homo sapiens             Epidermal growth factor receptor erbB1   \n",
       "1  Homo sapiens             Epidermal growth factor receptor erbB1   \n",
       "2  Homo sapiens  Epidermal growth factor receptor and ErbB2 (HE...   \n",
       "3  Homo sapiens                   Epidermal growth factor receptor   \n",
       "4  Homo sapiens  MER intracellular domain/EGFR extracellular do...   \n",
       "\n",
       "  target_chembl_id       target_type  \n",
       "0        CHEMBL203    SINGLE PROTEIN  \n",
       "1        CHEMBL203    SINGLE PROTEIN  \n",
       "2    CHEMBL2111431    PROTEIN FAMILY  \n",
       "3    CHEMBL2363049    PROTEIN FAMILY  \n",
       "4    CHEMBL3137284  CHIMERIC PROTEIN  "
      ]
     },
     "execution_count": 6,
     "metadata": {},
     "output_type": "execute_result"
    }
   ],
   "source": [
    "targets = pd.DataFrame.from_records(targets)\n",
    "targets"
   ]
  },
  {
   "cell_type": "markdown",
   "metadata": {},
   "source": [
    "#### Select target (target ChEMBL ID)\n",
    "\n",
    "After checking the entries, we select the first entry as our target of interest:\n",
    "\n",
    "`CHEMBL203`: It is a single protein and represents the human Epidermal growth factor receptor (EGFR, also named erbB1) "
   ]
  },
  {
   "cell_type": "code",
   "execution_count": 7,
   "metadata": {},
   "outputs": [
    {
     "data": {
      "text/plain": [
       "organism                                      Homo sapiens\n",
       "pref_name           Epidermal growth factor receptor erbB1\n",
       "target_chembl_id                                 CHEMBL203\n",
       "target_type                                 SINGLE PROTEIN\n",
       "Name: 0, dtype: object"
      ]
     },
     "execution_count": 7,
     "metadata": {},
     "output_type": "execute_result"
    }
   ],
   "source": [
    "target = targets.iloc[0]\n",
    "target"
   ]
  },
  {
   "cell_type": "markdown",
   "metadata": {},
   "source": [
    "Save selected ChEMBL ID."
   ]
  },
  {
   "cell_type": "code",
   "execution_count": 8,
   "metadata": {},
   "outputs": [
    {
     "data": {
      "text/plain": [
       "'CHEMBL203'"
      ]
     },
     "execution_count": 8,
     "metadata": {},
     "output_type": "execute_result"
    }
   ],
   "source": [
    "chembl_id = target.target_chembl_id\n",
    "chembl_id"
   ]
  },
  {
   "cell_type": "markdown",
   "metadata": {},
   "source": [
    "### Bioactivity data\n",
    "\n",
    "Now, we want to query bioactivity data for the target of interest."
   ]
  },
  {
   "cell_type": "markdown",
   "metadata": {},
   "source": [
    "#### Fetch bioactivity data for the target from ChEMBL"
   ]
  },
  {
   "cell_type": "markdown",
   "metadata": {},
   "source": [
    "In this step, we download and filter the bioactivity data and only consider\n",
    "\n",
    "* human proteins, \n",
    "* bioactivity type IC50, \n",
    "* exact measurements (relation `'='`), and\n",
    "* binding data (assay type `'B'`)."
   ]
  },
  {
   "cell_type": "code",
   "execution_count": 9,
   "metadata": {},
   "outputs": [
    {
     "name": "stdout",
     "output_type": "stream",
     "text": [
      "Length and type of bioactivities object: 7177, <class 'chembl_webresource_client.query_set.QuerySet'>\n",
      "Length and type of first element: 13, <class 'dict'>\n"
     ]
    }
   ],
   "source": [
    "bioactivities = bioactivities_api.filter(\n",
    "    target_chembl_id=chembl_id, type='IC50', relation='=', assay_type='B'\n",
    ").only(\n",
    "    'activity_id',\n",
    "    'assay_chembl_id', \n",
    "    'assay_description', \n",
    "    'assay_type', \n",
    "    'molecule_chembl_id', \n",
    "    'type', \n",
    "    'standard_units',\n",
    "    'relation', \n",
    "    'standard_value',\n",
    "    'target_chembl_id', \n",
    "    'target_organism'\n",
    " )\n",
    "\n",
    "print(f'Length and type of bioactivities object: {len(bioactivities)}, {type(bioactivities)}')\n",
    "print(f'Length and type of first element: {len(bioactivities[0])}, {type(bioactivities[0])}')"
   ]
  },
  {
   "cell_type": "code",
   "execution_count": 10,
   "metadata": {},
   "outputs": [
    {
     "data": {
      "text/plain": [
       "{'activity_id': 32260,\n",
       " 'assay_chembl_id': 'CHEMBL674637',\n",
       " 'assay_description': 'Inhibitory activity towards tyrosine phosphorylation for the epidermal growth factor-receptor kinase',\n",
       " 'assay_type': 'B',\n",
       " 'molecule_chembl_id': 'CHEMBL68920',\n",
       " 'relation': '=',\n",
       " 'standard_units': 'nM',\n",
       " 'standard_value': '41.0',\n",
       " 'target_chembl_id': 'CHEMBL203',\n",
       " 'target_organism': 'Homo sapiens',\n",
       " 'type': 'IC50',\n",
       " 'units': 'uM',\n",
       " 'value': '0.041'}"
      ]
     },
     "execution_count": 10,
     "metadata": {},
     "output_type": "execute_result"
    }
   ],
   "source": [
    "bioactivities[0]"
   ]
  },
  {
   "cell_type": "markdown",
   "metadata": {},
   "source": [
    "You are having difficulties to query bioactivities from ChEMBL? \n",
    "\n",
    "<details>\n",
    "    \n",
    "<summary>Click here.</summary>\n",
    "    \n",
    "If you experience difficulties to query the ChEMBL database, we provide here a file containing the results for the query in the previous cell (11 April 2019). We do this using the Python package pickle which serializes Python objects so they can be saved to a file, and loaded in a program again later on.\n",
    "Learn more about object serialization on [DataCamp](https://www.datacamp.com/community/tutorials/pickle-python-tutorial).\n",
    "\n",
    "You can load the \"pickled\" compounds by running the following code:\n",
    "  \n",
    "<code>import pickle</code> \n",
    "\n",
    "<code>bioactivities = pickle.load(open(\"../data/T1/EGFR_compounds_from_chembl_query_20190411.p\", \"rb\"))</code> \n",
    "\n",
    "</details>"
   ]
  },
  {
   "cell_type": "markdown",
   "metadata": {},
   "source": [
    "#### Download bioactivity data from ChEMBL"
   ]
  },
  {
   "cell_type": "markdown",
   "metadata": {},
   "source": [
    "Again, we download the `QuerySet` in the form of a `pandas` `DataFrame`. **This may take some time.**"
   ]
  },
  {
   "cell_type": "code",
   "execution_count": 11,
   "metadata": {},
   "outputs": [
    {
     "name": "stdout",
     "output_type": "stream",
     "text": [
      "DataFrame shape: (7178, 13)\n"
     ]
    },
    {
     "data": {
      "text/html": [
       "<div>\n",
       "<style scoped>\n",
       "    .dataframe tbody tr th:only-of-type {\n",
       "        vertical-align: middle;\n",
       "    }\n",
       "\n",
       "    .dataframe tbody tr th {\n",
       "        vertical-align: top;\n",
       "    }\n",
       "\n",
       "    .dataframe thead th {\n",
       "        text-align: right;\n",
       "    }\n",
       "</style>\n",
       "<table border=\"1\" class=\"dataframe\">\n",
       "  <thead>\n",
       "    <tr style=\"text-align: right;\">\n",
       "      <th></th>\n",
       "      <th>activity_id</th>\n",
       "      <th>assay_chembl_id</th>\n",
       "      <th>assay_description</th>\n",
       "      <th>assay_type</th>\n",
       "      <th>molecule_chembl_id</th>\n",
       "      <th>relation</th>\n",
       "      <th>standard_units</th>\n",
       "      <th>standard_value</th>\n",
       "      <th>target_chembl_id</th>\n",
       "      <th>target_organism</th>\n",
       "      <th>type</th>\n",
       "      <th>units</th>\n",
       "      <th>value</th>\n",
       "    </tr>\n",
       "  </thead>\n",
       "  <tbody>\n",
       "    <tr>\n",
       "      <th>0</th>\n",
       "      <td>32260</td>\n",
       "      <td>CHEMBL674637</td>\n",
       "      <td>Inhibitory activity towards tyrosine phosphory...</td>\n",
       "      <td>B</td>\n",
       "      <td>CHEMBL68920</td>\n",
       "      <td>=</td>\n",
       "      <td>nM</td>\n",
       "      <td>41.0</td>\n",
       "      <td>CHEMBL203</td>\n",
       "      <td>Homo sapiens</td>\n",
       "      <td>IC50</td>\n",
       "      <td>uM</td>\n",
       "      <td>0.041</td>\n",
       "    </tr>\n",
       "    <tr>\n",
       "      <th>1</th>\n",
       "      <td>32260</td>\n",
       "      <td>CHEMBL674637</td>\n",
       "      <td>Inhibitory activity towards tyrosine phosphory...</td>\n",
       "      <td>B</td>\n",
       "      <td>CHEMBL68920</td>\n",
       "      <td>=</td>\n",
       "      <td>nM</td>\n",
       "      <td>41.0</td>\n",
       "      <td>CHEMBL203</td>\n",
       "      <td>Homo sapiens</td>\n",
       "      <td>IC50</td>\n",
       "      <td>uM</td>\n",
       "      <td>0.041</td>\n",
       "    </tr>\n",
       "    <tr>\n",
       "      <th>2</th>\n",
       "      <td>32267</td>\n",
       "      <td>CHEMBL674637</td>\n",
       "      <td>Inhibitory activity towards tyrosine phosphory...</td>\n",
       "      <td>B</td>\n",
       "      <td>CHEMBL69960</td>\n",
       "      <td>=</td>\n",
       "      <td>nM</td>\n",
       "      <td>170.0</td>\n",
       "      <td>CHEMBL203</td>\n",
       "      <td>Homo sapiens</td>\n",
       "      <td>IC50</td>\n",
       "      <td>uM</td>\n",
       "      <td>0.17</td>\n",
       "    </tr>\n",
       "    <tr>\n",
       "      <th>3</th>\n",
       "      <td>32680</td>\n",
       "      <td>CHEMBL677833</td>\n",
       "      <td>In vitro inhibition of Epidermal growth factor...</td>\n",
       "      <td>B</td>\n",
       "      <td>CHEMBL137635</td>\n",
       "      <td>=</td>\n",
       "      <td>nM</td>\n",
       "      <td>9300.0</td>\n",
       "      <td>CHEMBL203</td>\n",
       "      <td>Homo sapiens</td>\n",
       "      <td>IC50</td>\n",
       "      <td>uM</td>\n",
       "      <td>9.3</td>\n",
       "    </tr>\n",
       "    <tr>\n",
       "      <th>4</th>\n",
       "      <td>32770</td>\n",
       "      <td>CHEMBL674643</td>\n",
       "      <td>Inhibitory concentration of EGF dependent auto...</td>\n",
       "      <td>B</td>\n",
       "      <td>CHEMBL306988</td>\n",
       "      <td>=</td>\n",
       "      <td>nM</td>\n",
       "      <td>500000.0</td>\n",
       "      <td>CHEMBL203</td>\n",
       "      <td>Homo sapiens</td>\n",
       "      <td>IC50</td>\n",
       "      <td>uM</td>\n",
       "      <td>500.0</td>\n",
       "    </tr>\n",
       "  </tbody>\n",
       "</table>\n",
       "</div>"
      ],
      "text/plain": [
       "   activity_id assay_chembl_id  \\\n",
       "0        32260    CHEMBL674637   \n",
       "1        32260    CHEMBL674637   \n",
       "2        32267    CHEMBL674637   \n",
       "3        32680    CHEMBL677833   \n",
       "4        32770    CHEMBL674643   \n",
       "\n",
       "                                   assay_description assay_type  \\\n",
       "0  Inhibitory activity towards tyrosine phosphory...          B   \n",
       "1  Inhibitory activity towards tyrosine phosphory...          B   \n",
       "2  Inhibitory activity towards tyrosine phosphory...          B   \n",
       "3  In vitro inhibition of Epidermal growth factor...          B   \n",
       "4  Inhibitory concentration of EGF dependent auto...          B   \n",
       "\n",
       "  molecule_chembl_id relation standard_units standard_value target_chembl_id  \\\n",
       "0        CHEMBL68920        =             nM           41.0        CHEMBL203   \n",
       "1        CHEMBL68920        =             nM           41.0        CHEMBL203   \n",
       "2        CHEMBL69960        =             nM          170.0        CHEMBL203   \n",
       "3       CHEMBL137635        =             nM         9300.0        CHEMBL203   \n",
       "4       CHEMBL306988        =             nM       500000.0        CHEMBL203   \n",
       "\n",
       "  target_organism  type units  value  \n",
       "0    Homo sapiens  IC50    uM  0.041  \n",
       "1    Homo sapiens  IC50    uM  0.041  \n",
       "2    Homo sapiens  IC50    uM   0.17  \n",
       "3    Homo sapiens  IC50    uM    9.3  \n",
       "4    Homo sapiens  IC50    uM  500.0  "
      ]
     },
     "execution_count": 11,
     "metadata": {},
     "output_type": "execute_result"
    }
   ],
   "source": [
    "bioactivities_df = pd.DataFrame.from_records(bioactivities)\n",
    "print(f'DataFrame shape: {bioactivities_df.shape}')\n",
    "bioactivities_df.head()"
   ]
  },
  {
   "cell_type": "markdown",
   "metadata": {},
   "source": [
    "Note, that we have columns for `standard_units`/`units` and `standard_values`/`values` - in the following we will use the standardized columns (standardization by ChEMBL). Thus, we drop the other two columns.\n",
    "\n",
    "If we used the `units` and `values` columns, we would need to convert all values with many different units to nM:"
   ]
  },
  {
   "cell_type": "code",
   "execution_count": 12,
   "metadata": {},
   "outputs": [
    {
     "data": {
      "text/plain": [
       "array(['uM', 'nM', 'pM', 'M', \"10'3 uM\", \"10'1 ug/ml\", 'ug ml-1',\n",
       "       \"10'-1microM\", \"10'1 uM\", \"10'-1 ug/ml\", \"10'-2 ug/ml\", \"10'2 uM\",\n",
       "       \"10'-3 ug/ml\", \"10'-2microM\", '/uM', \"10'-6g/ml\", 'mM', 'umol/L',\n",
       "       'nmol/L', \"10'-10M\"], dtype=object)"
      ]
     },
     "execution_count": 12,
     "metadata": {},
     "output_type": "execute_result"
    }
   ],
   "source": [
    "bioactivities_df.units.unique()"
   ]
  },
  {
   "cell_type": "code",
   "execution_count": 13,
   "metadata": {},
   "outputs": [
    {
     "data": {
      "text/html": [
       "<div>\n",
       "<style scoped>\n",
       "    .dataframe tbody tr th:only-of-type {\n",
       "        vertical-align: middle;\n",
       "    }\n",
       "\n",
       "    .dataframe tbody tr th {\n",
       "        vertical-align: top;\n",
       "    }\n",
       "\n",
       "    .dataframe thead th {\n",
       "        text-align: right;\n",
       "    }\n",
       "</style>\n",
       "<table border=\"1\" class=\"dataframe\">\n",
       "  <thead>\n",
       "    <tr style=\"text-align: right;\">\n",
       "      <th></th>\n",
       "      <th>activity_id</th>\n",
       "      <th>assay_chembl_id</th>\n",
       "      <th>assay_description</th>\n",
       "      <th>assay_type</th>\n",
       "      <th>molecule_chembl_id</th>\n",
       "      <th>relation</th>\n",
       "      <th>standard_units</th>\n",
       "      <th>standard_value</th>\n",
       "      <th>target_chembl_id</th>\n",
       "      <th>target_organism</th>\n",
       "      <th>type</th>\n",
       "    </tr>\n",
       "  </thead>\n",
       "  <tbody>\n",
       "    <tr>\n",
       "      <th>0</th>\n",
       "      <td>32260</td>\n",
       "      <td>CHEMBL674637</td>\n",
       "      <td>Inhibitory activity towards tyrosine phosphory...</td>\n",
       "      <td>B</td>\n",
       "      <td>CHEMBL68920</td>\n",
       "      <td>=</td>\n",
       "      <td>nM</td>\n",
       "      <td>41.0</td>\n",
       "      <td>CHEMBL203</td>\n",
       "      <td>Homo sapiens</td>\n",
       "      <td>IC50</td>\n",
       "    </tr>\n",
       "    <tr>\n",
       "      <th>1</th>\n",
       "      <td>32260</td>\n",
       "      <td>CHEMBL674637</td>\n",
       "      <td>Inhibitory activity towards tyrosine phosphory...</td>\n",
       "      <td>B</td>\n",
       "      <td>CHEMBL68920</td>\n",
       "      <td>=</td>\n",
       "      <td>nM</td>\n",
       "      <td>41.0</td>\n",
       "      <td>CHEMBL203</td>\n",
       "      <td>Homo sapiens</td>\n",
       "      <td>IC50</td>\n",
       "    </tr>\n",
       "    <tr>\n",
       "      <th>2</th>\n",
       "      <td>32267</td>\n",
       "      <td>CHEMBL674637</td>\n",
       "      <td>Inhibitory activity towards tyrosine phosphory...</td>\n",
       "      <td>B</td>\n",
       "      <td>CHEMBL69960</td>\n",
       "      <td>=</td>\n",
       "      <td>nM</td>\n",
       "      <td>170.0</td>\n",
       "      <td>CHEMBL203</td>\n",
       "      <td>Homo sapiens</td>\n",
       "      <td>IC50</td>\n",
       "    </tr>\n",
       "    <tr>\n",
       "      <th>3</th>\n",
       "      <td>32680</td>\n",
       "      <td>CHEMBL677833</td>\n",
       "      <td>In vitro inhibition of Epidermal growth factor...</td>\n",
       "      <td>B</td>\n",
       "      <td>CHEMBL137635</td>\n",
       "      <td>=</td>\n",
       "      <td>nM</td>\n",
       "      <td>9300.0</td>\n",
       "      <td>CHEMBL203</td>\n",
       "      <td>Homo sapiens</td>\n",
       "      <td>IC50</td>\n",
       "    </tr>\n",
       "    <tr>\n",
       "      <th>4</th>\n",
       "      <td>32770</td>\n",
       "      <td>CHEMBL674643</td>\n",
       "      <td>Inhibitory concentration of EGF dependent auto...</td>\n",
       "      <td>B</td>\n",
       "      <td>CHEMBL306988</td>\n",
       "      <td>=</td>\n",
       "      <td>nM</td>\n",
       "      <td>500000.0</td>\n",
       "      <td>CHEMBL203</td>\n",
       "      <td>Homo sapiens</td>\n",
       "      <td>IC50</td>\n",
       "    </tr>\n",
       "  </tbody>\n",
       "</table>\n",
       "</div>"
      ],
      "text/plain": [
       "   activity_id assay_chembl_id  \\\n",
       "0        32260    CHEMBL674637   \n",
       "1        32260    CHEMBL674637   \n",
       "2        32267    CHEMBL674637   \n",
       "3        32680    CHEMBL677833   \n",
       "4        32770    CHEMBL674643   \n",
       "\n",
       "                                   assay_description assay_type  \\\n",
       "0  Inhibitory activity towards tyrosine phosphory...          B   \n",
       "1  Inhibitory activity towards tyrosine phosphory...          B   \n",
       "2  Inhibitory activity towards tyrosine phosphory...          B   \n",
       "3  In vitro inhibition of Epidermal growth factor...          B   \n",
       "4  Inhibitory concentration of EGF dependent auto...          B   \n",
       "\n",
       "  molecule_chembl_id relation standard_units standard_value target_chembl_id  \\\n",
       "0        CHEMBL68920        =             nM           41.0        CHEMBL203   \n",
       "1        CHEMBL68920        =             nM           41.0        CHEMBL203   \n",
       "2        CHEMBL69960        =             nM          170.0        CHEMBL203   \n",
       "3       CHEMBL137635        =             nM         9300.0        CHEMBL203   \n",
       "4       CHEMBL306988        =             nM       500000.0        CHEMBL203   \n",
       "\n",
       "  target_organism  type  \n",
       "0    Homo sapiens  IC50  \n",
       "1    Homo sapiens  IC50  \n",
       "2    Homo sapiens  IC50  \n",
       "3    Homo sapiens  IC50  \n",
       "4    Homo sapiens  IC50  "
      ]
     },
     "execution_count": 13,
     "metadata": {},
     "output_type": "execute_result"
    }
   ],
   "source": [
    "bioactivities_df.drop(['units', 'value'], axis=1, inplace=True)\n",
    "bioactivities_df.head()"
   ]
  },
  {
   "cell_type": "markdown",
   "metadata": {},
   "source": [
    "#### Freeze bioactivity data to ChEMBL 27\n",
    "\n",
    "This step is a technicality: Usually, we would continue to work with the dataset that we just downloaded (latest dataset). \n",
    "\n",
    "However, here on the TeachOpenCADD platform, we prefer to freeze the dataset to a certain ChEMBL release (i.e. ChEMBL 27: http://doi.org/10.6019/CHEMBL.database.27), \n",
    "so that this talktorial and other talktorials downstream in our CADD pipeline do not change in the future (helping us to maintain the talktorials)."
   ]
  },
  {
   "cell_type": "markdown",
   "metadata": {},
   "source": [
    "Load bioactivity IDs in ChEMBL 27 release from file `data/chembl27_activities.npz`.\n",
    "\n",
    "If you are interested, you can check out how this file was generated in `data/all_chembl_activities.ipynb`."
   ]
  },
  {
   "cell_type": "code",
   "execution_count": 14,
   "metadata": {},
   "outputs": [
    {
     "name": "stdout",
     "output_type": "stream",
     "text": [
      "Number of bioactivity values in ChEMBL 27 release: 16066124\n"
     ]
    }
   ],
   "source": [
    "with np.load(\"../data/T1/chembl27_activities.npz\") as f:\n",
    "    bioactivity_ids_chembl_27 = set(f[\"activities\"])\n",
    "    \n",
    "print(f'Number of bioactivity values in ChEMBL 27 release: {len(bioactivity_ids_chembl_27)}')"
   ]
  },
  {
   "cell_type": "markdown",
   "metadata": {},
   "source": [
    "Keep only bioactivities with bioactivity IDs from the ChEMBL 27 release."
   ]
  },
  {
   "cell_type": "code",
   "execution_count": 15,
   "metadata": {},
   "outputs": [
    {
     "name": "stdout",
     "output_type": "stream",
     "text": [
      "Number of bioactivities before ChEMBL 27 filter: 7178\n",
      "Number of bioactivities after ChEMBL 27 filter: 7178\n"
     ]
    }
   ],
   "source": [
    "print(f'Number of bioactivities before ChEMBL 27 filter: {bioactivities_df.shape[0]}')\n",
    "bioactivities_df = bioactivities_df[bioactivities_df.activity_id.isin(bioactivity_ids_chembl_27)].copy()\n",
    "print(f'Number of bioactivities after ChEMBL 27 filter: {bioactivities_df.shape[0]}')"
   ]
  },
  {
   "cell_type": "markdown",
   "metadata": {},
   "source": [
    "Note: If these numbers are the same, it means the latest ChEMBL release is still ChEMBL 27. \n",
    "\n",
    "You can check out the current ChEMBL release here: https://chembl.gitbook.io/chembl-interface-documentation/downloads"
   ]
  },
  {
   "cell_type": "markdown",
   "metadata": {},
   "source": [
    "#### Preprocess and filter bioactivity data\n",
    "\n",
    "1. Convert `standard_value`'s datatype from `object` to `float`.\n",
    "2. Delete entries with missing values.\n",
    "3. Keep only entries with `standard_unit == nM`.\n",
    "4. Delete duplicate molecules.\n",
    "5. Reset `DataFrame` index.\n",
    "6. Rename columns."
   ]
  },
  {
   "cell_type": "markdown",
   "metadata": {},
   "source": [
    "**1. Convert `standard_value`'s datatype from `object` to `float`.**\n",
    "\n",
    "The field `standard_value` holds standardized (here IC50) values. In order to make these values useable in calculations lateron, convert values to floats."
   ]
  },
  {
   "cell_type": "code",
   "execution_count": 16,
   "metadata": {},
   "outputs": [
    {
     "data": {
      "text/plain": [
       "activity_id            int64\n",
       "assay_chembl_id       object\n",
       "assay_description     object\n",
       "assay_type            object\n",
       "molecule_chembl_id    object\n",
       "relation              object\n",
       "standard_units        object\n",
       "standard_value        object\n",
       "target_chembl_id      object\n",
       "target_organism       object\n",
       "type                  object\n",
       "dtype: object"
      ]
     },
     "execution_count": 16,
     "metadata": {},
     "output_type": "execute_result"
    }
   ],
   "source": [
    "bioactivities_df.dtypes"
   ]
  },
  {
   "cell_type": "code",
   "execution_count": 17,
   "metadata": {},
   "outputs": [
    {
     "data": {
      "text/plain": [
       "activity_id             int64\n",
       "assay_chembl_id        object\n",
       "assay_description      object\n",
       "assay_type             object\n",
       "molecule_chembl_id     object\n",
       "relation               object\n",
       "standard_units         object\n",
       "standard_value        float64\n",
       "target_chembl_id       object\n",
       "target_organism        object\n",
       "type                   object\n",
       "dtype: object"
      ]
     },
     "execution_count": 17,
     "metadata": {},
     "output_type": "execute_result"
    }
   ],
   "source": [
    "bioactivities_df = bioactivities_df.astype({'standard_value': 'float64'})\n",
    "bioactivities_df.dtypes"
   ]
  },
  {
   "cell_type": "markdown",
   "metadata": {},
   "source": [
    "**2. Delete entries with missing values.**\n",
    "\n",
    "Use the parameter `inplace=True` to drop values in the current `DataFrame` directly."
   ]
  },
  {
   "cell_type": "code",
   "execution_count": 18,
   "metadata": {},
   "outputs": [
    {
     "name": "stdout",
     "output_type": "stream",
     "text": [
      "DataFrame shape: (7177, 11)\n"
     ]
    }
   ],
   "source": [
    "bioactivities_df.dropna(\n",
    "    axis=0, \n",
    "    how='any', \n",
    "    inplace=True\n",
    ")\n",
    "print(f'DataFrame shape: {bioactivities_df.shape}')"
   ]
  },
  {
   "cell_type": "markdown",
   "metadata": {},
   "source": [
    "**3. Keep only entries with `standard_unit == nM`.**\n",
    "\n",
    "We only want to keep bioactivity entries in `nM`, thus we remove all entries with other units."
   ]
  },
  {
   "cell_type": "code",
   "execution_count": 19,
   "metadata": {},
   "outputs": [
    {
     "name": "stdout",
     "output_type": "stream",
     "text": [
      "Units in downloaded data: ['nM' 'ug.mL-1' '/uM']\n",
      "Number of non-nM entries: 64\n"
     ]
    }
   ],
   "source": [
    "print(f'Units in downloaded data: {bioactivities_df.standard_units.unique()}')\n",
    "print(f'Number of non-nM entries: {bioactivities_df[bioactivities_df.standard_units != \"nM\"].shape[0]}')"
   ]
  },
  {
   "cell_type": "code",
   "execution_count": 20,
   "metadata": {},
   "outputs": [
    {
     "name": "stdout",
     "output_type": "stream",
     "text": [
      "Units after filtering: ['nM']\n"
     ]
    }
   ],
   "source": [
    "bioactivities_df = bioactivities_df[bioactivities_df.standard_units == 'nM']\n",
    "print(f'Units after filtering: {bioactivities_df.standard_units.unique()}')"
   ]
  },
  {
   "cell_type": "code",
   "execution_count": 21,
   "metadata": {},
   "outputs": [
    {
     "name": "stdout",
     "output_type": "stream",
     "text": [
      "DataFrame shape: (7113, 11)\n"
     ]
    }
   ],
   "source": [
    "print(f'DataFrame shape: {bioactivities_df.shape}')"
   ]
  },
  {
   "cell_type": "markdown",
   "metadata": {},
   "source": [
    "**4. Delete duplicate molecules.**\n",
    "\n",
    "Sometimes the same molecule (`molecule_chembl_id`) has been tested more than once, in this case, we only keep the first one."
   ]
  },
  {
   "cell_type": "code",
   "execution_count": 22,
   "metadata": {},
   "outputs": [
    {
     "name": "stdout",
     "output_type": "stream",
     "text": [
      "DataFrame shape: (5451, 11)\n"
     ]
    }
   ],
   "source": [
    "bioactivities_df.drop_duplicates(\n",
    "    'molecule_chembl_id', \n",
    "    keep='first', \n",
    "    inplace=True\n",
    ")\n",
    "print(f'DataFrame shape: {bioactivities_df.shape}')"
   ]
  },
  {
   "cell_type": "markdown",
   "metadata": {},
   "source": [
    "**5. Reset `DataFrame` index.**\n",
    "\n",
    "Since we deleted some rows, but we want to iterate over the index later, we reset the index to be continuous."
   ]
  },
  {
   "cell_type": "code",
   "execution_count": 23,
   "metadata": {},
   "outputs": [
    {
     "data": {
      "text/html": [
       "<div>\n",
       "<style scoped>\n",
       "    .dataframe tbody tr th:only-of-type {\n",
       "        vertical-align: middle;\n",
       "    }\n",
       "\n",
       "    .dataframe tbody tr th {\n",
       "        vertical-align: top;\n",
       "    }\n",
       "\n",
       "    .dataframe thead th {\n",
       "        text-align: right;\n",
       "    }\n",
       "</style>\n",
       "<table border=\"1\" class=\"dataframe\">\n",
       "  <thead>\n",
       "    <tr style=\"text-align: right;\">\n",
       "      <th></th>\n",
       "      <th>activity_id</th>\n",
       "      <th>assay_chembl_id</th>\n",
       "      <th>assay_description</th>\n",
       "      <th>assay_type</th>\n",
       "      <th>molecule_chembl_id</th>\n",
       "      <th>relation</th>\n",
       "      <th>standard_units</th>\n",
       "      <th>standard_value</th>\n",
       "      <th>target_chembl_id</th>\n",
       "      <th>target_organism</th>\n",
       "      <th>type</th>\n",
       "    </tr>\n",
       "  </thead>\n",
       "  <tbody>\n",
       "    <tr>\n",
       "      <th>0</th>\n",
       "      <td>32260</td>\n",
       "      <td>CHEMBL674637</td>\n",
       "      <td>Inhibitory activity towards tyrosine phosphory...</td>\n",
       "      <td>B</td>\n",
       "      <td>CHEMBL68920</td>\n",
       "      <td>=</td>\n",
       "      <td>nM</td>\n",
       "      <td>41.0</td>\n",
       "      <td>CHEMBL203</td>\n",
       "      <td>Homo sapiens</td>\n",
       "      <td>IC50</td>\n",
       "    </tr>\n",
       "    <tr>\n",
       "      <th>1</th>\n",
       "      <td>32267</td>\n",
       "      <td>CHEMBL674637</td>\n",
       "      <td>Inhibitory activity towards tyrosine phosphory...</td>\n",
       "      <td>B</td>\n",
       "      <td>CHEMBL69960</td>\n",
       "      <td>=</td>\n",
       "      <td>nM</td>\n",
       "      <td>170.0</td>\n",
       "      <td>CHEMBL203</td>\n",
       "      <td>Homo sapiens</td>\n",
       "      <td>IC50</td>\n",
       "    </tr>\n",
       "    <tr>\n",
       "      <th>2</th>\n",
       "      <td>32680</td>\n",
       "      <td>CHEMBL677833</td>\n",
       "      <td>In vitro inhibition of Epidermal growth factor...</td>\n",
       "      <td>B</td>\n",
       "      <td>CHEMBL137635</td>\n",
       "      <td>=</td>\n",
       "      <td>nM</td>\n",
       "      <td>9300.0</td>\n",
       "      <td>CHEMBL203</td>\n",
       "      <td>Homo sapiens</td>\n",
       "      <td>IC50</td>\n",
       "    </tr>\n",
       "    <tr>\n",
       "      <th>3</th>\n",
       "      <td>32770</td>\n",
       "      <td>CHEMBL674643</td>\n",
       "      <td>Inhibitory concentration of EGF dependent auto...</td>\n",
       "      <td>B</td>\n",
       "      <td>CHEMBL306988</td>\n",
       "      <td>=</td>\n",
       "      <td>nM</td>\n",
       "      <td>500000.0</td>\n",
       "      <td>CHEMBL203</td>\n",
       "      <td>Homo sapiens</td>\n",
       "      <td>IC50</td>\n",
       "    </tr>\n",
       "    <tr>\n",
       "      <th>4</th>\n",
       "      <td>32772</td>\n",
       "      <td>CHEMBL674643</td>\n",
       "      <td>Inhibitory concentration of EGF dependent auto...</td>\n",
       "      <td>B</td>\n",
       "      <td>CHEMBL66879</td>\n",
       "      <td>=</td>\n",
       "      <td>nM</td>\n",
       "      <td>3000000.0</td>\n",
       "      <td>CHEMBL203</td>\n",
       "      <td>Homo sapiens</td>\n",
       "      <td>IC50</td>\n",
       "    </tr>\n",
       "  </tbody>\n",
       "</table>\n",
       "</div>"
      ],
      "text/plain": [
       "   activity_id assay_chembl_id  \\\n",
       "0        32260    CHEMBL674637   \n",
       "1        32267    CHEMBL674637   \n",
       "2        32680    CHEMBL677833   \n",
       "3        32770    CHEMBL674643   \n",
       "4        32772    CHEMBL674643   \n",
       "\n",
       "                                   assay_description assay_type  \\\n",
       "0  Inhibitory activity towards tyrosine phosphory...          B   \n",
       "1  Inhibitory activity towards tyrosine phosphory...          B   \n",
       "2  In vitro inhibition of Epidermal growth factor...          B   \n",
       "3  Inhibitory concentration of EGF dependent auto...          B   \n",
       "4  Inhibitory concentration of EGF dependent auto...          B   \n",
       "\n",
       "  molecule_chembl_id relation standard_units  standard_value target_chembl_id  \\\n",
       "0        CHEMBL68920        =             nM            41.0        CHEMBL203   \n",
       "1        CHEMBL69960        =             nM           170.0        CHEMBL203   \n",
       "2       CHEMBL137635        =             nM          9300.0        CHEMBL203   \n",
       "3       CHEMBL306988        =             nM        500000.0        CHEMBL203   \n",
       "4        CHEMBL66879        =             nM       3000000.0        CHEMBL203   \n",
       "\n",
       "  target_organism  type  \n",
       "0    Homo sapiens  IC50  \n",
       "1    Homo sapiens  IC50  \n",
       "2    Homo sapiens  IC50  \n",
       "3    Homo sapiens  IC50  \n",
       "4    Homo sapiens  IC50  "
      ]
     },
     "execution_count": 23,
     "metadata": {},
     "output_type": "execute_result"
    }
   ],
   "source": [
    "bioactivities_df.reset_index(drop=True, inplace=True) \n",
    "bioactivities_df.head()"
   ]
  },
  {
   "cell_type": "markdown",
   "metadata": {},
   "source": [
    "**6. Rename columns.**"
   ]
  },
  {
   "cell_type": "code",
   "execution_count": 24,
   "metadata": {},
   "outputs": [
    {
     "data": {
      "text/html": [
       "<div>\n",
       "<style scoped>\n",
       "    .dataframe tbody tr th:only-of-type {\n",
       "        vertical-align: middle;\n",
       "    }\n",
       "\n",
       "    .dataframe tbody tr th {\n",
       "        vertical-align: top;\n",
       "    }\n",
       "\n",
       "    .dataframe thead th {\n",
       "        text-align: right;\n",
       "    }\n",
       "</style>\n",
       "<table border=\"1\" class=\"dataframe\">\n",
       "  <thead>\n",
       "    <tr style=\"text-align: right;\">\n",
       "      <th></th>\n",
       "      <th>activity_id</th>\n",
       "      <th>assay_chembl_id</th>\n",
       "      <th>assay_description</th>\n",
       "      <th>assay_type</th>\n",
       "      <th>molecule_chembl_id</th>\n",
       "      <th>relation</th>\n",
       "      <th>units</th>\n",
       "      <th>IC50</th>\n",
       "      <th>target_chembl_id</th>\n",
       "      <th>target_organism</th>\n",
       "      <th>type</th>\n",
       "    </tr>\n",
       "  </thead>\n",
       "  <tbody>\n",
       "    <tr>\n",
       "      <th>0</th>\n",
       "      <td>32260</td>\n",
       "      <td>CHEMBL674637</td>\n",
       "      <td>Inhibitory activity towards tyrosine phosphory...</td>\n",
       "      <td>B</td>\n",
       "      <td>CHEMBL68920</td>\n",
       "      <td>=</td>\n",
       "      <td>nM</td>\n",
       "      <td>41.0</td>\n",
       "      <td>CHEMBL203</td>\n",
       "      <td>Homo sapiens</td>\n",
       "      <td>IC50</td>\n",
       "    </tr>\n",
       "    <tr>\n",
       "      <th>1</th>\n",
       "      <td>32267</td>\n",
       "      <td>CHEMBL674637</td>\n",
       "      <td>Inhibitory activity towards tyrosine phosphory...</td>\n",
       "      <td>B</td>\n",
       "      <td>CHEMBL69960</td>\n",
       "      <td>=</td>\n",
       "      <td>nM</td>\n",
       "      <td>170.0</td>\n",
       "      <td>CHEMBL203</td>\n",
       "      <td>Homo sapiens</td>\n",
       "      <td>IC50</td>\n",
       "    </tr>\n",
       "    <tr>\n",
       "      <th>2</th>\n",
       "      <td>32680</td>\n",
       "      <td>CHEMBL677833</td>\n",
       "      <td>In vitro inhibition of Epidermal growth factor...</td>\n",
       "      <td>B</td>\n",
       "      <td>CHEMBL137635</td>\n",
       "      <td>=</td>\n",
       "      <td>nM</td>\n",
       "      <td>9300.0</td>\n",
       "      <td>CHEMBL203</td>\n",
       "      <td>Homo sapiens</td>\n",
       "      <td>IC50</td>\n",
       "    </tr>\n",
       "    <tr>\n",
       "      <th>3</th>\n",
       "      <td>32770</td>\n",
       "      <td>CHEMBL674643</td>\n",
       "      <td>Inhibitory concentration of EGF dependent auto...</td>\n",
       "      <td>B</td>\n",
       "      <td>CHEMBL306988</td>\n",
       "      <td>=</td>\n",
       "      <td>nM</td>\n",
       "      <td>500000.0</td>\n",
       "      <td>CHEMBL203</td>\n",
       "      <td>Homo sapiens</td>\n",
       "      <td>IC50</td>\n",
       "    </tr>\n",
       "    <tr>\n",
       "      <th>4</th>\n",
       "      <td>32772</td>\n",
       "      <td>CHEMBL674643</td>\n",
       "      <td>Inhibitory concentration of EGF dependent auto...</td>\n",
       "      <td>B</td>\n",
       "      <td>CHEMBL66879</td>\n",
       "      <td>=</td>\n",
       "      <td>nM</td>\n",
       "      <td>3000000.0</td>\n",
       "      <td>CHEMBL203</td>\n",
       "      <td>Homo sapiens</td>\n",
       "      <td>IC50</td>\n",
       "    </tr>\n",
       "  </tbody>\n",
       "</table>\n",
       "</div>"
      ],
      "text/plain": [
       "   activity_id assay_chembl_id  \\\n",
       "0        32260    CHEMBL674637   \n",
       "1        32267    CHEMBL674637   \n",
       "2        32680    CHEMBL677833   \n",
       "3        32770    CHEMBL674643   \n",
       "4        32772    CHEMBL674643   \n",
       "\n",
       "                                   assay_description assay_type  \\\n",
       "0  Inhibitory activity towards tyrosine phosphory...          B   \n",
       "1  Inhibitory activity towards tyrosine phosphory...          B   \n",
       "2  In vitro inhibition of Epidermal growth factor...          B   \n",
       "3  Inhibitory concentration of EGF dependent auto...          B   \n",
       "4  Inhibitory concentration of EGF dependent auto...          B   \n",
       "\n",
       "  molecule_chembl_id relation units       IC50 target_chembl_id  \\\n",
       "0        CHEMBL68920        =    nM       41.0        CHEMBL203   \n",
       "1        CHEMBL69960        =    nM      170.0        CHEMBL203   \n",
       "2       CHEMBL137635        =    nM     9300.0        CHEMBL203   \n",
       "3       CHEMBL306988        =    nM   500000.0        CHEMBL203   \n",
       "4        CHEMBL66879        =    nM  3000000.0        CHEMBL203   \n",
       "\n",
       "  target_organism  type  \n",
       "0    Homo sapiens  IC50  \n",
       "1    Homo sapiens  IC50  \n",
       "2    Homo sapiens  IC50  \n",
       "3    Homo sapiens  IC50  \n",
       "4    Homo sapiens  IC50  "
      ]
     },
     "execution_count": 24,
     "metadata": {},
     "output_type": "execute_result"
    }
   ],
   "source": [
    "bioactivities_df.rename(\n",
    "    columns={\n",
    "        'standard_value': 'IC50', \n",
    "        'standard_units': 'units'\n",
    "    },\n",
    "    inplace=True\n",
    ")\n",
    "bioactivities_df.head()"
   ]
  },
  {
   "cell_type": "markdown",
   "metadata": {},
   "source": [
    "### Compound data\n",
    "\n",
    "We have a `DataFrame` containing all molecules tested against EGFR (with the respective measured bioactivity). \n",
    "\n",
    "Now, we want to get the molecules that are linked to respective bioactivity ChEMBL IDs. "
   ]
  },
  {
   "cell_type": "markdown",
   "metadata": {},
   "source": [
    "#### Fetch compound data from ChEMBL\n",
    "\n",
    "Let's have a look at the compounds from ChEMBL which we have defined bioactivity data for: We fetch compound ChEMBL IDs and structures for the compounds linked to our filtered bioactivity data."
   ]
  },
  {
   "cell_type": "code",
   "execution_count": 25,
   "metadata": {},
   "outputs": [],
   "source": [
    "compounds = compounds_api.filter(\n",
    "    molecule_chembl_id__in = list(bioactivities_df['molecule_chembl_id'])\n",
    ").only(\n",
    "    'molecule_chembl_id',\n",
    "    'molecule_structures'\n",
    ")"
   ]
  },
  {
   "cell_type": "markdown",
   "metadata": {},
   "source": [
    "#### Download compound data from ChEMBL\n",
    "\n",
    "Again, we download the `QuerySet` in the form of a `pandas` `DataFrame`. **This may take some time.**"
   ]
  },
  {
   "cell_type": "code",
   "execution_count": 26,
   "metadata": {},
   "outputs": [
    {
     "name": "stdout",
     "output_type": "stream",
     "text": [
      "DataFrame shape: (5452, 2)\n"
     ]
    }
   ],
   "source": [
    "compounds_df = pd.DataFrame.from_records(compounds)\n",
    "print(f'DataFrame shape: {compounds_df.shape}')"
   ]
  },
  {
   "cell_type": "code",
   "execution_count": 27,
   "metadata": {},
   "outputs": [
    {
     "data": {
      "text/html": [
       "<div>\n",
       "<style scoped>\n",
       "    .dataframe tbody tr th:only-of-type {\n",
       "        vertical-align: middle;\n",
       "    }\n",
       "\n",
       "    .dataframe tbody tr th {\n",
       "        vertical-align: top;\n",
       "    }\n",
       "\n",
       "    .dataframe thead th {\n",
       "        text-align: right;\n",
       "    }\n",
       "</style>\n",
       "<table border=\"1\" class=\"dataframe\">\n",
       "  <thead>\n",
       "    <tr style=\"text-align: right;\">\n",
       "      <th></th>\n",
       "      <th>molecule_chembl_id</th>\n",
       "      <th>molecule_structures</th>\n",
       "    </tr>\n",
       "  </thead>\n",
       "  <tbody>\n",
       "    <tr>\n",
       "      <th>0</th>\n",
       "      <td>CHEMBL6246</td>\n",
       "      <td>{'canonical_smiles': 'O=c1oc2c(O)c(O)cc3c(=O)o...</td>\n",
       "    </tr>\n",
       "    <tr>\n",
       "      <th>1</th>\n",
       "      <td>CHEMBL6246</td>\n",
       "      <td>{'canonical_smiles': 'O=c1oc2c(O)c(O)cc3c(=O)o...</td>\n",
       "    </tr>\n",
       "    <tr>\n",
       "      <th>2</th>\n",
       "      <td>CHEMBL10</td>\n",
       "      <td>{'canonical_smiles': 'C[S+]([O-])c1ccc(-c2nc(-...</td>\n",
       "    </tr>\n",
       "    <tr>\n",
       "      <th>3</th>\n",
       "      <td>CHEMBL6976</td>\n",
       "      <td>{'canonical_smiles': 'COc1cc2c(cc1OC)Nc1ncn(C)...</td>\n",
       "    </tr>\n",
       "    <tr>\n",
       "      <th>4</th>\n",
       "      <td>CHEMBL7002</td>\n",
       "      <td>{'canonical_smiles': 'CC1(COc2ccc(CC3SC(=O)NC3...</td>\n",
       "    </tr>\n",
       "  </tbody>\n",
       "</table>\n",
       "</div>"
      ],
      "text/plain": [
       "  molecule_chembl_id                                molecule_structures\n",
       "0         CHEMBL6246  {'canonical_smiles': 'O=c1oc2c(O)c(O)cc3c(=O)o...\n",
       "1         CHEMBL6246  {'canonical_smiles': 'O=c1oc2c(O)c(O)cc3c(=O)o...\n",
       "2           CHEMBL10  {'canonical_smiles': 'C[S+]([O-])c1ccc(-c2nc(-...\n",
       "3         CHEMBL6976  {'canonical_smiles': 'COc1cc2c(cc1OC)Nc1ncn(C)...\n",
       "4         CHEMBL7002  {'canonical_smiles': 'CC1(COc2ccc(CC3SC(=O)NC3..."
      ]
     },
     "execution_count": 27,
     "metadata": {},
     "output_type": "execute_result"
    }
   ],
   "source": [
    "compounds_df.head()"
   ]
  },
  {
   "cell_type": "markdown",
   "metadata": {},
   "source": [
    "#### Preprocess and filter compound data\n",
    "\n",
    "1. Remove entries with missing molecule structure.\n",
    "2. Delete duplicate molecules.\n",
    "3. Get molecules with canonical SMILES."
   ]
  },
  {
   "cell_type": "markdown",
   "metadata": {},
   "source": [
    "**1. Remove entries with missing molecule structure.**"
   ]
  },
  {
   "cell_type": "code",
   "execution_count": 28,
   "metadata": {},
   "outputs": [
    {
     "name": "stdout",
     "output_type": "stream",
     "text": [
      "DataFrame shape: (5445, 2)\n"
     ]
    }
   ],
   "source": [
    "compounds_df.dropna(\n",
    "    axis=0, \n",
    "    how='any', \n",
    "    inplace=True\n",
    ")\n",
    "print(f'DataFrame shape: {compounds_df.shape}')"
   ]
  },
  {
   "cell_type": "markdown",
   "metadata": {},
   "source": [
    "**2. Delete duplicate molecules.**"
   ]
  },
  {
   "cell_type": "code",
   "execution_count": 29,
   "metadata": {},
   "outputs": [
    {
     "name": "stdout",
     "output_type": "stream",
     "text": [
      "DataFrame shape: (5444, 2)\n"
     ]
    }
   ],
   "source": [
    "compounds_df.drop_duplicates(\n",
    "    'molecule_chembl_id', \n",
    "    keep='first', \n",
    "    inplace=True\n",
    ")\n",
    "print(f'DataFrame shape: {compounds_df.shape}')"
   ]
  },
  {
   "cell_type": "markdown",
   "metadata": {},
   "source": [
    "**3. Get molecules with canonical SMILES.**\n",
    "\n",
    "So far, we have multiple different molecular structure representations. We only want to keep the canonical SMILES."
   ]
  },
  {
   "cell_type": "code",
   "execution_count": 30,
   "metadata": {},
   "outputs": [
    {
     "data": {
      "text/plain": [
       "dict_keys(['canonical_smiles', 'molfile', 'standard_inchi', 'standard_inchi_key'])"
      ]
     },
     "execution_count": 30,
     "metadata": {},
     "output_type": "execute_result"
    }
   ],
   "source": [
    "compounds_df.iloc[0].molecule_structures.keys()"
   ]
  },
  {
   "cell_type": "code",
   "execution_count": 31,
   "metadata": {},
   "outputs": [],
   "source": [
    "canonical_smiles = []\n",
    "\n",
    "for i, compounds in compounds_df.iterrows():\n",
    "    try:\n",
    "        canonical_smiles.append(compounds['molecule_structures']['canonical_smiles'])\n",
    "    except KeyError:\n",
    "        canonical_smiles.append(None)\n",
    "        \n",
    "compounds_df['smiles'] = canonical_smiles\n",
    "compounds_df.drop('molecule_structures', axis=1, inplace=True)"
   ]
  },
  {
   "cell_type": "markdown",
   "metadata": {},
   "source": [
    "Remove all molecules without a canonical SMILES string."
   ]
  },
  {
   "cell_type": "code",
   "execution_count": 32,
   "metadata": {},
   "outputs": [],
   "source": [
    "compounds_df.dropna(\n",
    "    axis=0, \n",
    "    how='any', \n",
    "    inplace=True\n",
    ")"
   ]
  },
  {
   "cell_type": "markdown",
   "metadata": {},
   "source": [
    "### Output (bioactivity-compound) data"
   ]
  },
  {
   "cell_type": "markdown",
   "metadata": {},
   "source": [
    "#### Summary of compound and bioactivity data"
   ]
  },
  {
   "cell_type": "code",
   "execution_count": 33,
   "metadata": {},
   "outputs": [
    {
     "name": "stdout",
     "output_type": "stream",
     "text": [
      "Bioactivities filtered: 5451\n"
     ]
    },
    {
     "data": {
      "text/plain": [
       "Index(['activity_id', 'assay_chembl_id', 'assay_description', 'assay_type',\n",
       "       'molecule_chembl_id', 'relation', 'units', 'IC50', 'target_chembl_id',\n",
       "       'target_organism', 'type'],\n",
       "      dtype='object')"
      ]
     },
     "execution_count": 33,
     "metadata": {},
     "output_type": "execute_result"
    }
   ],
   "source": [
    "print(f'Bioactivities filtered: {bioactivities_df.shape[0]}')\n",
    "bioactivities_df.columns"
   ]
  },
  {
   "cell_type": "code",
   "execution_count": 34,
   "metadata": {},
   "outputs": [
    {
     "name": "stdout",
     "output_type": "stream",
     "text": [
      "Compounds filtered: 5444\n"
     ]
    },
    {
     "data": {
      "text/plain": [
       "Index(['molecule_chembl_id', 'smiles'], dtype='object')"
      ]
     },
     "execution_count": 34,
     "metadata": {},
     "output_type": "execute_result"
    }
   ],
   "source": [
    "print(f'Compounds filtered: {compounds_df.shape[0]}')\n",
    "compounds_df.columns"
   ]
  },
  {
   "cell_type": "markdown",
   "metadata": {},
   "source": [
    "#### Merge both datasets\n",
    "\n",
    "Merge values of interest from `bioactivities_df` and `compounds_df` in an `output_df` based on the compounds ChEMBL IDs, keeping the following columns:\n",
    "* ChEMBL IDs: `molecule_chembl_id`\n",
    "* SMILES: `smiles`\n",
    "* units: `units`\n",
    "* IC50: `IC50`"
   ]
  },
  {
   "cell_type": "code",
   "execution_count": 35,
   "metadata": {},
   "outputs": [
    {
     "name": "stdout",
     "output_type": "stream",
     "text": [
      "Dataset with 5444 entries.\n"
     ]
    }
   ],
   "source": [
    "# Merge DataFrames\n",
    "output_df = pd.merge(\n",
    "    bioactivities_df[['molecule_chembl_id', 'IC50', 'units']], \n",
    "    compounds_df, \n",
    "    on='molecule_chembl_id'\n",
    ")\n",
    "\n",
    "# Reset row indices\n",
    "output_df.reset_index(drop=True, inplace=True)\n",
    "\n",
    "print(f'Dataset with {output_df.shape[0]} entries.')"
   ]
  },
  {
   "cell_type": "code",
   "execution_count": 36,
   "metadata": {},
   "outputs": [
    {
     "data": {
      "text/plain": [
       "molecule_chembl_id     object\n",
       "IC50                  float64\n",
       "units                  object\n",
       "smiles                 object\n",
       "dtype: object"
      ]
     },
     "execution_count": 36,
     "metadata": {},
     "output_type": "execute_result"
    }
   ],
   "source": [
    "output_df.dtypes"
   ]
  },
  {
   "cell_type": "code",
   "execution_count": 37,
   "metadata": {},
   "outputs": [
    {
     "data": {
      "text/html": [
       "<div>\n",
       "<style scoped>\n",
       "    .dataframe tbody tr th:only-of-type {\n",
       "        vertical-align: middle;\n",
       "    }\n",
       "\n",
       "    .dataframe tbody tr th {\n",
       "        vertical-align: top;\n",
       "    }\n",
       "\n",
       "    .dataframe thead th {\n",
       "        text-align: right;\n",
       "    }\n",
       "</style>\n",
       "<table border=\"1\" class=\"dataframe\">\n",
       "  <thead>\n",
       "    <tr style=\"text-align: right;\">\n",
       "      <th></th>\n",
       "      <th>molecule_chembl_id</th>\n",
       "      <th>IC50</th>\n",
       "      <th>units</th>\n",
       "      <th>smiles</th>\n",
       "    </tr>\n",
       "  </thead>\n",
       "  <tbody>\n",
       "    <tr>\n",
       "      <th>0</th>\n",
       "      <td>CHEMBL68920</td>\n",
       "      <td>41.0</td>\n",
       "      <td>nM</td>\n",
       "      <td>Cc1cc(C)c(/C=C2\\C(=O)Nc3ncnc(Nc4ccc(F)c(Cl)c4)...</td>\n",
       "    </tr>\n",
       "    <tr>\n",
       "      <th>1</th>\n",
       "      <td>CHEMBL69960</td>\n",
       "      <td>170.0</td>\n",
       "      <td>nM</td>\n",
       "      <td>Cc1cc(C(=O)N2CCOCC2)[nH]c1/C=C1\\C(=O)Nc2ncnc(N...</td>\n",
       "    </tr>\n",
       "    <tr>\n",
       "      <th>2</th>\n",
       "      <td>CHEMBL137635</td>\n",
       "      <td>9300.0</td>\n",
       "      <td>nM</td>\n",
       "      <td>CN(c1ccccc1)c1ncnc2ccc(N/N=N/Cc3ccccn3)cc12</td>\n",
       "    </tr>\n",
       "    <tr>\n",
       "      <th>3</th>\n",
       "      <td>CHEMBL306988</td>\n",
       "      <td>500000.0</td>\n",
       "      <td>nM</td>\n",
       "      <td>CC(=C(C#N)C#N)c1ccc(NC(=O)CCC(=O)O)cc1</td>\n",
       "    </tr>\n",
       "    <tr>\n",
       "      <th>4</th>\n",
       "      <td>CHEMBL66879</td>\n",
       "      <td>3000000.0</td>\n",
       "      <td>nM</td>\n",
       "      <td>O=C(O)/C=C/c1ccc(O)cc1</td>\n",
       "    </tr>\n",
       "    <tr>\n",
       "      <th>5</th>\n",
       "      <td>CHEMBL77085</td>\n",
       "      <td>96000.0</td>\n",
       "      <td>nM</td>\n",
       "      <td>N#CC(C#N)=Cc1cc(O)ccc1[N+](=O)[O-]</td>\n",
       "    </tr>\n",
       "    <tr>\n",
       "      <th>6</th>\n",
       "      <td>CHEMBL443268</td>\n",
       "      <td>5310.0</td>\n",
       "      <td>nM</td>\n",
       "      <td>Cc1cc(C(=O)NCCN2CCOCC2)[nH]c1/C=C1\\C(=O)N(C)c2...</td>\n",
       "    </tr>\n",
       "    <tr>\n",
       "      <th>7</th>\n",
       "      <td>CHEMBL76979</td>\n",
       "      <td>264000.0</td>\n",
       "      <td>nM</td>\n",
       "      <td>COc1cc(/C=C(\\C#N)C(=O)O)cc(OC)c1O</td>\n",
       "    </tr>\n",
       "    <tr>\n",
       "      <th>8</th>\n",
       "      <td>CHEMBL76589</td>\n",
       "      <td>125.0</td>\n",
       "      <td>nM</td>\n",
       "      <td>N#CC(C#N)=C(N)/C(C#N)=C/c1ccc(O)cc1</td>\n",
       "    </tr>\n",
       "    <tr>\n",
       "      <th>9</th>\n",
       "      <td>CHEMBL76904</td>\n",
       "      <td>35000.0</td>\n",
       "      <td>nM</td>\n",
       "      <td>N#CC(C#N)=Cc1ccc(O)c(O)c1</td>\n",
       "    </tr>\n",
       "  </tbody>\n",
       "</table>\n",
       "</div>"
      ],
      "text/plain": [
       "  molecule_chembl_id       IC50 units  \\\n",
       "0        CHEMBL68920       41.0    nM   \n",
       "1        CHEMBL69960      170.0    nM   \n",
       "2       CHEMBL137635     9300.0    nM   \n",
       "3       CHEMBL306988   500000.0    nM   \n",
       "4        CHEMBL66879  3000000.0    nM   \n",
       "5        CHEMBL77085    96000.0    nM   \n",
       "6       CHEMBL443268     5310.0    nM   \n",
       "7        CHEMBL76979   264000.0    nM   \n",
       "8        CHEMBL76589      125.0    nM   \n",
       "9        CHEMBL76904    35000.0    nM   \n",
       "\n",
       "                                              smiles  \n",
       "0  Cc1cc(C)c(/C=C2\\C(=O)Nc3ncnc(Nc4ccc(F)c(Cl)c4)...  \n",
       "1  Cc1cc(C(=O)N2CCOCC2)[nH]c1/C=C1\\C(=O)Nc2ncnc(N...  \n",
       "2        CN(c1ccccc1)c1ncnc2ccc(N/N=N/Cc3ccccn3)cc12  \n",
       "3             CC(=C(C#N)C#N)c1ccc(NC(=O)CCC(=O)O)cc1  \n",
       "4                             O=C(O)/C=C/c1ccc(O)cc1  \n",
       "5                 N#CC(C#N)=Cc1cc(O)ccc1[N+](=O)[O-]  \n",
       "6  Cc1cc(C(=O)NCCN2CCOCC2)[nH]c1/C=C1\\C(=O)N(C)c2...  \n",
       "7                  COc1cc(/C=C(\\C#N)C(=O)O)cc(OC)c1O  \n",
       "8                N#CC(C#N)=C(N)/C(C#N)=C/c1ccc(O)cc1  \n",
       "9                          N#CC(C#N)=Cc1ccc(O)c(O)c1  "
      ]
     },
     "execution_count": 37,
     "metadata": {},
     "output_type": "execute_result"
    }
   ],
   "source": [
    "output_df.head(10)"
   ]
  },
  {
   "cell_type": "markdown",
   "metadata": {},
   "source": [
    "#### Add pIC50 values"
   ]
  },
  {
   "cell_type": "markdown",
   "metadata": {},
   "source": [
    "As you can see the low IC50 values are difficult to read (values are distributed over multiple scales), which is why we convert the IC50 values to pIC50."
   ]
  },
  {
   "cell_type": "code",
   "execution_count": 38,
   "metadata": {},
   "outputs": [],
   "source": [
    "def convert_ic50_to_pic50(IC50_value):\n",
    "    pIC50_value = 9 - math.log10(IC50_value)\n",
    "    return pIC50_value"
   ]
  },
  {
   "cell_type": "code",
   "execution_count": 39,
   "metadata": {},
   "outputs": [],
   "source": [
    "# Apply conversion to each row of the compounds DataFrame\n",
    "output_df['pIC50'] = output_df.apply(lambda x: convert_ic50_to_pic50(x.IC50), axis=1)"
   ]
  },
  {
   "cell_type": "code",
   "execution_count": 40,
   "metadata": {},
   "outputs": [
    {
     "data": {
      "text/html": [
       "<div>\n",
       "<style scoped>\n",
       "    .dataframe tbody tr th:only-of-type {\n",
       "        vertical-align: middle;\n",
       "    }\n",
       "\n",
       "    .dataframe tbody tr th {\n",
       "        vertical-align: top;\n",
       "    }\n",
       "\n",
       "    .dataframe thead th {\n",
       "        text-align: right;\n",
       "    }\n",
       "</style>\n",
       "<table border=\"1\" class=\"dataframe\">\n",
       "  <thead>\n",
       "    <tr style=\"text-align: right;\">\n",
       "      <th></th>\n",
       "      <th>molecule_chembl_id</th>\n",
       "      <th>IC50</th>\n",
       "      <th>units</th>\n",
       "      <th>smiles</th>\n",
       "      <th>pIC50</th>\n",
       "    </tr>\n",
       "  </thead>\n",
       "  <tbody>\n",
       "    <tr>\n",
       "      <th>0</th>\n",
       "      <td>CHEMBL68920</td>\n",
       "      <td>41.0</td>\n",
       "      <td>nM</td>\n",
       "      <td>Cc1cc(C)c(/C=C2\\C(=O)Nc3ncnc(Nc4ccc(F)c(Cl)c4)...</td>\n",
       "      <td>7.387216</td>\n",
       "    </tr>\n",
       "    <tr>\n",
       "      <th>1</th>\n",
       "      <td>CHEMBL69960</td>\n",
       "      <td>170.0</td>\n",
       "      <td>nM</td>\n",
       "      <td>Cc1cc(C(=O)N2CCOCC2)[nH]c1/C=C1\\C(=O)Nc2ncnc(N...</td>\n",
       "      <td>6.769551</td>\n",
       "    </tr>\n",
       "    <tr>\n",
       "      <th>2</th>\n",
       "      <td>CHEMBL137635</td>\n",
       "      <td>9300.0</td>\n",
       "      <td>nM</td>\n",
       "      <td>CN(c1ccccc1)c1ncnc2ccc(N/N=N/Cc3ccccn3)cc12</td>\n",
       "      <td>5.031517</td>\n",
       "    </tr>\n",
       "    <tr>\n",
       "      <th>3</th>\n",
       "      <td>CHEMBL306988</td>\n",
       "      <td>500000.0</td>\n",
       "      <td>nM</td>\n",
       "      <td>CC(=C(C#N)C#N)c1ccc(NC(=O)CCC(=O)O)cc1</td>\n",
       "      <td>3.301030</td>\n",
       "    </tr>\n",
       "    <tr>\n",
       "      <th>4</th>\n",
       "      <td>CHEMBL66879</td>\n",
       "      <td>3000000.0</td>\n",
       "      <td>nM</td>\n",
       "      <td>O=C(O)/C=C/c1ccc(O)cc1</td>\n",
       "      <td>2.522879</td>\n",
       "    </tr>\n",
       "  </tbody>\n",
       "</table>\n",
       "</div>"
      ],
      "text/plain": [
       "  molecule_chembl_id       IC50 units  \\\n",
       "0        CHEMBL68920       41.0    nM   \n",
       "1        CHEMBL69960      170.0    nM   \n",
       "2       CHEMBL137635     9300.0    nM   \n",
       "3       CHEMBL306988   500000.0    nM   \n",
       "4        CHEMBL66879  3000000.0    nM   \n",
       "\n",
       "                                              smiles     pIC50  \n",
       "0  Cc1cc(C)c(/C=C2\\C(=O)Nc3ncnc(Nc4ccc(F)c(Cl)c4)...  7.387216  \n",
       "1  Cc1cc(C(=O)N2CCOCC2)[nH]c1/C=C1\\C(=O)Nc2ncnc(N...  6.769551  \n",
       "2        CN(c1ccccc1)c1ncnc2ccc(N/N=N/Cc3ccccn3)cc12  5.031517  \n",
       "3             CC(=C(C#N)C#N)c1ccc(NC(=O)CCC(=O)O)cc1  3.301030  \n",
       "4                             O=C(O)/C=C/c1ccc(O)cc1  2.522879  "
      ]
     },
     "execution_count": 40,
     "metadata": {},
     "output_type": "execute_result"
    }
   ],
   "source": [
    "output_df.head()"
   ]
  },
  {
   "cell_type": "markdown",
   "metadata": {},
   "source": [
    "#### Draw compound data\n",
    "\n",
    "Let's have a look at our collected data set.\n",
    "\n",
    "In the next steps, we add a column for RDKit molecule objects to our `DataFrame` and look at the structures of the molecules with the highest pIC50 values. "
   ]
  },
  {
   "cell_type": "code",
   "execution_count": 41,
   "metadata": {},
   "outputs": [],
   "source": [
    "# Add molecule column\n",
    "PandasTools.AddMoleculeColumnToFrame(output_df, smilesCol='smiles')"
   ]
  },
  {
   "cell_type": "code",
   "execution_count": 42,
   "metadata": {},
   "outputs": [],
   "source": [
    "# Sort molecules by pIC50\n",
    "output_df.sort_values(\n",
    "    by=\"pIC50\", \n",
    "    ascending=False, \n",
    "    inplace=True\n",
    ")\n",
    "\n",
    "# Reset index\n",
    "output_df.reset_index(\n",
    "    drop=True, \n",
    "    inplace=True\n",
    ")"
   ]
  },
  {
   "cell_type": "markdown",
   "metadata": {},
   "source": [
    "Show the most active molecules, i.e. molecules with the highest pIC50 values."
   ]
  },
  {
   "cell_type": "code",
   "execution_count": 43,
   "metadata": {},
   "outputs": [
    {
     "data": {
      "text/html": [
       "<div>\n",
       "<style scoped>\n",
       "    .dataframe tbody tr th:only-of-type {\n",
       "        vertical-align: middle;\n",
       "    }\n",
       "\n",
       "    .dataframe tbody tr th {\n",
       "        vertical-align: top;\n",
       "    }\n",
       "\n",
       "    .dataframe thead th {\n",
       "        text-align: right;\n",
       "    }\n",
       "</style>\n",
       "<table border=\"1\" class=\"dataframe\">\n",
       "  <thead>\n",
       "    <tr style=\"text-align: right;\">\n",
       "      <th></th>\n",
       "      <th>molecule_chembl_id</th>\n",
       "      <th>IC50</th>\n",
       "      <th>units</th>\n",
       "      <th>pIC50</th>\n",
       "      <th>ROMol</th>\n",
       "    </tr>\n",
       "  </thead>\n",
       "  <tbody>\n",
       "    <tr>\n",
       "      <th>0</th>\n",
       "      <td>CHEMBL63786</td>\n",
       "      <td>0.003</td>\n",
       "      <td>nM</td>\n",
       "      <td>11.522879</td>\n",
       "      <td><img data-content=\"rdkit/molecule\" src=\"data:image/png;base64,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\" alt=\"Mol\"/></td>\n",
       "    </tr>\n",
       "    <tr>\n",
       "      <th>1</th>\n",
       "      <td>CHEMBL35820</td>\n",
       "      <td>0.006</td>\n",
       "      <td>nM</td>\n",
       "      <td>11.221849</td>\n",
       "      <td><img data-content=\"rdkit/molecule\" src=\"data:image/png;base64,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\" alt=\"Mol\"/></td>\n",
       "    </tr>\n",
       "    <tr>\n",
       "      <th>2</th>\n",
       "      <td>CHEMBL53711</td>\n",
       "      <td>0.006</td>\n",
       "      <td>nM</td>\n",
       "      <td>11.221849</td>\n",
       "      <td><img data-content=\"rdkit/molecule\" src=\"data:image/png;base64,iVBORw0KGgoAAAANSUhEUgAAAMgAAADICAIAAAAiOjnJAAAABmJLR0QA/wD/AP+gvaeTAAAaXUlEQVR4nO3deVxUVf8H8O8srCOyDTPIoqARho+5ZhD6tCCYgi8168m1lATTFENxSU0UzVDIH2lW5GNqlkuJuKWmSAkEaoGhuCvowzrDvskwwJzfH4doBGSbe+6Qfd9/zVyZcw7wcbhz7jnfKyCEAEJcE+p7AOjJhMFCTGCwEBMYLMQEBgsxgcFCTGCwEBMYLMQEBgsxgcFCTGCwEBMYLMQEBgsxgcFCTGCwEBMYLMQEBgsxgcFCTGCwEBMYLMQEBgsxgcFCTGCwEBMYLMQEBgsxgcFCTGCwEBMYLMQEBgsxgcFCTGCwEBMYLMQEBgsxgcFCTGCwEBMYLMQEBgsxgcFCTGCwEBMYLMQEBgsxgcFCTGCwEBMYLMQEBgsxgcHqonv37pWUlOh7FN2XWN8D+PspLCz87LPPIiIiampqxGKxjY2NVCqVyWRyuVwqldLHDg6vm5tbS6Ugk4GVVfMWkpJgzBjIyQFLS5gyBaKiwNZWH98JSxisTps7d25sbKyFhYWRkVFZWVl+fn5+fn6zrxk4cOrVq42PxWKwsQGpFGxsQC4HGxt46ino3Rv++19YupTvwfMGg9U5u3btio2NNTc3T09P7927t1qtLioqKioqUigUSqWy6bFaLezZE4qKQKGAsjLIzwft7L3/PkycCMeOweLF+vtOGMNgdcL9+/fff/99ANi+fXvv3r0BwNDQ0M7Ozs7Oro1XqdVQVNQYssJCKCwES0u4fRv8/ODoUZ5Gzj8MVkdpNJrZs2dXVFRMmjRp+vTpHX+hoSHY2YF29pKS4PZtCAiA6dPB3Jz7oXYH+KmwoyIjI3/55Rc7O7sdO3YAACFk8eLFt2/f7nKDVlbg6Ajp6dwNsVshqAMyMjKMjY0FAsGPP/5Ij0RFRQGAs7NzXV1dZ1tLTCSrVhFCyNWrBICkpZGrV7kdr/5hsNqnUmmGDRsOAPPnz6dHrl+/bmJiAgCHDh3SsfFTp4ihIRk5UudRdjMYrPYtXUr690975ZUJ1dXVhJC6urrnnnsOAObMmaN741VVRColACQxUffGuhEMVjsSE4lIRMRicuFC45FVq1bRP4IVFRWcdLFmDQEgvr6cNNZdYLDaUl5OnJwIAAkNbTxy4UK1o6OzSCRK5O4dpqiI9OjReLL1xMBgteXttwkAGTaMqNWEEFJVRZ56ipibl27a9L2OLeflkZAQsn1749NFiwgAmTZNx1a7EQzWYx05QgCIqSm5ebPxSGAgASCDB5PaWl0bP3mSABBbW1JTQwgh2dnE0JCIROTOHV1b7iYwWK1TKIhcTgDIZ581Hjl9mggExMiIXLnCTRdDhxIA8tVXjU9nzSIA5N13uWlc7zBYrfPzIwDE25toNIQQUlhIbG0JANmyhbMu9u8nAKRvX0Inwm7eJEIhMTIieXmcdaFHGKxWKBTE1ZVYWZHc3MYj/v4EgLz8Mmlo4KyX+nri4kIAyIEDjUdmz8578cXFq1at46wP/cFgta66mly69NdThYJMm0YePOC4ly+/JABk0KDG98VLly4BQM+ePUtLSznuiXcYrEaJicTUlJSUEELIm2+S/Hw+OlWpiKfnZQ+PN06dOk2PeHl5AcBHH33ER/cs4UXov9DFd3wyMoKJE+NSUn4ID/+YHvnggw8A4NNPP62pqeF1KFzDYP2FLr5raOC103nz5llbW58/f/7XX38FAC8vL3d3d6VS+fXXX/M6Dq5hsP4iEulh8Z1EIpk/fz4AbN68mR5ZunQpAGzatKmuro7XoXAKg/WIgADYsYPvThctWtSjR4/jx49nZGQAwKRJkwYMGJCdnX3gwAG+h8IdDNYj9LL4ztra2t/fnxCyadMmABAIBEuWLAGAjz/+WKPR8DoU7ggIIfoeQ7eQlASnT8OGDZCRAQMHQnY2ODjw13t2dnZwcPCyZctGjBgBAHV1dfb29pWVlYaGhg4ODpaWlpaWlnZ2dr169Wr2WC6Xi0Qi/gbaYRis5pRKWLwYMjMhOVlvY7h169bgwYNFIlF1dXXbXykSiejGRhsbG7lc3vKxTCaztrbmZ9jaMFjNqVTg7AwFBRAXB15eehhAfX29p6fnpUuX/P39IyMj8/LySktLS0tL8/PzWz5WKpUNbX6OdXBw2Llzp4+PD2/jpzBYrdi4EVatgtGj4exZPfQeGhoaFhbm5OSUnp7es2fPtr+4rq6ObmZUKpUKhaLl49zc3MrKypSUFHd3d37G30iv07PdVHk5MTcnACQlhe+uf//9dwMDA6FQ+PPPP3PSIJ1xnThxIietdRwGq3XLlhEA8tprvHZaXV399NNPA8Dy5cu5alOhUJiYmAgEgqv87gTCYLWuoICYmBCBgGRk8NfpvHnzAGDAgAE1dPkfR+gE7Ntvv81hm+3CYD3Wu+8SADJ7Nk/d/fTTTwKBwMjIKD09XcemNBrN999/P378eLVaTQjJzMwUi8UGBgb379/nYqQdgsF6rHv3iFhMDAwID7+OkpISBwcHAIiIiNC9NY1G869//QsAdu/eTY/QmgALFy7UvfEOwmC1Zdo04uBQt379L6w7+s9//gMAI0eOrK+v56TBvXv3AkD//v0bGhoIIdevXxcKhaampkqlkpP224XBaktGRp6BgYlEIiksLGTXy549ewCgZ8+eWVlZXLVZX1/fr18/ADh8+DA9Mn78eABYvXo1V120TbR27VpGsxjnz5+Pi4vLzs4uLi5WqVRisdjY2JhFX+zIZGYXL6Zcu3bNxMTk5ZdfZtFFTk7OhAkTVCpVdHT0Sy+9xFWzQqFQLBafPHkyMzMzICAAAPr0cbp5c9DNmwumTjU0MuKqn8diMkFaX1/v7e398OFDutZWm6WlZcsLXtqPbW1thcJudGn8woULHh4eVlZW9+/fNzMz47ZxjUbj7e0dHx8/YcKEI0eOcNu4SqXq27dvfn5+XFwcXZj64ouQkACbN/NRSZBJsNatW7d27VqpVDp27Njy8vKioqLCwsKCgoLKysp2X2toaEgrecrlcplM5uLiEhoayvkIO2XUqFFJSUmRkZF00QG1bdu2ZcuWtfE/xNLS0t7e3sLCoo2WP/nkk5CQEJlMduXKFblczvnIIyO/OHHC0draKybGBABOnYJx48DWFrKygPUfD+6DlZqa6uHh0dDQEBcX1+zPR21tbXFxcRtXvkpLSxUKhfZakd69ezs5Of300096/DN68uRJX19fW1vbrKyspmGsXbt23bp17b5WIpHQurdyubzZe9L169eHDx9eU1Nz/PhxPz8/FiOvqIA+faCsDJKTwcMDAGDYMEhLg+hoCAxk0aEWbk/ZqqurXV1dAWDp0qVda0GlUuXk5Fy+fPn06dN79+6lZ6BffPEFt+PsrCFDhgDAjh07tA8+fPgwNzc3IyPj7Nmze/bsiYqKCg0NDQwM9PPz8/T0dHNzM9cq1yeXy7Vfq1arhw8fDgBz585lOvLlyx+5hNBsMyM7HAfrvffeAwA3Nzeu5o4PHjwIAH379u1CfTMO7du3DwD69evX2emAioqKu3fvJicnx8fHax9fsWIF/b64KlnzOM0uIbTczMgIl8E6c+YMnTv+448/6JGEhAQN3TLXVfX19fTy2b59+7gYY9eH4ezsDABjx44NCwv74osvDh8+nJCQcOPGjaKios629uuvv4pEIqFQmJCQwGK0zdBLCLNmNT6Njn5kMyMjnAWrtLTU0dERADZt2kSPxMfHC4XCsWPH6pgtWvPz2Wef1bEdHY0YMaJXr16PO6OwtLR0c3Pz9PT08/MLDAwMDQ2Nioras2fP2bNnMzIycnNzm97qqqqqXFxcgMcppczMRy4hqFTEzo4AkJMnGXbKWbDefPNNAPD09KQ/wbKysj59+gBAWFhYF1rLzc0NCQl58OABIUStVtPINtX/5N+uXbsAwMzMbM2aNatXrw4MDJw4caKnp6erq6ulpWVHzmXFYrGtre3AgQNpHe+hQ4fSC3n8WLqUbNtGqqsbn0ZEEADC3RKKVnATLHoBoUePHnf+LMMzY8YMABg+fHjXfnwzZ84ErWtbkZGRAODu7s7JaDsrOzubpuebb7553NeUlJRkZGQkJiYeO3YsOjo6NDQ0KCho5syZo0ePdnNz69Wrl/bKdIlEsmfPHj6/hWYqKpgXeeMgWDk5OfTn/vXXX9Mjhw8fBgBTU9Nbt251rc1r165pX9uqqqqSSqUAwGEdvQ5qaGigkyY6rpVTq9V5eXnp6elvvfUWPVfjaoRdw7qkgK7B0mg0r776KgBMmDCBHsnNzaWr93WcI6BTOx9++CF9umbNGgDw5b1SZ0REBADIZDKFQsFJg8XFxT169ACA1NRUThrsmsRE0r8/2byZkO4ZrC1btgCAjY1NQUEBIUSj0YwbNw4AfHx8dDzXvnDhAgCYm5uXlZURrd9HGo+VOq9du0bLu584cYLDZoODgwFgypQpHLbZWYmJZMUKMnIkqa/vfsFqKnd+7NgxemT79u0AIJVK87goHzZq1CjQWqK0aNEiAJg6daruLXeESqUaNGgQAMybN4/blnNycgwNDUUi0e3bt7ltuePoTQzCw0lMTDcLVlO584CAAHrk7t279E3l4MGDnAzu5MmTAGBra0unW7Ozs/n8fWzcmCOXD3ZxcamqquK8cX9/fwAIDAzkvOUOosEqLiavvtrNgrVy5UrQKndeV1f3/PPPA9drq4cOHQoA0dHR9Ons2bMB4F32lTppeXeZrOHixess2r97965IJDIyMsptqhrIr6bbrgQEkP79u02wkpOT6dzx+fPn6RG6rsvBwaGEftLgyP79+7Uv6dy8eVMoFLL+fdCy2wBkzRp2nZDXX39dl4uqulCpmt/Pp1sEq2nueOXKlfRIamoq3Q3X7IqY7urr62lfB/68uPXaa68BwLJly7jtSButODp0KGE6hXn58mWBQCCRSLpwUUgXsbHEyYn8+YbASleCRVckDhkypLa2lhBSU1MzYMAAAAgJCeF6eIQQEh0dDQCDBg2iHzPT0tIEAoGZmRmjQp20vLuxMR935PL29gaA9evXM+/pTwoFkckIAPn8c7YddTpYp0+fplear/xZ73zBggXcrmhoRqVS0VuYnjp1ih4ZPXo0sCnUqVQ2lnffupXztlsRHx8PANbW1iw+H7Sk0RBf30fKjLPT6WBt3bpVLBaHh4c3Hfnhhx/s7OyaVjSwQKvd/fvf/6ZP4+LiGP0+Jk8mAGT0aOY/9yYeHh4AsJWXIH/+OQEglpYkO5t5X50OFp0Q3/JoIX2VSsXdkFpRUVFBrxolJSXRI/T3sW3bNg572bWLv597k9jYWABwdHSs1f0+Km26d6/xVlAczQW1o9PBOnr0KP30x/oH0czq1asBYPz48fQpvRzp6OjI4RoBhYKMH094XvfVcnMpC3V1xN2dAJCZM9l18ohOB6vpB7Fr1y4G43kspVI5atSopjuaajQa+olh9erVN27cKC4u5nMw3Nq9ezdobS5lISyMABAHB8LpXFBbuvKp8JtvvgEAV1dXdj+IjlixYoX2onIDA4NevXoNHDjQy8tr2rRpQUFBYWFhO3dWxsaSxERy4wZpmb2WV/gTE8mSJY3/+uabhLsNpG1Rq9V07VpsbCyL9lNT/xg0qFIoJOfOsWi+deKOLFJrZurUqWvWrLl169aRI0forBL/Kioq9u/fX15e3rdvXwMDA4VCUVZWlp+fn5+fr/1lEsli7WKLYjHY2IBUCjY2IJfDmDGNNw3gYZ9dGwwMDJYsWRIUFLRx48aJEydq/5Onp6elpeXjKkGampq223hNTc2MGVPv3Mlavz7plVeGMfsmmutKsMRicUhIyIIFC8LDw/UVrKCgoAcPHgwbNiwlJcXAwAAA1Go13cCoVCqVSmVRUVFxcUl+vqSwEIqKoKgIFAooK4P8fGjK3siRjTcNWLxYL9/EX955550NGzb89ttv8fHxr7zyCj1YXl6e3GYhVFNTU6lUamtrSwMnlUqnTZtGL4I1Wb58+Y0bN9zc3IKD3Rh+Ay10cV+hSqVydnYuKCho2mXLpyNHjkyaNMnU1DQtLY3uNusgtfqvkBUWgoUFJCeDmRm4uMD330NUFNy9CzNnAm0yPR1SUsDJidE30dyGDRs+/PBDb2/vM2fO0CN1dXWpqan0f0thYWHLSpAtb4vy7bff0sIyVFxcnI+Pj1gsTk5OprvN+NPlP6IfffQRAHh5eXH3d7lDFAqFTCYDgO1NN77tqpZX+PVyjkWVlZXRU8bffvutgy+pqqrKzMy8cOHC8ePHd+3atXnz5hs3bjT9a2lpKV1fv3HjRjZDbkvXg1VeXk73j6fwW6mTTqR5e3vrvmmn5RV+PQaLEEJvdjJixIiYmJiEhITr16/rUuVm6tSpAPDCCy9wVRqpU7pyjkX17Nlz7ty5mzZtioiIiImJ4eDNswOio6NPnDhhYWGxc+dOgUDAVbNBQXq400lLwcHBv/zyy7Vr1yZPnqx93NjY+HHlIehjmUwmFj/yq4yJidm/f79EItm9e7de7jCgU+0GhULh7OysUqmuXr1KZ5WYyszMHDx4cGVl5YEDB+husyfSvHnzCgoKmk6nSkpK2n1J020E6Lm8iYnJoUOHKisrv/rqK7pigH+6FgWZN2/el19+OWvWLLrzjh2NRvPSSy8lJibOmDGD7jb75ygtLe3sbQScnZ3pUlsO39c7RddgZWVlPf300wKB4M6dO3SWjxH6ocne3v7q1asd3CP6z1FfX19YWEg/PyoUioyMjPDwcENDw8zMzDZ2b7Ol+2kaPUlctGiR7k09TlpamqGhoVAoPMfn5PHf2YQJEwDggw8+0NcAOAhWenq6QCBgVzi1pqaGXp0MDg5m0f4T6eLFi6DX+5Zzs8Xe19cXANa0WCJ+6tSp1NTU7OxsXdYABgUFAcAzzzzz8OFD3Yb5z0I3cH/88cd66Z2bin6tFupsmuiijI2N2y6s6ODgoH1RmTp37py3t7dIJEpOTqa7zVAHnTlzZsyYMXK5PCsri27/5BVXCR05ciQAREZGNh1RKpVjxowZNGiQvb29Ucfq9H733XfabZaVldG5YxarkP8J6GWcz1mvb28NZzVIWy3Uqa2mpqbZp+VmT3Nycn744QftO+tNnz593759Hh4eiYmJ3fM+ot3coUOH3njjDWdn59u3bzebQWWOw5C2Wqizy+hsvkQi0eM+9L+7hoYGV1dXiUQSE8N3ARIuqyZ/++23M2fONDMzc3Z2psW0tQtrNz1uu0I1lZeXN3DgwJKSEj3OHT8Z9u9PW7Cgj729dXo68DlXyuXb47179wCgsrLyypUrbX9l27cRsLCwmDNnTklJyZgxY+bMmcPhCP+BXn996IoVcPUq/PgjsKn53TrO3rHS0tLc3d0bGhoOHDjg4uKiUCi054K1H1dUVLTbmrGxsZmZ2ZUrV2xtbTkZ3j/Zli2wZAm4u0NKCn+dchMslUo1fPjwa9euLVmyhJZ1bENtbS29wlpQUEAD1/LxypUr3d3dX3zxRd3HhqqrwckJioogIQFGjeKrV07O1BYuXAgAbm5uOIfZPYWGEgAybhx/PXLwjqXP9a+oY0pKoE8fqKqC1FR4dE08K7reZ6usrOydd94hhISFhWGqui0rK6Cfgto7T+GOju94U6ZMAf2tf0Udl51NDA2JSET4mRbUabohI+HoEKvqxF7yvXv34sx4N+fgAHPngkgEXN90sXVdP8eqLC74fMHLqqpyv4VbhvlM4XZY6O+ui+dYhJBj20JUVeWuz/tgqv4ukpJAIoHSUgCAKVOgoIBhX10M1qXjO++mxpuaW/u9t5nbASGmaEkBHnTlHKso527cno0A4Dc/vIeljOshIYaalRT45BOIiPirmEVTYQuZDGQykEpVUmmFjY1NF3ZkdDpYmob6I/+3qF6tGuI99ZkXfDv7cqRfIhH4+cHRo41P8/NBoQCFovUvHjYsKTXVWygU0kokUqlUJpPR9QS0MAkt/NyqTgfr/P4tubcvW8h7j5mztrOvRd1BQABMnw50rW54OISEAK2bUlDQWNiisLCxtoWNjerBAynd3qhUKpu1Y21tzVmwHlaUXDi6QyAUTVq81ciUl4+tiGtWVuDoCImJAABiMdjawuMv9PsBFDY0NGhfxqWLCYqKitpeOdjp6YbC/926n5Hy3LhZnXoV0ruffwaFAjIyYMMGyMiAgQMhP7+NSOmKy4V+qNsqKIBnn4WHD+HiRWBfCwGg3T+F/7t+KfaThdYO/epqayYFf2oh783HoBDXAgKgsBC8vcGNr+pr7c9jPePpO2PdPs/J89PO7G86SIiG5agQl6Kj4cQJsLCAnTv5W53c0ZN3dc1DI5Med1N/vnh8p1WvPiP8/K3t+zEdGeJEZmZjhdUvvwRHR/76bT9Yty6cLs69p7x/860NB4vzsqzsnMYGbuBhZEh3Gg3Mng2VlTB9OvBc96n9YLm6v+rjv6YkL+vs7g1DfaZb9+rLw7AQJzZuhIQEsLeHrVv57rqj1woNjU0fVpQCAK97iJAO0tLI+vUgEMCePWBlxXfv7b9j3fj1R+WDm+qa6pemhWga6nkYE9JdbW3t/Pl+zz+/ddiwZ3ivag2A81hPquDg4KioKDc3t99/TzMx6VDhDG5hsJ5A586d8/HxEQqFeizRw2+hCMReeXm5v7+/RqMJCwvTY+EnfMd60syYMeO7777Te4keDNYT5fDhw5MnT5ZIJJcvX6Y3adcXXfcVou4jLy8vMDAQALZs2aLfVAEG60ly8ODB4uJiX1/f7lD4Cf8UPlFiYmI8PT27Q4keDBZiAv8UIiYwWIgJDBZiAoOFmMBgISYwWIgJDBZiAoOFmMBgISYwWIgJDBZiAoOFmMBgISYwWIgJDBZiAoOFmMBgISYwWIgJDBZiAoOFmMBgISYwWIgJDBZiAoOFmMBgISYwWIgJDBZiAoOFmMBgISYwWIgJDBZiAoOFmMBgISYwWIgJDBZiAoOFmMBgISYwWIgJDBZiAoOFmMBgISYwWIgJDBZiAoOFmPh/WHsAxMnpy/oAAAAASUVORK5CYII=\" alt=\"Mol\"/></td>\n",
       "    </tr>\n",
       "    <tr>\n",
       "      <th>3</th>\n",
       "      <td>CHEMBL53753</td>\n",
       "      <td>0.008</td>\n",
       "      <td>nM</td>\n",
       "      <td>11.096910</td>\n",
       "      <td><img data-content=\"rdkit/molecule\" src=\"data:image/png;base64,iVBORw0KGgoAAAANSUhEUgAAAMgAAADICAIAAAAiOjnJAAAABmJLR0QA/wD/AP+gvaeTAAAbyklEQVR4nO2de1RTV/bHvwkJhqIgVBFQQSlYTHgo4gPwsVTER30UFF+IbW3r2GrBTh3f/nyMHWurHVotapl2BEerVIuiLTpYq4hWK1pLQJGK4FTQivJ+h+T8/rgYY0CE3HsS1PNZLte6J8neB/jm3LPvOXsfESEEDIbQiE3dAcazCRMWgwpMWAwqMGExqMCExaACExaDCkxYDCowYTGowITFoAITFoMKTFgMKjBhMajAhMWgAhMWgwpMWAwqMGExqMCExaACExaDCkxYDCowYTGowITFoAITFoMKTFgMKjBhMajAhMWgAhMWgwpMWAwqMGExqMCExaACExaDCkxYDCowYTGowITFoAITFoMKTFgMKjBhMajAhMWgAhMWgwoSU3fguaCioiIhIUEikSgUCnd3d3Nzc1P3iDpMWNQ5c+bMq6++KpFI7ty5A0AikTg5OcnlcoVCIZfL+/Xr5+7ubmZmZupuCoyIHSBAldzc3IEDBxYWFvr5+Tk6OiqVypycHLVarfseCwsLuVw+fPghO7uuXl5QKNCtm6n6KxhMWBQpLy8PCAhQKpWjR48+cuSIRCIBoFKpsrOzr1y5kpmZyf1/9epVQki3bqpbtxpuINbWcHWFXI5+/aBQwNMTXbogIwOenvj1V/Tpg4MHcfky1qwx5U/3BAiDDmq1euLEiQDc3d2Li4ubeWdJScmZM2d27NAsWECGDyedOhFA/5+jI9m9mygUZMYMQghJSCCrVxvn5zAQNseixZIlSxITE21tbQ8fPtyxY8dm3mltbe3v7+/v/7CluBiZmbhyBZmZuHgR6ekoKECnTujTB0VFyM2l3nkBMLWyn0127twJQCqVnjhxgmupq6tLSEgwzJpGQ27cIOnpJCyM/Pgjeffdp2DEYs+xhOfMmTN/+ctfAGzZsmX48OFc4/z584ODg9euXWuAQZEIPXtCJAKAESOQkYG7d4XrLh2YsAQmL68kJCSktrZ24cKFnLwAfPbZZzExMTKZbMyYMfxdRERgyxb+Zihj6iHzmaKsjHh5kUGD4iZMeLW+vp5rPHbsmEQiEYlEu3fv5mNcqSRhYYQQolYTNzfy9tv8+0sRJizBUKvJxIkEIO7uRBsFXr16lZu5rxZuTlRYSDp2JFZWpKpKKJPCw4QlGIsWEYDY2pLff29ouX//vpubG4CQkBCNRiOgr0GDCED27BHQpMCwOZYwxMVh0yZIpfj2W7i6AoBKhdmz29naevTt2zcuLk7Ezb0FYvZsANi1S0CTQmNqZT8LpKaSdu0IQLZte9g4dy4BSNeu6lu37gvusaiItGtHzMzIrVuC2xYGJiy+5OUROzsCkIULHzZGRRGAyGTk3DnBHF29SlasIPcfqHTyZAKQTz4RzL6wMGHxoryceHkRgAQFEZWqofHYMSKREJGI8IsC9RkzhgAkOrrh8uBBAhCFQkgXAsKExYs5cwhAevcmJSUNLVlZpGNHApD/+z+Bfe3ZQwDi59dwqVKRLl0IQH79VWBHgsCExYtbt0hQELl+/WFLYCAByJQpRNAokBBCqqsbJHv1akNLRAQByPvvC+xIEJiwWodS+XCQaHLB7s8/ybx5pLKSivc33yQAWbmy4fLCBQIQOztSV0fFHR/Y44ZWo1Dg448f+6qdHbZtwwsvUHEdHg4Au3ZBowEAX194e6t69Dj8009pVPzxgAmr1fTpg5IS0+xdGToULi64eRMpKQ0ts2Zt+eWXiV999YkJetMsTFiGsGgRNm0ygV+RCG+9dX/YsI8TE9dxLTNnTjczM0tMTCwpKTFBhx4PE5YhmHDvSmhocUrK0piYTyoqKgA4OjqOGDGipqYmPj7eBL15PExYBmKqvSuurq5+fn4VFRWHDh3iWsLDwwHsamPrO0xYBhIcjLo61NaawLWekkJCQjp06JCampqdnW2C3jwGJqzW4eGB//wHAFJSUFuLP/4wQR9mzJhhYWGRnJx869YtAJaWlpMnTwawZ88eE/TmMTBhGUjPnvjjDyQkoLzc2K6tra1feeUVjUbzzTffcC3cGBYbG0vaTDIfE5aBODtj6FBUVeHAARN4nz17NoDY2Fjucvjw4T169MjLy0tNTTVBb5rCbE2bznps02g0SExEWRlee83Yrl1cXEpLS5csWeLk5ARAJBIVFhaePn06Pz/fx8fHxsbG5Dn7LBPacMrK4OCA6mrk5KBnTxN3JiYm5m9/+1tZWRkhRCqVdu/enSsMwVWI6N27t1hs1LuTsYVVXV2tUqmsrKyM6ZQeYWHYswfr12PFClN2Iz09ffDgweXl5V5eXpWVlbm5uRpu0ecB7du3l8vlXl5eCoXCw8PDw8PD3t6eapeMKqxt27bdvHlz48aNDg4O3DeJ+9/Hx+cFSqtrlDl6FGPHws0N165B0L3HreDevXuDBg3KyckJDQ3dt2+fSCSqq6v7/fffucIQFy9evHLlSm5urt4fumPHjgqFQvtX8Pb27ty5s4C9Mp6wkpKSJkyYwA3UtY8+/5FIJK6urh46uLq6mnyW0BI0Gjg5IT8f585h4EATdEClUo0aNerUqVO+vr6nTp163PezqKgoIyMjMzMzPT09MzMzIyOjuLhY7z1OTk4KhcLT05Mb1by9vXn9CYyziUKbBbVmzRpCSH5+fmJi4kcffRQeHt6vX7927drp9Uoqlcrl8tDQ0NWrV8fHx2dkZKjVauN0tbVwyTnz55vG+1tvvQXA0dHxVit3vxcVFZ0+fToqKmru3LkBAQGWlpa6v3+xWJyQkMAns8gYI1ZRUdHAgQOvX78+efLkb7/9tnG+SuPKPllZWXqzBCsrKzc3N+3d09fX18HBgXbPW4JSCS8v+PmVnjxpYeRSfRs3bly6dKmFhUVKSoqvry8fUxqN5saNG0qlMjMzU6lUHjt2rLS09OTJk8OGDTPQosGSbCF1dXVc/QIfH5+KiooWfqqsrOznn3+OiYmJjIwcOXJkly5dGvd88uTJ9+7do9r5FjJmzLsADhw4YEynP/zwg5mZmUgk2rdvn+DGV65cCeDNN9802AJ1YXH1CxwcHP744w8+drihe8eOHREREYGBgba2ti+++KKHh4dQ/eTDp59+CuDVV181msfMzExra2sA//jHP2jYz87OFolEVlZWlYbuhaUrrH/+858AZDLZ+fPnuZaqqqodO3bwTwtWqVR2dnYALl26xLubfPnzzz+lUqlUKi0sLDSCu8LCwpdeeglAaGiosAnWugwaNAjAHkOzrSkK6+jRo1wxDG3nNBrNtGnTAHzwwQf87UdGRgJYqJvOZzpeeeUVAFu2bKHtqK6ujpv3+Pr6GjycNMnNmzfXrVunLegVHR0NYOzYsYZZoyWsJothcMtHHTp0SE9P5+8iLS0NgJ2dXV0byCXYt28fgP79++u1JyQkfPnllz///DP3TJw/BoeBT+STTz4BMGXKFO6yqKioXbt2ZmZmBQUFBlijIqz79++7urpy82vtWH3gwAGRSCQWiw8fPiyUI09PTwACGjSY6upq7oukVCp12wMDA7XRhoODQ2BgYERExI4dO06fPm3AeLNx40YAFhYWFy5cEK7vDdy5c0cikZibm2tDIm43zqZNmwywJryw6urqRowYAaBv377aMPDSpUvck5JPP/2Uj/ETJ06EhoaeOnWKu+R+0VOnTuXbaSGYO3cugGXLluk2bt++PTw83MfHRyaT6UW1EonE3d09NDR07dq1+/fvv3btmrakVpNQDQM5uLpw2x6UoDh48CAAhUHZ1sILa968eXphYEFBQffu3QG8/vrrPI2vXr1a105+fr6ZmZlMJisqKuJpmT/clpWuXbs2qY/6+vpr167t379/zZo1U6ZMcXd356pz6yKTyXx8fObNm9f449ow8MMPP6T3I+zevRuA34Ns67q6Om6d59fWZ1sLLCxtGHjuQTWM6urqgQMHAhg8eHBNTQ1P+9evXxeJRJaWluXl5VxLUFAQgO3bt/O0LAi9evUCsHfv3pa8ua6uLiMjIz4+fvXq1aGhoXK5nNuAMGDAAL133rt3zwhhICGkqqqKk29WVhbXEhGxsG/fRevXX2/+g40RUljamoi6YeDMmTMB9OjR4+7du4J4CQgIALBr1y7uktv6HRAQIIhxnkyYMOHFF18EYG1t3a9fv/Dw8KioqOTk5Dt37rTk46WlpWfPntXe6Dm0YWC/fv2EDQObZM6cOQBWrVrFXV64oAFIly4PS560EMGE1WQYyBUJFioM5Ni+fTuAoKAg7rKysrJDhw4Arl27JpQLwzh+/Dj3veK+9Hp07do1KCjogw8++Prrry9cuNByidALA5skJeXnoUPjhw8v0Y6MHh4EIN9/3zo7wgiryZqIBw4cEIvFYrE4MTFREC8cJSUlFhYWYrFYO4d74403IGiRTwPIycnp1KmTdvKuu04QEBDQvn37xlLTBomxsbFpaWnV1dWNzVINA5tEoyEuLgQgJ082tGzYQAAybVrr7AggrObDwM2bN/N3ocfUqVMBbNy4kbs8ceIEd7elOv9ohtLSUoVCwa3qPG4XRn5+fnJyclRUFLehw8LConGQ6OLiMn78eO2Gju+//552GNgkq1YRgMyZ03B56xYxMyMyGWn23BZ9BBBW4zDw9u3bQoWBTXL48GEAcrmcu9RoND179gSgNzsxDvX19ePGjePC8tLS0hZ+ipu57927d+XKlcHBwa6uro23DnPjHNUwsEl+/52IRMTK6mHNHK4205dftsIIX2FFRUVRDQObRKVScTtr09LSuJYVK1YAeOutt2i4a5758+cD6NSpU05ODh87tbW12iBx/Pjxzs7O1tbW1tbWqtZOm4XAz48ADysSxsURgAwe3AoLvISlVCq5sVobYOuGgX/++Scf482zcOFCAJGRkdwl/9V4w/jXv/4FwNzcnMZgyT28+O9//yu45SeybRsByOjRDZcVFaRDByISPVJirnl4CSslJaVXr14jR47UbYyKirK2thYwDGySixcvAujcubN2oZBbjf/mm2+o+tXl5Mk0qVQKIC4ujob9devWAQgPD6dhvHlKSoiFBRGLiXav02uvEaAVJ0PxEtaxY8cAuLm56c2ajbN7xMvLC4A25Pziiy/AYzW+teTkEHt7MnTot0uXLqXkIi8vTywWW1paCrWA3So+/5wcPUq0iwg//kgA0qNHS0tg8hKWWq3u1q0bgLNnz/KxYxgff/wxdFbj79+/z2c1vlUUF5OXXyYAmTSJqNUUQ1Hu0ei///1vei5aiFpNgoPJtm0tLUvJd/K+ePFiAO+88w5POwbALRTqrsaHhITA0NX4llNfT8aNIwCRy0mLo0AD4eZwI0aMoOuGAnyFlZmZCcDGxoZSANg8o0ePRqPVeNr7lRcsIADp1InwiwJbRGlp6QsvvCASibjEQNPyxMK+uvBNu+bSTYuLi48cOcLTlAHoVYoaN25c586dMzIyfvvtN0oev/oKW7fC3Bz798PFhZKTh1hZWXFb6dtIiaLmC/vqIkA+P1f5JC4ujr+p1hIcHGxlZXXhwoXbt28DkEql06dPp9eZlBS8+y4AREfD4LSo1sJ9eXbu3EnaQJWNVhT25T9C3r17VyqVSiSSFq7hC0tycrLuvolffvkFgJ2dneDPFXNyGs6Xf3QnH3XUanXXrl0BnBPwXB6D4E7ibOGh1AKMWJ07dx4zZkx9fT2379vIBAYG6hYd6N+/v4ODQ2VlpaOj46hRoyIjI+Pi4i5evFhdXc3T0ebNuHcPkyZh/XqellqHWCyeMWMG2kyV0ZYW9hVEy1zJXl9fX0Gs8YG7CeoljONBzv7UqVP//ve/f/fddzk5Ba1N2a+vJx9/TB7sLzQqGRkZAGxtbU0SIRFCyspIefnDs4P37yceHk8YsYQRVm1tLbfBTS+VwMicPXuWKwOxdevWnJwcbXkIuVyuV99i2LCPzM2JXE5CQ8nq1SQxkeTkPPLor3EEpFSSyZMbXj18mCxZYtQfrW/fvgC+++47o3olhBCiVpMJE4inJzl27OGh1L16GUVY5MEehyVG/n3rkJeXx2Xiv/fee41fra6uvnjxYmxs7OLFi8eOHRsU9BNA9P7Z2JAhQ8i8eSQ6mhw6RBQKMmMGIW1DWMZPttbywQf6RxK3BMGEdebMGQCOjo7Np5pQory83NvbG8CoUaNaOG0vLSVpaSQ2lixZQsaPJ/b2j4js/fdJWBgZO5bcuNEmhGXkZGstO3cSgEil5EEea0sRcs/7yy+/DFOsxqvV6kmTJgF4+eWX+aTr3L5NkpPJp5+SN98ku3bpR0BKJenShYweTUaPJj4+xhYWMWKytRbtkcQGpKoIKSxTrcYvXboUgI2NjYDb3rUT1aFDyY4dph+xyINk68Y5PJTIzW04ktiw8xCFFJZJVuO5MFAikRw/flxAs40jIJML63HJ1jQoKyOeng1bsgx7IChkJV1nZ+chQ4ZUVlYeMFbt87S0NK5M0meffTZy5EgaLrijTdoCMpmM2+zfeHnnhx9+4DJ/BHGk0SAsDEol3N2xdy8a5dW2DGGVbszV+Pz8fEdHRwALFiwwgru2wOnTp9FUsrX2EbFe5k9VVZUBXtatuweQF19sxX7RxggsrMetxtfV1d2+fVtAR1VVVVxxxJaHgc8G3H5l3ft+TU3NzJkzvb29GxeqlEqlHh4e06ZNW79+fUJCwvXr159YyvXrr782N28/bNhVbfqXYQhfu4Fbf9DLLeGW8Dp27BgQEDB37lwuP9jg3GiNRsPdFHiGgU8jXCmo2bNnN35JpVJlZmbu27dv1apVISEhTVaetrS09PX1feONN5qsA5Camso9YeZfskB4YSUlJQHo1auX7n7lw4cP29jYNL4ROzk5jR07dvHixbGxsdyKXktcLFu2DEKHgU8Lubm5etUrmkEv88fFxUVbWfjtt99ubJkrkvi+YXHgowhfNVmj0Tg5OeXn5587d27go7XP8/PzdUuNX7lypaqqSvcNZmZmL730krbU+LBhw7gfVZf4+Pjp06ebmZklJSXpVp96fhg6dGh6erpGo+FOmmjVCQAlJSUZGRkZGRm9e/fWrYhcXl4eEBCgVCpHjx595MiRxpVwWg1/bTZm0aJFAOa3oPa5XsF3vSJShw4d0nv/hQsXuBziL774gkbPnwpu377NVRXQQzv8azd0tNCgWq2eMGECAHd39+JW5Ts/Hip13tPT0729vbkDGrWHHXDnVDVPXV1dVlYWV2o8MzPz888/d3Z21r5aUFAwYMCA/Pz8+fPnb926VfBuP10UFxdrTzTJzMy8fPly48cNDg4O2nOauJtA47MaACxatGjz5s22trbnz5/nSjHyh4qwNmzYsHz5cplMVlNTo23UOwGgf//+rTonqLq6eujQoWlpaYGBgUlJSQKM1c8cBQUFWp1x/+v+/gFIpVI3NzfdU4x69+69a9eu119/XSqVHjt2jKvILwjCC+vgwYNc7coNGzbY2Nhwd3SlUllYWKj3Tnt7e+7kHIVC4eXlJZfLm6zKAoAQMn369Pj4eBcXl/Pnz3N1XRjNww3/GTrk5eXp/bk7dOhQU1OjUqliYmK4eklCIbCwLl++PGTIkIqKio0bN3KZYVq4oVv7fbp8+fK9e/f0Pq49FUw7gHMzquXLl2/YsMHKyurs2bNcXReGAXCngumOajdu3LC3t7ezsxM+/USQmRrHnTt3uIlUk09ZGpObm3vkyJGPPvooLCysT58+jzuqyd/fXyQSSSSS5ORkAXvLIIRcunSJ0vKuYMKqrq728/MD4O/vb9gOWpVK9bhtn/7+/s9zGEgV7qEDlwUkIMIIS6PRzJo1C4Czs7OAuTrcts+4uLi2cETAswql5V1hhPXhhx8CaN++/W+//SaIQYbRoJRsLcC2maxzR4uupYrF4t27d3MVYBhPEVZWVpMmTSJCJ1vzFdadG5nfbV7Qoehy0r6YiRMnCtInhpHhctljY2OJcI8IeAmrsqRw7/rXVTVV3iNCg6bMEapPDCMTFBTUtWvX7OxsbhOKIBgurPq62r0fziktzO/e23fCgk+E6hDD+NBItjZcWIe3LrqVddHartu05V+ZSY16FjJDcLi74U8/pQq1D9tAYaV+uyX9pwPmMssZq2ItOz55twajjePp6Tl58pmsrEtCVaMyRFhZ546e2LVRJBKHLNrapUdvYTrCMDUBAf4ajViom2Gr1wrv59/4cuHouprKwNdWBEyZL0wvGG2Au3fRrRsAFBSA/yp/q0csWwfn/uNf9x4RylT1jGFnh6AgqFTYu1cAawbubiBEIxIJmZPIaAvEx2PaNPTvD/6PHZoT1t2bWXErp9m7KGory33HzfYeEcrXG6NtU1MDBweUlECphIcHL1NPGHWc5ANmrd3z2j++PR3/uW47IRpebhltEpkMU6cCAP/VnRbdzlS1NeayFwD878ovcSumJn25Muvno3w9M9oks2cDQFwc1Gpedp6wc/xWVtre9W/cvZnlH/IO1yKVWYyda9wqnAwjEhCAXr2QnY2TJ8GnGsYTRqxu7r7TV/57wfbTvybvrSorAtC5u5vh3hhPA2Fh6NwZd+7wMtKiW6HYTCIWm9VWlQPAg1RaxrPKX/+K/HyEhfEy8gRh/e/KL/9ZPXPnshBnj4E29s7Nv5nxbJCXB3NzXL4MAAcPYs0aZGRgypSGV48cwdKlTzbS3BzLztl90a5Hkjec5AOc5AMM7TDjqYE72oRPbMgecjKaoBVHmzwGlk/MaJpFi7BpE0aNarhMTcWYMQBQWPiwsRnYiMVoGr2jTQYPxtGjOHoUa9e26ONMWIzHEhGBLVsM/CwTFuMhxcUYORJXrzZc8insS6XaDONppL4eY8bgxx8xZAhSUvhaYyMWo4HISPz4I+ztsXu3ANaYsBgA8MUXiI6GTIaEBHTvLoBBditkIDkZ48ZBrUZcHGbNEsYmG7Ged65dw7RpqK/H8uWCqQpsxHrOKS7GoEHIzkZwMPbvh1i4cYYJ6/mlvh5jx+L4cfTpg9RUNDrumBfsVvj8snDheypVkoMDDh0SWFVgI9ZzS3R09Pz582UyWUqKsn9/YUpw68JGrOeR48ePR0ZGikSimJgYGqoCE9ZzSHZ29tSpU+vr65ctWzZLwDjwUdit8PmirKzMz8/vypUrwcHB+/fvFwsYBz4KE9ZzBHdmTlJSUp8+fVJTUy0Fn7HrwG6FzxERERFJSUldunQ5dOgQVVWBCev5Ydu2bdHR0TKZ7ODBgy05MIsnTFjPC/7+/s7OzjExMYMGDTKCOzbHeo6oqKh43DFYgsOExaACuxUyqMCExaACExaDCkxYDCowYTGowITFoAITFoMKTFgMKjBhMajAhMWgAhMWgwpMWAwqMGExqMCExaACExaDCkxYDCowYTGowITFoAITFoMKTFgMKjBhMajAhMWgAhMWgwpMWAwqMGExqMCExaACExaDCkxYDCowYTGowITFoAITFoMKTFgMKjBhMajAhMWgAhMWgwpMWAwqMGExqMCExaDC/wNvrsyR+2rXvAAAAABJRU5ErkJggg==\" alt=\"Mol\"/></td>\n",
       "    </tr>\n",
       "    <tr>\n",
       "      <th>4</th>\n",
       "      <td>CHEMBL66031</td>\n",
       "      <td>0.008</td>\n",
       "      <td>nM</td>\n",
       "      <td>11.096910</td>\n",
       "      <td><img data-content=\"rdkit/molecule\" src=\"data:image/png;base64,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\" alt=\"Mol\"/></td>\n",
       "    </tr>\n",
       "  </tbody>\n",
       "</table>\n",
       "</div>"
      ],
      "text/plain": [
       "  molecule_chembl_id   IC50 units      pIC50  \\\n",
       "0        CHEMBL63786  0.003    nM  11.522879   \n",
       "1        CHEMBL35820  0.006    nM  11.221849   \n",
       "2        CHEMBL53711  0.006    nM  11.221849   \n",
       "3        CHEMBL53753  0.008    nM  11.096910   \n",
       "4        CHEMBL66031  0.008    nM  11.096910   \n",
       "\n",
       "                                               ROMol  \n",
       "0  <img data-content=\"rdkit/molecule\" src=\"data:i...  \n",
       "1  <img data-content=\"rdkit/molecule\" src=\"data:i...  \n",
       "2  <img data-content=\"rdkit/molecule\" src=\"data:i...  \n",
       "3  <img data-content=\"rdkit/molecule\" src=\"data:i...  \n",
       "4  <img data-content=\"rdkit/molecule\" src=\"data:i...  "
      ]
     },
     "execution_count": 43,
     "metadata": {},
     "output_type": "execute_result"
    }
   ],
   "source": [
    "output_df.drop(\"smiles\", axis=1).head()"
   ]
  },
  {
   "cell_type": "markdown",
   "metadata": {},
   "source": [
    "#### Write output data to file\n",
    "\n",
    "We want to use this bioactivity-compound dataset in the following talktorials, thus we save the data as `csv` file. \n",
    "Note that it is advisable to drop the molecule column (which only contains an image of the molecules) when saving the data."
   ]
  },
  {
   "cell_type": "code",
   "execution_count": 44,
   "metadata": {
    "scrolled": true
   },
   "outputs": [],
   "source": [
    "output_df.drop(\"ROMol\", axis=1).to_csv(\"../data/T1/EGFR_compounds.csv\")"
   ]
  },
  {
   "cell_type": "code",
   "execution_count": 45,
   "metadata": {},
   "outputs": [
    {
     "name": "stdout",
     "output_type": "stream",
     "text": [
      "DataFrame shape: (5444, 6)\n"
     ]
    }
   ],
   "source": [
    "print(f'DataFrame shape: {output_df.shape}')"
   ]
  },
  {
   "cell_type": "markdown",
   "metadata": {},
   "source": [
    "## Discussion"
   ]
  },
  {
   "cell_type": "markdown",
   "metadata": {},
   "source": [
    "In this tutorial, we collected bioactivity data for our target of interest from the ChEMBL database. \n",
    "We filtered the data set in order to only contain molecules with measured IC50 or pIC50 bioactivity values. \n",
    "\n",
    "Be aware that ChEMBL data originates from various sources. Compound data has been generated in different labs by different people all over the world. Therefore, we have to be cautious with the predictions we make using this data set. It is always important to consider the source of the data and consistency of data production assays when interpreting the results and determining how much confidence we have in our predictions.\n",
    "\n",
    "In the next tutorials, we will filter our acquired data by Lipinski's rule of five and by unwanted substructures. Another important step would be to clean the data and remove duplicates. As this is not shown in any of our talktorials (yet), we would like to refer to the  [`standardiser` library](https://github.com/flatkinson/standardiser) or [MolVS](https://molvs.readthedocs.io/en/latest/) as useful tools for this task."
   ]
  },
  {
   "cell_type": "markdown",
   "metadata": {},
   "source": [
    "## Quiz"
   ]
  },
  {
   "cell_type": "markdown",
   "metadata": {},
   "source": [
    "* We have downloaded in this talktorial molecules and bioactivity data from ChEMBL. What else is the ChEMBL database useful for?\n",
    "* What is the difference between IC50 and EC50?\n",
    "* What can we use the data extracted from ChEMBL for?"
   ]
  }
 ],
 "metadata": {
  "kernelspec": {
   "display_name": "teachopencadd",
   "language": "python",
   "name": "teachopencadd"
  },
  "language_info": {
   "codemirror_mode": {
    "name": "ipython",
    "version": 3
   },
   "file_extension": ".py",
   "mimetype": "text/x-python",
   "name": "python",
   "nbconvert_exporter": "python",
   "pygments_lexer": "ipython3",
   "version": "3.6.10"
  }
 },
 "nbformat": 4,
 "nbformat_minor": 4
}
