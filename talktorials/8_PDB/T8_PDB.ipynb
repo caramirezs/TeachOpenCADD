{
 "cells": [
  {
   "cell_type": "markdown",
   "metadata": {},
   "source": [
    "# Talktorial 8\n",
    "\n",
    "# Protein data acquisition: Protein Data Bank (PDB)\n",
    "\n",
    "#### Developed in the CADD seminars 2017 and 2018, AG Volkamer, Charité/FU Berlin \n",
    "\n",
    "Anja Georgi, Majid Vafadar and Dominique Sydow"
   ]
  },
  {
   "cell_type": "markdown",
   "metadata": {},
   "source": [
    "## Aim of this talktorial\n",
    "\n",
    "In this talktorial, we conduct the groundwork for the next talktorial where we will generate a ligand-based ensemble pharmacophore for EGFR. Therefore, we \n",
    "(i) fetch all PDB IDs for EGFR from the PDB database, \n",
    "(ii) retrieve five protein-ligand structures, which have the best structural quality and are derived from X-ray crystallography, and \n",
    "(iii) align all structures to each in 3D as well as extract and save the ligands to be used in the next talktorial.\n",
    "\n",
    "## Learning Goals\n",
    "\n",
    "### Theory\n",
    "* Protein Data Bank (PDB)\n",
    "* Python package PyPDB\n",
    " \n",
    "### Practical\n",
    "\n",
    "* Select query protein\n",
    "* Get statistic on PDB entries for query protein\n",
    "* Get all PDB IDs for query protein\n",
    "* Get meta information on PDB entries\n",
    "* Filter and sort meta information on PDB entries\n",
    "* Get meta information of ligands from top structures\n",
    "* Draw top ligand molecules\n",
    "* Create protein-ligand ID pairs\n",
    "* Get the PDB structure files\n",
    "* Align PDB structures\n",
    " \n",
    "## References\n",
    "\n",
    "* Protein Data Bank \n",
    "([PDB website](http://www.rcsb.org/pdb>))\n",
    "* PyPDB python package \n",
    "([<i>Bioinformatics</i> (2016), <b>32</b>, 159-60](https://academic.oup.com/bioinformatics/article-lookup/doi/10.1093/bioinformatics/btv543))\n",
    "* PyPDB python package documentation \n",
    "([PyPDB website](http://www.wgilpin.com/pypdb_docs/html/))\n",
    "* PyMol selection algebra \n",
    "([PyMolWiki: selection algebra](https://pymolwiki.org/index.php/Selection_Algebra))\n",
    "\n",
    "## Theory\n",
    "\n",
    "### Protein Data Bank (PDB)\n",
    "\n",
    "The Protein Data Bank (PDB) is one of the most comprehensive structural biology information databases and a key resource in areas of structural biology, such as structural genomics and drug design. ([PDB website](http://www.rcsb.org/pdb>))\n",
    "\n",
    "Structural data is generated from structural determination methods such as X-ray crystallography (most common method), nuclear magnetic resonance (NMR), and cryo electron microscopy (cryo-EM). \n",
    "For each entry, the database contains (i) the 3D coordinates of the atoms and the bonds connecting these atoms for proteins, ligand, cofactors, water molecules, and ions, as well as (ii) meta information on the structural data such as the PDB ID, the authors, the deposition date, the structural determination method used and the structural resolution.\n",
    "\n",
    "The structural resolution is a measure of the quality of the data that has been collected and has the unit Å (Angström). The lower the value, the higher the quality of the structure. \n",
    "\n",
    "The PDB website offers the 3D visualization of the protein structures (with ligand interactions if available) and the structure quality metrics, as can be seen for the PDB entry of an example epidermal growth factor receptor (EGFR) with the [PDB ID 3UG5](https://www.rcsb.org/structure/3UG5).\n",
    "\n",
    "<img src=\"./images/protein-ligand-complex.png\" align=\"above\" alt=\"Image cannot be shown\" width=\"400\">\n",
    "<div align=\"center\"> Figure 1: The protein structure (in gray) with an interacting ligand (in green) is shown for an example epidermal growth factor receptor (EGFR) with the PDB ID 3UG5 (figure by Dominique Sydow).</div>\n",
    "\n",
    "### PyPDB\n",
    "\n",
    "PyPDB is a python programming interface for the PDB and works exclusively in Python 3. \n",
    "This package facilitates the integration of automatic PDB searches within bioinformatics workflows and simplifies the process of performing multiple searches based on the results of existing searches. \n",
    "It also allows an advanced querying of information on PDB entries. \n",
    "The PDB currently uses a RESTful API that allows for the retrieval of information via standard HTML vocabulary. PyPDB converts these objects into XML strings. \n",
    "([<i>Bioinformatics</i> (2016), <b>32</b>, 159-60](https://academic.oup.com/bioinformatics/article-lookup/doi/10.1093/bioinformatics/btv543))\n",
    "\n",
    "A list of functions is provided on the PyPDB documentation website ([PyPDB website](http://www.wgilpin.com/pypdb_docs/html/))."
   ]
  },
  {
   "cell_type": "markdown",
   "metadata": {},
   "source": [
    "## Practical"
   ]
  },
  {
   "cell_type": "code",
   "execution_count": null,
   "outputs": [],
   "source": [
    "print(2+2)"
   ],
   "metadata": {
    "collapsed": false,
    "pycharm": {
     "name": "#%%\n"
    }
   }
  },
  {
   "cell_type": "code",
   "execution_count": 1,
   "metadata": {
    "collapsed": true
   },
   "outputs": [],
   "source": [
    "# Import necessary libraries\n",
    "from pypdb import *\n",
    "from pymol import *\n",
    "\n",
    "from rdkit import Chem\n",
    "from rdkit.Chem.Draw import IPythonConsole\n",
    "from rdkit.Chem import Draw\n",
    "from rdkit.Chem import PandasTools\n",
    "IPythonConsole.ipython_useSVG=True\n",
    "\n",
    "import pprint\n",
    "import glob\n",
    "\n",
    "import pandas as pd\n",
    "from array import array\n",
    "import numpy as np\n",
    "import collections\n",
    "\n",
    "import matplotlib.pyplot as plt\n",
    "%matplotlib inline"
   ]
  },
  {
   "cell_type": "markdown",
   "metadata": {},
   "source": [
    "### Select query protein\n",
    "\n",
    "We use EGFR as query protein for this talktorial. The UniProt ID of EGFR is `P00533`, which will be used in the following to query the PDB database.\n",
    "\n",
    "### Get statistic on PDB entries for query protein \n",
    "\n",
    "First, we ask the question: How many PDB entries are deposited in the PDB for EGFR per year and how many in total?\n",
    "\n",
    "We can do a search on the [PDB website](http://www.rcsb.org/pdb>) with the search term `P00533`. \n",
    "In October 2018, the PDB returned 179 search results.\n",
    "\n",
    "Using `pypdb`, we can find all deposition dates of EGFR structures from the PDB database. The number of deposited structures is needed to set the parameter `max_results` of the function `find_dates`."
   ]
  },
  {
   "cell_type": "code",
   "execution_count": 3,
   "metadata": {
    "collapsed": true,
    "scrolled": true
   },
   "outputs": [],
   "source": [
    "# Note: Parameter max_results default is 100, which is too low for EGFR\n",
    "# If max_results > maximal number of EGFR structures: error, \n",
    "# Therefore we checked beforehand how many results exist (#179)\n",
    "\n",
    "# This database query may take a moment (minute to couple of minutes)\n",
    "all_dates = find_dates(\"P00533\", max_results=179)  "
   ]
  },
  {
   "cell_type": "code",
   "execution_count": 4,
   "metadata": {
    "scrolled": true
   },
   "outputs": [
    {
     "name": "stdout",
     "output_type": "stream",
     "text": [
      "Number of EGFR structures found: 179\n"
     ]
    }
   ],
   "source": [
    "print(\"Number of EGFR structures found: \" + str(len(all_dates)))"
   ]
  },
  {
   "cell_type": "code",
   "execution_count": 5,
   "metadata": {},
   "outputs": [
    {
     "data": {
      "text/plain": [
       "['2002-03-28', '2002-06-17', '2002-06-17']"
      ]
     },
     "execution_count": 5,
     "metadata": {},
     "output_type": "execute_result"
    }
   ],
   "source": [
    "# Example of deposition dates\n",
    "all_dates[:3]"
   ]
  },
  {
   "cell_type": "markdown",
   "metadata": {},
   "source": [
    "We extract the year from the deposition dates and calculate a depositions-per-year histogram."
   ]
  },
  {
   "cell_type": "code",
   "execution_count": 6,
   "metadata": {},
   "outputs": [
    {
     "data": {
      "image/png": "[encoded data removed]",
      "text/plain": [
       "<Figure size 432x288 with 1 Axes>"
      ]
     },
     "metadata": {
      "needs_background": "light"
     },
     "output_type": "display_data"
    }
   ],
   "source": [
    "# Extract year\n",
    "all_dates = np.asarray(all_dates)\n",
    "all_years = np.asarray([int(depdate[:4]) for depdate in all_dates])\n",
    "\n",
    "# Calculate histogram\n",
    "bins = max(all_years)-min(all_years)  # Bin number = year range\n",
    "subs_v_time = np.histogram(all_years, bins)\n",
    "\n",
    "# All entries (excluding 2018) are plotted\n",
    "dates, num_entries = subs_v_time[1][:-1], subs_v_time[0]  \n",
    "\n",
    "# Show histogram\n",
    "fig = plt.figure()\n",
    "ax = plt.subplot(111)\n",
    "ax.fill_between(dates, 0, num_entries)\n",
    "ax.set_ylabel(\"New entries per year\")\n",
    "ax.set_xlabel(\"Year\")\n",
    "ax.set_title(\"PDB entries for EGFR\")\n",
    "plt.show()"
   ]
  },
  {
   "cell_type": "markdown",
   "metadata": {},
   "source": [
    "### Get all PDB IDs for query protein\n",
    "\n",
    "Now, we get all PDB structures for our query protein EGFR, using the `pypdb` function `make_query` and `do_search`."
   ]
  },
  {
   "cell_type": "code",
   "execution_count": 7,
   "metadata": {
    "scrolled": true
   },
   "outputs": [
    {
     "name": "stdout",
     "output_type": "stream",
     "text": [
      "PDB IDs found for query: \n",
      "['1IVO', '1M14', '1M17', '1MOX', '1XKK', '1YY9', '1Z9I', '2EB2', '2EB3', '2GS2', '2GS7', '2ITN', '2ITO', '2ITP', '2ITQ', '2ITT', '2ITU', '2ITV', '2ITW', '2ITX', '2ITY', '2ITZ', '2J5E', '2J5F', '2J6M', '2JIT', '2JIU', '2JIV', '2KS1', '2M0B', '2M20', '2N5S', '2RF9', '2RFD', '2RFE', '2RGP', '3B2U', '3B2V', '3BEL', '3BUO', '3C09', '3GOP', '3GT8', '3IKA', '3LZB', '3NJP', '3OB2', '3OP0', '3P0Y', '3PFV', '3POZ', '3QWQ', '3UG1', '3UG2', '3VJN', '3VJO', '3VRP', '3VRR', '3W2O', '3W2P', '3W2Q', '3W2R', '3W2S', '3W32', '3W33', '4G5J', '4G5P', '4HJO', '4I1Z', '4I20', '4I21', '4I22', '4I23', '4I24', '4JQ7', '4JQ8', '4JR3', '4JRV', '4KRL', '4KRM', '4KRO', '4KRP', '4LI5', '4LL0', '4LQM', '4LRM', '4R3P', '4R3R', '4R5S', '4RIW', '4RIX', '4RIY', '4RJ4', '4RJ5', '4RJ6', '4RJ7', '4RJ8', '4TKS', '4UIP', '4UV7', '4WD5', '4WKQ', '4WRG', '4ZAU', '4ZJV', '4ZSE', '5C8K', '5C8M', '5C8N', '5CAL', '5CAN', '5CAO', '5CAP', '5CAQ', '5CAS', '5CAU', '5CAV', '5CNN', '5CNO', '5CZH', '5CZI', '5D41', '5EDP', '5EDQ', '5EDR', '5EM5', '5EM6', '5EM7', '5EM8', '5FED', '5FEE', '5FEQ', '5GMP', '5GNK', '5GTY', '5GTZ', '5HCX', '5HCY', '5HCZ', '5HG5', '5HG7', '5HG8', '5HG9', '5HIB', '5HIC', '5J9Y', '5J9Z', '5JEB', '5LV6', '5SX4', '5SX5', '5U8L', '5UG8', '5UG9', '5UGA', '5UGB', '5UGC', '5UWD', '5WB7', '5WB8', '5X26', '5X27', '5X28', '5X2A', '5X2C', '5X2F', '5X2K', '5XDK', '5XDL', '5XGM', '5XGN', '5XWD', '5Y25', '5Y9T', '5YU9', '5ZWJ', '6ARU', '6B3S', '6D8E']\n",
      "\n",
      "Number of structures: 179\n"
     ]
    }
   ],
   "source": [
    "search_dict = make_query(\"P00533\")  # May run into timeout when max_results is 180 or more\n",
    "found_pdb_ids = do_search(search_dict)\n",
    "\n",
    "print(\"PDB IDs found for query: \")\n",
    "print(found_pdb_ids)\n",
    "\n",
    "print(\"\\nNumber of structures: \" + str(len(found_pdb_ids)))"
   ]
  },
  {
   "cell_type": "markdown",
   "metadata": {},
   "source": [
    "### Get meta information for PDB entries\n",
    "\n",
    "We use `describe_pdb` to get meta information about the structures, which is stored per structure as dictionary.\n",
    "\n",
    "Note: we only fetch meta information on PDB structures here, we do not fetch the structures (3D coordinates), yet."
   ]
  },
  {
   "cell_type": "code",
   "execution_count": 8,
   "metadata": {
    "scrolled": true
   },
   "outputs": [
    {
     "data": {
      "text/plain": [
       "{'relatedPDB': {'@pdbId': '1JL9',\n",
       "  '@details': '1JL9 contains dymeric human EGF molecules.'},\n",
       " 'structureId': '1IVO',\n",
       " 'title': 'Crystal Structure of the Complex of Human Epidermal Growth Factor and Receptor Extracellular Domains.',\n",
       " 'pubmedId': '12297050',\n",
       " 'expMethod': 'X-RAY DIFFRACTION',\n",
       " 'resolution': '3.30',\n",
       " 'keywords': 'TRANSFERASE/SIGNALING PROTEIN',\n",
       " 'nr_entities': '2',\n",
       " 'nr_residues': '1350',\n",
       " 'nr_atoms': '8813',\n",
       " 'deposition_date': '2002-03-28',\n",
       " 'release_date': '2002-10-16',\n",
       " 'last_modification_date': '2011-07-13',\n",
       " 'structure_authors': 'Ogiso, H., Ishitani, R., Nureki, O., Fukai, S., Yamanaka, M., Kim, J.H., Saito, K., Shirouzu, M., Yokoyama, S., RIKEN Structural Genomics/Proteomics Initiative (RSGI)',\n",
       " 'citation_authors': 'Ogiso, H., Ishitani, R., Nureki, O., Fukai, S., Yamanaka, M., Kim, J.H., Saito, K., Inoue, M., Shirouzu, M., Yokoyama, S.',\n",
       " 'status': 'CURRENT'}"
      ]
     },
     "execution_count": 8,
     "metadata": {},
     "output_type": "execute_result"
    }
   ],
   "source": [
    "# This database query may take a moment\n",
    "pdbs = []\n",
    "for i in found_pdb_ids:\n",
    "  pdbs.append(describe_pdb(i))\n",
    "\n",
    "pdbs[0]"
   ]
  },
  {
   "cell_type": "markdown",
   "metadata": {},
   "source": [
    "### Filter and sort meta information on PDB entries\n",
    "\n",
    "Since we want to use the information to filter for relevant PDB structures, we convert the data set from dictionary to DataFrame for easier handling."
   ]
  },
  {
   "cell_type": "code",
   "execution_count": 9,
   "metadata": {
    "scrolled": true
   },
   "outputs": [
    {
     "data": {
      "text/html": [
       "<div>\n",
       "<style scoped>\n",
       "    .dataframe tbody tr th:only-of-type {\n",
       "        vertical-align: middle;\n",
       "    }\n",
       "\n",
       "    .dataframe tbody tr th {\n",
       "        vertical-align: top;\n",
       "    }\n",
       "\n",
       "    .dataframe thead th {\n",
       "        text-align: right;\n",
       "    }\n",
       "</style>\n",
       "<table border=\"1\" class=\"dataframe\">\n",
       "  <thead>\n",
       "    <tr style=\"text-align: right;\">\n",
       "      <th></th>\n",
       "      <th>citation_authors</th>\n",
       "      <th>deposition_date</th>\n",
       "      <th>expMethod</th>\n",
       "      <th>keywords</th>\n",
       "      <th>last_modification_date</th>\n",
       "      <th>nr_atoms</th>\n",
       "      <th>nr_entities</th>\n",
       "      <th>nr_residues</th>\n",
       "      <th>pubmedCentralId</th>\n",
       "      <th>pubmedId</th>\n",
       "      <th>relatedPDB</th>\n",
       "      <th>release_date</th>\n",
       "      <th>resolution</th>\n",
       "      <th>status</th>\n",
       "      <th>structureId</th>\n",
       "      <th>structure_authors</th>\n",
       "      <th>title</th>\n",
       "    </tr>\n",
       "  </thead>\n",
       "  <tbody>\n",
       "    <tr>\n",
       "      <th>0</th>\n",
       "      <td>Ogiso, H., Ishitani, R., Nureki, O., Fukai, S., Yamanaka, M., Kim, J.H., Saito, K., Inoue, M., Shirouzu, M., Yokoyama, S.</td>\n",
       "      <td>2002-03-28</td>\n",
       "      <td>X-RAY DIFFRACTION</td>\n",
       "      <td>TRANSFERASE/SIGNALING PROTEIN</td>\n",
       "      <td>2011-07-13</td>\n",
       "      <td>8813</td>\n",
       "      <td>2</td>\n",
       "      <td>1350</td>\n",
       "      <td>NaN</td>\n",
       "      <td>12297050</td>\n",
       "      <td>{'@pdbId': '1JL9', '@details': '1JL9 contains dymeric human EGF molecules.'}</td>\n",
       "      <td>2002-10-16</td>\n",
       "      <td>3.30</td>\n",
       "      <td>CURRENT</td>\n",
       "      <td>1IVO</td>\n",
       "      <td>Ogiso, H., Ishitani, R., Nureki, O., Fukai, S., Yamanaka, M., Kim, J.H., Saito, K., Shirouzu, M., Yokoyama, S., RIKEN Structural Genomics/Proteomics Initiative (RSGI)</td>\n",
       "      <td>Crystal Structure of the Complex of Human Epidermal Growth Factor and Receptor Extracellular Domains.</td>\n",
       "    </tr>\n",
       "    <tr>\n",
       "      <th>1</th>\n",
       "      <td>Stamos, J., Sliwkowski, M.X., Eigenbrot, C.</td>\n",
       "      <td>2002-06-17</td>\n",
       "      <td>X-RAY DIFFRACTION</td>\n",
       "      <td>TRANSFERASE</td>\n",
       "      <td>2011-07-13</td>\n",
       "      <td>2452</td>\n",
       "      <td>1</td>\n",
       "      <td>333</td>\n",
       "      <td>NaN</td>\n",
       "      <td>12196540</td>\n",
       "      <td>{'@pdbId': '1M17', '@details': 'Epidermal Growth Factor Receptor tyrosine kinase domain with  4-anilinoquinazoline inhibitor erlotinib'}</td>\n",
       "      <td>2002-09-04</td>\n",
       "      <td>2.60</td>\n",
       "      <td>CURRENT</td>\n",
       "      <td>1M14</td>\n",
       "      <td>Stamos, J., Sliwkowski, M.X., Eigenbrot, C.</td>\n",
       "      <td>Tyrosine Kinase Domain from Epidermal Growth Factor Receptor</td>\n",
       "    </tr>\n",
       "    <tr>\n",
       "      <th>2</th>\n",
       "      <td>Stamos, J., Sliwkowski, M.X., Eigenbrot, C.</td>\n",
       "      <td>2002-06-17</td>\n",
       "      <td>X-RAY DIFFRACTION</td>\n",
       "      <td>TRANSFERASE</td>\n",
       "      <td>2011-07-13</td>\n",
       "      <td>2540</td>\n",
       "      <td>1</td>\n",
       "      <td>333</td>\n",
       "      <td>NaN</td>\n",
       "      <td>12196540</td>\n",
       "      <td>{'@pdbId': '1M14', '@details': 'Apo-form Epidermal Growth Factor Receptor kinase domain'}</td>\n",
       "      <td>2002-09-04</td>\n",
       "      <td>2.60</td>\n",
       "      <td>CURRENT</td>\n",
       "      <td>1M17</td>\n",
       "      <td>Stamos, J., Sliwkowski, M.X., Eigenbrot, C.</td>\n",
       "      <td>Epidermal Growth Factor Receptor tyrosine kinase domain with 4-anilinoquinazoline inhibitor erlotinib</td>\n",
       "    </tr>\n",
       "    <tr>\n",
       "      <th>3</th>\n",
       "      <td>Garrett, T.P.J., McKern, N.M., Lou, M., Elleman, T.C., Adams, T.E., Lovrecz, G.O., Zhu, H.-J., Walker, F., Frenkel, M.J., Hoyne, P.A., Jorissen, R.N., Nice, E.C., Burgess, A.W., Ward, C.W.</td>\n",
       "      <td>2002-09-10</td>\n",
       "      <td>X-RAY DIFFRACTION</td>\n",
       "      <td>transferase/growth factor</td>\n",
       "      <td>2011-07-13</td>\n",
       "      <td>8607</td>\n",
       "      <td>2</td>\n",
       "      <td>1102</td>\n",
       "      <td>NaN</td>\n",
       "      <td>12297049</td>\n",
       "      <td>[{'@pdbId': '1IGR', '@details': '1IGR contains Equivalent froagment of Insulin-like Growth Factor Receptor'}, {'@pdbId': '1M6B', '@details': '1M6B contains ErbB3, homologous protein'}, {'@pdbId': '2TGF', '@details': '2TGF contains NMR structure the same protein, free ligand'}]</td>\n",
       "      <td>2003-09-10</td>\n",
       "      <td>2.50</td>\n",
       "      <td>CURRENT</td>\n",
       "      <td>1MOX</td>\n",
       "      <td>Garrett, T.P.J., McKern, N.M., Lou, M., Elleman, T.C., Adams, T.E., Lovrecz, G.O., Zhu, H.-J., Walker, F., Frenkel, M.J., Hoyne, P.A., Jorissen, R.N., Nice, E.C., Burgess, A.W., Ward, C.W.</td>\n",
       "      <td>Crystal Structure of Human Epidermal Growth Factor Receptor (residues 1-501) in complex with TGF-alpha</td>\n",
       "    </tr>\n",
       "    <tr>\n",
       "      <th>4</th>\n",
       "      <td>Wood, E.R., Truesdale, A.T., McDonald, O.B., Yuan, D., Hassell, A., Dickerson, S.H., Ellis, B., Pennisi, C., Horne, E., Lackey, K., Alligood, K.J., Rusnak, D.W., Gilmer, T.M., Shewchuk, L.</td>\n",
       "      <td>2004-09-29</td>\n",
       "      <td>X-RAY DIFFRACTION</td>\n",
       "      <td>TRANSFERASE</td>\n",
       "      <td>2011-07-13</td>\n",
       "      <td>2299</td>\n",
       "      <td>1</td>\n",
       "      <td>352</td>\n",
       "      <td>NaN</td>\n",
       "      <td>15374980</td>\n",
       "      <td>NaN</td>\n",
       "      <td>2004-12-07</td>\n",
       "      <td>2.40</td>\n",
       "      <td>CURRENT</td>\n",
       "      <td>1XKK</td>\n",
       "      <td>Wood, E.R., Truesdale, A.T., McDonald, O.B., Yuan, D., Hassell, A., Dickerson, S.H., Ellis, B., Pennisi, C., Horne, E., Lackey, K., Alligood, K.J., Rusnak, D.W., Gilmer, T.M., Shewchuk, L.M.</td>\n",
       "      <td>EGFR kinase domain complexed with a quinazoline inhibitor- GW572016</td>\n",
       "    </tr>\n",
       "  </tbody>\n",
       "</table>\n",
       "</div>"
      ],
      "text/plain": [
       "                                                                                                                                                                               citation_authors deposition_date          expMethod                       keywords last_modification_date nr_atoms nr_entities nr_residues pubmedCentralId  pubmedId                                                                                                                                                                                                                                                                             relatedPDB release_date resolution   status structureId                                                                                                                                                                               structure_authors                                                                                                   title\n",
       "0                                                                     Ogiso, H., Ishitani, R., Nureki, O., Fukai, S., Yamanaka, M., Kim, J.H., Saito, K., Inoue, M., Shirouzu, M., Yokoyama, S.      2002-03-28  X-RAY DIFFRACTION  TRANSFERASE/SIGNALING PROTEIN             2011-07-13     8813           2        1350             NaN  12297050                                                                                                                                                                                                           {'@pdbId': '1JL9', '@details': '1JL9 contains dymeric human EGF molecules.'}   2002-10-16       3.30  CURRENT        1IVO                          Ogiso, H., Ishitani, R., Nureki, O., Fukai, S., Yamanaka, M., Kim, J.H., Saito, K., Shirouzu, M., Yokoyama, S., RIKEN Structural Genomics/Proteomics Initiative (RSGI)   Crystal Structure of the Complex of Human Epidermal Growth Factor and Receptor Extracellular Domains.\n",
       "1                                                                                                                                                   Stamos, J., Sliwkowski, M.X., Eigenbrot, C.      2002-06-17  X-RAY DIFFRACTION                    TRANSFERASE             2011-07-13     2452           1         333             NaN  12196540                                                                                                                                               {'@pdbId': '1M17', '@details': 'Epidermal Growth Factor Receptor tyrosine kinase domain with  4-anilinoquinazoline inhibitor erlotinib'}   2002-09-04       2.60  CURRENT        1M14                                                                                                                                                     Stamos, J., Sliwkowski, M.X., Eigenbrot, C.                                            Tyrosine Kinase Domain from Epidermal Growth Factor Receptor\n",
       "2                                                                                                                                                   Stamos, J., Sliwkowski, M.X., Eigenbrot, C.      2002-06-17  X-RAY DIFFRACTION                    TRANSFERASE             2011-07-13     2540           1         333             NaN  12196540                                                                                                                                                                                              {'@pdbId': '1M14', '@details': 'Apo-form Epidermal Growth Factor Receptor kinase domain'}   2002-09-04       2.60  CURRENT        1M17                                                                                                                                                     Stamos, J., Sliwkowski, M.X., Eigenbrot, C.   Epidermal Growth Factor Receptor tyrosine kinase domain with 4-anilinoquinazoline inhibitor erlotinib\n",
       "3  Garrett, T.P.J., McKern, N.M., Lou, M., Elleman, T.C., Adams, T.E., Lovrecz, G.O., Zhu, H.-J., Walker, F., Frenkel, M.J., Hoyne, P.A., Jorissen, R.N., Nice, E.C., Burgess, A.W., Ward, C.W.      2002-09-10  X-RAY DIFFRACTION      transferase/growth factor             2011-07-13     8607           2        1102             NaN  12297049  [{'@pdbId': '1IGR', '@details': '1IGR contains Equivalent froagment of Insulin-like Growth Factor Receptor'}, {'@pdbId': '1M6B', '@details': '1M6B contains ErbB3, homologous protein'}, {'@pdbId': '2TGF', '@details': '2TGF contains NMR structure the same protein, free ligand'}]   2003-09-10       2.50  CURRENT        1MOX    Garrett, T.P.J., McKern, N.M., Lou, M., Elleman, T.C., Adams, T.E., Lovrecz, G.O., Zhu, H.-J., Walker, F., Frenkel, M.J., Hoyne, P.A., Jorissen, R.N., Nice, E.C., Burgess, A.W., Ward, C.W.  Crystal Structure of Human Epidermal Growth Factor Receptor (residues 1-501) in complex with TGF-alpha\n",
       "4  Wood, E.R., Truesdale, A.T., McDonald, O.B., Yuan, D., Hassell, A., Dickerson, S.H., Ellis, B., Pennisi, C., Horne, E., Lackey, K., Alligood, K.J., Rusnak, D.W., Gilmer, T.M., Shewchuk, L.      2004-09-29  X-RAY DIFFRACTION                    TRANSFERASE             2011-07-13     2299           1         352             NaN  15374980                                                                                                                                                                                                                                                                                    NaN   2004-12-07       2.40  CURRENT        1XKK  Wood, E.R., Truesdale, A.T., McDonald, O.B., Yuan, D., Hassell, A., Dickerson, S.H., Ellis, B., Pennisi, C., Horne, E., Lackey, K., Alligood, K.J., Rusnak, D.W., Gilmer, T.M., Shewchuk, L.M.                                     EGFR kinase domain complexed with a quinazoline inhibitor- GW572016"
      ]
     },
     "execution_count": 9,
     "metadata": {},
     "output_type": "execute_result"
    }
   ],
   "source": [
    "pdbs = pd.DataFrame(pdbs)\n",
    "pdbs.head()"
   ]
  },
  {
   "cell_type": "code",
   "execution_count": 10,
   "metadata": {
    "scrolled": true
   },
   "outputs": [
    {
     "name": "stdout",
     "output_type": "stream",
     "text": [
      "Number of PDB structures for EGFR: 179\n"
     ]
    }
   ],
   "source": [
    "print(\"Number of PDB structures for EGFR: \" + str(len(pdbs)))"
   ]
  },
  {
   "cell_type": "markdown",
   "metadata": {},
   "source": [
    "We start filtering our dataset based on the following criteria:\n",
    "\n",
    "#### 1. Experimental method: X-ray diffraction\n",
    "\n",
    "We only keep structures resolved by `X-RAY DIFFRACTION`, the most commonly used structure determination method. "
   ]
  },
  {
   "cell_type": "code",
   "execution_count": 11,
   "metadata": {
    "scrolled": true
   },
   "outputs": [
    {
     "name": "stdout",
     "output_type": "stream",
     "text": [
      "Number of PDB structures for EGFR from X-ray: 173\n"
     ]
    }
   ],
   "source": [
    "pdbs = pdbs[pdbs.expMethod ==\"X-RAY DIFFRACTION\"]\n",
    "print(\"Number of PDB structures for EGFR from X-ray: \" + str(len(pdbs)))"
   ]
  },
  {
   "cell_type": "markdown",
   "metadata": {},
   "source": [
    "#### 2. Structural resolution\n",
    "\n",
    "We only keep structures with a resolution equal or lower than 3 Å (Angström). The lower the resolution value, the higher is the quality of the structure (= the higher is the certainty that the assigned 3D coordinates of the atoms are correct). Below 3 Å, atomic orientations can be determined  and therefore is often used as threshold for structures relevant for structure-based drug design."
   ]
  },
  {
   "cell_type": "code",
   "execution_count": 12,
   "metadata": {
    "scrolled": true
   },
   "outputs": [
    {
     "name": "stdout",
     "output_type": "stream",
     "text": [
      "Number of PDB structures for EGFR from X-ray with resolution <= 3.0 Angström: 140\n"
     ]
    }
   ],
   "source": [
    "pdbs_resolution = [float(i) for i in pdbs.resolution.tolist()]\n",
    "pdbs = pdbs[[i <= 3.0 for i in pdbs_resolution]]\n",
    "\n",
    "print(\"Number of PDB structures for EGFR from X-ray with resolution <= 3.0 Angström: \" + str(len(pdbs)))"
   ]
  },
  {
   "cell_type": "markdown",
   "metadata": {},
   "source": [
    "We sort the data set by the structural resolution. "
   ]
  },
  {
   "cell_type": "code",
   "execution_count": 13,
   "metadata": {
    "collapsed": true,
    "scrolled": true
   },
   "outputs": [],
   "source": [
    "pdbs = pdbs.sort_values([\"resolution\"], \n",
    "                        ascending=True, \n",
    "                        na_position='last')"
   ]
  },
  {
   "cell_type": "markdown",
   "metadata": {},
   "source": [
    "We check the top PDB structures (sorted by resolution): "
   ]
  },
  {
   "cell_type": "code",
   "execution_count": 14,
   "metadata": {
    "scrolled": true
   },
   "outputs": [
    {
     "data": {
      "text/html": [
       "<div>\n",
       "<style scoped>\n",
       "    .dataframe tbody tr th:only-of-type {\n",
       "        vertical-align: middle;\n",
       "    }\n",
       "\n",
       "    .dataframe tbody tr th {\n",
       "        vertical-align: top;\n",
       "    }\n",
       "\n",
       "    .dataframe thead th {\n",
       "        text-align: right;\n",
       "    }\n",
       "</style>\n",
       "<table border=\"1\" class=\"dataframe\">\n",
       "  <thead>\n",
       "    <tr style=\"text-align: right;\">\n",
       "      <th></th>\n",
       "      <th>structureId</th>\n",
       "      <th>resolution</th>\n",
       "    </tr>\n",
       "  </thead>\n",
       "  <tbody>\n",
       "    <tr>\n",
       "      <th>153</th>\n",
       "      <td>5UG9</td>\n",
       "      <td>1.33</td>\n",
       "    </tr>\n",
       "    <tr>\n",
       "      <th>141</th>\n",
       "      <td>5HG8</td>\n",
       "      <td>1.42</td>\n",
       "    </tr>\n",
       "    <tr>\n",
       "      <th>152</th>\n",
       "      <td>5UG8</td>\n",
       "      <td>1.46</td>\n",
       "    </tr>\n",
       "    <tr>\n",
       "      <th>50</th>\n",
       "      <td>3POZ</td>\n",
       "      <td>1.50</td>\n",
       "    </tr>\n",
       "    <tr>\n",
       "      <th>139</th>\n",
       "      <td>5HG5</td>\n",
       "      <td>1.52</td>\n",
       "    </tr>\n",
       "  </tbody>\n",
       "</table>\n",
       "</div>"
      ],
      "text/plain": [
       "    structureId resolution\n",
       "153        5UG9       1.33\n",
       "141        5HG8       1.42\n",
       "152        5UG8       1.46\n",
       "50         3POZ       1.50\n",
       "139        5HG5       1.52"
      ]
     },
     "execution_count": 14,
     "metadata": {},
     "output_type": "execute_result"
    }
   ],
   "source": [
    "pdbs.head()[[\"structureId\", \"resolution\"]]"
   ]
  },
  {
   "cell_type": "markdown",
   "metadata": {},
   "source": [
    "#### 3. Ligand-bound structures\n",
    "\n",
    "Since we will create ensemble ligand-based pharmacophores in the next talktorial, we remove all PDB structures from our DataFrame, which do not contain a bound ligand: we use the `pypdb` function `get_ligands` to check/retrieve the ligand(s) from a PDB structure. PDB-annotated ligands can be ligands, cofactors, but also solvents and ions. In order to filter only ligand-bound structures, we (i) remove all structures without any annotated ligand and (ii) remove all structures that do not contain any ligands with a molecular weight (MW) greater than 100 Da (Dalton), since many solvents and ions weight less. Note: this is a simple, but not comprehensive exclusion of solvents and ions. "
   ]
  },
  {
   "cell_type": "code",
   "execution_count": 15,
   "metadata": {
    "collapsed": true
   },
   "outputs": [],
   "source": [
    "# Get all PDB IDs from DataFrame\n",
    "pdb_ids = pdbs[\"structureId\"].get_values().tolist()"
   ]
  },
  {
   "cell_type": "code",
   "execution_count": 16,
   "metadata": {
    "scrolled": true
   },
   "outputs": [
    {
     "name": "stdout",
     "output_type": "stream",
     "text": [
      "PDB structures without a ligand (removed from our data set):\n",
      "['2EB2', '1M14', '3GOP', '2GS2', '5EDP', '2RFE', '4I1Z']\n"
     ]
    }
   ],
   "source": [
    "# Remove structures \n",
    "# (i) without ligand and \n",
    "# (ii) without any ligands with molecular weight (MW) greater than 100 Da (Dalton)\n",
    "\n",
    "mw_cutoff = 100.0  # Molecular weight cutoff in Da\n",
    "\n",
    "# This database query may take a moment\n",
    "removed_pdb_ids = []\n",
    "for i in pdb_ids:\n",
    "    ligand_dict = get_ligands(i)\n",
    "    \n",
    "    # (i) Remove structure if no ligand present\n",
    "    if ligand_dict[\"ligandInfo\"] is None:\n",
    "        pdb_ids.remove(i) # Remove ligand-free PDB IDs from list\n",
    "        removed_pdb_ids.append(i) # Store ligand-free PDB IDs\n",
    "    \n",
    "    # (ii) Remove structure if not a single annotated ligand has a MW above mw_cutoff\n",
    "    else:\n",
    "        # Get ligand information\n",
    "        ligs = ligand_dict[\"ligandInfo\"][\"ligand\"]\n",
    "        # Technicality: if only one ligand, cast dict to list (for the subsequent list comprehension)\n",
    "        if type(ligs) == dict:\n",
    "            ligs = [ligs]\n",
    "        # Get MW per annotated ligand\n",
    "        mw_list = [float(i[\"@molecularWeight\"]) for i in ligs]\n",
    "        # Remove structure if not a single annotated ligand has a MW above mw_cutoff\n",
    "        if sum([mw > mw_cutoff for mw in mw_list]) == 0:\n",
    "            pdb_ids.remove(i) # Remove ligand-free PDB IDs from list\n",
    "            removed_pdb_ids.append(i) # Store ligand-free PDB IDs\n",
    "\n",
    "print(\"PDB structures without a ligand (removed from our data set):\")\n",
    "print(removed_pdb_ids)"
   ]
  },
  {
   "cell_type": "code",
   "execution_count": 17,
   "metadata": {
    "scrolled": true
   },
   "outputs": [
    {
     "name": "stdout",
     "output_type": "stream",
     "text": [
      "Number of structures with ligand: 133\n"
     ]
    }
   ],
   "source": [
    "print(\"Number of structures with ligand: \" + str(len(pdb_ids)))"
   ]
  },
  {
   "cell_type": "markdown",
   "metadata": {},
   "source": [
    "### Get meta information of ligands from top structures\n",
    "\n",
    "In the next talktorial, we will build ligand-based ensemble pharmacophores from the top `top_num` structures with the highest resolution."
   ]
  },
  {
   "cell_type": "code",
   "execution_count": 18,
   "metadata": {
    "scrolled": true
   },
   "outputs": [
    {
     "data": {
      "text/plain": [
       "['5UG9', '5HG8', '5UG8', '3POZ']"
      ]
     },
     "execution_count": 18,
     "metadata": {},
     "output_type": "execute_result"
    }
   ],
   "source": [
    "top_num = 4  # Number of top structures\n",
    "pdb_ids = pdb_ids[0:top_num]\n",
    "pdb_ids"
   ]
  },
  {
   "cell_type": "markdown",
   "metadata": {},
   "source": [
    "We fetch the PDB information about the top `top_num` ligands using `get_ligands`, to be stored as *csv* file (as dictionary per ligand).\n",
    "\n",
    "If a structure contains several ligands, we select the largest ligand. Note: this is a simple, but not comprehensive method to select ligand binding the binding site of a protein. This approach may also select a cofactor bound to the protein. Therefore, please check the automatically selected top ligands in PyMol for further usage."
   ]
  },
  {
   "cell_type": "code",
   "execution_count": 19,
   "metadata": {
    "scrolled": true
   },
   "outputs": [
    {
     "data": {
      "text/html": [
       "<div>\n",
       "<style scoped>\n",
       "    .dataframe tbody tr th:only-of-type {\n",
       "        vertical-align: middle;\n",
       "    }\n",
       "\n",
       "    .dataframe tbody tr th {\n",
       "        vertical-align: top;\n",
       "    }\n",
       "\n",
       "    .dataframe thead th {\n",
       "        text-align: right;\n",
       "    }\n",
       "</style>\n",
       "<table border=\"1\" class=\"dataframe\">\n",
       "  <thead>\n",
       "    <tr style=\"text-align: right;\">\n",
       "      <th></th>\n",
       "      <th>@chemicalID</th>\n",
       "      <th>@molecularWeight</th>\n",
       "      <th>@structureId</th>\n",
       "      <th>@type</th>\n",
       "      <th>InChI</th>\n",
       "      <th>InChIKey</th>\n",
       "      <th>chemicalName</th>\n",
       "      <th>formula</th>\n",
       "      <th>smiles</th>\n",
       "    </tr>\n",
       "  </thead>\n",
       "  <tbody>\n",
       "    <tr>\n",
       "      <th>0</th>\n",
       "      <td>8AM</td>\n",
       "      <td>445.494</td>\n",
       "      <td>5UG9</td>\n",
       "      <td>non-polymer</td>\n",
       "      <td>InChI=1S/C20H28FN9O2/c1-6-15(31)23-13-9-29(7-12(13)21)20-25-17(24-14-8-28(4)27-19(14)32-5)16-18(26-20)30(10-22-16)11(2)3/h8,10-13H,6-7,9H2,1-5H3,(H,23,31)(H,24,25,26)/t12-,13-/m1/s1</td>\n",
       "      <td>MJLFLAORJNTNDV-CHWSQXEVSA-N</td>\n",
       "      <td>N-[(3R,4R)-4-fluoro-1-{6-[(3-methoxy-1-methyl-1H-pyrazol-4-yl)amino]-9-(propan-2-yl)-9H-purin-2-yl}pyrrolidin-3-yl]propanamide</td>\n",
       "      <td>C20 H28 F N9 O2</td>\n",
       "      <td>CCC(=O)N[C@@H]1CN(C[C@H]1F)c2nc(c3c(n2)n(cn3)C(C)C)Nc4cn(nc4OC)C</td>\n",
       "    </tr>\n",
       "    <tr>\n",
       "      <th>1</th>\n",
       "      <td>634</td>\n",
       "      <td>377.4</td>\n",
       "      <td>5HG8</td>\n",
       "      <td>non-polymer</td>\n",
       "      <td>InChI=1S/C19H19N7O2/c1-3-16(27)22-12-5-4-6-14(9-12)28-18-15-7-8-20-17(15)24-19(25-18)23-13-10-21-26(2)11-13/h4-11H,3H2,1-2H3,(H,22,27)(H2,20,23,24,25)</td>\n",
       "      <td>YWNHZBNRKJYHTR-UHFFFAOYSA-N</td>\n",
       "      <td>N-[3-({2-[(1-methyl-1H-pyrazol-4-yl)amino]-7H-pyrrolo[2,3-d]pyrimidin-4-yl}oxy)phenyl]propanamide</td>\n",
       "      <td>C19 H19 N7 O2</td>\n",
       "      <td>CCC(=O)Nc1cccc(c1)Oc2c3cc[nH]c3nc(n2)Nc4cnn(c4)C</td>\n",
       "    </tr>\n",
       "    <tr>\n",
       "      <th>2</th>\n",
       "      <td>8BP</td>\n",
       "      <td>415.468</td>\n",
       "      <td>5UG8</td>\n",
       "      <td>non-polymer</td>\n",
       "      <td>InChI=1S/C19H26FN9O/c1-5-15(30)24-14-9-28(8-13(14)20)19-25-17(23-12-6-22-27(4)7-12)16-18(26-19)29(10-21-16)11(2)3/h6-7,10-11,13-14H,5,8-9H2,1-4H3,(H,24,30)(H,23,25,26)/t13-,14-/m1/s1</td>\n",
       "      <td>CGULPICMFDDQRH-ZIAGYGMSSA-N</td>\n",
       "      <td>N-[(3R,4R)-4-fluoro-1-{6-[(1-methyl-1H-pyrazol-4-yl)amino]-9-(propan-2-yl)-9H-purin-2-yl}pyrrolidin-3-yl]propanamide</td>\n",
       "      <td>C19 H26 F N9 O</td>\n",
       "      <td>CCC(=O)N[C@@H]1CN(C[C@H]1F)c2nc(c3c(n2)n(cn3)C(C)C)Nc4cnn(c4)C</td>\n",
       "    </tr>\n",
       "    <tr>\n",
       "      <th>3</th>\n",
       "      <td>03P</td>\n",
       "      <td>547.957</td>\n",
       "      <td>3POZ</td>\n",
       "      <td>non-polymer</td>\n",
       "      <td>InChI=1S/C26H25ClF3N5O3/c1-25(2,37)14-22(36)31-9-11-35-10-8-20-23(35)24(33-15-32-20)34-17-6-7-21(19(27)13-17)38-18-5-3-4-16(12-18)26(28,29)30/h3-8,10,12-13,15,37H,9,11,14H2,1-2H3,(H,31,36)(H,32,33,34)</td>\n",
       "      <td>ZYQXEVJIFYIBHZ-UHFFFAOYSA-N</td>\n",
       "      <td>N-{2-[4-({3-chloro-4-[3-(trifluoromethyl)phenoxy]phenyl}amino)-5H-pyrrolo[3,2-d]pyrimidin-5-yl]ethyl}-3-hydroxy-3-methylbutanamide</td>\n",
       "      <td>C26 H25 Cl F3 N5 O3</td>\n",
       "      <td>CC(C)(CC(=O)NCCn1ccc2c1c(ncn2)Nc3ccc(c(c3)Cl)Oc4cccc(c4)C(F)(F)F)O</td>\n",
       "    </tr>\n",
       "  </tbody>\n",
       "</table>\n",
       "</div>"
      ],
      "text/plain": [
       "  @chemicalID @molecularWeight @structureId        @type                                                                                                                                                                                                     InChI                     InChIKey                                                                                                                        chemicalName              formula                                                              smiles\n",
       "0         8AM          445.494         5UG9  non-polymer                     InChI=1S/C20H28FN9O2/c1-6-15(31)23-13-9-29(7-12(13)21)20-25-17(24-14-8-28(4)27-19(14)32-5)16-18(26-20)30(10-22-16)11(2)3/h8,10-13H,6-7,9H2,1-5H3,(H,23,31)(H,24,25,26)/t12-,13-/m1/s1  MJLFLAORJNTNDV-CHWSQXEVSA-N      N-[(3R,4R)-4-fluoro-1-{6-[(3-methoxy-1-methyl-1H-pyrazol-4-yl)amino]-9-(propan-2-yl)-9H-purin-2-yl}pyrrolidin-3-yl]propanamide      C20 H28 F N9 O2    CCC(=O)N[C@@H]1CN(C[C@H]1F)c2nc(c3c(n2)n(cn3)C(C)C)Nc4cn(nc4OC)C\n",
       "1         634            377.4         5HG8  non-polymer                                                    InChI=1S/C19H19N7O2/c1-3-16(27)22-12-5-4-6-14(9-12)28-18-15-7-8-20-17(15)24-19(25-18)23-13-10-21-26(2)11-13/h4-11H,3H2,1-2H3,(H,22,27)(H2,20,23,24,25)  YWNHZBNRKJYHTR-UHFFFAOYSA-N                                   N-[3-({2-[(1-methyl-1H-pyrazol-4-yl)amino]-7H-pyrrolo[2,3-d]pyrimidin-4-yl}oxy)phenyl]propanamide        C19 H19 N7 O2                    CCC(=O)Nc1cccc(c1)Oc2c3cc[nH]c3nc(n2)Nc4cnn(c4)C\n",
       "2         8BP          415.468         5UG8  non-polymer                    InChI=1S/C19H26FN9O/c1-5-15(30)24-14-9-28(8-13(14)20)19-25-17(23-12-6-22-27(4)7-12)16-18(26-19)29(10-21-16)11(2)3/h6-7,10-11,13-14H,5,8-9H2,1-4H3,(H,24,30)(H,23,25,26)/t13-,14-/m1/s1  CGULPICMFDDQRH-ZIAGYGMSSA-N                N-[(3R,4R)-4-fluoro-1-{6-[(1-methyl-1H-pyrazol-4-yl)amino]-9-(propan-2-yl)-9H-purin-2-yl}pyrrolidin-3-yl]propanamide       C19 H26 F N9 O      CCC(=O)N[C@@H]1CN(C[C@H]1F)c2nc(c3c(n2)n(cn3)C(C)C)Nc4cnn(c4)C\n",
       "3         03P          547.957         3POZ  non-polymer  InChI=1S/C26H25ClF3N5O3/c1-25(2,37)14-22(36)31-9-11-35-10-8-20-23(35)24(33-15-32-20)34-17-6-7-21(19(27)13-17)38-18-5-3-4-16(12-18)26(28,29)30/h3-8,10,12-13,15,37H,9,11,14H2,1-2H3,(H,31,36)(H,32,33,34)  ZYQXEVJIFYIBHZ-UHFFFAOYSA-N  N-{2-[4-({3-chloro-4-[3-(trifluoromethyl)phenoxy]phenyl}amino)-5H-pyrrolo[3,2-d]pyrimidin-5-yl]ethyl}-3-hydroxy-3-methylbutanamide  C26 H25 Cl F3 N5 O3  CC(C)(CC(=O)NCCn1ccc2c1c(ncn2)Nc3ccc(c(c3)Cl)Oc4cccc(c4)C(F)(F)F)O"
      ]
     },
     "execution_count": 19,
     "metadata": {},
     "output_type": "execute_result"
    }
   ],
   "source": [
    "ligands_list = []\n",
    "\n",
    "for i in pdb_ids:\n",
    "    ligands = get_ligands(i)[\"ligandInfo\"][\"ligand\"]\n",
    "    # Technicality: if only one ligand, cast dict to list (for the subsequent list comprehension)\n",
    "    if type(ligands) == dict:\n",
    "        ligands = [ligands]\n",
    "\n",
    "    weight = 0\n",
    "    this_lig = {}\n",
    "    \n",
    "    # If several ligands contained, take largest\n",
    "    for lig in ligands:\n",
    "        if float(lig[\"@molecularWeight\"]) > weight:\n",
    "            this_lig = lig\n",
    "            weight = float(lig[\"@molecularWeight\"])\n",
    "            \n",
    "    ligands_list.append(this_lig)\n",
    "\n",
    "# Change the format to DataFrame\n",
    "ligs = pd.DataFrame(ligands_list)\n",
    "ligs"
   ]
  },
  {
   "cell_type": "code",
   "execution_count": 20,
   "metadata": {
    "collapsed": true
   },
   "outputs": [],
   "source": [
    "ligs.to_csv('../data/T8/PDB_top_ligands.csv', header=True, index=False, sep='\\t')"
   ]
  },
  {
   "cell_type": "markdown",
   "metadata": {},
   "source": [
    "### Draw top ligand molecules"
   ]
  },
  {
   "cell_type": "code",
   "execution_count": 21,
   "metadata": {
    "scrolled": false
   },
   "outputs": [
    {
     "data": {
      "image/svg+xml": [
       "<svg baseProfile=\"full\" height=\"200px\" version=\"1.1\" width=\"800px\" xml:space=\"preserve\" xmlns:rdkit=\"http://www.rdkit.org/xml\" xmlns:svg=\"http://www.w3.org/2000/svg\" xmlns:xlink=\"http://www.w3.org/1999/xlink\">\n",
       "<rect height=\"200\" style=\"opacity:1.0;fill:#FFFFFF;stroke:none\" width=\"800\" x=\"0\" y=\"0\"> </rect>\n",
       "<path d=\"M 171.711,109.079 159.477,101.985\" style=\"fill:none;fill-rule:evenodd;stroke:#000000;stroke-width:2px;stroke-linecap:butt;stroke-linejoin:miter;stroke-opacity:1\"/>\n",
       "<path d=\"M 159.477,101.985 147.216,109.033\" style=\"fill:none;fill-rule:evenodd;stroke:#000000;stroke-width:2px;stroke-linecap:butt;stroke-linejoin:miter;stroke-opacity:1\"/>\n",
       "<path d=\"M 145.802,109.03 145.791,114.922\" style=\"fill:none;fill-rule:evenodd;stroke:#000000;stroke-width:2px;stroke-linecap:butt;stroke-linejoin:miter;stroke-opacity:1\"/>\n",
       "<path d=\"M 145.791,114.922 145.78,120.815\" style=\"fill:none;fill-rule:evenodd;stroke:#FF0000;stroke-width:2px;stroke-linecap:butt;stroke-linejoin:miter;stroke-opacity:1\"/>\n",
       "<path d=\"M 148.631,109.035 148.619,114.928\" style=\"fill:none;fill-rule:evenodd;stroke:#000000;stroke-width:2px;stroke-linecap:butt;stroke-linejoin:miter;stroke-opacity:1\"/>\n",
       "<path d=\"M 148.619,114.928 148.608,120.82\" style=\"fill:none;fill-rule:evenodd;stroke:#FF0000;stroke-width:2px;stroke-linecap:butt;stroke-linejoin:miter;stroke-opacity:1\"/>\n",
       "<path d=\"M 147.216,109.033 143.132,106.664\" style=\"fill:none;fill-rule:evenodd;stroke:#000000;stroke-width:2px;stroke-linecap:butt;stroke-linejoin:miter;stroke-opacity:1\"/>\n",
       "<path d=\"M 143.132,106.664 139.047,104.296\" style=\"fill:none;fill-rule:evenodd;stroke:#0000FF;stroke-width:2px;stroke-linecap:butt;stroke-linejoin:miter;stroke-opacity:1\"/>\n",
       "<path d=\"M 122.722,108.987 127.162,107.25 126.457,106.024 122.722,108.987\" style=\"fill:#000000;fill-rule:evenodd;stroke:#000000;stroke-width:2px;stroke-linecap:butt;stroke-linejoin:miter;stroke-opacity:1\"/>\n",
       "<path d=\"M 127.162,107.25 130.192,103.061 131.602,105.513 127.162,107.25\" style=\"fill:#0000FF;fill-rule:evenodd;stroke:#0000FF;stroke-width:2px;stroke-linecap:butt;stroke-linejoin:miter;stroke-opacity:1\"/>\n",
       "<path d=\"M 127.162,107.25 126.457,106.024 130.192,103.061 127.162,107.25\" style=\"fill:#0000FF;fill-rule:evenodd;stroke:#0000FF;stroke-width:2px;stroke-linecap:butt;stroke-linejoin:miter;stroke-opacity:1\"/>\n",
       "<path d=\"M 122.722,108.987 109.814,103.21\" style=\"fill:none;fill-rule:evenodd;stroke:#000000;stroke-width:2px;stroke-linecap:butt;stroke-linejoin:miter;stroke-opacity:1\"/>\n",
       "<path d=\"M 122.722,108.987 121.218,123.048\" style=\"fill:none;fill-rule:evenodd;stroke:#000000;stroke-width:2px;stroke-linecap:butt;stroke-linejoin:miter;stroke-opacity:1\"/>\n",
       "<path d=\"M 109.814,103.21 106.094,107.326\" style=\"fill:none;fill-rule:evenodd;stroke:#000000;stroke-width:2px;stroke-linecap:butt;stroke-linejoin:miter;stroke-opacity:1\"/>\n",
       "<path d=\"M 106.094,107.326 102.374,111.442\" style=\"fill:none;fill-rule:evenodd;stroke:#0000FF;stroke-width:2px;stroke-linecap:butt;stroke-linejoin:miter;stroke-opacity:1\"/>\n",
       "<path d=\"M 101.686,116.059 104.533,121.01\" style=\"fill:none;fill-rule:evenodd;stroke:#0000FF;stroke-width:2px;stroke-linecap:butt;stroke-linejoin:miter;stroke-opacity:1\"/>\n",
       "<path d=\"M 104.533,121.01 107.379,125.962\" style=\"fill:none;fill-rule:evenodd;stroke:#000000;stroke-width:2px;stroke-linecap:butt;stroke-linejoin:miter;stroke-opacity:1\"/>\n",
       "<path d=\"M 98.2887,113.483 92.2794,112.84\" style=\"fill:none;fill-rule:evenodd;stroke:#0000FF;stroke-width:2px;stroke-linecap:butt;stroke-linejoin:miter;stroke-opacity:1\"/>\n",
       "<path d=\"M 92.2794,112.84 86.2701,112.197\" style=\"fill:none;fill-rule:evenodd;stroke:#000000;stroke-width:2px;stroke-linecap:butt;stroke-linejoin:miter;stroke-opacity:1\"/>\n",
       "<path d=\"M 107.379,125.962 121.218,123.048\" style=\"fill:none;fill-rule:evenodd;stroke:#000000;stroke-width:2px;stroke-linecap:butt;stroke-linejoin:miter;stroke-opacity:1\"/>\n",
       "<path d=\"M 121.999,123.945 122.189,123.735\" style=\"fill:none;fill-rule:evenodd;stroke:#000000;stroke-width:1px;stroke-linecap:butt;stroke-linejoin:miter;stroke-opacity:1\"/>\n",
       "<path d=\"M 122.78,124.842 123.16,124.422\" style=\"fill:none;fill-rule:evenodd;stroke:#000000;stroke-width:1px;stroke-linecap:butt;stroke-linejoin:miter;stroke-opacity:1\"/>\n",
       "<path d=\"M 123.562,125.739 124.131,125.109\" style=\"fill:none;fill-rule:evenodd;stroke:#000000;stroke-width:1px;stroke-linecap:butt;stroke-linejoin:miter;stroke-opacity:1\"/>\n",
       "<path d=\"M 124.343,126.636 125.102,125.796\" style=\"fill:none;fill-rule:evenodd;stroke:#000000;stroke-width:1px;stroke-linecap:butt;stroke-linejoin:miter;stroke-opacity:1\"/>\n",
       "<path d=\"M 125.125,127.532 126.073,126.483\" style=\"fill:none;fill-rule:evenodd;stroke:#000000;stroke-width:1px;stroke-linecap:butt;stroke-linejoin:miter;stroke-opacity:1\"/>\n",
       "<path d=\"M 125.906,128.429 127.044,127.17\" style=\"fill:none;fill-rule:evenodd;stroke:#33CCCC;stroke-width:1px;stroke-linecap:butt;stroke-linejoin:miter;stroke-opacity:1\"/>\n",
       "<path d=\"M 126.688,129.326 128.015,127.857\" style=\"fill:none;fill-rule:evenodd;stroke:#33CCCC;stroke-width:1px;stroke-linecap:butt;stroke-linejoin:miter;stroke-opacity:1\"/>\n",
       "<path d=\"M 127.469,130.223 128.986,128.545\" style=\"fill:none;fill-rule:evenodd;stroke:#33CCCC;stroke-width:1px;stroke-linecap:butt;stroke-linejoin:miter;stroke-opacity:1\"/>\n",
       "<path d=\"M 128.251,131.12 129.957,129.232\" style=\"fill:none;fill-rule:evenodd;stroke:#33CCCC;stroke-width:1px;stroke-linecap:butt;stroke-linejoin:miter;stroke-opacity:1\"/>\n",
       "<path d=\"M 129.032,132.017 130.929,129.919\" style=\"fill:none;fill-rule:evenodd;stroke:#33CCCC;stroke-width:1px;stroke-linecap:butt;stroke-linejoin:miter;stroke-opacity:1\"/>\n",
       "<path d=\"M 86.2701,112.197 83.9283,106.911\" style=\"fill:none;fill-rule:evenodd;stroke:#000000;stroke-width:2px;stroke-linecap:butt;stroke-linejoin:miter;stroke-opacity:1\"/>\n",
       "<path d=\"M 83.9283,106.911 81.5865,101.624\" style=\"fill:none;fill-rule:evenodd;stroke:#0000FF;stroke-width:2px;stroke-linecap:butt;stroke-linejoin:miter;stroke-opacity:1\"/>\n",
       "<path d=\"M 82.9816,111.757 81.3423,108.056\" style=\"fill:none;fill-rule:evenodd;stroke:#000000;stroke-width:2px;stroke-linecap:butt;stroke-linejoin:miter;stroke-opacity:1\"/>\n",
       "<path d=\"M 81.3423,108.056 79.703,104.356\" style=\"fill:none;fill-rule:evenodd;stroke:#0000FF;stroke-width:2px;stroke-linecap:butt;stroke-linejoin:miter;stroke-opacity:1\"/>\n",
       "<path d=\"M 86.2701,112.197 82.9628,116.731\" style=\"fill:none;fill-rule:evenodd;stroke:#000000;stroke-width:2px;stroke-linecap:butt;stroke-linejoin:miter;stroke-opacity:1\"/>\n",
       "<path d=\"M 82.9628,116.731 79.6555,121.265\" style=\"fill:none;fill-rule:evenodd;stroke:#0000FF;stroke-width:2px;stroke-linecap:butt;stroke-linejoin:miter;stroke-opacity:1\"/>\n",
       "<path d=\"M 78.4995,99.0487 72.4902,98.4057\" style=\"fill:none;fill-rule:evenodd;stroke:#0000FF;stroke-width:2px;stroke-linecap:butt;stroke-linejoin:miter;stroke-opacity:1\"/>\n",
       "<path d=\"M 72.4902,98.4057 66.481,97.7626\" style=\"fill:none;fill-rule:evenodd;stroke:#000000;stroke-width:2px;stroke-linecap:butt;stroke-linejoin:miter;stroke-opacity:1\"/>\n",
       "<path d=\"M 66.481,97.7626 58.1472,109.188\" style=\"fill:none;fill-rule:evenodd;stroke:#000000;stroke-width:2px;stroke-linecap:butt;stroke-linejoin:miter;stroke-opacity:1\"/>\n",
       "<path d=\"M 67.5159,101.143 61.6823,109.141\" style=\"fill:none;fill-rule:evenodd;stroke:#000000;stroke-width:2px;stroke-linecap:butt;stroke-linejoin:miter;stroke-opacity:1\"/>\n",
       "<path d=\"M 66.481,97.7626 64.1392,92.4762\" style=\"fill:none;fill-rule:evenodd;stroke:#000000;stroke-width:2px;stroke-linecap:butt;stroke-linejoin:miter;stroke-opacity:1\"/>\n",
       "<path d=\"M 64.1392,92.4762 61.7974,87.1897\" style=\"fill:none;fill-rule:evenodd;stroke:#0000FF;stroke-width:2px;stroke-linecap:butt;stroke-linejoin:miter;stroke-opacity:1\"/>\n",
       "<path d=\"M 58.1472,109.188 63.8748,122.118\" style=\"fill:none;fill-rule:evenodd;stroke:#000000;stroke-width:2px;stroke-linecap:butt;stroke-linejoin:miter;stroke-opacity:1\"/>\n",
       "<path d=\"M 58.1472,109.188 52.1351,109.808\" style=\"fill:none;fill-rule:evenodd;stroke:#000000;stroke-width:2px;stroke-linecap:butt;stroke-linejoin:miter;stroke-opacity:1\"/>\n",
       "<path d=\"M 52.1351,109.808 46.123,110.429\" style=\"fill:none;fill-rule:evenodd;stroke:#0000FF;stroke-width:2px;stroke-linecap:butt;stroke-linejoin:miter;stroke-opacity:1\"/>\n",
       "<path d=\"M 63.8748,122.118 69.8841,122.761\" style=\"fill:none;fill-rule:evenodd;stroke:#000000;stroke-width:2px;stroke-linecap:butt;stroke-linejoin:miter;stroke-opacity:1\"/>\n",
       "<path d=\"M 69.8841,122.761 75.8934,123.404\" style=\"fill:none;fill-rule:evenodd;stroke:#0000FF;stroke-width:2px;stroke-linecap:butt;stroke-linejoin:miter;stroke-opacity:1\"/>\n",
       "<path d=\"M 65.9785,119.498 70.185,119.949\" style=\"fill:none;fill-rule:evenodd;stroke:#000000;stroke-width:2px;stroke-linecap:butt;stroke-linejoin:miter;stroke-opacity:1\"/>\n",
       "<path d=\"M 70.185,119.949 74.3915,120.399\" style=\"fill:none;fill-rule:evenodd;stroke:#0000FF;stroke-width:2px;stroke-linecap:butt;stroke-linejoin:miter;stroke-opacity:1\"/>\n",
       "<path d=\"M 63.8748,122.118 59.6327,125.923\" style=\"fill:none;fill-rule:evenodd;stroke:#000000;stroke-width:2px;stroke-linecap:butt;stroke-linejoin:miter;stroke-opacity:1\"/>\n",
       "<path d=\"M 59.6327,125.923 55.3906,129.728\" style=\"fill:none;fill-rule:evenodd;stroke:#0000FF;stroke-width:2px;stroke-linecap:butt;stroke-linejoin:miter;stroke-opacity:1\"/>\n",
       "<path d=\"M 51.3048,130.376 46.2094,127.421\" style=\"fill:none;fill-rule:evenodd;stroke:#0000FF;stroke-width:2px;stroke-linecap:butt;stroke-linejoin:miter;stroke-opacity:1\"/>\n",
       "<path d=\"M 46.2094,127.421 41.1139,124.467\" style=\"fill:none;fill-rule:evenodd;stroke:#000000;stroke-width:2px;stroke-linecap:butt;stroke-linejoin:miter;stroke-opacity:1\"/>\n",
       "<path d=\"M 53.591,133.918 54.1952,139.773\" style=\"fill:none;fill-rule:evenodd;stroke:#0000FF;stroke-width:2px;stroke-linecap:butt;stroke-linejoin:miter;stroke-opacity:1\"/>\n",
       "<path d=\"M 54.1952,139.773 54.7995,145.628\" style=\"fill:none;fill-rule:evenodd;stroke:#000000;stroke-width:2px;stroke-linecap:butt;stroke-linejoin:miter;stroke-opacity:1\"/>\n",
       "<path d=\"M 41.1139,124.467 42.3442,118.732\" style=\"fill:none;fill-rule:evenodd;stroke:#000000;stroke-width:2px;stroke-linecap:butt;stroke-linejoin:miter;stroke-opacity:1\"/>\n",
       "<path d=\"M 42.3442,118.732 43.5745,112.997\" style=\"fill:none;fill-rule:evenodd;stroke:#0000FF;stroke-width:2px;stroke-linecap:butt;stroke-linejoin:miter;stroke-opacity:1\"/>\n",
       "<path d=\"M 44.2484,123.34 45.1097,119.325\" style=\"fill:none;fill-rule:evenodd;stroke:#000000;stroke-width:2px;stroke-linecap:butt;stroke-linejoin:miter;stroke-opacity:1\"/>\n",
       "<path d=\"M 45.1097,119.325 45.9709,115.31\" style=\"fill:none;fill-rule:evenodd;stroke:#0000FF;stroke-width:2px;stroke-linecap:butt;stroke-linejoin:miter;stroke-opacity:1\"/>\n",
       "<path d=\"M 54.7995,145.628 43.343,153.918\" style=\"fill:none;fill-rule:evenodd;stroke:#000000;stroke-width:2px;stroke-linecap:butt;stroke-linejoin:miter;stroke-opacity:1\"/>\n",
       "<path d=\"M 54.7995,145.628 67.7078,151.404\" style=\"fill:none;fill-rule:evenodd;stroke:#000000;stroke-width:2px;stroke-linecap:butt;stroke-linejoin:miter;stroke-opacity:1\"/>\n",
       "<path d=\"M 62.4725,82.4758 65.7798,77.9416\" style=\"fill:none;fill-rule:evenodd;stroke:#0000FF;stroke-width:2px;stroke-linecap:butt;stroke-linejoin:miter;stroke-opacity:1\"/>\n",
       "<path d=\"M 65.7798,77.9416 69.0871,73.4075\" style=\"fill:none;fill-rule:evenodd;stroke:#000000;stroke-width:2px;stroke-linecap:butt;stroke-linejoin:miter;stroke-opacity:1\"/>\n",
       "<path d=\"M 69.0871,73.4075 64.7423,59.9497\" style=\"fill:none;fill-rule:evenodd;stroke:#000000;stroke-width:2px;stroke-linecap:butt;stroke-linejoin:miter;stroke-opacity:1\"/>\n",
       "<path d=\"M 71.1269,70.5199 68.0856,61.0994\" style=\"fill:none;fill-rule:evenodd;stroke:#000000;stroke-width:2px;stroke-linecap:butt;stroke-linejoin:miter;stroke-opacity:1\"/>\n",
       "<path d=\"M 69.0871,73.4075 83.2288,73.4341\" style=\"fill:none;fill-rule:evenodd;stroke:#000000;stroke-width:2px;stroke-linecap:butt;stroke-linejoin:miter;stroke-opacity:1\"/>\n",
       "<path d=\"M 64.7423,59.9497 69.4491,56.5435\" style=\"fill:none;fill-rule:evenodd;stroke:#000000;stroke-width:2px;stroke-linecap:butt;stroke-linejoin:miter;stroke-opacity:1\"/>\n",
       "<path d=\"M 69.4491,56.5435 74.1559,53.1373\" style=\"fill:none;fill-rule:evenodd;stroke:#0000FF;stroke-width:2px;stroke-linecap:butt;stroke-linejoin:miter;stroke-opacity:1\"/>\n",
       "<path d=\"M 78.2417,53.149 85.5812,58.5026\" style=\"fill:none;fill-rule:evenodd;stroke:#0000FF;stroke-width:2px;stroke-linecap:butt;stroke-linejoin:miter;stroke-opacity:1\"/>\n",
       "<path d=\"M 76.2033,49.302 76.2143,43.4096\" style=\"fill:none;fill-rule:evenodd;stroke:#0000FF;stroke-width:2px;stroke-linecap:butt;stroke-linejoin:miter;stroke-opacity:1\"/>\n",
       "<path d=\"M 76.2143,43.4096 76.2254,37.5172\" style=\"fill:none;fill-rule:evenodd;stroke:#000000;stroke-width:2px;stroke-linecap:butt;stroke-linejoin:miter;stroke-opacity:1\"/>\n",
       "<path d=\"M 86.8534,62.3497 85.0411,67.8919\" style=\"fill:none;fill-rule:evenodd;stroke:#0000FF;stroke-width:2px;stroke-linecap:butt;stroke-linejoin:miter;stroke-opacity:1\"/>\n",
       "<path d=\"M 85.0411,67.8919 83.2288,73.4341\" style=\"fill:none;fill-rule:evenodd;stroke:#000000;stroke-width:2px;stroke-linecap:butt;stroke-linejoin:miter;stroke-opacity:1\"/>\n",
       "<path d=\"M 83.6214,63.1333 82.3528,67.0128\" style=\"fill:none;fill-rule:evenodd;stroke:#0000FF;stroke-width:2px;stroke-linecap:butt;stroke-linejoin:miter;stroke-opacity:1\"/>\n",
       "<path d=\"M 82.3528,67.0128 81.0842,70.8923\" style=\"fill:none;fill-rule:evenodd;stroke:#000000;stroke-width:2px;stroke-linecap:butt;stroke-linejoin:miter;stroke-opacity:1\"/>\n",
       "<path d=\"M 83.2288,73.4341 86.5213,77.9838\" style=\"fill:none;fill-rule:evenodd;stroke:#000000;stroke-width:2px;stroke-linecap:butt;stroke-linejoin:miter;stroke-opacity:1\"/>\n",
       "<path d=\"M 86.5213,77.9838 89.8139,82.5336\" style=\"fill:none;fill-rule:evenodd;stroke:#FF0000;stroke-width:2px;stroke-linecap:butt;stroke-linejoin:miter;stroke-opacity:1\"/>\n",
       "<path d=\"M 93.7209,84.6634 99.6537,84.0511\" style=\"fill:none;fill-rule:evenodd;stroke:#FF0000;stroke-width:2px;stroke-linecap:butt;stroke-linejoin:miter;stroke-opacity:1\"/>\n",
       "<path d=\"M 99.6537,84.0511 105.587,83.4388\" style=\"fill:none;fill-rule:evenodd;stroke:#000000;stroke-width:2px;stroke-linecap:butt;stroke-linejoin:miter;stroke-opacity:1\"/>\n",
       "<text style=\"font-size:4px;font-style:normal;font-weight:normal;fill-opacity:1;stroke:none;font-family:sans-serif;text-anchor:start;fill:#FF0000\" x=\"144.988\" y=\"125.531\"><tspan>O</tspan></text>\n",
       "<text style=\"font-size:4px;font-style:normal;font-weight:normal;fill-opacity:1;stroke:none;font-family:sans-serif;text-anchor:start;fill:#0000FF\" x=\"130.897\" y=\"104.296\"><tspan>NH</tspan></text>\n",
       "<text style=\"font-size:4px;font-style:normal;font-weight:normal;fill-opacity:1;stroke:none;font-family:sans-serif;text-anchor:start;fill:#0000FF\" x=\"98.2887\" y=\"116.059\"><tspan>N</tspan></text>\n",
       "<text style=\"font-size:4px;font-style:normal;font-weight:normal;fill-opacity:1;stroke:none;font-family:sans-serif;text-anchor:start;fill:#33CCCC\" x=\"129.98\" y=\"134.887\"><tspan>F</tspan></text>\n",
       "<text style=\"font-size:4px;font-style:normal;font-weight:normal;fill-opacity:1;stroke:none;font-family:sans-serif;text-anchor:start;fill:#0000FF\" x=\"78.4995\" y=\"101.624\"><tspan>N</tspan></text>\n",
       "<text style=\"font-size:4px;font-style:normal;font-weight:normal;fill-opacity:1;stroke:none;font-family:sans-serif;text-anchor:start;fill:#0000FF\" x=\"75.8934\" y=\"125.979\"><tspan>N</tspan></text>\n",
       "<text style=\"font-size:4px;font-style:normal;font-weight:normal;fill-opacity:1;stroke:none;font-family:sans-serif;text-anchor:start;fill:#0000FF\" x=\"51.3048\" y=\"133.918\"><tspan>N</tspan></text>\n",
       "<text style=\"font-size:4px;font-style:normal;font-weight:normal;fill-opacity:1;stroke:none;font-family:sans-serif;text-anchor:start;fill:#0000FF\" x=\"42.0373\" y=\"112.997\"><tspan>N</tspan></text>\n",
       "<text style=\"font-size:4px;font-style:normal;font-weight:normal;fill-opacity:1;stroke:none;font-family:sans-serif;text-anchor:start;fill:#0000FF\" x=\"56.6675\" y=\"87.1897\"><tspan>NH</tspan></text>\n",
       "<text style=\"font-size:4px;font-style:normal;font-weight:normal;fill-opacity:1;stroke:none;font-family:sans-serif;text-anchor:start;fill:#0000FF\" x=\"74.1559\" y=\"54.0159\"><tspan>N</tspan></text>\n",
       "<text style=\"font-size:4px;font-style:normal;font-weight:normal;fill-opacity:1;stroke:none;font-family:sans-serif;text-anchor:start;fill:#0000FF\" x=\"85.5812\" y=\"62.3497\"><tspan>N</tspan></text>\n",
       "<text style=\"font-size:4px;font-style:normal;font-weight:normal;fill-opacity:1;stroke:none;font-family:sans-serif;text-anchor:start;fill:#FF0000\" x=\"89.3182\" y=\"87.2475\"><tspan>O</tspan></text>\n",
       "<text style=\"font-size:12px;font-style:normal;font-weight:normal;fill-opacity:1;stroke:none;font-family:sans-serif;text-anchor:start;fill:#000000\" x=\"62.3721\" y=\"194\"><tspan>8AM, 5UG9</tspan></text>\n",
       "<path d=\"M 353.837,99.3055 339.832,97.3409\" style=\"fill:none;fill-rule:evenodd;stroke:#000000;stroke-width:2px;stroke-linecap:butt;stroke-linejoin:miter;stroke-opacity:1\"/>\n",
       "<path d=\"M 339.832,97.3409 331.129,108.487\" style=\"fill:none;fill-rule:evenodd;stroke:#000000;stroke-width:2px;stroke-linecap:butt;stroke-linejoin:miter;stroke-opacity:1\"/>\n",
       "<path d=\"M 329.818,109.017 331.992,114.394\" style=\"fill:none;fill-rule:evenodd;stroke:#000000;stroke-width:2px;stroke-linecap:butt;stroke-linejoin:miter;stroke-opacity:1\"/>\n",
       "<path d=\"M 331.992,114.394 334.166,119.771\" style=\"fill:none;fill-rule:evenodd;stroke:#FF0000;stroke-width:2px;stroke-linecap:butt;stroke-linejoin:miter;stroke-opacity:1\"/>\n",
       "<path d=\"M 332.44,107.957 334.614,113.334\" style=\"fill:none;fill-rule:evenodd;stroke:#000000;stroke-width:2px;stroke-linecap:butt;stroke-linejoin:miter;stroke-opacity:1\"/>\n",
       "<path d=\"M 334.614,113.334 336.788,118.711\" style=\"fill:none;fill-rule:evenodd;stroke:#FF0000;stroke-width:2px;stroke-linecap:butt;stroke-linejoin:miter;stroke-opacity:1\"/>\n",
       "<path d=\"M 331.129,108.487 326.169,107.791\" style=\"fill:none;fill-rule:evenodd;stroke:#000000;stroke-width:2px;stroke-linecap:butt;stroke-linejoin:miter;stroke-opacity:1\"/>\n",
       "<path d=\"M 326.169,107.791 321.21,107.095\" style=\"fill:none;fill-rule:evenodd;stroke:#0000FF;stroke-width:2px;stroke-linecap:butt;stroke-linejoin:miter;stroke-opacity:1\"/>\n",
       "<path d=\"M 315.284,108.879 311.852,113.274\" style=\"fill:none;fill-rule:evenodd;stroke:#0000FF;stroke-width:2px;stroke-linecap:butt;stroke-linejoin:miter;stroke-opacity:1\"/>\n",
       "<path d=\"M 311.852,113.274 308.42,117.668\" style=\"fill:none;fill-rule:evenodd;stroke:#000000;stroke-width:2px;stroke-linecap:butt;stroke-linejoin:miter;stroke-opacity:1\"/>\n",
       "<path d=\"M 308.42,117.668 313.721,130.779\" style=\"fill:none;fill-rule:evenodd;stroke:#000000;stroke-width:2px;stroke-linecap:butt;stroke-linejoin:miter;stroke-opacity:1\"/>\n",
       "<path d=\"M 306.593,120.695 310.304,129.872\" style=\"fill:none;fill-rule:evenodd;stroke:#000000;stroke-width:2px;stroke-linecap:butt;stroke-linejoin:miter;stroke-opacity:1\"/>\n",
       "<path d=\"M 308.42,117.668 294.416,115.704\" style=\"fill:none;fill-rule:evenodd;stroke:#000000;stroke-width:2px;stroke-linecap:butt;stroke-linejoin:miter;stroke-opacity:1\"/>\n",
       "<path d=\"M 313.721,130.779 305.018,141.925\" style=\"fill:none;fill-rule:evenodd;stroke:#000000;stroke-width:2px;stroke-linecap:butt;stroke-linejoin:miter;stroke-opacity:1\"/>\n",
       "<path d=\"M 305.018,141.925 291.013,139.96\" style=\"fill:none;fill-rule:evenodd;stroke:#000000;stroke-width:2px;stroke-linecap:butt;stroke-linejoin:miter;stroke-opacity:1\"/>\n",
       "<path d=\"M 303.31,138.829 293.507,137.454\" style=\"fill:none;fill-rule:evenodd;stroke:#000000;stroke-width:2px;stroke-linecap:butt;stroke-linejoin:miter;stroke-opacity:1\"/>\n",
       "<path d=\"M 291.013,139.96 285.712,126.85\" style=\"fill:none;fill-rule:evenodd;stroke:#000000;stroke-width:2px;stroke-linecap:butt;stroke-linejoin:miter;stroke-opacity:1\"/>\n",
       "<path d=\"M 285.712,126.85 294.416,115.704\" style=\"fill:none;fill-rule:evenodd;stroke:#000000;stroke-width:2px;stroke-linecap:butt;stroke-linejoin:miter;stroke-opacity:1\"/>\n",
       "<path d=\"M 289.247,126.918 295.339,119.116\" style=\"fill:none;fill-rule:evenodd;stroke:#000000;stroke-width:2px;stroke-linecap:butt;stroke-linejoin:miter;stroke-opacity:1\"/>\n",
       "<path d=\"M 285.712,126.85 279.81,126.022\" style=\"fill:none;fill-rule:evenodd;stroke:#000000;stroke-width:2px;stroke-linecap:butt;stroke-linejoin:miter;stroke-opacity:1\"/>\n",
       "<path d=\"M 279.81,126.022 273.909,125.194\" style=\"fill:none;fill-rule:evenodd;stroke:#FF0000;stroke-width:2px;stroke-linecap:butt;stroke-linejoin:miter;stroke-opacity:1\"/>\n",
       "<path d=\"M 270.755,122.528 268.581,117.151\" style=\"fill:none;fill-rule:evenodd;stroke:#FF0000;stroke-width:2px;stroke-linecap:butt;stroke-linejoin:miter;stroke-opacity:1\"/>\n",
       "<path d=\"M 268.581,117.151 266.407,111.774\" style=\"fill:none;fill-rule:evenodd;stroke:#000000;stroke-width:2px;stroke-linecap:butt;stroke-linejoin:miter;stroke-opacity:1\"/>\n",
       "<path d=\"M 266.407,111.774 252.402,109.81\" style=\"fill:none;fill-rule:evenodd;stroke:#000000;stroke-width:2px;stroke-linecap:butt;stroke-linejoin:miter;stroke-opacity:1\"/>\n",
       "<path d=\"M 264.699,108.679 254.896,107.303\" style=\"fill:none;fill-rule:evenodd;stroke:#000000;stroke-width:2px;stroke-linecap:butt;stroke-linejoin:miter;stroke-opacity:1\"/>\n",
       "<path d=\"M 266.407,111.774 269.838,107.38\" style=\"fill:none;fill-rule:evenodd;stroke:#000000;stroke-width:2px;stroke-linecap:butt;stroke-linejoin:miter;stroke-opacity:1\"/>\n",
       "<path d=\"M 269.838,107.38 273.27,102.985\" style=\"fill:none;fill-rule:evenodd;stroke:#0000FF;stroke-width:2px;stroke-linecap:butt;stroke-linejoin:miter;stroke-opacity:1\"/>\n",
       "<path d=\"M 252.402,109.81 241.571,118.902\" style=\"fill:none;fill-rule:evenodd;stroke:#000000;stroke-width:2px;stroke-linecap:butt;stroke-linejoin:miter;stroke-opacity:1\"/>\n",
       "<path d=\"M 252.402,109.81 247.101,96.6989\" style=\"fill:none;fill-rule:evenodd;stroke:#000000;stroke-width:2px;stroke-linecap:butt;stroke-linejoin:miter;stroke-opacity:1\"/>\n",
       "<path d=\"M 241.571,118.902 229.576,111.411\" style=\"fill:none;fill-rule:evenodd;stroke:#000000;stroke-width:2px;stroke-linecap:butt;stroke-linejoin:miter;stroke-opacity:1\"/>\n",
       "<path d=\"M 241.27,115.38 232.874,110.136\" style=\"fill:none;fill-rule:evenodd;stroke:#000000;stroke-width:2px;stroke-linecap:butt;stroke-linejoin:miter;stroke-opacity:1\"/>\n",
       "<path d=\"M 229.576,111.411 230.992,105.729\" style=\"fill:none;fill-rule:evenodd;stroke:#000000;stroke-width:2px;stroke-linecap:butt;stroke-linejoin:miter;stroke-opacity:1\"/>\n",
       "<path d=\"M 230.992,105.729 232.407,100.046\" style=\"fill:none;fill-rule:evenodd;stroke:#0000FF;stroke-width:2px;stroke-linecap:butt;stroke-linejoin:miter;stroke-opacity:1\"/>\n",
       "<path d=\"M 237.08,97.4022 242.091,97.0506\" style=\"fill:none;fill-rule:evenodd;stroke:#0000FF;stroke-width:2px;stroke-linecap:butt;stroke-linejoin:miter;stroke-opacity:1\"/>\n",
       "<path d=\"M 242.091,97.0506 247.101,96.6989\" style=\"fill:none;fill-rule:evenodd;stroke:#000000;stroke-width:2px;stroke-linecap:butt;stroke-linejoin:miter;stroke-opacity:1\"/>\n",
       "<path d=\"M 247.101,96.6989 250.533,92.3044\" style=\"fill:none;fill-rule:evenodd;stroke:#000000;stroke-width:2px;stroke-linecap:butt;stroke-linejoin:miter;stroke-opacity:1\"/>\n",
       "<path d=\"M 250.533,92.3044 253.964,87.9099\" style=\"fill:none;fill-rule:evenodd;stroke:#0000FF;stroke-width:2px;stroke-linecap:butt;stroke-linejoin:miter;stroke-opacity:1\"/>\n",
       "<path d=\"M 250.36,97.1213 252.762,94.0452\" style=\"fill:none;fill-rule:evenodd;stroke:#000000;stroke-width:2px;stroke-linecap:butt;stroke-linejoin:miter;stroke-opacity:1\"/>\n",
       "<path d=\"M 252.762,94.0452 255.164,90.969\" style=\"fill:none;fill-rule:evenodd;stroke:#0000FF;stroke-width:2px;stroke-linecap:butt;stroke-linejoin:miter;stroke-opacity:1\"/>\n",
       "<path d=\"M 257.848,85.8395 263.829,86.6786\" style=\"fill:none;fill-rule:evenodd;stroke:#0000FF;stroke-width:2px;stroke-linecap:butt;stroke-linejoin:miter;stroke-opacity:1\"/>\n",
       "<path d=\"M 263.829,86.6786 269.809,87.5176\" style=\"fill:none;fill-rule:evenodd;stroke:#000000;stroke-width:2px;stroke-linecap:butt;stroke-linejoin:miter;stroke-opacity:1\"/>\n",
       "<path d=\"M 269.809,87.5176 271.983,92.8944\" style=\"fill:none;fill-rule:evenodd;stroke:#000000;stroke-width:2px;stroke-linecap:butt;stroke-linejoin:miter;stroke-opacity:1\"/>\n",
       "<path d=\"M 271.983,92.8944 274.157,98.2713\" style=\"fill:none;fill-rule:evenodd;stroke:#0000FF;stroke-width:2px;stroke-linecap:butt;stroke-linejoin:miter;stroke-opacity:1\"/>\n",
       "<path d=\"M 267.84,90.1908 269.361,93.9546\" style=\"fill:none;fill-rule:evenodd;stroke:#000000;stroke-width:2px;stroke-linecap:butt;stroke-linejoin:miter;stroke-opacity:1\"/>\n",
       "<path d=\"M 269.361,93.9546 270.883,97.7184\" style=\"fill:none;fill-rule:evenodd;stroke:#0000FF;stroke-width:2px;stroke-linecap:butt;stroke-linejoin:miter;stroke-opacity:1\"/>\n",
       "<path d=\"M 269.809,87.5176 273.241,83.1231\" style=\"fill:none;fill-rule:evenodd;stroke:#000000;stroke-width:2px;stroke-linecap:butt;stroke-linejoin:miter;stroke-opacity:1\"/>\n",
       "<path d=\"M 273.241,83.1231 276.673,78.7285\" style=\"fill:none;fill-rule:evenodd;stroke:#0000FF;stroke-width:2px;stroke-linecap:butt;stroke-linejoin:miter;stroke-opacity:1\"/>\n",
       "<path d=\"M 282.599,76.9448 287.558,77.6405\" style=\"fill:none;fill-rule:evenodd;stroke:#0000FF;stroke-width:2px;stroke-linecap:butt;stroke-linejoin:miter;stroke-opacity:1\"/>\n",
       "<path d=\"M 287.558,77.6405 292.518,78.3362\" style=\"fill:none;fill-rule:evenodd;stroke:#000000;stroke-width:2px;stroke-linecap:butt;stroke-linejoin:miter;stroke-opacity:1\"/>\n",
       "<path d=\"M 292.518,78.3362 302.339,68.1611\" style=\"fill:none;fill-rule:evenodd;stroke:#000000;stroke-width:2px;stroke-linecap:butt;stroke-linejoin:miter;stroke-opacity:1\"/>\n",
       "<path d=\"M 292.518,78.3362 299.16,90.821\" style=\"fill:none;fill-rule:evenodd;stroke:#000000;stroke-width:2px;stroke-linecap:butt;stroke-linejoin:miter;stroke-opacity:1\"/>\n",
       "<path d=\"M 296.011,78.8805 300.661,87.6198\" style=\"fill:none;fill-rule:evenodd;stroke:#000000;stroke-width:2px;stroke-linecap:butt;stroke-linejoin:miter;stroke-opacity:1\"/>\n",
       "<path d=\"M 302.339,68.1611 307.674,70.7613\" style=\"fill:none;fill-rule:evenodd;stroke:#000000;stroke-width:2px;stroke-linecap:butt;stroke-linejoin:miter;stroke-opacity:1\"/>\n",
       "<path d=\"M 307.674,70.7613 313.008,73.3615\" style=\"fill:none;fill-rule:evenodd;stroke:#0000FF;stroke-width:2px;stroke-linecap:butt;stroke-linejoin:miter;stroke-opacity:1\"/>\n",
       "<path d=\"M 302.7,71.4836 306.434,73.3037\" style=\"fill:none;fill-rule:evenodd;stroke:#000000;stroke-width:2px;stroke-linecap:butt;stroke-linejoin:miter;stroke-opacity:1\"/>\n",
       "<path d=\"M 306.434,73.3037 310.169,75.1238\" style=\"fill:none;fill-rule:evenodd;stroke:#0000FF;stroke-width:2px;stroke-linecap:butt;stroke-linejoin:miter;stroke-opacity:1\"/>\n",
       "<path d=\"M 314.72,76.7142 313.417,86.0049\" style=\"fill:none;fill-rule:evenodd;stroke:#0000FF;stroke-width:2px;stroke-linecap:butt;stroke-linejoin:miter;stroke-opacity:1\"/>\n",
       "<path d=\"M 311.043,88.7226 305.102,89.7718\" style=\"fill:none;fill-rule:evenodd;stroke:#0000FF;stroke-width:2px;stroke-linecap:butt;stroke-linejoin:miter;stroke-opacity:1\"/>\n",
       "<path d=\"M 305.102,89.7718 299.16,90.821\" style=\"fill:none;fill-rule:evenodd;stroke:#000000;stroke-width:2px;stroke-linecap:butt;stroke-linejoin:miter;stroke-opacity:1\"/>\n",
       "<path d=\"M 315.129,90.3336 319.195,94.2583\" style=\"fill:none;fill-rule:evenodd;stroke:#0000FF;stroke-width:2px;stroke-linecap:butt;stroke-linejoin:miter;stroke-opacity:1\"/>\n",
       "<path d=\"M 319.195,94.2583 323.262,98.183\" style=\"fill:none;fill-rule:evenodd;stroke:#000000;stroke-width:2px;stroke-linecap:butt;stroke-linejoin:miter;stroke-opacity:1\"/>\n",
       "<text style=\"font-size:4px;font-style:normal;font-weight:normal;fill-opacity:1;stroke:none;font-family:sans-serif;text-anchor:start;fill:#FF0000\" x=\"334.228\" y=\"123.955\"><tspan>O</tspan></text>\n",
       "<text style=\"font-size:4px;font-style:normal;font-weight:normal;fill-opacity:1;stroke:none;font-family:sans-serif;text-anchor:start;fill:#0000FF\" x=\"313.038\" y=\"108.879\"><tspan>NH</tspan></text>\n",
       "<text style=\"font-size:4px;font-style:normal;font-weight:normal;fill-opacity:1;stroke:none;font-family:sans-serif;text-anchor:start;fill:#FF0000\" x=\"269.506\" y=\"127.242\"><tspan>O</tspan></text>\n",
       "<text style=\"font-size:4px;font-style:normal;font-weight:normal;fill-opacity:1;stroke:none;font-family:sans-serif;text-anchor:start;fill:#0000FF\" x=\"228.908\" y=\"100.046\"><tspan>NH</tspan></text>\n",
       "<text style=\"font-size:4px;font-style:normal;font-weight:normal;fill-opacity:1;stroke:none;font-family:sans-serif;text-anchor:start;fill:#0000FF\" x=\"253.762\" y=\"87.9099\"><tspan>N</tspan></text>\n",
       "<text style=\"font-size:4px;font-style:normal;font-weight:normal;fill-opacity:1;stroke:none;font-family:sans-serif;text-anchor:start;fill:#0000FF\" x=\"273.067\" y=\"102.985\"><tspan>N</tspan></text>\n",
       "<text style=\"font-size:4px;font-style:normal;font-weight:normal;fill-opacity:1;stroke:none;font-family:sans-serif;text-anchor:start;fill:#0000FF\" x=\"274.427\" y=\"78.7285\"><tspan>NH</tspan></text>\n",
       "<text style=\"font-size:4px;font-style:normal;font-weight:normal;fill-opacity:1;stroke:none;font-family:sans-serif;text-anchor:start;fill:#0000FF\" x=\"313.008\" y=\"76.7142\"><tspan>N</tspan></text>\n",
       "<text style=\"font-size:4px;font-style:normal;font-weight:normal;fill-opacity:1;stroke:none;font-family:sans-serif;text-anchor:start;fill:#0000FF\" x=\"311.043\" y=\"90.7188\"><tspan>N</tspan></text>\n",
       "<text style=\"font-size:12px;font-style:normal;font-weight:normal;fill-opacity:1;stroke:none;font-family:sans-serif;text-anchor:start;fill:#000000\" x=\"265.167\" y=\"194\"><tspan>634, 5HG8</tspan></text>\n",
       "<path d=\"M 571.04,112.511 559.309,104.614\" style=\"fill:none;fill-rule:evenodd;stroke:#000000;stroke-width:2px;stroke-linecap:butt;stroke-linejoin:miter;stroke-opacity:1\"/>\n",
       "<path d=\"M 559.309,104.614 546.604,110.825\" style=\"fill:none;fill-rule:evenodd;stroke:#000000;stroke-width:2px;stroke-linecap:butt;stroke-linejoin:miter;stroke-opacity:1\"/>\n",
       "<path d=\"M 545.193,110.727 544.787,116.603\" style=\"fill:none;fill-rule:evenodd;stroke:#000000;stroke-width:2px;stroke-linecap:butt;stroke-linejoin:miter;stroke-opacity:1\"/>\n",
       "<path d=\"M 544.787,116.603 544.382,122.478\" style=\"fill:none;fill-rule:evenodd;stroke:#FF0000;stroke-width:2px;stroke-linecap:butt;stroke-linejoin:miter;stroke-opacity:1\"/>\n",
       "<path d=\"M 548.015,110.922 547.609,116.798\" style=\"fill:none;fill-rule:evenodd;stroke:#000000;stroke-width:2px;stroke-linecap:butt;stroke-linejoin:miter;stroke-opacity:1\"/>\n",
       "<path d=\"M 547.609,116.798 547.203,122.673\" style=\"fill:none;fill-rule:evenodd;stroke:#FF0000;stroke-width:2px;stroke-linecap:butt;stroke-linejoin:miter;stroke-opacity:1\"/>\n",
       "<path d=\"M 546.604,110.825 542.489,108.054\" style=\"fill:none;fill-rule:evenodd;stroke:#000000;stroke-width:2px;stroke-linecap:butt;stroke-linejoin:miter;stroke-opacity:1\"/>\n",
       "<path d=\"M 542.489,108.054 538.374,105.284\" style=\"fill:none;fill-rule:evenodd;stroke:#0000FF;stroke-width:2px;stroke-linecap:butt;stroke-linejoin:miter;stroke-opacity:1\"/>\n",
       "<path d=\"M 522.168,109.138 526.788,107.666 526.167,106.396 522.168,109.138\" style=\"fill:#000000;fill-rule:evenodd;stroke:#000000;stroke-width:2px;stroke-linecap:butt;stroke-linejoin:miter;stroke-opacity:1\"/>\n",
       "<path d=\"M 526.788,107.666 530.166,103.654 531.408,106.195 526.788,107.666\" style=\"fill:#0000FF;fill-rule:evenodd;stroke:#0000FF;stroke-width:2px;stroke-linecap:butt;stroke-linejoin:miter;stroke-opacity:1\"/>\n",
       "<path d=\"M 526.788,107.666 526.167,106.396 530.166,103.654 526.788,107.666\" style=\"fill:#0000FF;fill-rule:evenodd;stroke:#0000FF;stroke-width:2px;stroke-linecap:butt;stroke-linejoin:miter;stroke-opacity:1\"/>\n",
       "<path d=\"M 522.168,109.138 509.675,102.51\" style=\"fill:none;fill-rule:evenodd;stroke:#000000;stroke-width:2px;stroke-linecap:butt;stroke-linejoin:miter;stroke-opacity:1\"/>\n",
       "<path d=\"M 522.168,109.138 519.724,123.067\" style=\"fill:none;fill-rule:evenodd;stroke:#000000;stroke-width:2px;stroke-linecap:butt;stroke-linejoin:miter;stroke-opacity:1\"/>\n",
       "<path d=\"M 509.675,102.51 505.615,106.438\" style=\"fill:none;fill-rule:evenodd;stroke:#000000;stroke-width:2px;stroke-linecap:butt;stroke-linejoin:miter;stroke-opacity:1\"/>\n",
       "<path d=\"M 505.615,106.438 501.554,110.366\" style=\"fill:none;fill-rule:evenodd;stroke:#0000FF;stroke-width:2px;stroke-linecap:butt;stroke-linejoin:miter;stroke-opacity:1\"/>\n",
       "<path d=\"M 500.664,114.699 503.193,119.873\" style=\"fill:none;fill-rule:evenodd;stroke:#0000FF;stroke-width:2px;stroke-linecap:butt;stroke-linejoin:miter;stroke-opacity:1\"/>\n",
       "<path d=\"M 503.193,119.873 505.722,125.047\" style=\"fill:none;fill-rule:evenodd;stroke:#000000;stroke-width:2px;stroke-linecap:butt;stroke-linejoin:miter;stroke-opacity:1\"/>\n",
       "<path d=\"M 497.469,111.984 491.525,110.942\" style=\"fill:none;fill-rule:evenodd;stroke:#0000FF;stroke-width:2px;stroke-linecap:butt;stroke-linejoin:miter;stroke-opacity:1\"/>\n",
       "<path d=\"M 491.525,110.942 485.582,109.899\" style=\"fill:none;fill-rule:evenodd;stroke:#000000;stroke-width:2px;stroke-linecap:butt;stroke-linejoin:miter;stroke-opacity:1\"/>\n",
       "<path d=\"M 505.722,125.047 519.724,123.067\" style=\"fill:none;fill-rule:evenodd;stroke:#000000;stroke-width:2px;stroke-linecap:butt;stroke-linejoin:miter;stroke-opacity:1\"/>\n",
       "<path d=\"M 520.433,124.003 520.636,123.806\" style=\"fill:none;fill-rule:evenodd;stroke:#000000;stroke-width:1px;stroke-linecap:butt;stroke-linejoin:miter;stroke-opacity:1\"/>\n",
       "<path d=\"M 521.142,124.939 521.549,124.545\" style=\"fill:none;fill-rule:evenodd;stroke:#000000;stroke-width:1px;stroke-linecap:butt;stroke-linejoin:miter;stroke-opacity:1\"/>\n",
       "<path d=\"M 521.851,125.875 522.461,125.285\" style=\"fill:none;fill-rule:evenodd;stroke:#000000;stroke-width:1px;stroke-linecap:butt;stroke-linejoin:miter;stroke-opacity:1\"/>\n",
       "<path d=\"M 522.559,126.811 523.373,126.024\" style=\"fill:none;fill-rule:evenodd;stroke:#000000;stroke-width:1px;stroke-linecap:butt;stroke-linejoin:miter;stroke-opacity:1\"/>\n",
       "<path d=\"M 523.268,127.747 524.285,126.764\" style=\"fill:none;fill-rule:evenodd;stroke:#000000;stroke-width:1px;stroke-linecap:butt;stroke-linejoin:miter;stroke-opacity:1\"/>\n",
       "<path d=\"M 523.977,128.683 525.197,127.503\" style=\"fill:none;fill-rule:evenodd;stroke:#33CCCC;stroke-width:1px;stroke-linecap:butt;stroke-linejoin:miter;stroke-opacity:1\"/>\n",
       "<path d=\"M 524.686,129.619 526.109,128.242\" style=\"fill:none;fill-rule:evenodd;stroke:#33CCCC;stroke-width:1px;stroke-linecap:butt;stroke-linejoin:miter;stroke-opacity:1\"/>\n",
       "<path d=\"M 525.394,130.555 527.021,128.982\" style=\"fill:none;fill-rule:evenodd;stroke:#33CCCC;stroke-width:1px;stroke-linecap:butt;stroke-linejoin:miter;stroke-opacity:1\"/>\n",
       "<path d=\"M 526.103,131.491 527.933,129.721\" style=\"fill:none;fill-rule:evenodd;stroke:#33CCCC;stroke-width:1px;stroke-linecap:butt;stroke-linejoin:miter;stroke-opacity:1\"/>\n",
       "<path d=\"M 526.812,132.427 528.845,130.46\" style=\"fill:none;fill-rule:evenodd;stroke:#33CCCC;stroke-width:1px;stroke-linecap:butt;stroke-linejoin:miter;stroke-opacity:1\"/>\n",
       "<path d=\"M 485.582,109.899 483.588,104.435\" style=\"fill:none;fill-rule:evenodd;stroke:#000000;stroke-width:2px;stroke-linecap:butt;stroke-linejoin:miter;stroke-opacity:1\"/>\n",
       "<path d=\"M 483.588,104.435 481.594,98.9715\" style=\"fill:none;fill-rule:evenodd;stroke:#0000FF;stroke-width:2px;stroke-linecap:butt;stroke-linejoin:miter;stroke-opacity:1\"/>\n",
       "<path d=\"M 482.327,109.23 480.931,105.405\" style=\"fill:none;fill-rule:evenodd;stroke:#000000;stroke-width:2px;stroke-linecap:butt;stroke-linejoin:miter;stroke-opacity:1\"/>\n",
       "<path d=\"M 480.931,105.405 479.535,101.58\" style=\"fill:none;fill-rule:evenodd;stroke:#0000FF;stroke-width:2px;stroke-linecap:butt;stroke-linejoin:miter;stroke-opacity:1\"/>\n",
       "<path d=\"M 485.582,109.899 482.029,114.141\" style=\"fill:none;fill-rule:evenodd;stroke:#000000;stroke-width:2px;stroke-linecap:butt;stroke-linejoin:miter;stroke-opacity:1\"/>\n",
       "<path d=\"M 482.029,114.141 478.476,118.383\" style=\"fill:none;fill-rule:evenodd;stroke:#0000FF;stroke-width:2px;stroke-linecap:butt;stroke-linejoin:miter;stroke-opacity:1\"/>\n",
       "<path d=\"M 478.691,96.2562 472.748,95.2138\" style=\"fill:none;fill-rule:evenodd;stroke:#0000FF;stroke-width:2px;stroke-linecap:butt;stroke-linejoin:miter;stroke-opacity:1\"/>\n",
       "<path d=\"M 472.748,95.2138 466.805,94.1713\" style=\"fill:none;fill-rule:evenodd;stroke:#000000;stroke-width:2px;stroke-linecap:butt;stroke-linejoin:miter;stroke-opacity:1\"/>\n",
       "<path d=\"M 466.805,94.1713 457.724,105.013\" style=\"fill:none;fill-rule:evenodd;stroke:#000000;stroke-width:2px;stroke-linecap:butt;stroke-linejoin:miter;stroke-opacity:1\"/>\n",
       "<path d=\"M 467.611,97.6136 461.255,105.202\" style=\"fill:none;fill-rule:evenodd;stroke:#000000;stroke-width:2px;stroke-linecap:butt;stroke-linejoin:miter;stroke-opacity:1\"/>\n",
       "<path d=\"M 466.805,94.1713 464.811,88.7075\" style=\"fill:none;fill-rule:evenodd;stroke:#000000;stroke-width:2px;stroke-linecap:butt;stroke-linejoin:miter;stroke-opacity:1\"/>\n",
       "<path d=\"M 464.811,88.7075 462.816,83.2437\" style=\"fill:none;fill-rule:evenodd;stroke:#0000FF;stroke-width:2px;stroke-linecap:butt;stroke-linejoin:miter;stroke-opacity:1\"/>\n",
       "<path d=\"M 457.724,105.013 462.573,118.297\" style=\"fill:none;fill-rule:evenodd;stroke:#000000;stroke-width:2px;stroke-linecap:butt;stroke-linejoin:miter;stroke-opacity:1\"/>\n",
       "<path d=\"M 457.724,105.013 451.679,105.229\" style=\"fill:none;fill-rule:evenodd;stroke:#000000;stroke-width:2px;stroke-linecap:butt;stroke-linejoin:miter;stroke-opacity:1\"/>\n",
       "<path d=\"M 451.679,105.229 445.634,105.446\" style=\"fill:none;fill-rule:evenodd;stroke:#0000FF;stroke-width:2px;stroke-linecap:butt;stroke-linejoin:miter;stroke-opacity:1\"/>\n",
       "<path d=\"M 462.573,118.297 468.516,119.34\" style=\"fill:none;fill-rule:evenodd;stroke:#000000;stroke-width:2px;stroke-linecap:butt;stroke-linejoin:miter;stroke-opacity:1\"/>\n",
       "<path d=\"M 468.516,119.34 474.459,120.382\" style=\"fill:none;fill-rule:evenodd;stroke:#0000FF;stroke-width:2px;stroke-linecap:butt;stroke-linejoin:miter;stroke-opacity:1\"/>\n",
       "<path d=\"M 464.844,115.824 469.005,116.554\" style=\"fill:none;fill-rule:evenodd;stroke:#000000;stroke-width:2px;stroke-linecap:butt;stroke-linejoin:miter;stroke-opacity:1\"/>\n",
       "<path d=\"M 469.005,116.554 473.165,117.284\" style=\"fill:none;fill-rule:evenodd;stroke:#0000FF;stroke-width:2px;stroke-linecap:butt;stroke-linejoin:miter;stroke-opacity:1\"/>\n",
       "<path d=\"M 462.573,118.297 458.026,121.856\" style=\"fill:none;fill-rule:evenodd;stroke:#000000;stroke-width:2px;stroke-linecap:butt;stroke-linejoin:miter;stroke-opacity:1\"/>\n",
       "<path d=\"M 458.026,121.856 453.48,125.415\" style=\"fill:none;fill-rule:evenodd;stroke:#0000FF;stroke-width:2px;stroke-linecap:butt;stroke-linejoin:miter;stroke-opacity:1\"/>\n",
       "<path d=\"M 449.394,125.638 444.55,122.377\" style=\"fill:none;fill-rule:evenodd;stroke:#0000FF;stroke-width:2px;stroke-linecap:butt;stroke-linejoin:miter;stroke-opacity:1\"/>\n",
       "<path d=\"M 444.55,122.377 439.706,119.116\" style=\"fill:none;fill-rule:evenodd;stroke:#000000;stroke-width:2px;stroke-linecap:butt;stroke-linejoin:miter;stroke-opacity:1\"/>\n",
       "<path d=\"M 451.521,129.371 451.732,135.258\" style=\"fill:none;fill-rule:evenodd;stroke:#0000FF;stroke-width:2px;stroke-linecap:butt;stroke-linejoin:miter;stroke-opacity:1\"/>\n",
       "<path d=\"M 451.732,135.258 451.943,141.146\" style=\"fill:none;fill-rule:evenodd;stroke:#000000;stroke-width:2px;stroke-linecap:butt;stroke-linejoin:miter;stroke-opacity:1\"/>\n",
       "<path d=\"M 439.706,119.116 441.312,113.496\" style=\"fill:none;fill-rule:evenodd;stroke:#000000;stroke-width:2px;stroke-linecap:butt;stroke-linejoin:miter;stroke-opacity:1\"/>\n",
       "<path d=\"M 441.312,113.496 442.918,107.876\" style=\"fill:none;fill-rule:evenodd;stroke:#0000FF;stroke-width:2px;stroke-linecap:butt;stroke-linejoin:miter;stroke-opacity:1\"/>\n",
       "<path d=\"M 442.907,118.207 444.031,114.273\" style=\"fill:none;fill-rule:evenodd;stroke:#000000;stroke-width:2px;stroke-linecap:butt;stroke-linejoin:miter;stroke-opacity:1\"/>\n",
       "<path d=\"M 444.031,114.273 445.156,110.339\" style=\"fill:none;fill-rule:evenodd;stroke:#0000FF;stroke-width:2px;stroke-linecap:butt;stroke-linejoin:miter;stroke-opacity:1\"/>\n",
       "<path d=\"M 451.943,141.146 439.957,148.651\" style=\"fill:none;fill-rule:evenodd;stroke:#000000;stroke-width:2px;stroke-linecap:butt;stroke-linejoin:miter;stroke-opacity:1\"/>\n",
       "<path d=\"M 451.943,141.146 464.435,147.774\" style=\"fill:none;fill-rule:evenodd;stroke:#000000;stroke-width:2px;stroke-linecap:butt;stroke-linejoin:miter;stroke-opacity:1\"/>\n",
       "<path d=\"M 463.93,78.5298 467.483,74.2876\" style=\"fill:none;fill-rule:evenodd;stroke:#0000FF;stroke-width:2px;stroke-linecap:butt;stroke-linejoin:miter;stroke-opacity:1\"/>\n",
       "<path d=\"M 467.483,74.2876 471.037,70.0454\" style=\"fill:none;fill-rule:evenodd;stroke:#000000;stroke-width:2px;stroke-linecap:butt;stroke-linejoin:miter;stroke-opacity:1\"/>\n",
       "<path d=\"M 471.037,70.0454 467.603,56.3268\" style=\"fill:none;fill-rule:evenodd;stroke:#000000;stroke-width:2px;stroke-linecap:butt;stroke-linejoin:miter;stroke-opacity:1\"/>\n",
       "<path d=\"M 471.037,70.0454 485.145,71.0193\" style=\"fill:none;fill-rule:evenodd;stroke:#000000;stroke-width:2px;stroke-linecap:butt;stroke-linejoin:miter;stroke-opacity:1\"/>\n",
       "<path d=\"M 473.348,67.3699 483.223,68.0516\" style=\"fill:none;fill-rule:evenodd;stroke:#000000;stroke-width:2px;stroke-linecap:butt;stroke-linejoin:miter;stroke-opacity:1\"/>\n",
       "<path d=\"M 467.603,56.3268 472.575,53.214\" style=\"fill:none;fill-rule:evenodd;stroke:#000000;stroke-width:2px;stroke-linecap:butt;stroke-linejoin:miter;stroke-opacity:1\"/>\n",
       "<path d=\"M 472.575,53.214 477.546,50.1012\" style=\"fill:none;fill-rule:evenodd;stroke:#0000FF;stroke-width:2px;stroke-linecap:butt;stroke-linejoin:miter;stroke-opacity:1\"/>\n",
       "<path d=\"M 470.596,57.7902 474.076,55.6113\" style=\"fill:none;fill-rule:evenodd;stroke:#000000;stroke-width:2px;stroke-linecap:butt;stroke-linejoin:miter;stroke-opacity:1\"/>\n",
       "<path d=\"M 474.076,55.6113 477.556,53.4323\" style=\"fill:none;fill-rule:evenodd;stroke:#0000FF;stroke-width:2px;stroke-linecap:butt;stroke-linejoin:miter;stroke-opacity:1\"/>\n",
       "<path d=\"M 481.632,50.5332 488.388,56.1915\" style=\"fill:none;fill-rule:evenodd;stroke:#0000FF;stroke-width:2px;stroke-linecap:butt;stroke-linejoin:miter;stroke-opacity:1\"/>\n",
       "<path d=\"M 489.481,60.2596 487.313,65.6395\" style=\"fill:none;fill-rule:evenodd;stroke:#0000FF;stroke-width:2px;stroke-linecap:butt;stroke-linejoin:miter;stroke-opacity:1\"/>\n",
       "<path d=\"M 487.313,65.6395 485.145,71.0193\" style=\"fill:none;fill-rule:evenodd;stroke:#000000;stroke-width:2px;stroke-linecap:butt;stroke-linejoin:miter;stroke-opacity:1\"/>\n",
       "<path d=\"M 492.474,57.3913 498.311,55.9303\" style=\"fill:none;fill-rule:evenodd;stroke:#0000FF;stroke-width:2px;stroke-linecap:butt;stroke-linejoin:miter;stroke-opacity:1\"/>\n",
       "<path d=\"M 498.311,55.9303 504.149,54.4692\" style=\"fill:none;fill-rule:evenodd;stroke:#000000;stroke-width:2px;stroke-linecap:butt;stroke-linejoin:miter;stroke-opacity:1\"/>\n",
       "<text style=\"font-size:4px;font-style:normal;font-weight:normal;fill-opacity:1;stroke:none;font-family:sans-serif;text-anchor:start;fill:#FF0000\" x=\"543.429\" y=\"127.29\"><tspan>O</tspan></text>\n",
       "<text style=\"font-size:4px;font-style:normal;font-weight:normal;fill-opacity:1;stroke:none;font-family:sans-serif;text-anchor:start;fill:#0000FF\" x=\"530.787\" y=\"105.284\"><tspan>NH</tspan></text>\n",
       "<text style=\"font-size:4px;font-style:normal;font-weight:normal;fill-opacity:1;stroke:none;font-family:sans-serif;text-anchor:start;fill:#0000FF\" x=\"497.469\" y=\"114.699\"><tspan>N</tspan></text>\n",
       "<text style=\"font-size:4px;font-style:normal;font-weight:normal;fill-opacity:1;stroke:none;font-family:sans-serif;text-anchor:start;fill:#33CCCC\" x=\"527.828\" y=\"135.588\"><tspan>F</tspan></text>\n",
       "<text style=\"font-size:4px;font-style:normal;font-weight:normal;fill-opacity:1;stroke:none;font-family:sans-serif;text-anchor:start;fill:#0000FF\" x=\"478.691\" y=\"98.9715\"><tspan>N</tspan></text>\n",
       "<text style=\"font-size:4px;font-style:normal;font-weight:normal;fill-opacity:1;stroke:none;font-family:sans-serif;text-anchor:start;fill:#0000FF\" x=\"474.459\" y=\"123.097\"><tspan>N</tspan></text>\n",
       "<text style=\"font-size:4px;font-style:normal;font-weight:normal;fill-opacity:1;stroke:none;font-family:sans-serif;text-anchor:start;fill:#0000FF\" x=\"449.394\" y=\"129.371\"><tspan>N</tspan></text>\n",
       "<text style=\"font-size:4px;font-style:normal;font-weight:normal;fill-opacity:1;stroke:none;font-family:sans-serif;text-anchor:start;fill:#0000FF\" x=\"441.549\" y=\"107.876\"><tspan>N</tspan></text>\n",
       "<text style=\"font-size:4px;font-style:normal;font-weight:normal;fill-opacity:1;stroke:none;font-family:sans-serif;text-anchor:start;fill:#0000FF\" x=\"457.87\" y=\"83.2437\"><tspan>NH</tspan></text>\n",
       "<text style=\"font-size:4px;font-style:normal;font-weight:normal;fill-opacity:1;stroke:none;font-family:sans-serif;text-anchor:start;fill:#0000FF\" x=\"477.546\" y=\"51.1791\"><tspan>N</tspan></text>\n",
       "<text style=\"font-size:4px;font-style:normal;font-weight:normal;fill-opacity:1;stroke:none;font-family:sans-serif;text-anchor:start;fill:#0000FF\" x=\"488.388\" y=\"60.2596\"><tspan>N</tspan></text>\n",
       "<text style=\"font-size:12px;font-style:normal;font-weight:normal;fill-opacity:1;stroke:none;font-family:sans-serif;text-anchor:start;fill:#000000\" x=\"463.568\" y=\"194\"><tspan>8BP, 5UG8</tspan></text>\n",
       "<path d=\"M 612.342,139.498 620.583,150.99\" style=\"fill:none;fill-rule:evenodd;stroke:#000000;stroke-width:2px;stroke-linecap:butt;stroke-linejoin:miter;stroke-opacity:1\"/>\n",
       "<path d=\"M 620.583,150.99 628.824,162.483\" style=\"fill:none;fill-rule:evenodd;stroke:#000000;stroke-width:2px;stroke-linecap:butt;stroke-linejoin:miter;stroke-opacity:1\"/>\n",
       "<path d=\"M 620.583,150.99 632.076,142.749\" style=\"fill:none;fill-rule:evenodd;stroke:#000000;stroke-width:2px;stroke-linecap:butt;stroke-linejoin:miter;stroke-opacity:1\"/>\n",
       "<path d=\"M 620.583,150.99 616.481,153.932\" style=\"fill:none;fill-rule:evenodd;stroke:#000000;stroke-width:2px;stroke-linecap:butt;stroke-linejoin:miter;stroke-opacity:1\"/>\n",
       "<path d=\"M 616.481,153.932 612.378,156.874\" style=\"fill:none;fill-rule:evenodd;stroke:#FF0000;stroke-width:2px;stroke-linecap:butt;stroke-linejoin:miter;stroke-opacity:1\"/>\n",
       "<path d=\"M 632.076,142.749 630.685,128.676\" style=\"fill:none;fill-rule:evenodd;stroke:#000000;stroke-width:2px;stroke-linecap:butt;stroke-linejoin:miter;stroke-opacity:1\"/>\n",
       "<path d=\"M 631.268,127.388 625.927,124.97\" style=\"fill:none;fill-rule:evenodd;stroke:#000000;stroke-width:2px;stroke-linecap:butt;stroke-linejoin:miter;stroke-opacity:1\"/>\n",
       "<path d=\"M 625.927,124.97 620.586,122.552\" style=\"fill:none;fill-rule:evenodd;stroke:#FF0000;stroke-width:2px;stroke-linecap:butt;stroke-linejoin:miter;stroke-opacity:1\"/>\n",
       "<path d=\"M 630.102,129.965 624.761,127.547\" style=\"fill:none;fill-rule:evenodd;stroke:#000000;stroke-width:2px;stroke-linecap:butt;stroke-linejoin:miter;stroke-opacity:1\"/>\n",
       "<path d=\"M 624.761,127.547 619.42,125.129\" style=\"fill:none;fill-rule:evenodd;stroke:#FF0000;stroke-width:2px;stroke-linecap:butt;stroke-linejoin:miter;stroke-opacity:1\"/>\n",
       "<path d=\"M 630.685,128.676 634.788,125.734\" style=\"fill:none;fill-rule:evenodd;stroke:#000000;stroke-width:2px;stroke-linecap:butt;stroke-linejoin:miter;stroke-opacity:1\"/>\n",
       "<path d=\"M 634.788,125.734 638.89,122.792\" style=\"fill:none;fill-rule:evenodd;stroke:#0000FF;stroke-width:2px;stroke-linecap:butt;stroke-linejoin:miter;stroke-opacity:1\"/>\n",
       "<path d=\"M 641.944,118.078 641.365,112.22\" style=\"fill:none;fill-rule:evenodd;stroke:#0000FF;stroke-width:2px;stroke-linecap:butt;stroke-linejoin:miter;stroke-opacity:1\"/>\n",
       "<path d=\"M 641.365,112.22 640.787,106.362\" style=\"fill:none;fill-rule:evenodd;stroke:#000000;stroke-width:2px;stroke-linecap:butt;stroke-linejoin:miter;stroke-opacity:1\"/>\n",
       "<path d=\"M 640.787,106.362 652.279,98.121\" style=\"fill:none;fill-rule:evenodd;stroke:#000000;stroke-width:2px;stroke-linecap:butt;stroke-linejoin:miter;stroke-opacity:1\"/>\n",
       "<path d=\"M 652.279,98.121 651.7,92.2629\" style=\"fill:none;fill-rule:evenodd;stroke:#000000;stroke-width:2px;stroke-linecap:butt;stroke-linejoin:miter;stroke-opacity:1\"/>\n",
       "<path d=\"M 651.7,92.2629 651.121,86.4048\" style=\"fill:none;fill-rule:evenodd;stroke:#0000FF;stroke-width:2px;stroke-linecap:butt;stroke-linejoin:miter;stroke-opacity:1\"/>\n",
       "<path d=\"M 648.845,82.8514 643.765,79.8762\" style=\"fill:none;fill-rule:evenodd;stroke:#0000FF;stroke-width:2px;stroke-linecap:butt;stroke-linejoin:miter;stroke-opacity:1\"/>\n",
       "<path d=\"M 643.765,79.8762 638.685,76.901\" style=\"fill:none;fill-rule:evenodd;stroke:#000000;stroke-width:2px;stroke-linecap:butt;stroke-linejoin:miter;stroke-opacity:1\"/>\n",
       "<path d=\"M 652.931,82.2313 657.194,78.441\" style=\"fill:none;fill-rule:evenodd;stroke:#0000FF;stroke-width:2px;stroke-linecap:butt;stroke-linejoin:miter;stroke-opacity:1\"/>\n",
       "<path d=\"M 657.194,78.441 661.456,74.6507\" style=\"fill:none;fill-rule:evenodd;stroke:#000000;stroke-width:2px;stroke-linecap:butt;stroke-linejoin:miter;stroke-opacity:1\"/>\n",
       "<path d=\"M 638.685,76.901 641.711,63.0868\" style=\"fill:none;fill-rule:evenodd;stroke:#000000;stroke-width:2px;stroke-linecap:butt;stroke-linejoin:miter;stroke-opacity:1\"/>\n",
       "<path d=\"M 641.902,75.4341 644.02,65.7642\" style=\"fill:none;fill-rule:evenodd;stroke:#000000;stroke-width:2px;stroke-linecap:butt;stroke-linejoin:miter;stroke-opacity:1\"/>\n",
       "<path d=\"M 641.711,63.0868 655.785,61.6961\" style=\"fill:none;fill-rule:evenodd;stroke:#000000;stroke-width:2px;stroke-linecap:butt;stroke-linejoin:miter;stroke-opacity:1\"/>\n",
       "<path d=\"M 655.785,61.6961 661.456,74.6507\" style=\"fill:none;fill-rule:evenodd;stroke:#000000;stroke-width:2px;stroke-linecap:butt;stroke-linejoin:miter;stroke-opacity:1\"/>\n",
       "<path d=\"M 654.044,64.7736 658.014,73.8418\" style=\"fill:none;fill-rule:evenodd;stroke:#000000;stroke-width:2px;stroke-linecap:butt;stroke-linejoin:miter;stroke-opacity:1\"/>\n",
       "<path d=\"M 655.785,61.6961 659.109,57.1801\" style=\"fill:none;fill-rule:evenodd;stroke:#000000;stroke-width:2px;stroke-linecap:butt;stroke-linejoin:miter;stroke-opacity:1\"/>\n",
       "<path d=\"M 659.109,57.1801 662.433,52.664\" style=\"fill:none;fill-rule:evenodd;stroke:#0000FF;stroke-width:2px;stroke-linecap:butt;stroke-linejoin:miter;stroke-opacity:1\"/>\n",
       "<path d=\"M 661.456,74.6507 675.511,76.2163\" style=\"fill:none;fill-rule:evenodd;stroke:#000000;stroke-width:2px;stroke-linecap:butt;stroke-linejoin:miter;stroke-opacity:1\"/>\n",
       "<path d=\"M 675.511,76.2163 678.835,71.7003\" style=\"fill:none;fill-rule:evenodd;stroke:#000000;stroke-width:2px;stroke-linecap:butt;stroke-linejoin:miter;stroke-opacity:1\"/>\n",
       "<path d=\"M 678.835,71.7003 682.159,67.1843\" style=\"fill:none;fill-rule:evenodd;stroke:#0000FF;stroke-width:2px;stroke-linecap:butt;stroke-linejoin:miter;stroke-opacity:1\"/>\n",
       "<path d=\"M 674.23,73.1849 676.557,70.0237\" style=\"fill:none;fill-rule:evenodd;stroke:#000000;stroke-width:2px;stroke-linecap:butt;stroke-linejoin:miter;stroke-opacity:1\"/>\n",
       "<path d=\"M 676.557,70.0237 678.884,66.8625\" style=\"fill:none;fill-rule:evenodd;stroke:#0000FF;stroke-width:2px;stroke-linecap:butt;stroke-linejoin:miter;stroke-opacity:1\"/>\n",
       "<path d=\"M 675.511,76.2163 677.831,81.5152\" style=\"fill:none;fill-rule:evenodd;stroke:#000000;stroke-width:2px;stroke-linecap:butt;stroke-linejoin:miter;stroke-opacity:1\"/>\n",
       "<path d=\"M 677.831,81.5152 680.151,86.814\" style=\"fill:none;fill-rule:evenodd;stroke:#0000FF;stroke-width:2px;stroke-linecap:butt;stroke-linejoin:miter;stroke-opacity:1\"/>\n",
       "<path d=\"M 682.862,62.4704 680.542,57.1716\" style=\"fill:none;fill-rule:evenodd;stroke:#0000FF;stroke-width:2px;stroke-linecap:butt;stroke-linejoin:miter;stroke-opacity:1\"/>\n",
       "<path d=\"M 680.542,57.1716 678.223,51.8727\" style=\"fill:none;fill-rule:evenodd;stroke:#000000;stroke-width:2px;stroke-linecap:butt;stroke-linejoin:miter;stroke-opacity:1\"/>\n",
       "<path d=\"M 678.223,51.8727 672.217,51.2037\" style=\"fill:none;fill-rule:evenodd;stroke:#000000;stroke-width:2px;stroke-linecap:butt;stroke-linejoin:miter;stroke-opacity:1\"/>\n",
       "<path d=\"M 672.217,51.2037 666.211,50.5347\" style=\"fill:none;fill-rule:evenodd;stroke:#0000FF;stroke-width:2px;stroke-linecap:butt;stroke-linejoin:miter;stroke-opacity:1\"/>\n",
       "<path d=\"M 676.108,54.483 671.904,54.0146\" style=\"fill:none;fill-rule:evenodd;stroke:#000000;stroke-width:2px;stroke-linecap:butt;stroke-linejoin:miter;stroke-opacity:1\"/>\n",
       "<path d=\"M 671.904,54.0146 667.699,53.5463\" style=\"fill:none;fill-rule:evenodd;stroke:#0000FF;stroke-width:2px;stroke-linecap:butt;stroke-linejoin:miter;stroke-opacity:1\"/>\n",
       "<path d=\"M 685.268,89.6261 690.253,90.1814\" style=\"fill:none;fill-rule:evenodd;stroke:#0000FF;stroke-width:2px;stroke-linecap:butt;stroke-linejoin:miter;stroke-opacity:1\"/>\n",
       "<path d=\"M 690.253,90.1814 695.237,90.7366\" style=\"fill:none;fill-rule:evenodd;stroke:#000000;stroke-width:2px;stroke-linecap:butt;stroke-linejoin:miter;stroke-opacity:1\"/>\n",
       "<path d=\"M 695.237,90.7366 700.909,103.691\" style=\"fill:none;fill-rule:evenodd;stroke:#000000;stroke-width:2px;stroke-linecap:butt;stroke-linejoin:miter;stroke-opacity:1\"/>\n",
       "<path d=\"M 698.679,91.5455 702.649,100.614\" style=\"fill:none;fill-rule:evenodd;stroke:#000000;stroke-width:2px;stroke-linecap:butt;stroke-linejoin:miter;stroke-opacity:1\"/>\n",
       "<path d=\"M 695.237,90.7366 703.621,79.3476\" style=\"fill:none;fill-rule:evenodd;stroke:#000000;stroke-width:2px;stroke-linecap:butt;stroke-linejoin:miter;stroke-opacity:1\"/>\n",
       "<path d=\"M 700.909,103.691 714.964,105.257\" style=\"fill:none;fill-rule:evenodd;stroke:#000000;stroke-width:2px;stroke-linecap:butt;stroke-linejoin:miter;stroke-opacity:1\"/>\n",
       "<path d=\"M 714.964,105.257 723.347,93.8679\" style=\"fill:none;fill-rule:evenodd;stroke:#000000;stroke-width:2px;stroke-linecap:butt;stroke-linejoin:miter;stroke-opacity:1\"/>\n",
       "<path d=\"M 713.943,101.872 719.812,93.8996\" style=\"fill:none;fill-rule:evenodd;stroke:#000000;stroke-width:2px;stroke-linecap:butt;stroke-linejoin:miter;stroke-opacity:1\"/>\n",
       "<path d=\"M 723.347,93.8679 717.675,80.9132\" style=\"fill:none;fill-rule:evenodd;stroke:#000000;stroke-width:2px;stroke-linecap:butt;stroke-linejoin:miter;stroke-opacity:1\"/>\n",
       "<path d=\"M 723.347,93.8679 729.274,94.5281\" style=\"fill:none;fill-rule:evenodd;stroke:#000000;stroke-width:2px;stroke-linecap:butt;stroke-linejoin:miter;stroke-opacity:1\"/>\n",
       "<path d=\"M 729.274,94.5281 735.2,95.1883\" style=\"fill:none;fill-rule:evenodd;stroke:#FF0000;stroke-width:2px;stroke-linecap:butt;stroke-linejoin:miter;stroke-opacity:1\"/>\n",
       "<path d=\"M 717.675,80.9132 703.621,79.3476\" style=\"fill:none;fill-rule:evenodd;stroke:#000000;stroke-width:2px;stroke-linecap:butt;stroke-linejoin:miter;stroke-opacity:1\"/>\n",
       "<path d=\"M 715.254,83.4894 705.416,82.3934\" style=\"fill:none;fill-rule:evenodd;stroke:#000000;stroke-width:2px;stroke-linecap:butt;stroke-linejoin:miter;stroke-opacity:1\"/>\n",
       "<path d=\"M 717.675,80.9132 720.999,76.3972\" style=\"fill:none;fill-rule:evenodd;stroke:#000000;stroke-width:2px;stroke-linecap:butt;stroke-linejoin:miter;stroke-opacity:1\"/>\n",
       "<path d=\"M 720.999,76.3972 724.324,71.8812\" style=\"fill:none;fill-rule:evenodd;stroke:#00CC00;stroke-width:2px;stroke-linecap:butt;stroke-linejoin:miter;stroke-opacity:1\"/>\n",
       "<path d=\"M 738.434,97.7904 740.753,103.089\" style=\"fill:none;fill-rule:evenodd;stroke:#FF0000;stroke-width:2px;stroke-linecap:butt;stroke-linejoin:miter;stroke-opacity:1\"/>\n",
       "<path d=\"M 740.753,103.089 743.073,108.388\" style=\"fill:none;fill-rule:evenodd;stroke:#000000;stroke-width:2px;stroke-linecap:butt;stroke-linejoin:miter;stroke-opacity:1\"/>\n",
       "<path d=\"M 743.073,108.388 734.69,119.777\" style=\"fill:none;fill-rule:evenodd;stroke:#000000;stroke-width:2px;stroke-linecap:butt;stroke-linejoin:miter;stroke-opacity:1\"/>\n",
       "<path d=\"M 744.093,111.773 738.225,119.745\" style=\"fill:none;fill-rule:evenodd;stroke:#000000;stroke-width:2px;stroke-linecap:butt;stroke-linejoin:miter;stroke-opacity:1\"/>\n",
       "<path d=\"M 743.073,108.388 757.128,109.954\" style=\"fill:none;fill-rule:evenodd;stroke:#000000;stroke-width:2px;stroke-linecap:butt;stroke-linejoin:miter;stroke-opacity:1\"/>\n",
       "<path d=\"M 734.69,119.777 740.361,132.732\" style=\"fill:none;fill-rule:evenodd;stroke:#000000;stroke-width:2px;stroke-linecap:butt;stroke-linejoin:miter;stroke-opacity:1\"/>\n",
       "<path d=\"M 740.361,132.732 754.416,134.297\" style=\"fill:none;fill-rule:evenodd;stroke:#000000;stroke-width:2px;stroke-linecap:butt;stroke-linejoin:miter;stroke-opacity:1\"/>\n",
       "<path d=\"M 742.783,130.156 752.621,131.252\" style=\"fill:none;fill-rule:evenodd;stroke:#000000;stroke-width:2px;stroke-linecap:butt;stroke-linejoin:miter;stroke-opacity:1\"/>\n",
       "<path d=\"M 754.416,134.297 762.799,122.908\" style=\"fill:none;fill-rule:evenodd;stroke:#000000;stroke-width:2px;stroke-linecap:butt;stroke-linejoin:miter;stroke-opacity:1\"/>\n",
       "<path d=\"M 762.799,122.908 757.128,109.954\" style=\"fill:none;fill-rule:evenodd;stroke:#000000;stroke-width:2px;stroke-linecap:butt;stroke-linejoin:miter;stroke-opacity:1\"/>\n",
       "<path d=\"M 759.358,122.099 755.388,113.031\" style=\"fill:none;fill-rule:evenodd;stroke:#000000;stroke-width:2px;stroke-linecap:butt;stroke-linejoin:miter;stroke-opacity:1\"/>\n",
       "<path d=\"M 762.799,122.908 776.854,124.474\" style=\"fill:none;fill-rule:evenodd;stroke:#000000;stroke-width:2px;stroke-linecap:butt;stroke-linejoin:miter;stroke-opacity:1\"/>\n",
       "<path d=\"M 776.854,124.474 783.017,125.161\" style=\"fill:none;fill-rule:evenodd;stroke:#000000;stroke-width:2px;stroke-linecap:butt;stroke-linejoin:miter;stroke-opacity:1\"/>\n",
       "<path d=\"M 783.017,125.161 789.18,125.847\" style=\"fill:none;fill-rule:evenodd;stroke:#33CCCC;stroke-width:2px;stroke-linecap:butt;stroke-linejoin:miter;stroke-opacity:1\"/>\n",
       "<path d=\"M 776.854,124.474 776.203,130.323\" style=\"fill:none;fill-rule:evenodd;stroke:#000000;stroke-width:2px;stroke-linecap:butt;stroke-linejoin:miter;stroke-opacity:1\"/>\n",
       "<path d=\"M 776.203,130.323 775.551,136.172\" style=\"fill:none;fill-rule:evenodd;stroke:#33CCCC;stroke-width:2px;stroke-linecap:butt;stroke-linejoin:miter;stroke-opacity:1\"/>\n",
       "<path d=\"M 776.854,124.474 777.506,118.625\" style=\"fill:none;fill-rule:evenodd;stroke:#000000;stroke-width:2px;stroke-linecap:butt;stroke-linejoin:miter;stroke-opacity:1\"/>\n",
       "<path d=\"M 777.506,118.625 778.157,112.776\" style=\"fill:none;fill-rule:evenodd;stroke:#33CCCC;stroke-width:2px;stroke-linecap:butt;stroke-linejoin:miter;stroke-opacity:1\"/>\n",
       "<text style=\"font-size:4px;font-style:normal;font-weight:normal;fill-opacity:1;stroke:none;font-family:sans-serif;text-anchor:start;fill:#FF0000\" x=\"615.6\" y=\"125.201\"><tspan>O</tspan></text>\n",
       "<text style=\"font-size:4px;font-style:normal;font-weight:normal;fill-opacity:1;stroke:none;font-family:sans-serif;text-anchor:start;fill:#0000FF\" x=\"638.091\" y=\"122.792\"><tspan>NH</tspan></text>\n",
       "<text style=\"font-size:4px;font-style:normal;font-weight:normal;fill-opacity:1;stroke:none;font-family:sans-serif;text-anchor:start;fill:#0000FF\" x=\"648.845\" y=\"86.4048\"><tspan>N</tspan></text>\n",
       "<text style=\"font-size:4px;font-style:normal;font-weight:normal;fill-opacity:1;stroke:none;font-family:sans-serif;text-anchor:start;fill:#0000FF\" x=\"681.851\" y=\"67.1843\"><tspan>N</tspan></text>\n",
       "<text style=\"font-size:4px;font-style:normal;font-weight:normal;fill-opacity:1;stroke:none;font-family:sans-serif;text-anchor:start;fill:#0000FF\" x=\"662.125\" y=\"52.664\"><tspan>N</tspan></text>\n",
       "<text style=\"font-size:4px;font-style:normal;font-weight:normal;fill-opacity:1;stroke:none;font-family:sans-serif;text-anchor:start;fill:#0000FF\" x=\"677.097\" y=\"91.5279\"><tspan>NH</tspan></text>\n",
       "<text style=\"font-size:4px;font-style:normal;font-weight:normal;fill-opacity:1;stroke:none;font-family:sans-serif;text-anchor:start;fill:#00CC00\" x=\"723.388\" y=\"71.8812\"><tspan>Cl</tspan></text>\n",
       "<text style=\"font-size:4px;font-style:normal;font-weight:normal;fill-opacity:1;stroke:none;font-family:sans-serif;text-anchor:start;fill:#FF0000\" x=\"735.2\" y=\"97.7904\"><tspan>O</tspan></text>\n",
       "<text style=\"font-size:4px;font-style:normal;font-weight:normal;fill-opacity:1;stroke:none;font-family:sans-serif;text-anchor:start;fill:#33CCCC\" x=\"789.18\" y=\"128.397\"><tspan>F</tspan></text>\n",
       "<text style=\"font-size:4px;font-style:normal;font-weight:normal;fill-opacity:1;stroke:none;font-family:sans-serif;text-anchor:start;fill:#33CCCC\" x=\"773.56\" y=\"140.886\"><tspan>F</tspan></text>\n",
       "<text style=\"font-size:4px;font-style:normal;font-weight:normal;fill-opacity:1;stroke:none;font-family:sans-serif;text-anchor:start;fill:#33CCCC\" x=\"776.691\" y=\"112.776\"><tspan>F</tspan></text>\n",
       "<text style=\"font-size:4px;font-style:normal;font-weight:normal;fill-opacity:1;stroke:none;font-family:sans-serif;text-anchor:start;fill:#FF0000\" x=\"604.847\" y=\"161.588\"><tspan>HO</tspan></text>\n",
       "<text style=\"font-size:12px;font-style:normal;font-weight:normal;fill-opacity:1;stroke:none;font-family:sans-serif;text-anchor:start;fill:#000000\" x=\"664.367\" y=\"194\"><tspan>03P, 3POZ</tspan></text>\n",
       "</svg>"
      ],
      "text/plain": [
       "<IPython.core.display.SVG object>"
      ]
     },
     "execution_count": 21,
     "metadata": {},
     "output_type": "execute_result"
    }
   ],
   "source": [
    "PandasTools.AddMoleculeColumnToFrame(ligs, 'smiles')\n",
    "Draw.MolsToGridImage(mols=list(ligs.ROMol), \n",
    "                     legends=list(ligs['@chemicalID']+', '+ligs['@structureId']), \n",
    "                     molsPerRow=top_num)"
   ]
  },
  {
   "cell_type": "markdown",
   "metadata": {},
   "source": [
    "### Create protein-ligand ID pairs"
   ]
  },
  {
   "cell_type": "code",
   "execution_count": 22,
   "metadata": {},
   "outputs": [
    {
     "name": "stdout",
     "output_type": "stream",
     "text": [
      "OrderedDict([('5UG9', '8AM'), ('5HG8', '634'), ('5UG8', '8BP'), ('3POZ', '03P')])\n"
     ]
    }
   ],
   "source": [
    "pairs = collections.OrderedDict()\n",
    "\n",
    "for idx, row in ligs.iterrows():\n",
    "    pairs[str(row['@structureId'])] = str(row['@chemicalID'])\n",
    "\n",
    "print(pairs)"
   ]
  },
  {
   "cell_type": "markdown",
   "metadata": {},
   "source": [
    "### Get the PDB structure files\n",
    "\n",
    "We now fetch the PDB structure files, i.e. 3D coordinates of the protein, ligand (and if available other atomic or molecular entities such as cofactors, water molecules, and ions) from the PDB using the `pypdb` function `get_pdb_file`. \n",
    "Available file formats are *pdb* and *cif*, which store the 3D coordinations of atoms of the protein (and ligand, cofactors, water molecules, and ions) as well as information on bonds between atoms. Here, we work with *pdb* files."
   ]
  },
  {
   "cell_type": "code",
   "execution_count": 23,
   "metadata": {
    "collapsed": true
   },
   "outputs": [],
   "source": [
    "# Fetch pdb file and save locally\n",
    "for prot, lig in pairs.items():\n",
    "    pdb_file = get_pdb_file(prot, filetype='pdb', compression=False)\n",
    "    with open('../data/T8/'+ prot + '.pdb', 'w') as f:\n",
    "        f.write(pdb_file)"
   ]
  },
  {
   "cell_type": "markdown",
   "metadata": {},
   "source": [
    "### Align PDB structures\n",
    "\n",
    "Since we want to build ligand-based ensemble pharmacophores in the next talktorial, it is necessary to align all structures to each other in 3D. We will use the molecular visualization program PyMol for this task, which can also be used from within the Jupyter notebook. PyMol aligns two structures at a time in a way that the distance of atoms between the two structures is minimized.\n",
    "\n",
    "First, we will launch PyMol from the command line (in quiet mode, i.e. the GUI will not open)."
   ]
  },
  {
   "cell_type": "code",
   "execution_count": 24,
   "metadata": {
    "collapsed": true
   },
   "outputs": [],
   "source": [
    "# Launch PyMol in quiet mode\n",
    "pymol.pymol_argv = ['pymol','-qc']\n",
    "pymol.finish_launching()"
   ]
  },
  {
   "cell_type": "markdown",
   "metadata": {},
   "source": [
    "For the alignment, we choose a reference structure file (immobile PDB, 'target') onto which the other ('query') structure files are superimposed using the PyMol command `cmd.align(query, target)`. All `cmd.` commands are commands for PyMol.\n",
    "\n",
    "We save the aligned structures with the new coordinates as *pdb* files. We also extract the ligand from the structure file and save it separately as *pdb* file to be used in the next talktorial."
   ]
  },
  {
   "cell_type": "code",
   "execution_count": 25,
   "metadata": {
    "collapsed": true
   },
   "outputs": [],
   "source": [
    "# Save alignment logs to file\n",
    "f = open(\"../data/T8/alignments.log\", \"w\")\n",
    "\n",
    "# Variable distinguishing between immobile and mobile structure during alignment\n",
    "immobile_pdb = True\n",
    "refAlignTarget='non'\n",
    "refAlignQuery='non'\n",
    "\n",
    "# Align proteins on first protein\n",
    "for prot, lig in pairs.items():\n",
    "    \n",
    "    # Immobile structure (reference structure for alignment)\n",
    "    if immobile_pdb:\n",
    "        target = prot\n",
    "        f.write('Immobile target: ' + prot + '\\n')\n",
    "        \n",
    "        # Load pdb file (complex of protein and ligand)\n",
    "        targetFile = cmd.load('../data/T8/' + target + '.pdb')\n",
    "        # Store name for refined alignment\n",
    "        refAlignTarget='('+target+' within 5 of resn '+lig+')'\n",
    "        \n",
    "        # Save complex as pdb file\n",
    "        cmd.save('../data/T8/' + target + '_algn.pdb', selection=target)\n",
    "        \n",
    "        # Select only the ligand with the selected name\n",
    "        ligObj = cmd.select('ligand', target + ' and resn ' + lig)\n",
    "        # Save selection as pdb file\n",
    "        cmd.save('../data/T8/' + target + '_lig.pdb', selection='ligand', format='pdb')\n",
    "        # Delete ligand selection\n",
    "        cmd.delete(ligObj)\n",
    "        # Target selected\n",
    "        immobile_pdb = False\n",
    "        \n",
    "    # Mobile structures (which are aligned to reference structure)\n",
    "    else:\n",
    "        query = prot\n",
    "        f.write('-- align %s to %s \\n' %(query, target))\n",
    "        \n",
    "        # Load pdb file (complex of protein and ligand)\n",
    "        queryFile = cmd.load('../data/T8/' + query + '.pdb')\n",
    "        \n",
    "        # Align structures (proteins) with focus on binding site\n",
    "        refAlignQuery= '('+query+' within 5 of resn '+lig+')' \n",
    "        values = cmd.align(refAlignQuery, refAlignTarget)\n",
    "        \n",
    "        \n",
    "        # If structures cannot be aligned (i.e. if RMSD > 5A), skip alignment\n",
    "        if values[0] > 5:\n",
    "            f.write('--- bad alignment: skip structure\\n')\n",
    "        else:\n",
    "            # Save complex as pdb file\n",
    "            cmd.save('../data/T8/' + query + '_algn.pdb', selection=query)\n",
    "            \n",
    "            # Select only the ligand\n",
    "            ligObj = cmd.select('ligand', query + ' and resn ' + lig)\n",
    "            \n",
    "            # Save selection as pdb file\n",
    "            cmd.save('../data/T8/' + query + '_lig.pdb', selection='ligand', format='pdb')\n",
    "            \n",
    "            # Delete ligand selection\n",
    "            cmd.delete(ligObj)\n",
    "            \n",
    "        # Delete \"query\" selection\n",
    "        cmd.delete(query)\n",
    "    \n",
    "# Delete \"target\" selection\n",
    "cmd.delete(target)\n",
    "\n",
    "f.close()"
   ]
  },
  {
   "cell_type": "markdown",
   "metadata": {},
   "source": [
    "We quit the PyMol application."
   ]
  },
  {
   "cell_type": "code",
   "execution_count": 26,
   "metadata": {
    "collapsed": true
   },
   "outputs": [],
   "source": [
    "# Quit PyMol\n",
    "pymol.cmd.quit()"
   ]
  },
  {
   "cell_type": "markdown",
   "metadata": {},
   "source": [
    "We check the existence of all ligand *pdb* files. If files are missing, please check the protein-ligand structures by hand in PyMol."
   ]
  },
  {
   "cell_type": "code",
   "execution_count": 27,
   "metadata": {},
   "outputs": [
    {
     "data": {
      "text/plain": [
       "['../data/T8/5UG9_lig.pdb',\n",
       " '../data/T8/3POZ_lig.pdb',\n",
       " '../data/T8/5HG8_lig.pdb',\n",
       " '../data/T8/5UG8_lig.pdb']"
      ]
     },
     "execution_count": 27,
     "metadata": {},
     "output_type": "execute_result"
    }
   ],
   "source": [
    "mol_files = []\n",
    "for file in glob.glob(\"../data/T8/*_lig.pdb\"):\n",
    "    mol_files.append(file)\n",
    "mol_files"
   ]
  },
  {
   "cell_type": "markdown",
   "metadata": {},
   "source": [
    "## Discussion\n",
    "\n",
    "In this talktorial, we learned how to retrieve protein and ligand meta information and structural information from the PDB. We retained only X-ray structures and filtered our data by resolution and ligand availability. Ultimately, we aimed for an aligned set of ligands to be used in the next talktorial for the generation of ligand-based ensemble pharmacophores. \n",
    "\n",
    "In order to enrich information about ligands for pharmacophore modeling, it is advisable to not only filter by PDB structure resolution, but also to check for ligand diversity (see **talktorial 5** on molecule clustering by similarity) and to check for ligand activity (i.e. to include only potent ligands). \n",
    "\n",
    "## Quiz\n",
    "\n",
    "1. Summarize the kind of data that the Protein Data Bank contains.\n",
    "2. Explain what the resolution of a structure stands for and how and why we filter for it in this talktorial.\n",
    "3. Explain what an alignment of structures means and discuss the alignment performed in this talktorial."
   ]
  },
  {
   "cell_type": "code",
   "execution_count": null,
   "metadata": {
    "collapsed": true
   },
   "outputs": [],
   "source": []
  }
 ],
 "metadata": {
  "anaconda-cloud": {},
  "kernelspec": {
   "name": "teachopencadd",
   "language": "python",
   "display_name": "teachopencadd"
  },
  "language_info": {
   "codemirror_mode": {
    "name": "ipython",
    "version": 2
   },
   "file_extension": ".py",
   "mimetype": "text/x-python",
   "name": "python",
   "nbconvert_exporter": "python",
   "pygments_lexer": "ipython2",
   "version": "2.7.14"
  }
 },
 "nbformat": 4,
 "nbformat_minor": 2
}