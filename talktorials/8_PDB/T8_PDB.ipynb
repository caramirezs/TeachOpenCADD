{
 "cells": [
  {
   "cell_type": "markdown",
   "metadata": {},
   "source": [
    "# Talktorial 8\n",
    "\n",
    "# Protein data acquisition: Protein Data Bank (PDB)\n",
    "\n",
    "#### Developed in the CADD seminars 2017 and 2018, AG Volkamer, Charité/FU Berlin \n",
    "\n",
    "Anja Georgi, Majid Vafadar and Dominique Sydow"
   ]
  },
  {
   "cell_type": "markdown",
   "metadata": {},
   "source": [
    "## Aim of this talktorial\n",
    "\n",
    "In this talktorial, we conduct the groundwork for the next talktorial where we will generate a ligand-based ensemble pharmacophore for EGFR. Therefore, we \n",
    "(i) fetch all PDB IDs for EGFR from the PDB database, \n",
    "(ii) retrieve five protein-ligand structures, which have the best structural quality and are derived from X-ray crystallography, and \n",
    "(iii) align all structures to each in 3D as well as extract and save the ligands to be used in the next talktorial.\n",
    "\n",
    "## Learning Goals\n",
    "\n",
    "### Theory\n",
    "* Protein Data Bank (PDB)\n",
    "* Python package PyPDB\n",
    " \n",
    "### Practical\n",
    "\n",
    "* Select query protein\n",
    "* Get statistic on PDB entries for query protein\n",
    "* Get all PDB IDs for query protein\n",
    "* Get meta information on PDB entries\n",
    "* Filter and sort meta information on PDB entries\n",
    "* Get meta information of ligands from top structures\n",
    "* Draw top ligand molecules\n",
    "* Create protein-ligand ID pairs\n",
    "* Get the PDB structure files\n",
    "* Align PDB structures\n",
    " \n",
    "## References\n",
    "\n",
    "* Protein Data Bank \n",
    "([PDB website](http://www.rcsb.org/pdb>))\n",
    "* PyPDB python package \n",
    "([<i>Bioinformatics</i> (2016), <b>32</b>, 159-60](https://academic.oup.com/bioinformatics/article-lookup/doi/10.1093/bioinformatics/btv543))\n",
    "* PyPDB python package documentation \n",
    "([PyPDB website](http://www.wgilpin.com/pypdb_docs/html/))\n",
    "* PyMol selection algebra \n",
    "([PyMolWiki: selection algebra](https://pymolwiki.org/index.php/Selection_Algebra))\n",
    "\n",
    "## Theory\n",
    "\n",
    "### Protein Data Bank (PDB)\n",
    "\n",
    "The Protein Data Bank (PDB) is one of the most comprehensive structural biology information databases and a key resource in areas of structural biology, such as structural genomics and drug design. ([PDB website](http://www.rcsb.org/pdb>))\n",
    "\n",
    "Structural data is generated from structural determination methods such as X-ray crystallography (most common method), nuclear magnetic resonance (NMR), and cryo electron microscopy (cryo-EM). \n",
    "For each entry, the database contains (i) the 3D coordinates of the atoms and the bonds connecting these atoms for proteins, ligand, cofactors, water molecules, and ions, as well as (ii) meta information on the structural data such as the PDB ID, the authors, the deposition date, the structural determination method used and the structural resolution.\n",
    "\n",
    "The structural resolution is a measure of the quality of the data that has been collected and has the unit Å (Angström). The lower the value, the higher the quality of the structure. \n",
    "\n",
    "The PDB website offers the 3D visualization of the protein structures (with ligand interactions if available) and the structure quality metrics, as can be seen for the PDB entry of an example epidermal growth factor receptor (EGFR) with the [PDB ID 3UG5](https://www.rcsb.org/structure/3UG5).\n",
    "\n",
    "<img src=\"./images/protein-ligand-complex.png\" align=\"above\" alt=\"Image cannot be shown\" width=\"400\">\n",
    "<div align=\"center\"> Figure 1: The protein structure (in gray) with an interacting ligand (in green) is shown for an example epidermal growth factor receptor (EGFR) with the PDB ID 3UG5 (figure by Dominique Sydow).</div>\n",
    "\n",
    "### PyPDB\n",
    "\n",
    "PyPDB is a python programming interface for the PDB and works exclusively in Python 3. \n",
    "This package facilitates the integration of automatic PDB searches within bioinformatics workflows and simplifies the process of performing multiple searches based on the results of existing searches. \n",
    "It also allows an advanced querying of information on PDB entries. \n",
    "The PDB currently uses a RESTful API that allows for the retrieval of information via standard HTML vocabulary. PyPDB converts these objects into XML strings. \n",
    "([<i>Bioinformatics</i> (2016), <b>32</b>, 159-60](https://academic.oup.com/bioinformatics/article-lookup/doi/10.1093/bioinformatics/btv543))\n",
    "\n",
    "A list of functions is provided on the PyPDB documentation website ([PyPDB website](http://www.wgilpin.com/pypdb_docs/html/))."
   ]
  },
  {
   "cell_type": "markdown",
   "metadata": {},
   "source": [
    "## Practical\n",
    "\n"
   ]
  },
  {
   "cell_type": "code",
   "execution_count": 3,
   "metadata": {
    "collapsed": true
   },
   "outputs": [],
   "source": [
    "# Import necessary libraries\n",
    "from pypdb import *\n",
    "from pymol import *\n",
    "\n",
    "from rdkit import Chem\n",
    "from rdkit.Chem.Draw import IPythonConsole\n",
    "from rdkit.Chem import Draw\n",
    "from rdkit.Chem import PandasTools\n",
    "IPythonConsole.ipython_useSVG=True\n",
    "\n",
    "import pprint\n",
    "import glob\n",
    "\n",
    "import pandas as pd\n",
    "from array import array\n",
    "import numpy as np\n",
    "import collections\n",
    "\n",
    "import matplotlib.pyplot as plt\n",
    "%matplotlib inline"
   ]
  },
  {
   "cell_type": "markdown",
   "metadata": {},
   "source": [
    "### Select query protein\n",
    "\n",
    "We use EGFR as query protein for this talktorial. The UniProt ID of EGFR is `P00533`, which will be used in the following to query the PDB database.\n",
    "\n",
    "### Get statistic on PDB entries for query protein \n",
    "\n",
    "First, we ask the question: How many PDB entries are deposited in the PDB for EGFR per year and how many in total?\n",
    "\n",
    "We can do a search on the [PDB website](http://www.rcsb.org/pdb>) with the search term `P00533`. \n",
    "In October 2018, the PDB returned 179 search results.\n",
    "\n",
    "Using `pypdb`, we can find all deposition dates of EGFR structures from the PDB database. The number of deposited structures is needed to set the parameter `max_results` of the function `find_dates`."
   ]
  },
  {
   "cell_type": "code",
   "execution_count": 4,
   "metadata": {
    "collapsed": true,
    "scrolled": true
   },
   "outputs": [
    {
     "ename": "NameError",
     "evalue": "name 'find_dates' is not defined",
     "output_type": "error",
     "traceback": [
      "\u001B[1;31m---------------------------------------------------------------------------\u001B[0m",
      "\u001B[1;31mNameError\u001B[0m                                 Traceback (most recent call last)",
      "\u001B[1;32mC:\\Users\\Public\\Documents\\iSkysoft\\CreatorTemp/ipykernel_4644/2053513337.py\u001B[0m in \u001B[0;36m<module>\u001B[1;34m\u001B[0m\n\u001B[0;32m      4\u001B[0m \u001B[1;33m\u001B[0m\u001B[0m\n\u001B[0;32m      5\u001B[0m \u001B[1;31m# This database query may take a moment (minute to couple of minutes)\u001B[0m\u001B[1;33m\u001B[0m\u001B[1;33m\u001B[0m\u001B[0m\n\u001B[1;32m----> 6\u001B[1;33m \u001B[0mall_dates\u001B[0m \u001B[1;33m=\u001B[0m \u001B[0mfind_dates\u001B[0m\u001B[1;33m(\u001B[0m\u001B[1;34m\"P00533\"\u001B[0m\u001B[1;33m,\u001B[0m \u001B[0mmax_results\u001B[0m\u001B[1;33m=\u001B[0m\u001B[1;36m179\u001B[0m\u001B[1;33m)\u001B[0m\u001B[1;33m\u001B[0m\u001B[1;33m\u001B[0m\u001B[0m\n\u001B[0m\u001B[0;32m      7\u001B[0m \u001B[1;33m\u001B[0m\u001B[0m\n",
      "\u001B[1;31mNameError\u001B[0m: name 'find_dates' is not defined"
     ]
    }
   ],
   "source": [
    "# Note: Parameter max_results default is 100, which is too low for EGFR\n",
    "# If max_results > maximal number of EGFR structures: error, \n",
    "# Therefore we checked beforehand how many results exist (#179)\n",
    "\n",
    "# This database query may take a moment (minute to couple of minutes)\n",
    "all_dates = find_dates(\"P00533\", max_results=179)  "
   ]
  },
  {
   "cell_type": "code",
   "execution_count": null,
   "metadata": {
    "scrolled": true
   },
   "outputs": [],
   "source": [
    "print(\"Number of EGFR structures found: \" + str(len(all_dates)))"
   ]
  },
  {
   "cell_type": "code",
   "execution_count": null,
   "metadata": {},
   "outputs": [],
   "source": [
    "# Example of deposition dates\n",
    "all_dates[:3]"
   ]
  },
  {
   "cell_type": "markdown",
   "metadata": {},
   "source": [
    "We extract the year from the deposition dates and calculate a depositions-per-year histogram."
   ]
  },
  {
   "cell_type": "code",
   "execution_count": 5,
   "metadata": {},
   "outputs": [
    {
     "ename": "NameError",
     "evalue": "name 'all_dates' is not defined",
     "output_type": "error",
     "traceback": [
      "\u001B[1;31m---------------------------------------------------------------------------\u001B[0m",
      "\u001B[1;31mNameError\u001B[0m                                 Traceback (most recent call last)",
      "\u001B[1;32mC:\\Users\\Public\\Documents\\iSkysoft\\CreatorTemp/ipykernel_4644/3607061356.py\u001B[0m in \u001B[0;36m<module>\u001B[1;34m\u001B[0m\n\u001B[0;32m      1\u001B[0m \u001B[1;31m# Extract year\u001B[0m\u001B[1;33m\u001B[0m\u001B[1;33m\u001B[0m\u001B[0m\n\u001B[1;32m----> 2\u001B[1;33m \u001B[0mall_dates\u001B[0m \u001B[1;33m=\u001B[0m \u001B[0mnp\u001B[0m\u001B[1;33m.\u001B[0m\u001B[0masarray\u001B[0m\u001B[1;33m(\u001B[0m\u001B[0mall_dates\u001B[0m\u001B[1;33m)\u001B[0m\u001B[1;33m\u001B[0m\u001B[1;33m\u001B[0m\u001B[0m\n\u001B[0m\u001B[0;32m      3\u001B[0m \u001B[0mall_years\u001B[0m \u001B[1;33m=\u001B[0m \u001B[0mnp\u001B[0m\u001B[1;33m.\u001B[0m\u001B[0masarray\u001B[0m\u001B[1;33m(\u001B[0m\u001B[1;33m[\u001B[0m\u001B[0mint\u001B[0m\u001B[1;33m(\u001B[0m\u001B[0mdepdate\u001B[0m\u001B[1;33m[\u001B[0m\u001B[1;33m:\u001B[0m\u001B[1;36m4\u001B[0m\u001B[1;33m]\u001B[0m\u001B[1;33m)\u001B[0m \u001B[1;32mfor\u001B[0m \u001B[0mdepdate\u001B[0m \u001B[1;32min\u001B[0m \u001B[0mall_dates\u001B[0m\u001B[1;33m]\u001B[0m\u001B[1;33m)\u001B[0m\u001B[1;33m\u001B[0m\u001B[1;33m\u001B[0m\u001B[0m\n\u001B[0;32m      4\u001B[0m \u001B[1;33m\u001B[0m\u001B[0m\n\u001B[0;32m      5\u001B[0m \u001B[1;31m# Calculate histogram\u001B[0m\u001B[1;33m\u001B[0m\u001B[1;33m\u001B[0m\u001B[0m\n",
      "\u001B[1;31mNameError\u001B[0m: name 'all_dates' is not defined"
     ]
    }
   ],
   "source": [
    "# Extract year\n",
    "all_dates = np.asarray(all_dates)\n",
    "all_years = np.asarray([int(depdate[:4]) for depdate in all_dates])\n",
    "\n",
    "# Calculate histogram\n",
    "bins = max(all_years)-min(all_years)  # Bin number = year range\n",
    "subs_v_time = np.histogram(all_years, bins)\n",
    "\n",
    "# All entries (excluding 2018) are plotted\n",
    "dates, num_entries = subs_v_time[1][:-1], subs_v_time[0]  \n",
    "\n",
    "# Show histogram\n",
    "fig = plt.figure()\n",
    "ax = plt.subplot(111)\n",
    "ax.fill_between(dates, 0, num_entries)\n",
    "ax.set_ylabel(\"New entries per year\")\n",
    "ax.set_xlabel(\"Year\")\n",
    "ax.set_title(\"PDB entries for EGFR\")\n",
    "plt.show()"
   ]
  },
  {
   "cell_type": "markdown",
   "metadata": {},
   "source": [
    "### Get all PDB IDs for query protein\n",
    "\n",
    "Now, we get all PDB structures for our query protein EGFR, using the `pypdb` function `make_query` and `do_search`."
   ]
  },
  {
   "cell_type": "code",
   "execution_count": null,
   "metadata": {
    "scrolled": true
   },
   "outputs": [],
   "source": [
    "search_dict = make_query(\"P00533\")  # May run into timeout when max_results is 180 or more\n",
    "found_pdb_ids = do_search(search_dict)\n",
    "\n",
    "print(\"PDB IDs found for query: \")\n",
    "print(found_pdb_ids)\n",
    "\n",
    "print(\"\\nNumber of structures: \" + str(len(found_pdb_ids)))"
   ]
  },
  {
   "cell_type": "markdown",
   "metadata": {},
   "source": [
    "### Get meta information for PDB entries\n",
    "\n",
    "We use `describe_pdb` to get meta information about the structures, which is stored per structure as dictionary.\n",
    "\n",
    "Note: we only fetch meta information on PDB structures here, we do not fetch the structures (3D coordinates), yet."
   ]
  },
  {
   "cell_type": "code",
   "execution_count": null,
   "metadata": {
    "scrolled": true
   },
   "outputs": [],
   "source": [
    "# This database query may take a moment\n",
    "pdbs = []\n",
    "for i in found_pdb_ids:\n",
    "  pdbs.append(describe_pdb(i))\n",
    "\n",
    "pdbs[0]"
   ]
  },
  {
   "cell_type": "markdown",
   "metadata": {},
   "source": [
    "### Filter and sort meta information on PDB entries\n",
    "\n",
    "Since we want to use the information to filter for relevant PDB structures, we convert the data set from dictionary to DataFrame for easier handling."
   ]
  },
  {
   "cell_type": "code",
   "execution_count": null,
   "metadata": {
    "scrolled": true
   },
   "outputs": [],
   "source": [
    "pdbs = pd.DataFrame(pdbs)\n",
    "pdbs.head()"
   ]
  },
  {
   "cell_type": "code",
   "execution_count": null,
   "metadata": {
    "scrolled": true
   },
   "outputs": [],
   "source": [
    "print(\"Number of PDB structures for EGFR: \" + str(len(pdbs)))"
   ]
  },
  {
   "cell_type": "markdown",
   "metadata": {},
   "source": [
    "We start filtering our dataset based on the following criteria:\n",
    "\n",
    "#### 1. Experimental method: X-ray diffraction\n",
    "\n",
    "We only keep structures resolved by `X-RAY DIFFRACTION`, the most commonly used structure determination method. "
   ]
  },
  {
   "cell_type": "code",
   "execution_count": null,
   "metadata": {
    "scrolled": true
   },
   "outputs": [],
   "source": [
    "pdbs = pdbs[pdbs.expMethod ==\"X-RAY DIFFRACTION\"]\n",
    "print(\"Number of PDB structures for EGFR from X-ray: \" + str(len(pdbs)))"
   ]
  },
  {
   "cell_type": "markdown",
   "metadata": {},
   "source": [
    "#### 2. Structural resolution\n",
    "\n",
    "We only keep structures with a resolution equal or lower than 3 Å (Angström). The lower the resolution value, the higher is the quality of the structure (= the higher is the certainty that the assigned 3D coordinates of the atoms are correct). Below 3 Å, atomic orientations can be determined  and therefore is often used as threshold for structures relevant for structure-based drug design."
   ]
  },
  {
   "cell_type": "code",
   "execution_count": null,
   "metadata": {
    "scrolled": true
   },
   "outputs": [],
   "source": [
    "pdbs_resolution = [float(i) for i in pdbs.resolution.tolist()]\n",
    "pdbs = pdbs[[i <= 3.0 for i in pdbs_resolution]]\n",
    "\n",
    "print(\"Number of PDB structures for EGFR from X-ray with resolution <= 3.0 Angström: \" + str(len(pdbs)))"
   ]
  },
  {
   "cell_type": "markdown",
   "metadata": {},
   "source": [
    "We sort the data set by the structural resolution. "
   ]
  },
  {
   "cell_type": "code",
   "execution_count": null,
   "metadata": {
    "collapsed": true,
    "scrolled": true
   },
   "outputs": [],
   "source": [
    "pdbs = pdbs.sort_values([\"resolution\"], \n",
    "                        ascending=True, \n",
    "                        na_position='last')"
   ]
  },
  {
   "cell_type": "markdown",
   "metadata": {},
   "source": [
    "We check the top PDB structures (sorted by resolution): "
   ]
  },
  {
   "cell_type": "code",
   "execution_count": null,
   "metadata": {
    "scrolled": true
   },
   "outputs": [],
   "source": [
    "pdbs.head()[[\"structureId\", \"resolution\"]]"
   ]
  },
  {
   "cell_type": "markdown",
   "metadata": {},
   "source": [
    "#### 3. Ligand-bound structures\n",
    "\n",
    "Since we will create ensemble ligand-based pharmacophores in the next talktorial, we remove all PDB structures from our DataFrame, which do not contain a bound ligand: we use the `pypdb` function `get_ligands` to check/retrieve the ligand(s) from a PDB structure. PDB-annotated ligands can be ligands, cofactors, but also solvents and ions. In order to filter only ligand-bound structures, we (i) remove all structures without any annotated ligand and (ii) remove all structures that do not contain any ligands with a molecular weight (MW) greater than 100 Da (Dalton), since many solvents and ions weight less. Note: this is a simple, but not comprehensive exclusion of solvents and ions. "
   ]
  },
  {
   "cell_type": "code",
   "execution_count": null,
   "metadata": {
    "collapsed": true
   },
   "outputs": [],
   "source": [
    "# Get all PDB IDs from DataFrame\n",
    "pdb_ids = pdbs[\"structureId\"].get_values().tolist()"
   ]
  },
  {
   "cell_type": "code",
   "execution_count": null,
   "metadata": {
    "scrolled": true
   },
   "outputs": [],
   "source": [
    "# Remove structures \n",
    "# (i) without ligand and \n",
    "# (ii) without any ligands with molecular weight (MW) greater than 100 Da (Dalton)\n",
    "\n",
    "mw_cutoff = 100.0  # Molecular weight cutoff in Da\n",
    "\n",
    "# This database query may take a moment\n",
    "removed_pdb_ids = []\n",
    "for i in pdb_ids:\n",
    "    ligand_dict = get_ligands(i)\n",
    "    \n",
    "    # (i) Remove structure if no ligand present\n",
    "    if ligand_dict[\"ligandInfo\"] is None:\n",
    "        pdb_ids.remove(i) # Remove ligand-free PDB IDs from list\n",
    "        removed_pdb_ids.append(i) # Store ligand-free PDB IDs\n",
    "    \n",
    "    # (ii) Remove structure if not a single annotated ligand has a MW above mw_cutoff\n",
    "    else:\n",
    "        # Get ligand information\n",
    "        ligs = ligand_dict[\"ligandInfo\"][\"ligand\"]\n",
    "        # Technicality: if only one ligand, cast dict to list (for the subsequent list comprehension)\n",
    "        if type(ligs) == dict:\n",
    "            ligs = [ligs]\n",
    "        # Get MW per annotated ligand\n",
    "        mw_list = [float(i[\"@molecularWeight\"]) for i in ligs]\n",
    "        # Remove structure if not a single annotated ligand has a MW above mw_cutoff\n",
    "        if sum([mw > mw_cutoff for mw in mw_list]) == 0:\n",
    "            pdb_ids.remove(i) # Remove ligand-free PDB IDs from list\n",
    "            removed_pdb_ids.append(i) # Store ligand-free PDB IDs\n",
    "\n",
    "print(\"PDB structures without a ligand (removed from our data set):\")\n",
    "print(removed_pdb_ids)"
   ]
  },
  {
   "cell_type": "code",
   "execution_count": null,
   "metadata": {
    "scrolled": true
   },
   "outputs": [],
   "source": [
    "print(\"Number of structures with ligand: \" + str(len(pdb_ids)))"
   ]
  },
  {
   "cell_type": "markdown",
   "metadata": {},
   "source": [
    "### Get meta information of ligands from top structures\n",
    "\n",
    "In the next talktorial, we will build ligand-based ensemble pharmacophores from the top `top_num` structures with the highest resolution."
   ]
  },
  {
   "cell_type": "code",
   "execution_count": null,
   "metadata": {
    "scrolled": true
   },
   "outputs": [],
   "source": [
    "top_num = 4  # Number of top structures\n",
    "pdb_ids = pdb_ids[0:top_num]\n",
    "pdb_ids"
   ]
  },
  {
   "cell_type": "markdown",
   "metadata": {},
   "source": [
    "We fetch the PDB information about the top `top_num` ligands using `get_ligands`, to be stored as *csv* file (as dictionary per ligand).\n",
    "\n",
    "If a structure contains several ligands, we select the largest ligand. Note: this is a simple, but not comprehensive method to select ligand binding the binding site of a protein. This approach may also select a cofactor bound to the protein. Therefore, please check the automatically selected top ligands in PyMol for further usage."
   ]
  },
  {
   "cell_type": "code",
   "execution_count": null,
   "metadata": {
    "scrolled": true
   },
   "outputs": [],
   "source": [
    "ligands_list = []\n",
    "\n",
    "for i in pdb_ids:\n",
    "    ligands = get_ligands(i)[\"ligandInfo\"][\"ligand\"]\n",
    "    # Technicality: if only one ligand, cast dict to list (for the subsequent list comprehension)\n",
    "    if type(ligands) == dict:\n",
    "        ligands = [ligands]\n",
    "\n",
    "    weight = 0\n",
    "    this_lig = {}\n",
    "    \n",
    "    # If several ligands contained, take largest\n",
    "    for lig in ligands:\n",
    "        if float(lig[\"@molecularWeight\"]) > weight:\n",
    "            this_lig = lig\n",
    "            weight = float(lig[\"@molecularWeight\"])\n",
    "            \n",
    "    ligands_list.append(this_lig)\n",
    "\n",
    "# Change the format to DataFrame\n",
    "ligs = pd.DataFrame(ligands_list)\n",
    "ligs"
   ]
  },
  {
   "cell_type": "code",
   "execution_count": null,
   "metadata": {
    "collapsed": true
   },
   "outputs": [],
   "source": [
    "ligs.to_csv('../data/T8/PDB_top_ligands.csv', header=True, index=False, sep='\\t')"
   ]
  },
  {
   "cell_type": "markdown",
   "metadata": {},
   "source": [
    "### Draw top ligand molecules"
   ]
  },
  {
   "cell_type": "code",
   "execution_count": null,
   "metadata": {
    "scrolled": false
   },
   "outputs": [],
   "source": [
    "PandasTools.AddMoleculeColumnToFrame(ligs, 'smiles')\n",
    "Draw.MolsToGridImage(mols=list(ligs.ROMol), \n",
    "                     legends=list(ligs['@chemicalID']+', '+ligs['@structureId']), \n",
    "                     molsPerRow=top_num)"
   ]
  },
  {
   "cell_type": "markdown",
   "metadata": {},
   "source": [
    "### Create protein-ligand ID pairs"
   ]
  },
  {
   "cell_type": "code",
   "execution_count": null,
   "metadata": {},
   "outputs": [],
   "source": [
    "pairs = collections.OrderedDict()\n",
    "\n",
    "for idx, row in ligs.iterrows():\n",
    "    pairs[str(row['@structureId'])] = str(row['@chemicalID'])\n",
    "\n",
    "print(pairs)"
   ]
  },
  {
   "cell_type": "markdown",
   "metadata": {},
   "source": [
    "### Get the PDB structure files\n",
    "\n",
    "We now fetch the PDB structure files, i.e. 3D coordinates of the protein, ligand (and if available other atomic or molecular entities such as cofactors, water molecules, and ions) from the PDB using the `pypdb` function `get_pdb_file`. \n",
    "Available file formats are *pdb* and *cif*, which store the 3D coordinations of atoms of the protein (and ligand, cofactors, water molecules, and ions) as well as information on bonds between atoms. Here, we work with *pdb* files."
   ]
  },
  {
   "cell_type": "code",
   "execution_count": null,
   "metadata": {
    "collapsed": true
   },
   "outputs": [],
   "source": [
    "# Fetch pdb file and save locally\n",
    "for prot, lig in pairs.items():\n",
    "    pdb_file = get_pdb_file(prot, filetype='pdb', compression=False)\n",
    "    with open('../data/T8/'+ prot + '.pdb', 'w') as f:\n",
    "        f.write(pdb_file)"
   ]
  },
  {
   "cell_type": "markdown",
   "metadata": {},
   "source": [
    "### Align PDB structures\n",
    "\n",
    "Since we want to build ligand-based ensemble pharmacophores in the next talktorial, it is necessary to align all structures to each other in 3D. We will use the molecular visualization program PyMol for this task, which can also be used from within the Jupyter notebook. PyMol aligns two structures at a time in a way that the distance of atoms between the two structures is minimized.\n",
    "\n",
    "First, we will launch PyMol from the command line (in quiet mode, i.e. the GUI will not open)."
   ]
  },
  {
   "cell_type": "code",
   "execution_count": null,
   "metadata": {
    "collapsed": true
   },
   "outputs": [],
   "source": [
    "# Launch PyMol in quiet mode\n",
    "pymol.pymol_argv = ['pymol','-qc']\n",
    "pymol.finish_launching()"
   ]
  },
  {
   "cell_type": "markdown",
   "metadata": {},
   "source": [
    "For the alignment, we choose a reference structure file (immobile PDB, 'target') onto which the other ('query') structure files are superimposed using the PyMol command `cmd.align(query, target)`. All `cmd.` commands are commands for PyMol.\n",
    "\n",
    "We save the aligned structures with the new coordinates as *pdb* files. We also extract the ligand from the structure file and save it separately as *pdb* file to be used in the next talktorial."
   ]
  },
  {
   "cell_type": "code",
   "execution_count": null,
   "metadata": {
    "collapsed": true
   },
   "outputs": [],
   "source": [
    "# Save alignment logs to file\n",
    "f = open(\"../data/T8/alignments.log\", \"w\")\n",
    "\n",
    "# Variable distinguishing between immobile and mobile structure during alignment\n",
    "immobile_pdb = True\n",
    "refAlignTarget='non'\n",
    "refAlignQuery='non'\n",
    "\n",
    "# Align proteins on first protein\n",
    "for prot, lig in pairs.items():\n",
    "    \n",
    "    # Immobile structure (reference structure for alignment)\n",
    "    if immobile_pdb:\n",
    "        target = prot\n",
    "        f.write('Immobile target: ' + prot + '\\n')\n",
    "        \n",
    "        # Load pdb file (complex of protein and ligand)\n",
    "        targetFile = cmd.load('../data/T8/' + target + '.pdb')\n",
    "        # Store name for refined alignment\n",
    "        refAlignTarget='('+target+' within 5 of resn '+lig+')'\n",
    "        \n",
    "        # Save complex as pdb file\n",
    "        cmd.save('../data/T8/' + target + '_algn.pdb', selection=target)\n",
    "        \n",
    "        # Select only the ligand with the selected name\n",
    "        ligObj = cmd.select('ligand', target + ' and resn ' + lig)\n",
    "        # Save selection as pdb file\n",
    "        cmd.save('../data/T8/' + target + '_lig.pdb', selection='ligand', format='pdb')\n",
    "        # Delete ligand selection\n",
    "        cmd.delete(ligObj)\n",
    "        # Target selected\n",
    "        immobile_pdb = False\n",
    "        \n",
    "    # Mobile structures (which are aligned to reference structure)\n",
    "    else:\n",
    "        query = prot\n",
    "        f.write('-- align %s to %s \\n' %(query, target))\n",
    "        \n",
    "        # Load pdb file (complex of protein and ligand)\n",
    "        queryFile = cmd.load('../data/T8/' + query + '.pdb')\n",
    "        \n",
    "        # Align structures (proteins) with focus on binding site\n",
    "        refAlignQuery= '('+query+' within 5 of resn '+lig+')' \n",
    "        values = cmd.align(refAlignQuery, refAlignTarget)\n",
    "        \n",
    "        \n",
    "        # If structures cannot be aligned (i.e. if RMSD > 5A), skip alignment\n",
    "        if values[0] > 5:\n",
    "            f.write('--- bad alignment: skip structure\\n')\n",
    "        else:\n",
    "            # Save complex as pdb file\n",
    "            cmd.save('../data/T8/' + query + '_algn.pdb', selection=query)\n",
    "            \n",
    "            # Select only the ligand\n",
    "            ligObj = cmd.select('ligand', query + ' and resn ' + lig)\n",
    "            \n",
    "            # Save selection as pdb file\n",
    "            cmd.save('../data/T8/' + query + '_lig.pdb', selection='ligand', format='pdb')\n",
    "            \n",
    "            # Delete ligand selection\n",
    "            cmd.delete(ligObj)\n",
    "            \n",
    "        # Delete \"query\" selection\n",
    "        cmd.delete(query)\n",
    "    \n",
    "# Delete \"target\" selection\n",
    "cmd.delete(target)\n",
    "\n",
    "f.close()"
   ]
  },
  {
   "cell_type": "markdown",
   "metadata": {},
   "source": [
    "We quit the PyMol application."
   ]
  },
  {
   "cell_type": "code",
   "execution_count": null,
   "metadata": {
    "collapsed": true
   },
   "outputs": [],
   "source": [
    "# Quit PyMol\n",
    "pymol.cmd.quit()"
   ]
  },
  {
   "cell_type": "markdown",
   "metadata": {},
   "source": [
    "We check the existence of all ligand *pdb* files. If files are missing, please check the protein-ligand structures by hand in PyMol."
   ]
  },
  {
   "cell_type": "code",
   "execution_count": null,
   "metadata": {},
   "outputs": [],
   "source": [
    "mol_files = []\n",
    "for file in glob.glob(\"../data/T8/*_lig.pdb\"):\n",
    "    mol_files.append(file)\n",
    "mol_files"
   ]
  },
  {
   "cell_type": "markdown",
   "metadata": {},
   "source": [
    "## Discussion\n",
    "\n",
    "In this talktorial, we learned how to retrieve protein and ligand meta information and structural information from the PDB. We retained only X-ray structures and filtered our data by resolution and ligand availability. Ultimately, we aimed for an aligned set of ligands to be used in the next talktorial for the generation of ligand-based ensemble pharmacophores. \n",
    "\n",
    "In order to enrich information about ligands for pharmacophore modeling, it is advisable to not only filter by PDB structure resolution, but also to check for ligand diversity (see **talktorial 5** on molecule clustering by similarity) and to check for ligand activity (i.e. to include only potent ligands). \n",
    "\n",
    "## Quiz\n",
    "\n",
    "1. Summarize the kind of data that the Protein Data Bank contains.\n",
    "2. Explain what the resolution of a structure stands for and how and why we filter for it in this talktorial.\n",
    "3. Explain what an alignment of structures means and discuss the alignment performed in this talktorial."
   ]
  },
  {
   "cell_type": "code",
   "execution_count": null,
   "metadata": {
    "collapsed": true
   },
   "outputs": [],
   "source": []
  }
 ],
 "metadata": {
  "anaconda-cloud": {},
  "kernelspec": {
   "name": "python3",
   "language": "python",
   "display_name": "Python 3 (ipykernel)"
  },
  "language_info": {
   "codemirror_mode": {
    "name": "ipython",
    "version": 2
   },
   "file_extension": ".py",
   "mimetype": "text/x-python",
   "name": "python",
   "nbconvert_exporter": "python",
   "pygments_lexer": "ipython2",
   "version": "2.7.14"
  }
 },
 "nbformat": 4,
 "nbformat_minor": 2
}