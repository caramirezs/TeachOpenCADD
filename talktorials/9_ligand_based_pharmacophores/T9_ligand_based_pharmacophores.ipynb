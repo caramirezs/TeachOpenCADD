{
 "cells": [
  {
   "cell_type": "markdown",
   "metadata": {
    "nbpresent": {
     "id": "34f921f8-5eb3-4ef2-8586-508ee5b7ea58"
    }
   },
   "source": [
    "# Talktorial 9\n",
    "\n",
    "# Ligand-based pharmacophores\n",
    "\n",
    "#### Developed in the CADD seminars 2017 and 2018, AG Volkamer, Charité/FU Berlin \n",
    "\n",
    "Pratik Dhakal, Florian Gusewski and Dominique Sydow"
   ]
  },
  {
   "cell_type": "markdown",
   "metadata": {},
   "source": [
    "**Note**: Please run this notebook cell by cell. Running all cells in one is possible also, however, a few PyMol images might not turn out as intended."
   ]
  },
  {
   "cell_type": "markdown",
   "metadata": {
    "nbpresent": {
     "id": "7f9bc5ae-85af-41dd-ab26-d16fb282caf4"
    }
   },
   "source": [
    "## Aim of this talktorial\n",
    "\n",
    "In this talktorial, we use known EGFR ligands, which were selected and aligned in the previous talktorial, to identify donor, acceptor, and hydrophobic pharmacophoric features for each ligand. Those features are then clustered to define an ensemble pharmacophore, which represents the properties of the set of known EGFR ligands and can be used to search for novel EGFR ligands via virtual screening.\n",
    "\n",
    "## Learning goals\n",
    "\n",
    "### Theory\n",
    "\n",
    "* Pharmacophore modeling\n",
    "  * Structure- and ligand-based pharmacophore modeling\n",
    "* Virtual screening with pharmacophores\n",
    "* Clustering: k means\n",
    "\n",
    "### Practical\n",
    "\n",
    "* Get pre-aligned ligands from previous talktorial\n",
    "* Start PyMoL\n",
    "* Show ligands with PyMol\n",
    "* Extract pharmacophore features\n",
    "* Show the pharmacophore features of all ligands\n",
    "  * Hydrogen bond donors\n",
    "  * Hydrogen bond acceptors\n",
    "  * Hydrophobic contacts\n",
    "* Collect coordinates of features per feature type\n",
    "* Generate ensemble pharmacophores\n",
    "  * Set static parameters for k-means clustering\n",
    "  * Set static parameters for cluster selection\n",
    "  * Define k-means clustering and cluster selection functions\n",
    "  * Cluster features\n",
    "  * Select relevant clusters\n",
    "  * Get selected cluster coordinates\n",
    "* Show clusters\n",
    "  * Hydrogen bond donors\n",
    "  * Hydrogen bond acceptors\n",
    "  * Hydrophobic contacts\n",
    "* Show ensemble pharmacophore\n",
    "\n",
    "\n",
    "## References\n",
    "\n",
    "* IUPAC pharmacophore definition \n",
    "([<i>Pure & Appl. Chem</i> (1998), <b>70</b>, 1129-43](https://iupac.org/publications/pac/70/5/1129/))\n",
    "* 3D pharmacophores in LigandScout \n",
    "([<i>J. Chem. Inf. Model.</i> (2005), <b>45</b>, 160-9](http://pubs.acs.org/doi/pdf/10.1021/ci049885e))\n",
    "* Book chapter: Pharmacophore Perception and Applications \n",
    "([Applied Chemoinformatics, Wiley-VCH Verlag GmbH & Co. KGaA, Weinheim, (2018), **1**, 259-82](https://onlinelibrary.wiley.com/doi/10.1002/9783527806539.ch6f))\n",
    "* Book chapter: Structure-Based Virtual Screening ([Applied Chemoinformatics, Wiley-VCH Verlag GmbH & Co. KGaA, Weinheim, (2018), **1**, 313-31](https://onlinelibrary.wiley.com/doi/10.1002/9783527806539.ch6h)).\n",
    "* Monty Kier and the origin of the pharmacophore concept \n",
    "([<i>Internet Electron. J. Mol. Des.</i> (2007), <b>6</b>, 271-9](http://biochempress.com/Files/iejmd_2007_6_0271.pdf))\n",
    "* PyMol integration with RDKit ([rdkit.Chem.PyMol documentation](http://rdkit.org/docs/source/rdkit.Chem.PyMol.html))\n",
    "* Nik Stiefl's demonstration of pharmacophore modeling with RDKit \n",
    "([RDKit UGM 2016 on GitHub](https://github.com/rdkit/UGM_2016/blob/master/Notebooks/Stiefl_RDKitPh4FullPublication.ipynb)) "
   ]
  },
  {
   "cell_type": "markdown",
   "metadata": {},
   "source": [
    "## Theory\n",
    "\n",
    "### Pharmacophores\n",
    "\n",
    "In computer-aided drug design, the description of drug-target interactions with pharmacophores is a well-established method. The term pharmacophore was defined in 1998 by a IUPAC working party:\n",
    "\"A pharmacophore is the ensemble of steric and electronic features that is necessary to ensure the optimal supramolecular interactions with a specific biological target structure and to trigger (or to block) its biological response.\" \n",
    "([<i>Pure & Appl. Chem.</i> (1998), <b>70</b>, 1129-43](https://iupac.org/publications/pac/70/5/1129/))\n",
    "\n",
    "In other words, a *pharmacophore* consists of several *pharmacophoric features*, which describe important steric and physico-chemical properties of a ligand observed to bind a target under investigation. \n",
    "Such *physico-chemical properties* (also called feature types) can be hydrogen bond donors/acceptors, hydrophobic/aromatic interactions, or positively/negatively charged groups, and the *steric properties* are defined by the 3D arrangement of these features.\n",
    "\n",
    "#### Structure- and ligand-based pharmacophore modeling\n",
    "\n",
    "In pharmacophore modeling, two main approaches are used, depending on the biological question and available data sources, i.e. structure- and ligand-based pharmacophore modeling.\n",
    "\n",
    "*Structure-based pharmacophore models* are derived from protein-ligand complexes. Features are defined by observed interactions between the protein and ligand, ensuring that only those ligand moieties are used for virtual screening that have already been shown to be involved in ligand binding. \n",
    "However, structures of protein-ligand complexes are not available for all targets. \n",
    "In this case, either complex structures can be generated by modeling the ligand into the target binding site, e.g. via molecular docking, or pharmacophore modeling methods can be invoked that only use the target binding site to detect potential protein-ligand interaction sites.\n",
    "\n",
    "*Ligand-based pharmacophore models* are based on a set of ligands known to bind the target under investigation. The common chemical features of these ligands build the pharmacophore model. This method is used for targets with multiple known ligands and in case of missing protein-ligand complex structures. In this talktorial, we will use ligand-based pharmacophore modeling using a set of known EGFR ligands.\n",
    "\n",
    "For more information on pharmacophore modeling, we recommend ([Pharmacophore Perception and Applications: Applied Chemoinformatics, Wiley-VCH Verlag GmbH & Co. KGaA, Weinheim, (2018), **1**, 259-82](https://onlinelibrary.wiley.com/doi/10.1002/9783527806539.ch6f)) and ([<i>J. Chem. Inf. Model.</i> (2005), <b>45</b>, 160-9](http://pubs.acs.org/doi/pdf/10.1021/ci049885e)).\n",
    "\n",
    "<img src=\"images/target+ligand+pharma_3x_feather.png\" align=\"above\" alt=\"Image cannot be shown\" width=\"400\">\n",
    "<div align=\"center\"> Figure 1: Structure-based pharmacophore representing protein-ligand interactions (figure by Dominique Sydow).</div>\n",
    "\n",
    "### Virtual screening with pharmacophores\n",
    "\n",
    "As described earlier in **talktorial 4**, virtual screening (VS) describes the screening of a query (e.g. here in **talktorial 9** a pharmacophore model or in **talktorial 4** a query compound) against a large library of compounds, in order to identify those small molecules (in the library) that are most likely to bind a target under investigation (represented by the query). In pharmacophore-based virtual screening, the compound library is matched compound-by-compound into a pharmacophore model and ranked by the best matching results ([Structure-Based Virtual Screening: Applied Chemoinformatics, Wiley-VCH Verlag GmbH & Co. KGaA, Weinheim, (2018), **1**, 313-31](https://onlinelibrary.wiley.com/doi/10.1002/9783527806539.ch6h)).\n",
    "\n",
    "### Clustering: k means\n",
    "\n",
    "In this talktorial, we will generate an ensemble pharmacophore by clustering the feature points of several ligand-based pharmacophores. The clustering algorithm used is the k means clustering, which aims to cluster a data set into k clusters:\n",
    "\n",
    "1. k different centroids are selected and each point of the data set is assigned to its closest centroids.\n",
    "2. New centroids are calculated based on the current clusters and each point of the data set is newly assigned to its closest centroids.\n",
    "3. This procedure is repeated until the centroids are stable.\n",
    "\n",
    "([K means wikipedia](https://de.wikipedia.org/wiki/K-Means-Algorithmus))"
   ]
  },
  {
   "cell_type": "markdown",
   "metadata": {
    "nbpresent": {
     "id": "ff3cfaf6-567f-4d95-8ee6-f489c6b77d96"
    }
   },
   "source": [
    "## Practical"
   ]
  },
  {
   "cell_type": "code",
   "execution_count": 1,
   "metadata": {
    "collapsed": true,
    "nbpresent": {
     "id": "cd835152-951a-4233-9752-c613475177ab"
    }
   },
   "outputs": [],
   "source": [
    "import os, glob\n",
    "\n",
    "# RDKit\n",
    "from rdkit import RDConfig, Chem, Geometry, DistanceGeometry\n",
    "from rdkit.Chem import ChemicalFeatures, rdDistGeom, Draw, rdMolTransforms, AllChem\n",
    "from rdkit.Chem.Draw import IPythonConsole, DrawingOptions\n",
    "from rdkit.Chem.Pharm3D import Pharmacophore, EmbedLib\n",
    "from rdkit.Numerics import rdAlignment\n",
    "IPythonConsole.ipython_useSVG=True\n",
    "\n",
    "# PyMOL related\n",
    "from rdkit.Chem import PyMol\n",
    "from pymol import *\n",
    "import time # Needed for waiting a second\n",
    "from PIL import Image # For export the image to disk\n",
    "\n",
    "import collections\n",
    "import pandas as pd\n",
    "import math\n",
    "\n",
    "from sklearn import datasets, cluster\n",
    "import matplotlib.pyplot as plt\n",
    "from mpl_toolkits.mplot3d import Axes3D\n",
    "from collections import Counter # For handling the labels\n",
    "import operator"
   ]
  },
  {
   "cell_type": "markdown",
   "metadata": {},
   "source": [
    "### Get pre-aligned ligands from previous talktorial\n",
    "\n",
    "We retrieve all ligands that were aligned in the previous talktorial.\n",
    "\n",
    "First, we get the file paths to all ligand PDB files."
   ]
  },
  {
   "cell_type": "code",
   "execution_count": 2,
   "metadata": {
    "nbpresent": {
     "id": "12cac0a1-ddd6-4a2c-b21a-f69d18e98919"
    },
    "scrolled": true
   },
   "outputs": [
    {
     "data": {
      "text/plain": "['../data/T8\\\\3POZ_lig.pdb',\n '../data/T8\\\\5HG8_lig.pdb',\n '../data/T8\\\\5UG8_lig.pdb',\n '../data/T8\\\\5UG9_lig.pdb']"
     },
     "execution_count": 2,
     "metadata": {},
     "output_type": "execute_result"
    }
   ],
   "source": [
    "mol_files = []\n",
    "for file in glob.glob(\"../data/T8/*_lig.pdb\"):\n",
    "    mol_files.append(file)\n",
    "mol_files"
   ]
  },
  {
   "cell_type": "code",
   "execution_count": 3,
   "metadata": {},
   "outputs": [
    {
     "data": {
      "text/plain": "['T8\\\\3POZ', 'T8\\\\5HG8', 'T8\\\\5UG8', 'T8\\\\5UG9']"
     },
     "execution_count": 3,
     "metadata": {},
     "output_type": "execute_result"
    }
   ],
   "source": [
    "pdb_ids = [i.split(\"/\")[-1].split(\"_\")[0] for i in mol_files]\n",
    "pdb_ids"
   ]
  },
  {
   "cell_type": "markdown",
   "metadata": {},
   "source": [
    "Second, we read all ligands from these PDB files using RDKit."
   ]
  },
  {
   "cell_type": "code",
   "execution_count": 4,
   "metadata": {
    "nbpresent": {
     "id": "42814bc4-7ab7-4a4c-971b-21f4c7df9656"
    },
    "scrolled": true
   },
   "outputs": [
    {
     "name": "stdout",
     "output_type": "stream",
     "text": [
      "CC(C)(O)CC(O)NCCN1CCC2NCNC(NC3CCC(OC4CCCC(C(F)(F)F)C4)C(Cl)C3)[C@H]21\n",
      "CCC(O)NC1CCCC(OC2NC(NC3CNN(C)C3)NC3NCCC32)C1\n",
      "CCC(O)N[C@@H]1CN(C2NC(NC3CNN(C)C3)C3NCN(C(C)C)C3N2)C[C@H]1F\n",
      "CCC(O)N[C@@H]1CN(C2NC(NC3CN(C)NC3OC)C3NCN(C(C)C)C3N2)C[C@H]1F\n",
      "Number of molecules:  4\n"
     ]
    }
   ],
   "source": [
    "mols = []\n",
    "for mol_file in mol_files:\n",
    "    mol = Chem.MolFromPDBFile(mol_file, removeHs=False)\n",
    "    if mol is None:\n",
    "        print(mol_file, 'could not be read')\n",
    "    else:\n",
    "        Chem.SanitizeMol(mol)\n",
    "        print(Chem.MolToSmiles(mol))\n",
    "        mols.append(mol)\n",
    "rangeMols = range(1, len(mols)+1)\n",
    "print('Number of molecules: ', len(mols))"
   ]
  },
  {
   "cell_type": "code",
   "execution_count": 5,
   "metadata": {
    "nbpresent": {
     "id": "f4747057-291c-4ec5-b3b3-6db07d56d9b5"
    },
    "scrolled": true
   },
   "outputs": [
    {
     "data": {
      "text/plain": "<IPython.core.display.SVG object>",
      "image/svg+xml": "<svg xmlns=\"http://www.w3.org/2000/svg\" xmlns:rdkit=\"http://www.rdkit.org/xml\" xmlns:xlink=\"http://www.w3.org/1999/xlink\" version=\"1.1\" baseProfile=\"full\" xml:space=\"preserve\" width=\"800px\" height=\"200px\" viewBox=\"0 0 800 200\">\n<!-- END OF HEADER -->\n<rect style=\"opacity:1.0;fill:#FFFFFF;stroke:none\" width=\"800.0\" height=\"200.0\" x=\"0.0\" y=\"0.0\"> </rect>\n<rect style=\"opacity:1.0;fill:#FFFFFF;stroke:none\" width=\"800.0\" height=\"200.0\" x=\"0.0\" y=\"0.0\"> </rect>\n<rect style=\"opacity:1.0;fill:#FFFFFF;stroke:none\" width=\"800.0\" height=\"200.0\" x=\"0.0\" y=\"0.0\"> </rect>\n<rect style=\"opacity:1.0;fill:#FFFFFF;stroke:none\" width=\"800.0\" height=\"200.0\" x=\"0.0\" y=\"0.0\"> </rect>\n<rect style=\"opacity:1.0;fill:#FFFFFF;stroke:none\" width=\"800.0\" height=\"200.0\" x=\"0.0\" y=\"0.0\"> </rect>\n<path class=\"bond-0 atom-0 atom-1\" d=\"M 91.2,111.2 L 95.3,107.4\" style=\"fill:none;fill-rule:evenodd;stroke:#0000FF;stroke-width:2.0px;stroke-linecap:butt;stroke-linejoin:miter;stroke-opacity:1\"/>\n<path class=\"bond-0 atom-0 atom-1\" d=\"M 95.3,107.4 L 99.3,103.6\" style=\"fill:none;fill-rule:evenodd;stroke:#000000;stroke-width:2.0px;stroke-linecap:butt;stroke-linejoin:miter;stroke-opacity:1\"/>\n<path class=\"bond-1 atom-0 atom-7\" d=\"M 86.6,112.0 L 81.9,109.4\" style=\"fill:none;fill-rule:evenodd;stroke:#0000FF;stroke-width:2.0px;stroke-linecap:butt;stroke-linejoin:miter;stroke-opacity:1\"/>\n<path class=\"bond-1 atom-0 atom-7\" d=\"M 81.9,109.4 L 77.1,106.7\" style=\"fill:none;fill-rule:evenodd;stroke:#000000;stroke-width:2.0px;stroke-linecap:butt;stroke-linejoin:miter;stroke-opacity:1\"/>\n<path class=\"bond-2 atom-1 atom-5\" d=\"M 99.3,103.6 L 98.9,97.0\" style=\"fill:none;fill-rule:evenodd;stroke:#000000;stroke-width:2.0px;stroke-linecap:butt;stroke-linejoin:miter;stroke-opacity:1\"/>\n<path class=\"bond-2 atom-1 atom-5\" d=\"M 98.9,97.0 L 98.5,90.4\" style=\"fill:none;fill-rule:evenodd;stroke:#0000FF;stroke-width:2.0px;stroke-linecap:butt;stroke-linejoin:miter;stroke-opacity:1\"/>\n<path class=\"bond-3 atom-2 atom-17\" d=\"M 62.9,36.6 L 57.8,35.9\" style=\"fill:none;fill-rule:evenodd;stroke:#FF0000;stroke-width:2.0px;stroke-linecap:butt;stroke-linejoin:miter;stroke-opacity:1\"/>\n<path class=\"bond-3 atom-2 atom-17\" d=\"M 57.8,35.9 L 52.7,35.3\" style=\"fill:none;fill-rule:evenodd;stroke:#000000;stroke-width:2.0px;stroke-linecap:butt;stroke-linejoin:miter;stroke-opacity:1\"/>\n<path class=\"bond-4 atom-3 atom-21\" d=\"M 107.3,46.1 L 107.0,45.8\" style=\"fill:none;fill-rule:evenodd;stroke:#00CC00;stroke-width:2.0px;stroke-linecap:butt;stroke-linejoin:miter;stroke-opacity:1\"/>\n<path class=\"bond-4 atom-3 atom-21\" d=\"M 107.0,45.8 L 106.8,45.4\" style=\"fill:none;fill-rule:evenodd;stroke:#000000;stroke-width:2.0px;stroke-linecap:butt;stroke-linejoin:miter;stroke-opacity:1\"/>\n<path class=\"bond-5 atom-4 atom-10\" d=\"M 86.9,80.2 L 76.0,90.3\" style=\"fill:none;fill-rule:evenodd;stroke:#000000;stroke-width:2.0px;stroke-linecap:butt;stroke-linejoin:miter;stroke-opacity:1\"/>\n<path class=\"bond-6 atom-4 atom-5\" d=\"M 86.9,80.2 L 91.5,83.1\" style=\"fill:none;fill-rule:evenodd;stroke:#000000;stroke-width:2.0px;stroke-linecap:butt;stroke-linejoin:miter;stroke-opacity:1\"/>\n<path class=\"bond-6 atom-4 atom-5\" d=\"M 91.5,83.1 L 96.0,86.0\" style=\"fill:none;fill-rule:evenodd;stroke:#0000FF;stroke-width:2.0px;stroke-linecap:butt;stroke-linejoin:miter;stroke-opacity:1\"/>\n<path class=\"bond-7 atom-4 atom-13\" d=\"M 86.9,80.2 L 86.5,73.5\" style=\"fill:none;fill-rule:evenodd;stroke:#000000;stroke-width:2.0px;stroke-linecap:butt;stroke-linejoin:miter;stroke-opacity:1\"/>\n<path class=\"bond-7 atom-4 atom-13\" d=\"M 86.5,73.5 L 86.2,66.8\" style=\"fill:none;fill-rule:evenodd;stroke:#0000FF;stroke-width:2.0px;stroke-linecap:butt;stroke-linejoin:miter;stroke-opacity:1\"/>\n<path class=\"bond-8 atom-6 atom-22\" d=\"M 121.9,25.6 L 118.5,29.2\" style=\"fill:none;fill-rule:evenodd;stroke:#FF0000;stroke-width:2.0px;stroke-linecap:butt;stroke-linejoin:miter;stroke-opacity:1\"/>\n<path class=\"bond-8 atom-6 atom-22\" d=\"M 118.5,29.2 L 115.1,32.8\" style=\"fill:none;fill-rule:evenodd;stroke:#000000;stroke-width:2.0px;stroke-linecap:butt;stroke-linejoin:miter;stroke-opacity:1\"/>\n<path class=\"bond-9 atom-6 atom-25\" d=\"M 127.4,22.5 L 134.0,21.9\" style=\"fill:none;fill-rule:evenodd;stroke:#FF0000;stroke-width:2.0px;stroke-linecap:butt;stroke-linejoin:miter;stroke-opacity:1\"/>\n<path class=\"bond-9 atom-6 atom-25\" d=\"M 134.0,21.9 L 140.6,21.3\" style=\"fill:none;fill-rule:evenodd;stroke:#000000;stroke-width:2.0px;stroke-linecap:butt;stroke-linejoin:miter;stroke-opacity:1\"/>\n<path class=\"bond-10 atom-7 atom-10\" d=\"M 77.1,106.7 L 76.0,90.3\" style=\"fill:none;fill-rule:evenodd;stroke:#000000;stroke-width:2.0px;stroke-linecap:butt;stroke-linejoin:miter;stroke-opacity:1\"/>\n<path class=\"bond-11 atom-7 atom-14\" d=\"M 77.1,106.7 L 65.3,115.1\" style=\"fill:none;fill-rule:evenodd;stroke:#000000;stroke-width:2.0px;stroke-linecap:butt;stroke-linejoin:miter;stroke-opacity:1\"/>\n<path class=\"bond-12 atom-8 atom-10\" d=\"M 65.3,88.2 L 70.7,89.2\" style=\"fill:none;fill-rule:evenodd;stroke:#0000FF;stroke-width:2.0px;stroke-linecap:butt;stroke-linejoin:miter;stroke-opacity:1\"/>\n<path class=\"bond-12 atom-8 atom-10\" d=\"M 70.7,89.2 L 76.0,90.3\" style=\"fill:none;fill-rule:evenodd;stroke:#000000;stroke-width:2.0px;stroke-linecap:butt;stroke-linejoin:miter;stroke-opacity:1\"/>\n<path class=\"bond-13 atom-8 atom-12\" d=\"M 61.8,90.7 L 59.3,96.5\" style=\"fill:none;fill-rule:evenodd;stroke:#0000FF;stroke-width:2.0px;stroke-linecap:butt;stroke-linejoin:miter;stroke-opacity:1\"/>\n<path class=\"bond-13 atom-8 atom-12\" d=\"M 59.3,96.5 L 56.9,102.3\" style=\"fill:none;fill-rule:evenodd;stroke:#000000;stroke-width:2.0px;stroke-linecap:butt;stroke-linejoin:miter;stroke-opacity:1\"/>\n<path class=\"bond-14 atom-8 atom-15\" d=\"M 61.8,84.8 L 59.3,78.6\" style=\"fill:none;fill-rule:evenodd;stroke:#0000FF;stroke-width:2.0px;stroke-linecap:butt;stroke-linejoin:miter;stroke-opacity:1\"/>\n<path class=\"bond-14 atom-8 atom-15\" d=\"M 59.3,78.6 L 56.8,72.4\" style=\"fill:none;fill-rule:evenodd;stroke:#000000;stroke-width:2.0px;stroke-linecap:butt;stroke-linejoin:miter;stroke-opacity:1\"/>\n<path class=\"bond-15 atom-9 atom-32\" d=\"M 67.8,20.2 L 65.6,16.0\" style=\"fill:none;fill-rule:evenodd;stroke:#FF0000;stroke-width:2.0px;stroke-linecap:butt;stroke-linejoin:miter;stroke-opacity:1\"/>\n<path class=\"bond-15 atom-9 atom-32\" d=\"M 65.6,16.0 L 63.4,11.8\" style=\"fill:none;fill-rule:evenodd;stroke:#000000;stroke-width:2.0px;stroke-linecap:butt;stroke-linejoin:miter;stroke-opacity:1\"/>\n<path class=\"bond-41 atom-10 atom-38\" d=\"M 76.0,90.3 L 70.1,88.0 L 69.9,91.6 Z\" style=\"fill:#000000;fill-rule:evenodd;fill-opacity:1;stroke:#000000;stroke-width:2.0px;stroke-linecap:butt;stroke-linejoin:miter;stroke-opacity:1;\"/>\n<path class=\"bond-16 atom-11 atom-16\" d=\"M 42.2,50.1 L 43.3,56.5\" style=\"fill:none;fill-rule:evenodd;stroke:#0000FF;stroke-width:2.0px;stroke-linecap:butt;stroke-linejoin:miter;stroke-opacity:1\"/>\n<path class=\"bond-16 atom-11 atom-16\" d=\"M 43.3,56.5 L 44.4,62.9\" style=\"fill:none;fill-rule:evenodd;stroke:#000000;stroke-width:2.0px;stroke-linecap:butt;stroke-linejoin:miter;stroke-opacity:1\"/>\n<path class=\"bond-17 atom-11 atom-17\" d=\"M 44.1,44.6 L 48.4,40.0\" style=\"fill:none;fill-rule:evenodd;stroke:#0000FF;stroke-width:2.0px;stroke-linecap:butt;stroke-linejoin:miter;stroke-opacity:1\"/>\n<path class=\"bond-17 atom-11 atom-17\" d=\"M 48.4,40.0 L 52.7,35.3\" style=\"fill:none;fill-rule:evenodd;stroke:#000000;stroke-width:2.0px;stroke-linecap:butt;stroke-linejoin:miter;stroke-opacity:1\"/>\n<path class=\"bond-18 atom-12 atom-14\" d=\"M 56.9,102.3 L 65.3,115.1\" style=\"fill:none;fill-rule:evenodd;stroke:#000000;stroke-width:2.0px;stroke-linecap:butt;stroke-linejoin:miter;stroke-opacity:1\"/>\n<path class=\"bond-19 atom-13 atom-19\" d=\"M 88.4,61.4 L 92.0,57.6\" style=\"fill:none;fill-rule:evenodd;stroke:#0000FF;stroke-width:2.0px;stroke-linecap:butt;stroke-linejoin:miter;stroke-opacity:1\"/>\n<path class=\"bond-19 atom-13 atom-19\" d=\"M 92.0,57.6 L 95.6,53.7\" style=\"fill:none;fill-rule:evenodd;stroke:#000000;stroke-width:2.0px;stroke-linecap:butt;stroke-linejoin:miter;stroke-opacity:1\"/>\n<path class=\"bond-20 atom-15 atom-16\" d=\"M 56.8,72.4 L 44.4,62.9\" style=\"fill:none;fill-rule:evenodd;stroke:#000000;stroke-width:2.0px;stroke-linecap:butt;stroke-linejoin:miter;stroke-opacity:1\"/>\n<path class=\"bond-21 atom-17 atom-18\" d=\"M 52.7,35.3 L 48.7,19.3\" style=\"fill:none;fill-rule:evenodd;stroke:#000000;stroke-width:2.0px;stroke-linecap:butt;stroke-linejoin:miter;stroke-opacity:1\"/>\n<path class=\"bond-22 atom-18 atom-32\" d=\"M 48.7,19.3 L 63.4,11.8\" style=\"fill:none;fill-rule:evenodd;stroke:#000000;stroke-width:2.0px;stroke-linecap:butt;stroke-linejoin:miter;stroke-opacity:1\"/>\n<path class=\"bond-23 atom-19 atom-20\" d=\"M 95.6,53.7 L 97.3,55.9\" style=\"fill:none;fill-rule:evenodd;stroke:#000000;stroke-width:2.0px;stroke-linecap:butt;stroke-linejoin:miter;stroke-opacity:1\"/>\n<path class=\"bond-24 atom-19 atom-24\" d=\"M 95.6,53.7 L 101.9,44.1\" style=\"fill:none;fill-rule:evenodd;stroke:#000000;stroke-width:2.0px;stroke-linecap:butt;stroke-linejoin:miter;stroke-opacity:1\"/>\n<path class=\"bond-25 atom-20 atom-21\" d=\"M 97.3,55.9 L 106.8,45.4\" style=\"fill:none;fill-rule:evenodd;stroke:#000000;stroke-width:2.0px;stroke-linecap:butt;stroke-linejoin:miter;stroke-opacity:1\"/>\n<path class=\"bond-26 atom-21 atom-22\" d=\"M 106.8,45.4 L 115.1,32.8\" style=\"fill:none;fill-rule:evenodd;stroke:#000000;stroke-width:2.0px;stroke-linecap:butt;stroke-linejoin:miter;stroke-opacity:1\"/>\n<path class=\"bond-27 atom-22 atom-23\" d=\"M 115.1,32.8 L 113.4,30.4\" style=\"fill:none;fill-rule:evenodd;stroke:#000000;stroke-width:2.0px;stroke-linecap:butt;stroke-linejoin:miter;stroke-opacity:1\"/>\n<path class=\"bond-28 atom-23 atom-24\" d=\"M 113.4,30.4 L 106.1,38.5\" style=\"fill:none;fill-rule:evenodd;stroke:#000000;stroke-width:2.0px;stroke-linecap:butt;stroke-linejoin:miter;stroke-opacity:1\"/>\n<path class=\"bond-29 atom-25 atom-26\" d=\"M 140.6,21.3 L 147.3,6.0\" style=\"fill:none;fill-rule:evenodd;stroke:#000000;stroke-width:2.0px;stroke-linecap:butt;stroke-linejoin:miter;stroke-opacity:1\"/>\n<path class=\"bond-30 atom-25 atom-30\" d=\"M 140.6,21.3 L 150.3,34.9\" style=\"fill:none;fill-rule:evenodd;stroke:#000000;stroke-width:2.0px;stroke-linecap:butt;stroke-linejoin:miter;stroke-opacity:1\"/>\n<path class=\"bond-31 atom-26 atom-27\" d=\"M 147.3,6.0 L 163.5,4.2\" style=\"fill:none;fill-rule:evenodd;stroke:#000000;stroke-width:2.0px;stroke-linecap:butt;stroke-linejoin:miter;stroke-opacity:1\"/>\n<path class=\"bond-32 atom-27 atom-28\" d=\"M 163.5,4.2 L 173.1,17.8\" style=\"fill:none;fill-rule:evenodd;stroke:#000000;stroke-width:2.0px;stroke-linecap:butt;stroke-linejoin:miter;stroke-opacity:1\"/>\n<path class=\"bond-33 atom-28 atom-29\" d=\"M 173.1,17.8 L 166.6,33.2\" style=\"fill:none;fill-rule:evenodd;stroke:#000000;stroke-width:2.0px;stroke-linecap:butt;stroke-linejoin:miter;stroke-opacity:1\"/>\n<path class=\"bond-34 atom-29 atom-30\" d=\"M 166.6,33.2 L 150.3,34.9\" style=\"fill:none;fill-rule:evenodd;stroke:#000000;stroke-width:2.0px;stroke-linecap:butt;stroke-linejoin:miter;stroke-opacity:1\"/>\n<path class=\"bond-35 atom-29 atom-31\" d=\"M 166.6,33.2 L 177.5,47.4\" style=\"fill:none;fill-rule:evenodd;stroke:#000000;stroke-width:2.0px;stroke-linecap:butt;stroke-linejoin:miter;stroke-opacity:1\"/>\n<path class=\"bond-36 atom-31 atom-35\" d=\"M 181.4,47.4 L 181.2,46.2\" style=\"fill:none;fill-rule:evenodd;stroke:#000000;stroke-width:1.0px;stroke-linecap:butt;stroke-linejoin:miter;stroke-opacity:1\"/>\n<path class=\"bond-36 atom-31 atom-35\" d=\"M 185.2,47.4 L 184.9,45.1\" style=\"fill:none;fill-rule:evenodd;stroke:#33CCCC;stroke-width:1.0px;stroke-linecap:butt;stroke-linejoin:miter;stroke-opacity:1\"/>\n<path class=\"bond-36 atom-31 atom-35\" d=\"M 189.1,47.5 L 188.5,43.9\" style=\"fill:none;fill-rule:evenodd;stroke:#33CCCC;stroke-width:1.0px;stroke-linecap:butt;stroke-linejoin:miter;stroke-opacity:1\"/>\n<path class=\"bond-37 atom-31 atom-36\" d=\"M 177.5,47.4 L 178.7,47.8\" style=\"fill:none;fill-rule:evenodd;stroke:#000000;stroke-width:2.0px;stroke-linecap:butt;stroke-linejoin:miter;stroke-opacity:1\"/>\n<path class=\"bond-37 atom-31 atom-36\" d=\"M 178.7,47.8 L 180.0,48.2\" style=\"fill:none;fill-rule:evenodd;stroke:#33CCCC;stroke-width:2.0px;stroke-linecap:butt;stroke-linejoin:miter;stroke-opacity:1\"/>\n<path class=\"bond-38 atom-31 atom-37\" d=\"M 177.5,47.4 L 175.0,52.8\" style=\"fill:none;fill-rule:evenodd;stroke:#000000;stroke-width:2.0px;stroke-linecap:butt;stroke-linejoin:miter;stroke-opacity:1\"/>\n<path class=\"bond-38 atom-31 atom-37\" d=\"M 175.0,52.8 L 172.5,58.1\" style=\"fill:none;fill-rule:evenodd;stroke:#33CCCC;stroke-width:2.0px;stroke-linecap:butt;stroke-linejoin:miter;stroke-opacity:1\"/>\n<path class=\"bond-39 atom-32 atom-34\" d=\"M 68.1,10.9 L 67.7,9.8\" style=\"fill:none;fill-rule:evenodd;stroke:#000000;stroke-width:1.0px;stroke-linecap:butt;stroke-linejoin:miter;stroke-opacity:1\"/>\n<path class=\"bond-39 atom-32 atom-34\" d=\"M 72.9,10.1 L 72.1,7.8\" style=\"fill:none;fill-rule:evenodd;stroke:#000000;stroke-width:1.0px;stroke-linecap:butt;stroke-linejoin:miter;stroke-opacity:1\"/>\n<path class=\"bond-39 atom-32 atom-34\" d=\"M 77.6,9.2 L 76.5,5.8\" style=\"fill:none;fill-rule:evenodd;stroke:#000000;stroke-width:1.0px;stroke-linecap:butt;stroke-linejoin:miter;stroke-opacity:1\"/>\n<path class=\"bond-40 atom-32 atom-33\" d=\"M 63.4,11.8 L 58.2,-3.2\" style=\"fill:none;fill-rule:evenodd;stroke:#000000;stroke-width:2.0px;stroke-linecap:butt;stroke-linejoin:miter;stroke-opacity:1\"/>\n<path class=\"atom-0\" d=\"M 87.8 110.8 L 89.5 113.5 Q 89.6 113.7, 89.9 114.2 Q 90.2 114.7, 90.2 114.7 L 90.2 110.8 L 90.8 110.8 L 90.8 115.9 L 90.1 115.9 L 88.4 112.9 Q 88.1 112.6, 87.9 112.2 Q 87.7 111.8, 87.6 111.7 L 87.6 115.9 L 87.0 115.9 L 87.0 110.8 L 87.8 110.8 \" fill=\"#0000FF\"/>\n<path class=\"atom-0\" d=\"M 86.9 116.4 L 87.6 116.4 L 87.6 118.5 L 90.2 118.5 L 90.2 116.4 L 90.9 116.4 L 90.9 121.5 L 90.2 121.5 L 90.2 119.1 L 87.6 119.1 L 87.6 121.5 L 86.9 121.5 L 86.9 116.4 \" fill=\"#0000FF\"/>\n<path class=\"atom-2\" d=\"M 63.3 36.9 Q 63.3 35.7, 63.9 35.0 Q 64.5 34.3, 65.6 34.3 Q 66.7 34.3, 67.3 35.0 Q 67.9 35.7, 67.9 36.9 Q 67.9 38.1, 67.3 38.8 Q 66.7 39.5, 65.6 39.5 Q 64.5 39.5, 63.9 38.8 Q 63.3 38.1, 63.3 36.9 M 65.6 39.0 Q 66.4 39.0, 66.8 38.4 Q 67.2 37.9, 67.2 36.9 Q 67.2 35.9, 66.8 35.4 Q 66.4 34.9, 65.6 34.9 Q 64.8 34.9, 64.4 35.4 Q 64.0 35.9, 64.0 36.9 Q 64.0 37.9, 64.4 38.4 Q 64.8 39.0, 65.6 39.0 \" fill=\"#FF0000\"/>\n<path class=\"atom-2\" d=\"M 68.5 34.4 L 69.2 34.4 L 69.2 36.5 L 71.8 36.5 L 71.8 34.4 L 72.5 34.4 L 72.5 39.5 L 71.8 39.5 L 71.8 37.1 L 69.2 37.1 L 69.2 39.5 L 68.5 39.5 L 68.5 34.4 \" fill=\"#FF0000\"/>\n<path class=\"atom-3\" d=\"M 106.8 48.8 Q 106.8 47.6, 107.4 46.9 Q 108.0 46.2, 109.1 46.2 Q 110.2 46.2, 110.7 47.0 L 110.3 47.4 Q 109.8 46.8, 109.1 46.8 Q 108.3 46.8, 107.9 47.3 Q 107.5 47.9, 107.5 48.8 Q 107.5 49.8, 108.0 50.4 Q 108.4 50.9, 109.2 50.9 Q 109.8 50.9, 110.4 50.5 L 110.6 51.1 Q 110.3 51.3, 109.9 51.4 Q 109.5 51.5, 109.1 51.5 Q 108.0 51.5, 107.4 50.8 Q 106.8 50.1, 106.8 48.8 \" fill=\"#00CC00\"/>\n<path class=\"atom-3\" d=\"M 111.3 45.9 L 112.0 45.9 L 112.0 51.4 L 111.3 51.4 L 111.3 45.9 \" fill=\"#00CC00\"/>\n<path class=\"atom-5\" d=\"M 97.2 84.9 L 98.9 87.6 Q 99.0 87.9, 99.3 88.4 Q 99.6 88.9, 99.6 88.9 L 99.6 84.9 L 100.2 84.9 L 100.2 90.0 L 99.5 90.0 L 97.8 87.1 Q 97.5 86.7, 97.3 86.3 Q 97.1 85.9, 97.0 85.8 L 97.0 90.0 L 96.4 90.0 L 96.4 84.9 L 97.2 84.9 \" fill=\"#0000FF\"/>\n<path class=\"atom-5\" d=\"M 100.9 84.9 L 101.5 84.9 L 101.5 87.1 L 104.2 87.1 L 104.2 84.9 L 104.8 84.9 L 104.8 90.0 L 104.2 90.0 L 104.2 87.7 L 101.5 87.7 L 101.5 90.0 L 100.9 90.0 L 100.9 84.9 \" fill=\"#0000FF\"/>\n<path class=\"atom-6\" d=\"M 122.3 22.8 Q 122.3 21.5, 122.9 20.9 Q 123.5 20.2, 124.6 20.2 Q 125.7 20.2, 126.4 20.9 Q 127.0 21.5, 127.0 22.8 Q 127.0 24.0, 126.3 24.7 Q 125.7 25.4, 124.6 25.4 Q 123.5 25.4, 122.9 24.7 Q 122.3 24.0, 122.3 22.8 M 124.6 24.8 Q 125.4 24.8, 125.8 24.3 Q 126.2 23.8, 126.2 22.8 Q 126.2 21.8, 125.8 21.3 Q 125.4 20.7, 124.6 20.7 Q 123.8 20.7, 123.4 21.3 Q 123.0 21.8, 123.0 22.8 Q 123.0 23.8, 123.4 24.3 Q 123.8 24.8, 124.6 24.8 \" fill=\"#FF0000\"/>\n<path class=\"atom-8\" d=\"M 61.9 85.2 L 63.6 87.9 Q 63.8 88.2, 64.0 88.7 Q 64.3 89.2, 64.3 89.2 L 64.3 85.2 L 65.0 85.2 L 65.0 90.3 L 64.3 90.3 L 62.5 87.4 Q 62.3 87.0, 62.1 86.6 Q 61.8 86.2, 61.8 86.1 L 61.8 90.3 L 61.1 90.3 L 61.1 85.2 L 61.9 85.2 \" fill=\"#0000FF\"/>\n<path class=\"atom-9\" d=\"M 67.0 23.1 Q 67.0 21.9, 67.6 21.2 Q 68.2 20.5, 69.3 20.5 Q 70.4 20.5, 71.0 21.2 Q 71.6 21.9, 71.6 23.1 Q 71.6 24.4, 71.0 25.1 Q 70.4 25.8, 69.3 25.8 Q 68.2 25.8, 67.6 25.1 Q 67.0 24.4, 67.0 23.1 M 69.3 25.2 Q 70.1 25.2, 70.5 24.7 Q 70.9 24.1, 70.9 23.1 Q 70.9 22.1, 70.5 21.6 Q 70.1 21.1, 69.3 21.1 Q 68.5 21.1, 68.1 21.6 Q 67.7 22.1, 67.7 23.1 Q 67.7 24.1, 68.1 24.7 Q 68.5 25.2, 69.3 25.2 \" fill=\"#FF0000\"/>\n<path class=\"atom-9\" d=\"M 72.3 20.6 L 72.9 20.6 L 72.9 22.7 L 75.6 22.7 L 75.6 20.6 L 76.2 20.6 L 76.2 25.7 L 75.6 25.7 L 75.6 23.3 L 72.9 23.3 L 72.9 25.7 L 72.3 25.7 L 72.3 20.6 \" fill=\"#FF0000\"/>\n<path class=\"atom-11\" d=\"M 35.2 44.6 L 35.9 44.6 L 35.9 46.7 L 38.5 46.7 L 38.5 44.6 L 39.2 44.6 L 39.2 49.7 L 38.5 49.7 L 38.5 47.3 L 35.9 47.3 L 35.9 49.7 L 35.2 49.7 L 35.2 44.6 \" fill=\"#0000FF\"/>\n<path class=\"atom-11\" d=\"M 40.6 44.6 L 42.3 47.3 Q 42.4 47.5, 42.7 48.0 Q 43.0 48.5, 43.0 48.5 L 43.0 44.6 L 43.7 44.6 L 43.7 49.7 L 43.0 49.7 L 41.2 46.7 Q 41.0 46.4, 40.7 46.0 Q 40.5 45.6, 40.5 45.5 L 40.5 49.7 L 39.8 49.7 L 39.8 44.6 L 40.6 44.6 \" fill=\"#0000FF\"/>\n<path class=\"atom-13\" d=\"M 79.6 61.3 L 80.3 61.3 L 80.3 63.4 L 82.9 63.4 L 82.9 61.3 L 83.6 61.3 L 83.6 66.4 L 82.9 66.4 L 82.9 64.0 L 80.3 64.0 L 80.3 66.4 L 79.6 66.4 L 79.6 61.3 \" fill=\"#0000FF\"/>\n<path class=\"atom-13\" d=\"M 85.0 61.3 L 86.6 64.0 Q 86.8 64.2, 87.1 64.7 Q 87.3 65.2, 87.3 65.2 L 87.3 61.3 L 88.0 61.3 L 88.0 66.4 L 87.3 66.4 L 85.5 63.4 Q 85.3 63.1, 85.1 62.7 Q 84.9 62.3, 84.8 62.2 L 84.8 66.4 L 84.1 66.4 L 84.1 61.3 L 85.0 61.3 \" fill=\"#0000FF\"/>\n<path class=\"atom-24\" d=\"M 101.8 41.1 Q 101.8 39.8, 102.4 39.1 Q 103.0 38.5, 104.2 38.5 Q 105.2 38.5, 105.8 39.2 L 105.3 39.6 Q 104.9 39.1, 104.2 39.1 Q 103.4 39.1, 103.0 39.6 Q 102.6 40.1, 102.6 41.1 Q 102.6 42.1, 103.0 42.6 Q 103.4 43.1, 104.2 43.1 Q 104.8 43.1, 105.5 42.8 L 105.7 43.3 Q 105.4 43.5, 105.0 43.6 Q 104.6 43.7, 104.1 43.7 Q 103.0 43.7, 102.4 43.0 Q 101.8 42.3, 101.8 41.1 \" fill=\"#000000\"/>\n<path class=\"atom-35\" d=\"M 189.1 42.8 L 192.2 42.8 L 192.2 43.4 L 189.8 43.4 L 189.8 45.0 L 191.9 45.0 L 191.9 45.6 L 189.8 45.6 L 189.8 47.9 L 189.1 47.9 L 189.1 42.8 \" fill=\"#33CCCC\"/>\n<path class=\"atom-36\" d=\"M 180.1 46.1 L 183.1 46.1 L 183.1 46.7 L 180.8 46.7 L 180.8 48.3 L 182.8 48.3 L 182.8 48.9 L 180.8 48.9 L 180.8 51.2 L 180.1 51.2 L 180.1 46.1 \" fill=\"#33CCCC\"/>\n<path class=\"atom-37\" d=\"M 169.6 58.5 L 172.6 58.5 L 172.6 59.1 L 170.3 59.1 L 170.3 60.6 L 172.4 60.6 L 172.4 61.2 L 170.3 61.2 L 170.3 63.6 L 169.6 63.6 L 169.6 58.5 \" fill=\"#33CCCC\"/>\n<path class=\"atom-38\" d=\"M 65.8 87.1 L 66.5 87.1 L 66.5 89.3 L 69.1 89.3 L 69.1 87.1 L 69.8 87.1 L 69.8 92.2 L 69.1 92.2 L 69.1 89.9 L 66.5 89.9 L 66.5 92.2 L 65.8 92.2 L 65.8 87.1 \" fill=\"#000000\"/>\n<path d=\"M 94.4,54.9 L 94.4,52.5 L 96.8,52.5 L 96.8,54.9 L 94.4,54.9\" style=\"fill:none;stroke:#FF0000;stroke-width:2.0px;stroke-linecap:butt;stroke-linejoin:miter;stroke-opacity:1;\"/>\n<path d=\"M 113.9,34.0 L 113.9,31.6 L 116.3,31.6 L 116.3,34.0 L 113.9,34.0\" style=\"fill:none;stroke:#FF0000;stroke-width:2.0px;stroke-linecap:butt;stroke-linejoin:miter;stroke-opacity:1;\"/>\n<path d=\"M 21.2 179.2 L 27.9 179.2 L 27.9 180.5 L 22.7 180.5 L 22.7 183.9 L 27.3 183.9 L 27.3 185.2 L 22.7 185.2 L 22.7 190.5 L 21.2 190.5 L 21.2 179.2 \" fill=\"#000000\"/>\n<path d=\"M 30.5 182.3 L 30.7 183.4 Q 31.5 182.1, 32.9 182.1 Q 33.4 182.1, 34.0 182.3 L 33.7 183.6 Q 33.1 183.5, 32.7 183.5 Q 32.0 183.5, 31.5 183.7 Q 31.1 184.0, 30.8 184.6 L 30.8 190.5 L 29.3 190.5 L 29.3 182.3 L 30.5 182.3 \" fill=\"#000000\"/>\n<path d=\"M 34.7 186.4 Q 34.7 184.4, 35.7 183.2 Q 36.7 182.1, 38.6 182.1 Q 40.5 182.1, 41.5 183.2 Q 42.5 184.4, 42.5 186.4 Q 42.5 188.4, 41.5 189.5 Q 40.5 190.6, 38.6 190.6 Q 36.7 190.6, 35.7 189.5 Q 34.7 188.4, 34.7 186.4 M 36.3 186.4 Q 36.3 187.9, 36.9 188.6 Q 37.5 189.4, 38.6 189.4 Q 39.8 189.4, 40.4 188.6 Q 41.0 187.9, 41.0 186.4 Q 41.0 184.9, 40.4 184.1 Q 39.8 183.3, 38.6 183.3 Q 37.5 183.3, 36.9 184.1 Q 36.3 184.9, 36.3 186.4 \" fill=\"#000000\"/>\n<path d=\"M 53.3 182.1 Q 54.7 182.1, 55.4 182.9 Q 56.1 183.6, 56.1 185.0 L 56.1 190.5 L 54.6 190.5 L 54.6 185.2 Q 54.6 184.2, 54.3 183.8 Q 53.9 183.3, 53.1 183.3 Q 52.3 183.3, 51.7 183.7 Q 51.1 184.0, 50.7 184.6 Q 50.7 184.7, 50.7 185.0 L 50.7 190.5 L 49.2 190.5 L 49.2 185.2 Q 49.2 184.2, 48.9 183.8 Q 48.5 183.3, 47.7 183.3 Q 46.9 183.3, 46.3 183.7 Q 45.7 184.0, 45.3 184.6 L 45.3 190.5 L 43.8 190.5 L 43.8 182.3 L 45.1 182.3 L 45.2 183.4 Q 46.3 182.1, 47.9 182.1 Q 49.9 182.1, 50.5 183.6 Q 51.6 182.1, 53.3 182.1 \" fill=\"#000000\"/>\n<path d=\"\" fill=\"#000000\"/>\n<path d=\"M 64.8 179.2 Q 66.8 179.2, 67.8 180.0 Q 68.7 180.9, 68.7 182.5 Q 68.7 184.1, 67.7 185.0 Q 66.7 185.8, 64.8 185.8 L 63.0 185.8 L 63.0 190.5 L 61.5 190.5 L 61.5 179.2 L 64.8 179.2 M 64.8 184.6 Q 65.9 184.6, 66.5 184.0 Q 67.1 183.5, 67.1 182.5 Q 67.1 181.5, 66.5 181.0 Q 66.0 180.4, 64.8 180.4 L 63.0 180.4 L 63.0 184.6 L 64.8 184.6 \" fill=\"#000000\"/>\n<path d=\"M 73.8 179.2 Q 76.3 179.2, 77.6 180.6 Q 79.0 182.1, 79.0 184.8 Q 79.0 187.5, 77.6 189.0 Q 76.3 190.5, 73.8 190.5 L 70.1 190.5 L 70.1 179.2 L 73.8 179.2 M 73.8 189.2 Q 75.5 189.2, 76.4 188.1 Q 77.4 187.0, 77.4 184.8 Q 77.4 182.6, 76.4 181.5 Q 75.5 180.4, 73.8 180.4 L 71.6 180.4 L 71.6 189.2 L 73.8 189.2 \" fill=\"#000000\"/>\n<path d=\"M 85.8 184.5 Q 86.9 184.8, 87.5 185.5 Q 88.0 186.2, 88.0 187.1 Q 88.0 188.7, 87.0 189.6 Q 86.0 190.5, 84.1 190.5 L 80.3 190.5 L 80.3 179.2 L 83.7 179.2 Q 85.6 179.2, 86.6 179.9 Q 87.5 180.7, 87.5 182.2 Q 87.5 183.9, 85.8 184.5 M 81.8 180.4 L 81.8 184.0 L 83.7 184.0 Q 84.8 184.0, 85.4 183.5 Q 85.9 183.1, 85.9 182.2 Q 85.9 180.4, 83.7 180.4 L 81.8 180.4 M 84.1 189.2 Q 85.2 189.2, 85.8 188.7 Q 86.4 188.2, 86.4 187.1 Q 86.4 186.2, 85.8 185.8 Q 85.1 185.3, 83.9 185.3 L 81.8 185.3 L 81.8 189.2 L 84.1 189.2 \" fill=\"#000000\"/>\n<path d=\"\" fill=\"#000000\"/>\n<path d=\"M 93.4 179.1 L 94.9 179.1 L 94.9 190.5 L 93.4 190.5 L 93.4 179.1 \" fill=\"#000000\"/>\n<path d=\"M 100.0 179.2 Q 102.5 179.2, 103.8 180.6 Q 105.2 182.1, 105.2 184.8 Q 105.2 187.5, 103.8 189.0 Q 102.5 190.5, 100.0 190.5 L 96.3 190.5 L 96.3 179.2 L 100.0 179.2 M 100.0 189.2 Q 101.7 189.2, 102.6 188.1 Q 103.6 187.0, 103.6 184.8 Q 103.6 182.6, 102.6 181.5 Q 101.7 180.4, 100.0 180.4 L 97.8 180.4 L 97.8 189.2 L 100.0 189.2 \" fill=\"#000000\"/>\n<path d=\"M 106.4 188.6 L 108.0 188.6 L 108.0 190.2 L 106.4 190.2 L 106.4 188.6 M 106.4 183.1 L 108.0 183.1 L 108.0 184.7 L 106.4 184.7 L 106.4 183.1 \" fill=\"#000000\"/>\n<path d=\"\" fill=\"#000000\"/>\n<path d=\"M 115.5 180.4 L 112.0 180.4 L 112.0 179.2 L 120.3 179.2 L 120.3 180.4 L 117.0 180.4 L 117.0 190.5 L 115.5 190.5 L 115.5 180.4 \" fill=\"#000000\"/>\n<path d=\"M 127.1 184.5 Q 128.1 184.9, 128.7 185.6 Q 129.3 186.3, 129.3 187.4 Q 129.3 188.3, 128.8 189.1 Q 128.3 189.8, 127.4 190.2 Q 126.5 190.6, 125.4 190.6 Q 123.5 190.6, 122.4 189.8 Q 121.3 188.9, 121.3 187.4 Q 121.3 186.5, 121.8 185.8 Q 122.3 185.1, 123.3 184.5 Q 122.5 184.1, 122.1 183.5 Q 121.7 182.9, 121.7 181.9 Q 121.7 180.6, 122.7 179.8 Q 123.7 179.0, 125.3 179.0 Q 127.0 179.0, 127.9 179.8 Q 128.9 180.6, 128.9 181.9 Q 128.9 182.8, 128.4 183.4 Q 128.0 184.0, 127.1 184.5 M 125.3 180.2 Q 124.4 180.2, 123.8 180.7 Q 123.3 181.1, 123.3 181.9 Q 123.3 182.5, 123.7 182.9 Q 124.0 183.3, 124.5 183.5 Q 125.0 183.8, 126.0 184.1 Q 126.7 183.6, 127.0 183.1 Q 127.3 182.6, 127.3 181.9 Q 127.3 181.1, 126.8 180.7 Q 126.3 180.2, 125.3 180.2 M 125.4 189.4 Q 126.4 189.4, 127.1 188.9 Q 127.7 188.3, 127.7 187.4 Q 127.7 186.8, 127.4 186.4 Q 127.0 186.0, 126.5 185.8 Q 126.0 185.5, 125.1 185.3 L 124.4 185.0 Q 123.6 185.5, 123.3 186.1 Q 122.9 186.6, 122.9 187.4 Q 122.9 188.3, 123.6 188.9 Q 124.3 189.4, 125.4 189.4 \" fill=\"#000000\"/>\n<path d=\"M 129.0 177.6 L 130.4 177.6 L 136.4 193.6 L 135.0 193.6 L 129.0 177.6 \" fill=\"#000000\"/>\n<path d=\"M 142.5 184.5 Q 143.6 184.8, 144.2 185.6 Q 144.7 186.3, 144.7 187.4 Q 144.7 188.3, 144.2 189.1 Q 143.8 189.8, 142.9 190.2 Q 142.0 190.6, 140.8 190.6 Q 139.6 190.6, 138.7 190.2 Q 137.8 189.8, 137.1 188.9 L 138.0 188.0 Q 138.7 188.8, 139.3 189.1 Q 139.9 189.4, 140.8 189.4 Q 141.9 189.4, 142.5 188.8 Q 143.1 188.3, 143.1 187.4 Q 143.1 186.2, 142.5 185.7 Q 141.8 185.2, 140.4 185.2 L 139.6 185.2 L 139.6 184.0 L 140.3 184.0 Q 141.6 184.0, 142.2 183.5 Q 142.9 182.9, 142.9 181.9 Q 142.9 181.2, 142.3 180.8 Q 141.8 180.3, 140.9 180.3 Q 139.9 180.3, 139.3 180.6 Q 138.7 181.0, 138.3 181.8 L 137.2 181.2 Q 137.6 180.3, 138.6 179.7 Q 139.5 179.0, 140.9 179.0 Q 142.5 179.0, 143.5 179.8 Q 144.5 180.6, 144.5 181.9 Q 144.5 182.8, 144.0 183.5 Q 143.5 184.2, 142.5 184.5 \" fill=\"#000000\"/>\n<path d=\"M 149.4 179.2 Q 151.4 179.2, 152.3 180.0 Q 153.3 180.9, 153.3 182.5 Q 153.3 184.1, 152.3 185.0 Q 151.3 185.8, 149.4 185.8 L 147.6 185.8 L 147.6 190.5 L 146.1 190.5 L 146.1 179.2 L 149.4 179.2 M 149.4 184.6 Q 150.5 184.6, 151.1 184.0 Q 151.7 183.5, 151.7 182.5 Q 151.7 181.5, 151.1 181.0 Q 150.5 180.4, 149.4 180.4 L 147.6 180.4 L 147.6 184.6 L 149.4 184.6 \" fill=\"#000000\"/>\n<path d=\"M 154.1 184.8 Q 154.1 182.1, 155.5 180.6 Q 156.8 179.0, 159.3 179.0 Q 161.8 179.0, 163.2 180.6 Q 164.5 182.1, 164.5 184.8 Q 164.5 187.5, 163.1 189.1 Q 161.8 190.7, 159.3 190.7 Q 156.8 190.7, 155.5 189.1 Q 154.1 187.6, 154.1 184.8 M 159.3 189.4 Q 161.0 189.4, 162.0 188.2 Q 162.9 187.1, 162.9 184.8 Q 162.9 182.6, 162.0 181.4 Q 161.0 180.3, 159.3 180.3 Q 157.6 180.3, 156.6 181.4 Q 155.7 182.6, 155.7 184.8 Q 155.7 187.1, 156.6 188.2 Q 157.6 189.4, 159.3 189.4 \" fill=\"#000000\"/>\n<path d=\"M 165.2 189.3 L 170.9 180.5 L 165.4 180.5 L 165.4 179.2 L 172.8 179.2 L 172.8 180.3 L 167.1 189.2 L 172.7 189.2 L 172.7 190.5 L 165.2 190.5 L 165.2 189.3 \" fill=\"#000000\"/>\n<path class=\"bond-0 atom-0 atom-1\" d=\"M 268.6,110.0 L 266.6,103.8\" style=\"fill:none;fill-rule:evenodd;stroke:#000000;stroke-width:2.0px;stroke-linecap:butt;stroke-linejoin:miter;stroke-opacity:1\"/>\n<path class=\"bond-0 atom-0 atom-1\" d=\"M 266.6,103.8 L 264.6,97.6\" style=\"fill:none;fill-rule:evenodd;stroke:#0000FF;stroke-width:2.0px;stroke-linecap:butt;stroke-linejoin:miter;stroke-opacity:1\"/>\n<path class=\"bond-1 atom-0 atom-5\" d=\"M 268.6,110.0 L 274.3,111.4\" style=\"fill:none;fill-rule:evenodd;stroke:#000000;stroke-width:2.0px;stroke-linecap:butt;stroke-linejoin:miter;stroke-opacity:1\"/>\n<path class=\"bond-1 atom-0 atom-5\" d=\"M 274.3,111.4 L 280.0,112.9\" style=\"fill:none;fill-rule:evenodd;stroke:#0000FF;stroke-width:2.0px;stroke-linecap:butt;stroke-linejoin:miter;stroke-opacity:1\"/>\n<path class=\"bond-2 atom-0 atom-21\" d=\"M 268.6,110.0 L 265.0,115.0\" style=\"fill:none;fill-rule:evenodd;stroke:#000000;stroke-width:2.0px;stroke-linecap:butt;stroke-linejoin:miter;stroke-opacity:1\"/>\n<path class=\"bond-2 atom-0 atom-21\" d=\"M 265.0,115.0 L 261.3,120.0\" style=\"fill:none;fill-rule:evenodd;stroke:#0000FF;stroke-width:2.0px;stroke-linecap:butt;stroke-linejoin:miter;stroke-opacity:1\"/>\n<path class=\"bond-3 atom-1 atom-2\" d=\"M 265.5,91.8 L 268.8,86.7\" style=\"fill:none;fill-rule:evenodd;stroke:#0000FF;stroke-width:2.0px;stroke-linecap:butt;stroke-linejoin:miter;stroke-opacity:1\"/>\n<path class=\"bond-3 atom-1 atom-2\" d=\"M 268.8,86.7 L 272.1,81.6\" style=\"fill:none;fill-rule:evenodd;stroke:#000000;stroke-width:2.0px;stroke-linecap:butt;stroke-linejoin:miter;stroke-opacity:1\"/>\n<path class=\"bond-4 atom-2 atom-9\" d=\"M 272.1,81.6 L 270.0,75.4\" style=\"fill:none;fill-rule:evenodd;stroke:#000000;stroke-width:2.0px;stroke-linecap:butt;stroke-linejoin:miter;stroke-opacity:1\"/>\n<path class=\"bond-4 atom-2 atom-9\" d=\"M 270.0,75.4 L 267.8,69.2\" style=\"fill:none;fill-rule:evenodd;stroke:#FF0000;stroke-width:2.0px;stroke-linecap:butt;stroke-linejoin:miter;stroke-opacity:1\"/>\n<path class=\"bond-5 atom-2 atom-3\" d=\"M 272.1,81.6 L 286.3,84.1\" style=\"fill:none;fill-rule:evenodd;stroke:#000000;stroke-width:2.0px;stroke-linecap:butt;stroke-linejoin:miter;stroke-opacity:1\"/>\n<path class=\"bond-6 atom-3 atom-4\" d=\"M 286.3,84.1 L 290.5,100.2\" style=\"fill:none;fill-rule:evenodd;stroke:#000000;stroke-width:2.0px;stroke-linecap:butt;stroke-linejoin:miter;stroke-opacity:1\"/>\n<path class=\"bond-7 atom-3 atom-8\" d=\"M 286.3,84.1 L 298.3,74.5\" style=\"fill:none;fill-rule:evenodd;stroke:#000000;stroke-width:2.0px;stroke-linecap:butt;stroke-linejoin:miter;stroke-opacity:1\"/>\n<path class=\"bond-8 atom-4 atom-5\" d=\"M 290.5,100.2 L 287.3,105.4\" style=\"fill:none;fill-rule:evenodd;stroke:#000000;stroke-width:2.0px;stroke-linecap:butt;stroke-linejoin:miter;stroke-opacity:1\"/>\n<path class=\"bond-8 atom-4 atom-5\" d=\"M 287.3,105.4 L 284.1,110.5\" style=\"fill:none;fill-rule:evenodd;stroke:#0000FF;stroke-width:2.0px;stroke-linecap:butt;stroke-linejoin:miter;stroke-opacity:1\"/>\n<path class=\"bond-9 atom-4 atom-6\" d=\"M 290.5,100.2 L 296.4,100.3\" style=\"fill:none;fill-rule:evenodd;stroke:#000000;stroke-width:2.0px;stroke-linecap:butt;stroke-linejoin:miter;stroke-opacity:1\"/>\n<path class=\"bond-9 atom-4 atom-6\" d=\"M 296.4,100.3 L 302.2,100.3\" style=\"fill:none;fill-rule:evenodd;stroke:#0000FF;stroke-width:2.0px;stroke-linecap:butt;stroke-linejoin:miter;stroke-opacity:1\"/>\n<path class=\"bond-10 atom-6 atom-7\" d=\"M 305.4,97.4 L 307.4,91.1\" style=\"fill:none;fill-rule:evenodd;stroke:#0000FF;stroke-width:2.0px;stroke-linecap:butt;stroke-linejoin:miter;stroke-opacity:1\"/>\n<path class=\"bond-10 atom-6 atom-7\" d=\"M 307.4,91.1 L 309.3,84.9\" style=\"fill:none;fill-rule:evenodd;stroke:#000000;stroke-width:2.0px;stroke-linecap:butt;stroke-linejoin:miter;stroke-opacity:1\"/>\n<path class=\"bond-11 atom-7 atom-8\" d=\"M 309.3,84.9 L 298.3,74.5\" style=\"fill:none;fill-rule:evenodd;stroke:#000000;stroke-width:2.0px;stroke-linecap:butt;stroke-linejoin:miter;stroke-opacity:1\"/>\n<path class=\"bond-12 atom-9 atom-10\" d=\"M 264.1,65.8 L 259.3,65.2\" style=\"fill:none;fill-rule:evenodd;stroke:#FF0000;stroke-width:2.0px;stroke-linecap:butt;stroke-linejoin:miter;stroke-opacity:1\"/>\n<path class=\"bond-12 atom-9 atom-10\" d=\"M 259.3,65.2 L 254.4,64.5\" style=\"fill:none;fill-rule:evenodd;stroke:#000000;stroke-width:2.0px;stroke-linecap:butt;stroke-linejoin:miter;stroke-opacity:1\"/>\n<path class=\"bond-13 atom-10 atom-11\" d=\"M 254.4,64.5 L 240.5,66.2\" style=\"fill:none;fill-rule:evenodd;stroke:#000000;stroke-width:2.0px;stroke-linecap:butt;stroke-linejoin:miter;stroke-opacity:1\"/>\n<path class=\"bond-14 atom-10 atom-15\" d=\"M 254.4,64.5 L 258.3,60.9\" style=\"fill:none;fill-rule:evenodd;stroke:#000000;stroke-width:2.0px;stroke-linecap:butt;stroke-linejoin:miter;stroke-opacity:1\"/>\n<path class=\"bond-15 atom-11 atom-12\" d=\"M 235.8,66.1 L 225.8,64.7\" style=\"fill:none;fill-rule:evenodd;stroke:#000000;stroke-width:2.0px;stroke-linecap:butt;stroke-linejoin:miter;stroke-opacity:1\"/>\n<path class=\"bond-16 atom-12 atom-13\" d=\"M 225.8,64.7 L 229.6,61.0\" style=\"fill:none;fill-rule:evenodd;stroke:#000000;stroke-width:2.0px;stroke-linecap:butt;stroke-linejoin:miter;stroke-opacity:1\"/>\n<path class=\"bond-17 atom-13 atom-14\" d=\"M 229.6,61.0 L 246.0,59.1\" style=\"fill:none;fill-rule:evenodd;stroke:#000000;stroke-width:2.0px;stroke-linecap:butt;stroke-linejoin:miter;stroke-opacity:1\"/>\n<path class=\"bond-18 atom-14 atom-15\" d=\"M 246.0,59.1 L 258.3,60.9\" style=\"fill:none;fill-rule:evenodd;stroke:#000000;stroke-width:2.0px;stroke-linecap:butt;stroke-linejoin:miter;stroke-opacity:1\"/>\n<path class=\"bond-19 atom-14 atom-16\" d=\"M 246.0,59.1 L 247.6,58.0\" style=\"fill:none;fill-rule:evenodd;stroke:#000000;stroke-width:2.0px;stroke-linecap:butt;stroke-linejoin:miter;stroke-opacity:1\"/>\n<path class=\"bond-19 atom-14 atom-16\" d=\"M 247.6,58.0 L 249.2,56.8\" style=\"fill:none;fill-rule:evenodd;stroke:#0000FF;stroke-width:2.0px;stroke-linecap:butt;stroke-linejoin:miter;stroke-opacity:1\"/>\n<path class=\"bond-20 atom-16 atom-17\" d=\"M 249.2,55.7 L 246.2,56.2\" style=\"fill:none;fill-rule:evenodd;stroke:#0000FF;stroke-width:2.0px;stroke-linecap:butt;stroke-linejoin:miter;stroke-opacity:1\"/>\n<path class=\"bond-20 atom-16 atom-17\" d=\"M 246.2,56.2 L 243.3,56.7\" style=\"fill:none;fill-rule:evenodd;stroke:#000000;stroke-width:2.0px;stroke-linecap:butt;stroke-linejoin:miter;stroke-opacity:1\"/>\n<path class=\"bond-21 atom-17 atom-18\" d=\"M 243.3,56.7 L 237.7,58.7\" style=\"fill:none;fill-rule:evenodd;stroke:#000000;stroke-width:2.0px;stroke-linecap:butt;stroke-linejoin:miter;stroke-opacity:1\"/>\n<path class=\"bond-21 atom-17 atom-18\" d=\"M 237.7,58.7 L 232.2,60.7\" style=\"fill:none;fill-rule:evenodd;stroke:#FF0000;stroke-width:2.0px;stroke-linecap:butt;stroke-linejoin:miter;stroke-opacity:1\"/>\n<path class=\"bond-22 atom-17 atom-19\" d=\"M 243.3,56.7 L 254.2,50.9\" style=\"fill:none;fill-rule:evenodd;stroke:#000000;stroke-width:2.0px;stroke-linecap:butt;stroke-linejoin:miter;stroke-opacity:1\"/>\n<path class=\"bond-23 atom-19 atom-20\" d=\"M 254.2,50.9 L 251.4,58.9\" style=\"fill:none;fill-rule:evenodd;stroke:#000000;stroke-width:2.0px;stroke-linecap:butt;stroke-linejoin:miter;stroke-opacity:1\"/>\n<path class=\"bond-24 atom-21 atom-22\" d=\"M 256.9,122.9 L 251.0,122.8\" style=\"fill:none;fill-rule:evenodd;stroke:#0000FF;stroke-width:2.0px;stroke-linecap:butt;stroke-linejoin:miter;stroke-opacity:1\"/>\n<path class=\"bond-24 atom-21 atom-22\" d=\"M 251.0,122.8 L 245.2,122.6\" style=\"fill:none;fill-rule:evenodd;stroke:#000000;stroke-width:2.0px;stroke-linecap:butt;stroke-linejoin:miter;stroke-opacity:1\"/>\n<path class=\"bond-25 atom-22 atom-26\" d=\"M 245.2,122.6 L 236.5,136.1\" style=\"fill:none;fill-rule:evenodd;stroke:#000000;stroke-width:2.0px;stroke-linecap:butt;stroke-linejoin:miter;stroke-opacity:1\"/>\n<path class=\"bond-26 atom-22 atom-23\" d=\"M 245.2,122.6 L 236.3,109.8\" style=\"fill:none;fill-rule:evenodd;stroke:#000000;stroke-width:2.0px;stroke-linecap:butt;stroke-linejoin:miter;stroke-opacity:1\"/>\n<path class=\"bond-27 atom-23 atom-24\" d=\"M 236.3,109.8 L 231.1,112.3\" style=\"fill:none;fill-rule:evenodd;stroke:#000000;stroke-width:2.0px;stroke-linecap:butt;stroke-linejoin:miter;stroke-opacity:1\"/>\n<path class=\"bond-27 atom-23 atom-24\" d=\"M 231.1,112.3 L 225.8,114.8\" style=\"fill:none;fill-rule:evenodd;stroke:#0000FF;stroke-width:2.0px;stroke-linecap:butt;stroke-linejoin:miter;stroke-opacity:1\"/>\n<path class=\"bond-28 atom-24 atom-25\" d=\"M 223.5,118.9 L 223.3,129.2\" style=\"fill:none;fill-rule:evenodd;stroke:#0000FF;stroke-width:2.0px;stroke-linecap:butt;stroke-linejoin:miter;stroke-opacity:1\"/>\n<path class=\"bond-29 atom-24 atom-27\" d=\"M 221.2,114.3 L 216.1,110.6\" style=\"fill:none;fill-rule:evenodd;stroke:#0000FF;stroke-width:2.0px;stroke-linecap:butt;stroke-linejoin:miter;stroke-opacity:1\"/>\n<path class=\"bond-29 atom-24 atom-27\" d=\"M 216.1,110.6 L 211.0,106.9\" style=\"fill:none;fill-rule:evenodd;stroke:#000000;stroke-width:2.0px;stroke-linecap:butt;stroke-linejoin:miter;stroke-opacity:1\"/>\n<path class=\"bond-30 atom-25 atom-26\" d=\"M 225.5,132.8 L 231.0,134.4\" style=\"fill:none;fill-rule:evenodd;stroke:#0000FF;stroke-width:2.0px;stroke-linecap:butt;stroke-linejoin:miter;stroke-opacity:1\"/>\n<path class=\"bond-30 atom-25 atom-26\" d=\"M 231.0,134.4 L 236.5,136.1\" style=\"fill:none;fill-rule:evenodd;stroke:#000000;stroke-width:2.0px;stroke-linecap:butt;stroke-linejoin:miter;stroke-opacity:1\"/>\n<path class=\"atom-1\" d=\"M 257.1 92.1 L 257.8 92.1 L 257.8 94.3 L 260.4 94.3 L 260.4 92.1 L 261.1 92.1 L 261.1 97.2 L 260.4 97.2 L 260.4 94.9 L 257.8 94.9 L 257.8 97.2 L 257.1 97.2 L 257.1 92.1 \" fill=\"#0000FF\"/>\n<path class=\"atom-1\" d=\"M 262.5 92.1 L 264.1 94.8 Q 264.3 95.1, 264.6 95.6 Q 264.8 96.1, 264.8 96.1 L 264.8 92.1 L 265.5 92.1 L 265.5 97.2 L 264.8 97.2 L 263.0 94.3 Q 262.8 93.9, 262.6 93.6 Q 262.4 93.2, 262.3 93.0 L 262.3 97.2 L 261.7 97.2 L 261.7 92.1 L 262.5 92.1 \" fill=\"#0000FF\"/>\n<path class=\"atom-5\" d=\"M 281.2 110.9 L 282.8 113.6 Q 283.0 113.9, 283.3 114.4 Q 283.5 114.9, 283.6 114.9 L 283.6 110.9 L 284.2 110.9 L 284.2 116.0 L 283.5 116.0 L 281.7 113.1 Q 281.5 112.7, 281.3 112.3 Q 281.1 111.9, 281.0 111.8 L 281.0 116.0 L 280.4 116.0 L 280.4 110.9 L 281.2 110.9 \" fill=\"#0000FF\"/>\n<path class=\"atom-5\" d=\"M 280.3 116.5 L 281.0 116.5 L 281.0 118.7 L 283.6 118.7 L 283.6 116.5 L 284.3 116.5 L 284.3 121.6 L 283.6 121.6 L 283.6 119.3 L 281.0 119.3 L 281.0 121.6 L 280.3 121.6 L 280.3 116.5 \" fill=\"#0000FF\"/>\n<path class=\"atom-6\" d=\"M 303.4 97.8 L 305.0 100.5 Q 305.2 100.8, 305.5 101.2 Q 305.7 101.7, 305.7 101.8 L 305.7 97.8 L 306.4 97.8 L 306.4 102.9 L 305.7 102.9 L 303.9 99.9 Q 303.7 99.6, 303.5 99.2 Q 303.3 98.8, 303.2 98.7 L 303.2 102.9 L 302.6 102.9 L 302.6 97.8 L 303.4 97.8 \" fill=\"#0000FF\"/>\n<path class=\"atom-6\" d=\"M 307.0 97.8 L 307.7 97.8 L 307.7 100.0 L 310.3 100.0 L 310.3 97.8 L 311.0 97.8 L 311.0 102.9 L 310.3 102.9 L 310.3 100.5 L 307.7 100.5 L 307.7 102.9 L 307.0 102.9 L 307.0 97.8 \" fill=\"#0000FF\"/>\n<path class=\"atom-9\" d=\"M 264.4 66.1 Q 264.4 64.9, 265.0 64.2 Q 265.7 63.5, 266.8 63.5 Q 267.9 63.5, 268.5 64.2 Q 269.1 64.9, 269.1 66.1 Q 269.1 67.4, 268.5 68.1 Q 267.9 68.8, 266.8 68.8 Q 265.7 68.8, 265.0 68.1 Q 264.4 67.4, 264.4 66.1 M 266.8 68.2 Q 267.6 68.2, 268.0 67.7 Q 268.4 67.2, 268.4 66.1 Q 268.4 65.1, 268.0 64.6 Q 267.6 64.1, 266.8 64.1 Q 266.0 64.1, 265.6 64.6 Q 265.2 65.1, 265.2 66.1 Q 265.2 67.2, 265.6 67.7 Q 266.0 68.2, 266.8 68.2 \" fill=\"#FF0000\"/>\n<path class=\"atom-11\" d=\"M 236.1 66.5 Q 236.1 65.2, 236.7 64.5 Q 237.3 63.9, 238.5 63.9 Q 239.5 63.9, 240.1 64.6 L 239.6 65.0 Q 239.2 64.4, 238.5 64.4 Q 237.7 64.4, 237.3 65.0 Q 236.9 65.5, 236.9 66.5 Q 236.9 67.5, 237.3 68.0 Q 237.7 68.5, 238.5 68.5 Q 239.1 68.5, 239.8 68.2 L 240.0 68.7 Q 239.7 68.9, 239.3 69.0 Q 238.9 69.1, 238.4 69.1 Q 237.3 69.1, 236.7 68.4 Q 236.1 67.7, 236.1 66.5 \" fill=\"#000000\"/>\n<path class=\"atom-16\" d=\"M 250.2 52.8 L 251.9 55.5 Q 252.0 55.7, 252.3 56.2 Q 252.6 56.7, 252.6 56.7 L 252.6 52.8 L 253.3 52.8 L 253.3 57.9 L 252.6 57.9 L 250.8 54.9 Q 250.6 54.6, 250.3 54.2 Q 250.1 53.8, 250.1 53.7 L 250.1 57.9 L 249.4 57.9 L 249.4 52.8 L 250.2 52.8 \" fill=\"#0000FF\"/>\n<path class=\"atom-16\" d=\"M 253.9 52.8 L 254.6 52.8 L 254.6 54.9 L 257.2 54.9 L 257.2 52.8 L 257.9 52.8 L 257.9 57.9 L 257.2 57.9 L 257.2 55.5 L 254.6 55.5 L 254.6 57.9 L 253.9 57.9 L 253.9 52.8 \" fill=\"#0000FF\"/>\n<path class=\"atom-18\" d=\"M 222.8 59.2 L 223.5 59.2 L 223.5 61.4 L 226.1 61.4 L 226.1 59.2 L 226.8 59.2 L 226.8 64.3 L 226.1 64.3 L 226.1 62.0 L 223.5 62.0 L 223.5 64.3 L 222.8 64.3 L 222.8 59.2 \" fill=\"#FF0000\"/>\n<path class=\"atom-18\" d=\"M 227.2 61.7 Q 227.2 60.5, 227.8 59.8 Q 228.4 59.2, 229.5 59.2 Q 230.7 59.2, 231.3 59.8 Q 231.9 60.5, 231.9 61.7 Q 231.9 63.0, 231.2 63.7 Q 230.6 64.4, 229.5 64.4 Q 228.4 64.4, 227.8 63.7 Q 227.2 63.0, 227.2 61.7 M 229.5 63.8 Q 230.3 63.8, 230.7 63.3 Q 231.1 62.8, 231.1 61.7 Q 231.1 60.7, 230.7 60.2 Q 230.3 59.7, 229.5 59.7 Q 228.7 59.7, 228.3 60.2 Q 227.9 60.7, 227.9 61.7 Q 227.9 62.8, 228.3 63.3 Q 228.7 63.8, 229.5 63.8 \" fill=\"#FF0000\"/>\n<path class=\"atom-21\" d=\"M 258.1 120.4 L 259.7 123.1 Q 259.9 123.4, 260.2 123.8 Q 260.4 124.3, 260.4 124.4 L 260.4 120.4 L 261.1 120.4 L 261.1 125.5 L 260.4 125.5 L 258.6 122.5 Q 258.4 122.2, 258.2 121.8 Q 258.0 121.4, 257.9 121.3 L 257.9 125.5 L 257.3 125.5 L 257.3 120.4 L 258.1 120.4 \" fill=\"#0000FF\"/>\n<path class=\"atom-21\" d=\"M 257.2 126.0 L 257.9 126.0 L 257.9 128.2 L 260.5 128.2 L 260.5 126.0 L 261.2 126.0 L 261.2 131.1 L 260.5 131.1 L 260.5 128.8 L 257.9 128.8 L 257.9 131.1 L 257.2 131.1 L 257.2 126.0 \" fill=\"#0000FF\"/>\n<path class=\"atom-24\" d=\"M 222.4 113.4 L 224.1 116.1 Q 224.2 116.4, 224.5 116.9 Q 224.8 117.3, 224.8 117.4 L 224.8 113.4 L 225.5 113.4 L 225.5 118.5 L 224.8 118.5 L 223.0 115.5 Q 222.8 115.2, 222.5 114.8 Q 222.3 114.4, 222.2 114.3 L 222.2 118.5 L 221.6 118.5 L 221.6 113.4 L 222.4 113.4 \" fill=\"#0000FF\"/>\n<path class=\"atom-25\" d=\"M 216.7 129.5 L 217.4 129.5 L 217.4 131.7 L 220.0 131.7 L 220.0 129.5 L 220.7 129.5 L 220.7 134.6 L 220.0 134.6 L 220.0 132.3 L 217.4 132.3 L 217.4 134.6 L 216.7 134.6 L 216.7 129.5 \" fill=\"#0000FF\"/>\n<path class=\"atom-25\" d=\"M 222.1 129.5 L 223.8 132.2 Q 224.0 132.5, 224.2 133.0 Q 224.5 133.4, 224.5 133.5 L 224.5 129.5 L 225.2 129.5 L 225.2 134.6 L 224.5 134.6 L 222.7 131.7 Q 222.5 131.3, 222.3 130.9 Q 222.1 130.5, 222.0 130.4 L 222.0 134.6 L 221.3 134.6 L 221.3 129.5 L 222.1 129.5 \" fill=\"#0000FF\"/>\n<path d=\"M 228.4,62.2 L 228.4,59.8 L 230.8,59.8 L 230.8,62.2 L 228.4,62.2\" style=\"fill:none;stroke:#FF0000;stroke-width:2.0px;stroke-linecap:butt;stroke-linejoin:miter;stroke-opacity:1;\"/>\n<path d=\"M 220.8 179.2 L 227.5 179.2 L 227.5 180.5 L 222.3 180.5 L 222.3 183.9 L 227.0 183.9 L 227.0 185.2 L 222.3 185.2 L 222.3 190.5 L 220.8 190.5 L 220.8 179.2 \" fill=\"#000000\"/>\n<path d=\"M 230.1 182.3 L 230.3 183.4 Q 231.2 182.1, 232.6 182.1 Q 233.0 182.1, 233.6 182.3 L 233.4 183.6 Q 232.7 183.5, 232.3 183.5 Q 231.6 183.5, 231.2 183.7 Q 230.8 184.0, 230.4 184.6 L 230.4 190.5 L 228.9 190.5 L 228.9 182.3 L 230.1 182.3 \" fill=\"#000000\"/>\n<path d=\"M 234.4 186.4 Q 234.4 184.4, 235.4 183.2 Q 236.4 182.1, 238.3 182.1 Q 240.1 182.1, 241.1 183.2 Q 242.2 184.4, 242.2 186.4 Q 242.2 188.4, 241.1 189.5 Q 240.1 190.6, 238.3 190.6 Q 236.4 190.6, 235.4 189.5 Q 234.4 188.4, 234.4 186.4 M 235.9 186.4 Q 235.9 187.9, 236.5 188.6 Q 237.1 189.4, 238.3 189.4 Q 239.4 189.4, 240.0 188.6 Q 240.6 187.9, 240.6 186.4 Q 240.6 184.9, 240.0 184.1 Q 239.4 183.3, 238.3 183.3 Q 237.1 183.3, 236.5 184.1 Q 235.9 184.9, 235.9 186.4 \" fill=\"#000000\"/>\n<path d=\"M 253.0 182.1 Q 254.4 182.1, 255.1 182.9 Q 255.8 183.6, 255.8 185.0 L 255.8 190.5 L 254.3 190.5 L 254.3 185.2 Q 254.3 184.2, 253.9 183.8 Q 253.5 183.3, 252.7 183.3 Q 252.0 183.3, 251.4 183.7 Q 250.7 184.0, 250.4 184.6 Q 250.4 184.7, 250.4 185.0 L 250.4 190.5 L 248.9 190.5 L 248.9 185.2 Q 248.9 184.2, 248.5 183.8 Q 248.1 183.3, 247.3 183.3 Q 246.6 183.3, 246.0 183.7 Q 245.4 184.0, 245.0 184.6 L 245.0 190.5 L 243.5 190.5 L 243.5 182.3 L 244.7 182.3 L 244.9 183.4 Q 245.9 182.1, 247.6 182.1 Q 249.5 182.1, 250.1 183.6 Q 251.2 182.1, 253.0 182.1 \" fill=\"#000000\"/>\n<path d=\"\" fill=\"#000000\"/>\n<path d=\"M 264.5 179.2 Q 266.4 179.2, 267.4 180.0 Q 268.4 180.9, 268.4 182.5 Q 268.4 184.1, 267.4 185.0 Q 266.4 185.8, 264.5 185.8 L 262.7 185.8 L 262.7 190.5 L 261.1 190.5 L 261.1 179.2 L 264.5 179.2 M 264.5 184.6 Q 265.6 184.6, 266.2 184.0 Q 266.8 183.5, 266.8 182.5 Q 266.8 181.5, 266.2 181.0 Q 265.6 180.4, 264.5 180.4 L 262.7 180.4 L 262.7 184.6 L 264.5 184.6 \" fill=\"#000000\"/>\n<path d=\"M 273.4 179.2 Q 275.9 179.2, 277.3 180.6 Q 278.6 182.1, 278.6 184.8 Q 278.6 187.5, 277.2 189.0 Q 275.9 190.5, 273.4 190.5 L 269.7 190.5 L 269.7 179.2 L 273.4 179.2 M 273.4 189.2 Q 275.1 189.2, 276.1 188.1 Q 277.0 187.0, 277.0 184.8 Q 277.0 182.6, 276.1 181.5 Q 275.1 180.4, 273.4 180.4 L 271.3 180.4 L 271.3 189.2 L 273.4 189.2 \" fill=\"#000000\"/>\n<path d=\"M 285.5 184.5 Q 286.6 184.8, 287.1 185.5 Q 287.7 186.2, 287.7 187.1 Q 287.7 188.7, 286.7 189.6 Q 285.7 190.5, 283.8 190.5 L 280.0 190.5 L 280.0 179.2 L 283.3 179.2 Q 285.2 179.2, 286.2 179.9 Q 287.2 180.7, 287.2 182.2 Q 287.2 183.9, 285.5 184.5 M 281.5 180.4 L 281.5 184.0 L 283.3 184.0 Q 284.4 184.0, 285.0 183.5 Q 285.6 183.1, 285.6 182.2 Q 285.6 180.4, 283.3 180.4 L 281.5 180.4 M 283.8 189.2 Q 284.9 189.2, 285.5 188.7 Q 286.1 188.2, 286.1 187.1 Q 286.1 186.2, 285.4 185.8 Q 284.8 185.3, 283.5 185.3 L 281.5 185.3 L 281.5 189.2 L 283.8 189.2 \" fill=\"#000000\"/>\n<path d=\"\" fill=\"#000000\"/>\n<path d=\"M 293.1 179.1 L 294.6 179.1 L 294.6 190.5 L 293.1 190.5 L 293.1 179.1 \" fill=\"#000000\"/>\n<path d=\"M 299.6 179.2 Q 302.1 179.2, 303.5 180.6 Q 304.8 182.1, 304.8 184.8 Q 304.8 187.5, 303.5 189.0 Q 302.1 190.5, 299.6 190.5 L 295.9 190.5 L 295.9 179.2 L 299.6 179.2 M 299.6 189.2 Q 301.3 189.2, 302.3 188.1 Q 303.2 187.0, 303.2 184.8 Q 303.2 182.6, 302.3 181.5 Q 301.3 180.4, 299.6 180.4 L 297.5 180.4 L 297.5 189.2 L 299.6 189.2 \" fill=\"#000000\"/>\n<path d=\"M 306.0 188.6 L 307.6 188.6 L 307.6 190.2 L 306.0 190.2 L 306.0 188.6 M 306.0 183.1 L 307.6 183.1 L 307.6 184.7 L 306.0 184.7 L 306.0 183.1 \" fill=\"#000000\"/>\n<path d=\"\" fill=\"#000000\"/>\n<path d=\"M 315.1 180.4 L 311.6 180.4 L 311.6 179.2 L 320.0 179.2 L 320.0 180.4 L 316.7 180.4 L 316.7 190.5 L 315.1 190.5 L 315.1 180.4 \" fill=\"#000000\"/>\n<path d=\"M 326.7 184.5 Q 327.8 184.9, 328.4 185.6 Q 329.0 186.3, 329.0 187.4 Q 329.0 188.3, 328.5 189.1 Q 328.0 189.8, 327.1 190.2 Q 326.2 190.6, 325.0 190.6 Q 323.1 190.6, 322.0 189.8 Q 321.0 188.9, 321.0 187.4 Q 321.0 186.5, 321.4 185.8 Q 321.9 185.1, 322.9 184.5 Q 322.2 184.1, 321.8 183.5 Q 321.4 182.9, 321.4 181.9 Q 321.4 180.6, 322.3 179.8 Q 323.3 179.0, 325.0 179.0 Q 326.6 179.0, 327.6 179.8 Q 328.5 180.6, 328.5 181.9 Q 328.5 182.8, 328.1 183.4 Q 327.6 184.0, 326.7 184.5 M 325.0 180.2 Q 324.0 180.2, 323.5 180.7 Q 323.0 181.1, 323.0 181.9 Q 323.0 182.5, 323.3 182.9 Q 323.7 183.3, 324.2 183.5 Q 324.7 183.8, 325.7 184.1 Q 326.3 183.6, 326.6 183.1 Q 326.9 182.6, 326.9 181.9 Q 326.9 181.1, 326.4 180.7 Q 325.9 180.2, 325.0 180.2 M 325.0 189.4 Q 326.1 189.4, 326.7 188.9 Q 327.4 188.3, 327.4 187.4 Q 327.4 186.8, 327.0 186.4 Q 326.7 186.0, 326.2 185.8 Q 325.7 185.5, 324.8 185.3 L 324.1 185.0 Q 323.3 185.5, 322.9 186.1 Q 322.6 186.6, 322.6 187.4 Q 322.6 188.3, 323.2 188.9 Q 323.9 189.4, 325.0 189.4 \" fill=\"#000000\"/>\n<path d=\"M 328.6 177.6 L 330.1 177.6 L 336.1 193.6 L 334.7 193.6 L 328.6 177.6 \" fill=\"#000000\"/>\n<path d=\"M 340.9 183.4 Q 341.9 183.4, 342.7 183.8 Q 343.5 184.2, 344.0 185.0 Q 344.5 185.8, 344.5 186.9 Q 344.5 188.1, 343.9 188.9 Q 343.3 189.8, 342.4 190.2 Q 341.5 190.6, 340.4 190.6 Q 339.4 190.6, 338.4 190.2 Q 337.5 189.8, 336.8 189.1 L 337.8 188.1 Q 338.3 188.7, 339.0 189.0 Q 339.7 189.3, 340.5 189.3 Q 341.5 189.3, 342.2 188.7 Q 342.9 188.1, 342.9 186.9 Q 342.9 185.7, 342.2 185.2 Q 341.5 184.6, 340.4 184.6 Q 339.4 184.6, 338.3 185.0 L 337.4 184.6 L 337.9 179.2 L 343.8 179.2 L 343.6 180.4 L 339.3 180.4 L 338.9 183.8 Q 339.9 183.4, 340.9 183.4 \" fill=\"#000000\"/>\n<path d=\"M 345.8 179.2 L 347.4 179.2 L 347.4 184.0 L 353.2 184.0 L 353.2 179.2 L 354.7 179.2 L 354.7 190.5 L 353.2 190.5 L 353.2 185.3 L 347.4 185.3 L 347.4 190.5 L 345.8 190.5 L 345.8 179.2 \" fill=\"#000000\"/>\n<path d=\"M 364.6 184.9 L 364.6 189.7 Q 363.0 190.6, 360.6 190.6 Q 358.1 190.6, 356.8 189.1 Q 355.5 187.6, 355.5 184.8 Q 355.5 182.0, 356.8 180.5 Q 358.1 179.0, 360.7 179.0 Q 362.0 179.0, 362.9 179.4 Q 363.9 179.8, 364.6 180.7 L 363.5 181.5 Q 362.5 180.3, 360.7 180.3 Q 358.9 180.3, 358.0 181.5 Q 357.1 182.6, 357.1 184.8 Q 357.1 187.0, 358.1 188.2 Q 359.0 189.4, 360.8 189.4 Q 362.0 189.4, 363.1 189.0 L 363.1 184.9 L 364.6 184.9 \" fill=\"#000000\"/>\n<path d=\"M 371.4 184.5 Q 372.4 184.9, 373.0 185.6 Q 373.6 186.3, 373.6 187.4 Q 373.6 188.3, 373.1 189.1 Q 372.6 189.8, 371.7 190.2 Q 370.8 190.6, 369.7 190.6 Q 367.8 190.6, 366.7 189.8 Q 365.6 188.9, 365.6 187.4 Q 365.6 186.5, 366.1 185.8 Q 366.6 185.1, 367.5 184.5 Q 366.8 184.1, 366.4 183.5 Q 366.0 182.9, 366.0 181.9 Q 366.0 180.6, 367.0 179.8 Q 367.9 179.0, 369.6 179.0 Q 371.2 179.0, 372.2 179.8 Q 373.2 180.6, 373.2 181.9 Q 373.2 182.8, 372.7 183.4 Q 372.3 184.0, 371.4 184.5 M 369.6 180.2 Q 368.7 180.2, 368.1 180.7 Q 367.6 181.1, 367.6 181.9 Q 367.6 182.5, 368.0 182.9 Q 368.3 183.3, 368.8 183.5 Q 369.3 183.8, 370.3 184.1 Q 371.0 183.6, 371.3 183.1 Q 371.6 182.6, 371.6 181.9 Q 371.6 181.1, 371.1 180.7 Q 370.5 180.2, 369.6 180.2 M 369.7 189.4 Q 370.7 189.4, 371.4 188.9 Q 372.0 188.3, 372.0 187.4 Q 372.0 186.8, 371.7 186.4 Q 371.3 186.0, 370.8 185.8 Q 370.3 185.5, 369.4 185.3 L 368.7 185.0 Q 367.9 185.5, 367.5 186.1 Q 367.2 186.6, 367.2 187.4 Q 367.2 188.3, 367.9 188.9 Q 368.5 189.4, 369.7 189.4 \" fill=\"#000000\"/>\n<path class=\"bond-0 atom-0 atom-1\" d=\"M 439.4,48.9 L 447.2,37.8\" style=\"fill:none;fill-rule:evenodd;stroke:#000000;stroke-width:2.0px;stroke-linecap:butt;stroke-linejoin:miter;stroke-opacity:1\"/>\n<path class=\"bond-1 atom-0 atom-24\" d=\"M 439.4,48.9 L 442.7,49.3 L 442.4,47.5 Z\" style=\"fill:#000000;fill-rule:evenodd;fill-opacity:1;stroke:#000000;stroke-width:2.0px;stroke-linecap:butt;stroke-linejoin:miter;stroke-opacity:1;\"/>\n<path class=\"bond-1 atom-0 atom-24\" d=\"M 442.7,49.3 L 445.4,46.1 L 446.0,49.6 Z\" style=\"fill:#0000FF;fill-rule:evenodd;fill-opacity:1;stroke:#0000FF;stroke-width:2.0px;stroke-linecap:butt;stroke-linejoin:miter;stroke-opacity:1;\"/>\n<path class=\"bond-1 atom-0 atom-24\" d=\"M 442.7,49.3 L 442.4,47.5 L 445.4,46.1 Z\" style=\"fill:#0000FF;fill-rule:evenodd;fill-opacity:1;stroke:#0000FF;stroke-width:2.0px;stroke-linecap:butt;stroke-linejoin:miter;stroke-opacity:1;\"/>\n<path class=\"bond-2 atom-0 atom-4\" d=\"M 439.4,48.9 L 442.1,65.6\" style=\"fill:none;fill-rule:evenodd;stroke:#000000;stroke-width:2.0px;stroke-linecap:butt;stroke-linejoin:miter;stroke-opacity:1\"/>\n<path class=\"bond-3 atom-1 atom-2\" d=\"M 447.2,37.8 L 461.8,47.2\" style=\"fill:none;fill-rule:evenodd;stroke:#000000;stroke-width:2.0px;stroke-linecap:butt;stroke-linejoin:miter;stroke-opacity:1\"/>\n<path class=\"bond-4 atom-1 atom-29\" d=\"M 444.5,36.6 L 444.3,37.8\" style=\"fill:none;fill-rule:evenodd;stroke:#000000;stroke-width:1.0px;stroke-linecap:butt;stroke-linejoin:miter;stroke-opacity:1\"/>\n<path class=\"bond-4 atom-1 atom-29\" d=\"M 441.8,35.4 L 441.3,37.7\" style=\"fill:none;fill-rule:evenodd;stroke:#33CCCC;stroke-width:1.0px;stroke-linecap:butt;stroke-linejoin:miter;stroke-opacity:1\"/>\n<path class=\"bond-4 atom-1 atom-29\" d=\"M 439.0,34.2 L 438.3,37.7\" style=\"fill:none;fill-rule:evenodd;stroke:#33CCCC;stroke-width:1.0px;stroke-linecap:butt;stroke-linejoin:miter;stroke-opacity:1\"/>\n<path class=\"bond-5 atom-2 atom-3\" d=\"M 461.8,47.2 L 459.5,53.9\" style=\"fill:none;fill-rule:evenodd;stroke:#000000;stroke-width:2.0px;stroke-linecap:butt;stroke-linejoin:miter;stroke-opacity:1\"/>\n<path class=\"bond-5 atom-2 atom-3\" d=\"M 459.5,53.9 L 457.1,60.5\" style=\"fill:none;fill-rule:evenodd;stroke:#0000FF;stroke-width:2.0px;stroke-linecap:butt;stroke-linejoin:miter;stroke-opacity:1\"/>\n<path class=\"bond-6 atom-3 atom-4\" d=\"M 453.7,63.9 L 447.9,64.8\" style=\"fill:none;fill-rule:evenodd;stroke:#0000FF;stroke-width:2.0px;stroke-linecap:butt;stroke-linejoin:miter;stroke-opacity:1\"/>\n<path class=\"bond-6 atom-3 atom-4\" d=\"M 447.9,64.8 L 442.1,65.6\" style=\"fill:none;fill-rule:evenodd;stroke:#000000;stroke-width:2.0px;stroke-linecap:butt;stroke-linejoin:miter;stroke-opacity:1\"/>\n<path class=\"bond-7 atom-3 atom-5\" d=\"M 457.6,66.4 L 460.3,71.3\" style=\"fill:none;fill-rule:evenodd;stroke:#0000FF;stroke-width:2.0px;stroke-linecap:butt;stroke-linejoin:miter;stroke-opacity:1\"/>\n<path class=\"bond-7 atom-3 atom-5\" d=\"M 460.3,71.3 L 462.9,76.1\" style=\"fill:none;fill-rule:evenodd;stroke:#000000;stroke-width:2.0px;stroke-linecap:butt;stroke-linejoin:miter;stroke-opacity:1\"/>\n<path class=\"bond-8 atom-5 atom-6\" d=\"M 462.9,76.1 L 460.2,82.0\" style=\"fill:none;fill-rule:evenodd;stroke:#000000;stroke-width:2.0px;stroke-linecap:butt;stroke-linejoin:miter;stroke-opacity:1\"/>\n<path class=\"bond-8 atom-5 atom-6\" d=\"M 460.2,82.0 L 457.5,87.8\" style=\"fill:none;fill-rule:evenodd;stroke:#0000FF;stroke-width:2.0px;stroke-linecap:butt;stroke-linejoin:miter;stroke-opacity:1\"/>\n<path class=\"bond-9 atom-5 atom-10\" d=\"M 462.9,76.1 L 468.4,75.0\" style=\"fill:none;fill-rule:evenodd;stroke:#000000;stroke-width:2.0px;stroke-linecap:butt;stroke-linejoin:miter;stroke-opacity:1\"/>\n<path class=\"bond-9 atom-5 atom-10\" d=\"M 468.4,75.0 L 473.9,73.9\" style=\"fill:none;fill-rule:evenodd;stroke:#0000FF;stroke-width:2.0px;stroke-linecap:butt;stroke-linejoin:miter;stroke-opacity:1\"/>\n<path class=\"bond-10 atom-6 atom-7\" d=\"M 457.3,93.7 L 459.6,99.1\" style=\"fill:none;fill-rule:evenodd;stroke:#0000FF;stroke-width:2.0px;stroke-linecap:butt;stroke-linejoin:miter;stroke-opacity:1\"/>\n<path class=\"bond-10 atom-6 atom-7\" d=\"M 459.6,99.1 L 461.9,104.5\" style=\"fill:none;fill-rule:evenodd;stroke:#000000;stroke-width:2.0px;stroke-linecap:butt;stroke-linejoin:miter;stroke-opacity:1\"/>\n<path class=\"bond-11 atom-7 atom-8\" d=\"M 461.9,104.5 L 475.8,102.6\" style=\"fill:none;fill-rule:evenodd;stroke:#000000;stroke-width:2.0px;stroke-linecap:butt;stroke-linejoin:miter;stroke-opacity:1\"/>\n<path class=\"bond-12 atom-7 atom-17\" d=\"M 461.9,104.5 L 458.8,110.5\" style=\"fill:none;fill-rule:evenodd;stroke:#000000;stroke-width:2.0px;stroke-linecap:butt;stroke-linejoin:miter;stroke-opacity:1\"/>\n<path class=\"bond-12 atom-7 atom-17\" d=\"M 458.8,110.5 L 455.8,116.4\" style=\"fill:none;fill-rule:evenodd;stroke:#0000FF;stroke-width:2.0px;stroke-linecap:butt;stroke-linejoin:miter;stroke-opacity:1\"/>\n<path class=\"bond-13 atom-8 atom-13\" d=\"M 475.8,102.6 L 479.3,106.5\" style=\"fill:none;fill-rule:evenodd;stroke:#000000;stroke-width:2.0px;stroke-linecap:butt;stroke-linejoin:miter;stroke-opacity:1\"/>\n<path class=\"bond-13 atom-8 atom-13\" d=\"M 479.3,106.5 L 482.7,110.5\" style=\"fill:none;fill-rule:evenodd;stroke:#0000FF;stroke-width:2.0px;stroke-linecap:butt;stroke-linejoin:miter;stroke-opacity:1\"/>\n<path class=\"bond-14 atom-8 atom-9\" d=\"M 475.8,102.6 L 482.0,87.0\" style=\"fill:none;fill-rule:evenodd;stroke:#000000;stroke-width:2.0px;stroke-linecap:butt;stroke-linejoin:miter;stroke-opacity:1\"/>\n<path class=\"bond-15 atom-9 atom-10\" d=\"M 482.0,87.0 L 479.7,81.7\" style=\"fill:none;fill-rule:evenodd;stroke:#000000;stroke-width:2.0px;stroke-linecap:butt;stroke-linejoin:miter;stroke-opacity:1\"/>\n<path class=\"bond-15 atom-9 atom-10\" d=\"M 479.7,81.7 L 477.4,76.4\" style=\"fill:none;fill-rule:evenodd;stroke:#0000FF;stroke-width:2.0px;stroke-linecap:butt;stroke-linejoin:miter;stroke-opacity:1\"/>\n<path class=\"bond-16 atom-9 atom-11\" d=\"M 482.0,87.0 L 487.4,87.5\" style=\"fill:none;fill-rule:evenodd;stroke:#000000;stroke-width:2.0px;stroke-linecap:butt;stroke-linejoin:miter;stroke-opacity:1\"/>\n<path class=\"bond-16 atom-9 atom-11\" d=\"M 487.4,87.5 L 492.8,87.9\" style=\"fill:none;fill-rule:evenodd;stroke:#0000FF;stroke-width:2.0px;stroke-linecap:butt;stroke-linejoin:miter;stroke-opacity:1\"/>\n<path class=\"bond-17 atom-11 atom-12\" d=\"M 495.3,91.1 L 495.8,97.6\" style=\"fill:none;fill-rule:evenodd;stroke:#0000FF;stroke-width:2.0px;stroke-linecap:butt;stroke-linejoin:miter;stroke-opacity:1\"/>\n<path class=\"bond-17 atom-11 atom-12\" d=\"M 495.8,97.6 L 496.4,104.2\" style=\"fill:none;fill-rule:evenodd;stroke:#000000;stroke-width:2.0px;stroke-linecap:butt;stroke-linejoin:miter;stroke-opacity:1\"/>\n<path class=\"bond-18 atom-11 atom-14\" d=\"M 497.3,85.2 L 501.2,79.8\" style=\"fill:none;fill-rule:evenodd;stroke:#0000FF;stroke-width:2.0px;stroke-linecap:butt;stroke-linejoin:miter;stroke-opacity:1\"/>\n<path class=\"bond-18 atom-11 atom-14\" d=\"M 501.2,79.8 L 505.2,74.5\" style=\"fill:none;fill-rule:evenodd;stroke:#000000;stroke-width:2.0px;stroke-linecap:butt;stroke-linejoin:miter;stroke-opacity:1\"/>\n<path class=\"bond-19 atom-12 atom-13\" d=\"M 496.4,104.2 L 491.8,107.7\" style=\"fill:none;fill-rule:evenodd;stroke:#000000;stroke-width:2.0px;stroke-linecap:butt;stroke-linejoin:miter;stroke-opacity:1\"/>\n<path class=\"bond-19 atom-12 atom-13\" d=\"M 491.8,107.7 L 487.3,111.3\" style=\"fill:none;fill-rule:evenodd;stroke:#0000FF;stroke-width:2.0px;stroke-linecap:butt;stroke-linejoin:miter;stroke-opacity:1\"/>\n<path class=\"bond-20 atom-14 atom-15\" d=\"M 503.2,71.1 L 502.3,71.9\" style=\"fill:none;fill-rule:evenodd;stroke:#000000;stroke-width:1.0px;stroke-linecap:butt;stroke-linejoin:miter;stroke-opacity:1\"/>\n<path class=\"bond-20 atom-14 atom-15\" d=\"M 501.3,67.7 L 499.4,69.3\" style=\"fill:none;fill-rule:evenodd;stroke:#000000;stroke-width:1.0px;stroke-linecap:butt;stroke-linejoin:miter;stroke-opacity:1\"/>\n<path class=\"bond-20 atom-14 atom-15\" d=\"M 499.3,64.4 L 496.5,66.7\" style=\"fill:none;fill-rule:evenodd;stroke:#000000;stroke-width:1.0px;stroke-linecap:butt;stroke-linejoin:miter;stroke-opacity:1\"/>\n<path class=\"bond-21 atom-14 atom-16\" d=\"M 505.2,74.5 L 522.6,79.2\" style=\"fill:none;fill-rule:evenodd;stroke:#000000;stroke-width:2.0px;stroke-linecap:butt;stroke-linejoin:miter;stroke-opacity:1\"/>\n<path class=\"bond-22 atom-17 atom-18\" d=\"M 451.9,120.0 L 446.3,121.4\" style=\"fill:none;fill-rule:evenodd;stroke:#0000FF;stroke-width:2.0px;stroke-linecap:butt;stroke-linejoin:miter;stroke-opacity:1\"/>\n<path class=\"bond-22 atom-17 atom-18\" d=\"M 446.3,121.4 L 440.7,122.8\" style=\"fill:none;fill-rule:evenodd;stroke:#000000;stroke-width:2.0px;stroke-linecap:butt;stroke-linejoin:miter;stroke-opacity:1\"/>\n<path class=\"bond-23 atom-18 atom-22\" d=\"M 440.7,122.8 L 433.8,138.1\" style=\"fill:none;fill-rule:evenodd;stroke:#000000;stroke-width:2.0px;stroke-linecap:butt;stroke-linejoin:miter;stroke-opacity:1\"/>\n<path class=\"bond-24 atom-18 atom-19\" d=\"M 440.7,122.8 L 430.7,112.8\" style=\"fill:none;fill-rule:evenodd;stroke:#000000;stroke-width:2.0px;stroke-linecap:butt;stroke-linejoin:miter;stroke-opacity:1\"/>\n<path class=\"bond-25 atom-19 atom-20\" d=\"M 430.7,112.8 L 426.0,116.7\" style=\"fill:none;fill-rule:evenodd;stroke:#000000;stroke-width:2.0px;stroke-linecap:butt;stroke-linejoin:miter;stroke-opacity:1\"/>\n<path class=\"bond-25 atom-19 atom-20\" d=\"M 426.0,116.7 L 421.4,120.5\" style=\"fill:none;fill-rule:evenodd;stroke:#0000FF;stroke-width:2.0px;stroke-linecap:butt;stroke-linejoin:miter;stroke-opacity:1\"/>\n<path class=\"bond-26 atom-20 atom-21\" d=\"M 419.4,125.4 L 420.4,135.1\" style=\"fill:none;fill-rule:evenodd;stroke:#0000FF;stroke-width:2.0px;stroke-linecap:butt;stroke-linejoin:miter;stroke-opacity:1\"/>\n<path class=\"bond-27 atom-20 atom-23\" d=\"M 416.8,121.6 L 411.3,119.6\" style=\"fill:none;fill-rule:evenodd;stroke:#0000FF;stroke-width:2.0px;stroke-linecap:butt;stroke-linejoin:miter;stroke-opacity:1\"/>\n<path class=\"bond-27 atom-20 atom-23\" d=\"M 411.3,119.6 L 405.9,117.5\" style=\"fill:none;fill-rule:evenodd;stroke:#000000;stroke-width:2.0px;stroke-linecap:butt;stroke-linejoin:miter;stroke-opacity:1\"/>\n<path class=\"bond-28 atom-21 atom-22\" d=\"M 422.9,138.0 L 428.4,138.1\" style=\"fill:none;fill-rule:evenodd;stroke:#0000FF;stroke-width:2.0px;stroke-linecap:butt;stroke-linejoin:miter;stroke-opacity:1\"/>\n<path class=\"bond-28 atom-21 atom-22\" d=\"M 428.4,138.1 L 433.8,138.1\" style=\"fill:none;fill-rule:evenodd;stroke:#000000;stroke-width:2.0px;stroke-linecap:butt;stroke-linejoin:miter;stroke-opacity:1\"/>\n<path class=\"bond-29 atom-24 atom-25\" d=\"M 445.7,49.9 L 443.9,51.8\" style=\"fill:none;fill-rule:evenodd;stroke:#0000FF;stroke-width:2.0px;stroke-linecap:butt;stroke-linejoin:miter;stroke-opacity:1\"/>\n<path class=\"bond-29 atom-24 atom-25\" d=\"M 443.9,51.8 L 442.2,53.8\" style=\"fill:none;fill-rule:evenodd;stroke:#000000;stroke-width:2.0px;stroke-linecap:butt;stroke-linejoin:miter;stroke-opacity:1\"/>\n<path class=\"bond-30 atom-25 atom-28\" d=\"M 442.2,53.8 L 437.2,56.7\" style=\"fill:none;fill-rule:evenodd;stroke:#000000;stroke-width:2.0px;stroke-linecap:butt;stroke-linejoin:miter;stroke-opacity:1\"/>\n<path class=\"bond-30 atom-25 atom-28\" d=\"M 437.2,56.7 L 432.2,59.7\" style=\"fill:none;fill-rule:evenodd;stroke:#FF0000;stroke-width:2.0px;stroke-linecap:butt;stroke-linejoin:miter;stroke-opacity:1\"/>\n<path class=\"bond-31 atom-25 atom-26\" d=\"M 442.2,53.8 L 453.9,50.2\" style=\"fill:none;fill-rule:evenodd;stroke:#000000;stroke-width:2.0px;stroke-linecap:butt;stroke-linejoin:miter;stroke-opacity:1\"/>\n<path class=\"bond-32 atom-26 atom-27\" d=\"M 453.9,50.2 L 449.7,58.0\" style=\"fill:none;fill-rule:evenodd;stroke:#000000;stroke-width:2.0px;stroke-linecap:butt;stroke-linejoin:miter;stroke-opacity:1\"/>\n<path class=\"atom-3\" d=\"M 454.9 61.0 L 456.6 63.7 Q 456.7 63.9, 457.0 64.4 Q 457.3 64.9, 457.3 64.9 L 457.3 61.0 L 458.0 61.0 L 458.0 66.1 L 457.3 66.1 L 455.5 63.1 Q 455.3 62.8, 455.0 62.4 Q 454.8 62.0, 454.7 61.9 L 454.7 66.1 L 454.1 66.1 L 454.1 61.0 L 454.9 61.0 \" fill=\"#0000FF\"/>\n<path class=\"atom-6\" d=\"M 449.6 88.2 L 450.3 88.2 L 450.3 90.4 L 452.9 90.4 L 452.9 88.2 L 453.5 88.2 L 453.5 93.3 L 452.9 93.3 L 452.9 91.0 L 450.3 91.0 L 450.3 93.3 L 449.6 93.3 L 449.6 88.2 \" fill=\"#0000FF\"/>\n<path class=\"atom-6\" d=\"M 455.0 88.2 L 456.6 90.9 Q 456.8 91.2, 457.1 91.7 Q 457.3 92.2, 457.3 92.2 L 457.3 88.2 L 458.0 88.2 L 458.0 93.3 L 457.3 93.3 L 455.5 90.4 Q 455.3 90.0, 455.1 89.7 Q 454.9 89.3, 454.8 89.1 L 454.8 93.3 L 454.1 93.3 L 454.1 88.2 L 455.0 88.2 \" fill=\"#0000FF\"/>\n<path class=\"atom-10\" d=\"M 475.0 70.9 L 476.7 73.6 Q 476.8 73.9, 477.1 74.4 Q 477.4 74.9, 477.4 74.9 L 477.4 70.9 L 478.1 70.9 L 478.1 76.0 L 477.4 76.0 L 475.6 73.1 Q 475.4 72.7, 475.1 72.3 Q 474.9 71.9, 474.9 71.8 L 474.9 76.0 L 474.2 76.0 L 474.2 70.9 L 475.0 70.9 \" fill=\"#0000FF\"/>\n<path class=\"atom-10\" d=\"M 478.7 70.9 L 479.4 70.9 L 479.4 73.1 L 482.0 73.1 L 482.0 70.9 L 482.7 70.9 L 482.7 76.0 L 482.0 76.0 L 482.0 73.7 L 479.4 73.7 L 479.4 76.0 L 478.7 76.0 L 478.7 70.9 \" fill=\"#0000FF\"/>\n<path class=\"atom-11\" d=\"M 493.9 85.6 L 495.6 88.3 Q 495.8 88.6, 496.0 89.0 Q 496.3 89.5, 496.3 89.6 L 496.3 85.6 L 497.0 85.6 L 497.0 90.7 L 496.3 90.7 L 494.5 87.7 Q 494.3 87.4, 494.1 87.0 Q 493.8 86.6, 493.8 86.5 L 493.8 90.7 L 493.1 90.7 L 493.1 85.6 L 493.9 85.6 \" fill=\"#0000FF\"/>\n<path class=\"atom-13\" d=\"M 483.9 110.6 L 485.6 113.3 Q 485.7 113.5, 486.0 114.0 Q 486.3 114.5, 486.3 114.5 L 486.3 110.6 L 487.0 110.6 L 487.0 115.7 L 486.3 115.7 L 484.5 112.7 Q 484.3 112.4, 484.0 112.0 Q 483.8 111.6, 483.8 111.4 L 483.8 115.7 L 483.1 115.7 L 483.1 110.6 L 483.9 110.6 \" fill=\"#0000FF\"/>\n<path class=\"atom-13\" d=\"M 483.0 116.2 L 483.7 116.2 L 483.7 118.3 L 486.3 118.3 L 486.3 116.2 L 487.0 116.2 L 487.0 121.3 L 486.3 121.3 L 486.3 118.9 L 483.7 118.9 L 483.7 121.3 L 483.0 121.3 L 483.0 116.2 \" fill=\"#0000FF\"/>\n<path class=\"atom-17\" d=\"M 453.1 116.8 L 454.8 119.5 Q 454.9 119.8, 455.2 120.3 Q 455.5 120.8, 455.5 120.8 L 455.5 116.8 L 456.2 116.8 L 456.2 121.9 L 455.5 121.9 L 453.7 119.0 Q 453.5 118.6, 453.2 118.2 Q 453.0 117.8, 452.9 117.7 L 452.9 121.9 L 452.3 121.9 L 452.3 116.8 L 453.1 116.8 \" fill=\"#0000FF\"/>\n<path class=\"atom-17\" d=\"M 456.8 116.8 L 457.5 116.8 L 457.5 119.0 L 460.1 119.0 L 460.1 116.8 L 460.8 116.8 L 460.8 121.9 L 460.1 121.9 L 460.1 119.6 L 457.5 119.6 L 457.5 121.9 L 456.8 121.9 L 456.8 116.8 \" fill=\"#0000FF\"/>\n<path class=\"atom-20\" d=\"M 417.9 119.9 L 419.6 122.6 Q 419.8 122.9, 420.0 123.4 Q 420.3 123.8, 420.3 123.9 L 420.3 119.9 L 421.0 119.9 L 421.0 125.0 L 420.3 125.0 L 418.5 122.1 Q 418.3 121.7, 418.1 121.3 Q 417.9 120.9, 417.8 120.8 L 417.8 125.0 L 417.1 125.0 L 417.1 119.9 L 417.9 119.9 \" fill=\"#0000FF\"/>\n<path class=\"atom-21\" d=\"M 414.1 135.4 L 414.8 135.4 L 414.8 137.6 L 417.4 137.6 L 417.4 135.4 L 418.1 135.4 L 418.1 140.5 L 417.4 140.5 L 417.4 138.2 L 414.8 138.2 L 414.8 140.5 L 414.1 140.5 L 414.1 135.4 \" fill=\"#0000FF\"/>\n<path class=\"atom-21\" d=\"M 419.5 135.4 L 421.2 138.1 Q 421.4 138.4, 421.6 138.9 Q 421.9 139.4, 421.9 139.4 L 421.9 135.4 L 422.6 135.4 L 422.6 140.5 L 421.9 140.5 L 420.1 137.6 Q 419.9 137.2, 419.7 136.8 Q 419.4 136.4, 419.4 136.3 L 419.4 140.5 L 418.7 140.5 L 418.7 135.4 L 419.5 135.4 \" fill=\"#0000FF\"/>\n<path class=\"atom-24\" d=\"M 446.7 44.9 L 448.4 47.6 Q 448.5 47.9, 448.8 48.4 Q 449.1 48.9, 449.1 48.9 L 449.1 44.9 L 449.8 44.9 L 449.8 50.0 L 449.1 50.0 L 447.3 47.1 Q 447.1 46.7, 446.8 46.4 Q 446.6 46.0, 446.6 45.8 L 446.6 50.0 L 445.9 50.0 L 445.9 44.9 L 446.7 44.9 \" fill=\"#0000FF\"/>\n<path class=\"atom-24\" d=\"M 450.4 44.9 L 451.1 44.9 L 451.1 47.1 L 453.7 47.1 L 453.7 44.9 L 454.4 44.9 L 454.4 50.0 L 453.7 50.0 L 453.7 47.7 L 451.1 47.7 L 451.1 50.0 L 450.4 50.0 L 450.4 44.9 \" fill=\"#0000FF\"/>\n<path class=\"atom-28\" d=\"M 422.8 58.7 L 423.5 58.7 L 423.5 60.9 L 426.1 60.9 L 426.1 58.7 L 426.8 58.7 L 426.8 63.8 L 426.1 63.8 L 426.1 61.5 L 423.5 61.5 L 423.5 63.8 L 422.8 63.8 L 422.8 58.7 \" fill=\"#FF0000\"/>\n<path class=\"atom-28\" d=\"M 427.1 61.3 Q 427.1 60.1, 427.7 59.4 Q 428.3 58.7, 429.5 58.7 Q 430.6 58.7, 431.2 59.4 Q 431.8 60.1, 431.8 61.3 Q 431.8 62.5, 431.2 63.2 Q 430.6 63.9, 429.5 63.9 Q 428.3 63.9, 427.7 63.2 Q 427.1 62.5, 427.1 61.3 M 429.5 63.3 Q 430.3 63.3, 430.7 62.8 Q 431.1 62.3, 431.1 61.3 Q 431.1 60.3, 430.7 59.8 Q 430.3 59.3, 429.5 59.3 Q 428.7 59.3, 428.3 59.8 Q 427.9 60.3, 427.9 61.3 Q 427.9 62.3, 428.3 62.8 Q 428.7 63.3, 429.5 63.3 \" fill=\"#FF0000\"/>\n<path class=\"atom-29\" d=\"M 435.4 33.0 L 438.4 33.0 L 438.4 33.6 L 436.0 33.6 L 436.0 35.1 L 438.1 35.1 L 438.1 35.7 L 436.0 35.7 L 436.0 38.1 L 435.4 38.1 L 435.4 33.0 \" fill=\"#33CCCC\"/>\n<path d=\"M 420.9 179.2 L 427.6 179.2 L 427.6 180.5 L 422.4 180.5 L 422.4 183.9 L 427.0 183.9 L 427.0 185.2 L 422.4 185.2 L 422.4 190.5 L 420.9 190.5 L 420.9 179.2 \" fill=\"#000000\"/>\n<path d=\"M 430.2 182.3 L 430.4 183.4 Q 431.2 182.1, 432.6 182.1 Q 433.1 182.1, 433.7 182.3 L 433.5 183.6 Q 432.8 183.5, 432.4 183.5 Q 431.7 183.5, 431.3 183.7 Q 430.8 184.0, 430.5 184.6 L 430.5 190.5 L 429.0 190.5 L 429.0 182.3 L 430.2 182.3 \" fill=\"#000000\"/>\n<path d=\"M 434.4 186.4 Q 434.4 184.4, 435.4 183.2 Q 436.5 182.1, 438.3 182.1 Q 440.2 182.1, 441.2 183.2 Q 442.2 184.4, 442.2 186.4 Q 442.2 188.4, 441.2 189.5 Q 440.2 190.6, 438.3 190.6 Q 436.5 190.6, 435.4 189.5 Q 434.4 188.4, 434.4 186.4 M 436.0 186.4 Q 436.0 187.9, 436.6 188.6 Q 437.2 189.4, 438.3 189.4 Q 439.5 189.4, 440.1 188.6 Q 440.7 187.9, 440.7 186.4 Q 440.7 184.9, 440.1 184.1 Q 439.5 183.3, 438.3 183.3 Q 437.2 183.3, 436.6 184.1 Q 436.0 184.9, 436.0 186.4 \" fill=\"#000000\"/>\n<path d=\"M 453.1 182.1 Q 454.5 182.1, 455.2 182.9 Q 455.9 183.6, 455.9 185.0 L 455.9 190.5 L 454.4 190.5 L 454.4 185.2 Q 454.4 184.2, 454.0 183.8 Q 453.6 183.3, 452.8 183.3 Q 452.1 183.3, 451.4 183.7 Q 450.8 184.0, 450.5 184.6 Q 450.5 184.7, 450.5 185.0 L 450.5 190.5 L 449.0 190.5 L 449.0 185.2 Q 449.0 184.2, 448.6 183.8 Q 448.2 183.3, 447.4 183.3 Q 446.7 183.3, 446.1 183.7 Q 445.4 184.0, 445.1 184.6 L 445.1 190.5 L 443.6 190.5 L 443.6 182.3 L 444.8 182.3 L 444.9 183.4 Q 446.0 182.1, 447.7 182.1 Q 449.6 182.1, 450.2 183.6 Q 451.3 182.1, 453.1 182.1 \" fill=\"#000000\"/>\n<path d=\"\" fill=\"#000000\"/>\n<path d=\"M 464.6 179.2 Q 466.5 179.2, 467.5 180.0 Q 468.4 180.9, 468.4 182.5 Q 468.4 184.1, 467.4 185.0 Q 466.4 185.8, 464.6 185.8 L 462.8 185.8 L 462.8 190.5 L 461.2 190.5 L 461.2 179.2 L 464.6 179.2 M 464.6 184.6 Q 465.7 184.6, 466.3 184.0 Q 466.9 183.5, 466.9 182.5 Q 466.9 181.5, 466.3 181.0 Q 465.7 180.4, 464.6 180.4 L 462.8 180.4 L 462.8 184.6 L 464.6 184.6 \" fill=\"#000000\"/>\n<path d=\"M 473.5 179.2 Q 476.0 179.2, 477.3 180.6 Q 478.7 182.1, 478.7 184.8 Q 478.7 187.5, 477.3 189.0 Q 476.0 190.5, 473.5 190.5 L 469.8 190.5 L 469.8 179.2 L 473.5 179.2 M 473.5 189.2 Q 475.2 189.2, 476.1 188.1 Q 477.1 187.0, 477.1 184.8 Q 477.1 182.6, 476.1 181.5 Q 475.2 180.4, 473.5 180.4 L 471.3 180.4 L 471.3 189.2 L 473.5 189.2 \" fill=\"#000000\"/>\n<path d=\"M 485.5 184.5 Q 486.6 184.8, 487.2 185.5 Q 487.7 186.2, 487.7 187.1 Q 487.7 188.7, 486.7 189.6 Q 485.7 190.5, 483.8 190.5 L 480.0 190.5 L 480.0 179.2 L 483.4 179.2 Q 485.3 179.2, 486.3 179.9 Q 487.3 180.7, 487.3 182.2 Q 487.3 183.9, 485.5 184.5 M 481.6 180.4 L 481.6 184.0 L 483.4 184.0 Q 484.5 184.0, 485.1 183.5 Q 485.7 183.1, 485.7 182.2 Q 485.7 180.4, 483.4 180.4 L 481.6 180.4 M 483.8 189.2 Q 484.9 189.2, 485.5 188.7 Q 486.1 188.2, 486.1 187.1 Q 486.1 186.2, 485.5 185.8 Q 484.8 185.3, 483.6 185.3 L 481.6 185.3 L 481.6 189.2 L 483.8 189.2 \" fill=\"#000000\"/>\n<path d=\"\" fill=\"#000000\"/>\n<path d=\"M 493.1 179.1 L 494.7 179.1 L 494.7 190.5 L 493.1 190.5 L 493.1 179.1 \" fill=\"#000000\"/>\n<path d=\"M 499.7 179.2 Q 502.2 179.2, 503.5 180.6 Q 504.9 182.1, 504.9 184.8 Q 504.9 187.5, 503.5 189.0 Q 502.2 190.5, 499.7 190.5 L 496.0 190.5 L 496.0 179.2 L 499.7 179.2 M 499.7 189.2 Q 501.4 189.2, 502.3 188.1 Q 503.3 187.0, 503.3 184.8 Q 503.3 182.6, 502.3 181.5 Q 501.4 180.4, 499.7 180.4 L 497.6 180.4 L 497.6 189.2 L 499.7 189.2 \" fill=\"#000000\"/>\n<path d=\"M 506.1 188.6 L 507.7 188.6 L 507.7 190.2 L 506.1 190.2 L 506.1 188.6 M 506.1 183.1 L 507.7 183.1 L 507.7 184.7 L 506.1 184.7 L 506.1 183.1 \" fill=\"#000000\"/>\n<path d=\"\" fill=\"#000000\"/>\n<path d=\"M 515.2 180.4 L 511.7 180.4 L 511.7 179.2 L 520.0 179.2 L 520.0 180.4 L 516.7 180.4 L 516.7 190.5 L 515.2 190.5 L 515.2 180.4 \" fill=\"#000000\"/>\n<path d=\"M 526.8 184.5 Q 527.8 184.9, 528.4 185.6 Q 529.0 186.3, 529.0 187.4 Q 529.0 188.3, 528.5 189.1 Q 528.0 189.8, 527.1 190.2 Q 526.3 190.6, 525.1 190.6 Q 523.2 190.6, 522.1 189.8 Q 521.0 188.9, 521.0 187.4 Q 521.0 186.5, 521.5 185.8 Q 522.0 185.1, 523.0 184.5 Q 522.2 184.1, 521.8 183.5 Q 521.4 182.9, 521.4 181.9 Q 521.4 180.6, 522.4 179.8 Q 523.4 179.0, 525.0 179.0 Q 526.7 179.0, 527.6 179.8 Q 528.6 180.6, 528.6 181.9 Q 528.6 182.8, 528.1 183.4 Q 527.7 184.0, 526.8 184.5 M 525.0 180.2 Q 524.1 180.2, 523.6 180.7 Q 523.0 181.1, 523.0 181.9 Q 523.0 182.5, 523.4 182.9 Q 523.7 183.3, 524.2 183.5 Q 524.8 183.8, 525.7 184.1 Q 526.4 183.6, 526.7 183.1 Q 527.0 182.6, 527.0 181.9 Q 527.0 181.1, 526.5 180.7 Q 526.0 180.2, 525.0 180.2 M 525.1 189.4 Q 526.1 189.4, 526.8 188.9 Q 527.4 188.3, 527.4 187.4 Q 527.4 186.8, 527.1 186.4 Q 526.8 186.0, 526.2 185.8 Q 525.7 185.5, 524.9 185.3 L 524.1 185.0 Q 523.3 185.5, 523.0 186.1 Q 522.6 186.6, 522.6 187.4 Q 522.6 188.3, 523.3 188.9 Q 524.0 189.4, 525.1 189.4 \" fill=\"#000000\"/>\n<path d=\"M 528.7 177.6 L 530.2 177.6 L 536.1 193.6 L 534.7 193.6 L 528.7 177.6 \" fill=\"#000000\"/>\n<path d=\"M 541.0 183.4 Q 542.0 183.4, 542.8 183.8 Q 543.6 184.2, 544.1 185.0 Q 544.5 185.8, 544.5 186.9 Q 544.5 188.1, 544.0 188.9 Q 543.4 189.8, 542.5 190.2 Q 541.6 190.6, 540.5 190.6 Q 539.5 190.6, 538.5 190.2 Q 537.5 189.8, 536.9 189.1 L 537.8 188.1 Q 538.4 188.7, 539.1 189.0 Q 539.8 189.3, 540.5 189.3 Q 541.6 189.3, 542.2 188.7 Q 542.9 188.1, 542.9 186.9 Q 542.9 185.7, 542.2 185.2 Q 541.6 184.6, 540.4 184.6 Q 539.5 184.6, 538.4 185.0 L 537.5 184.6 L 538.0 179.2 L 543.8 179.2 L 543.7 180.4 L 539.3 180.4 L 539.0 183.8 Q 540.0 183.4, 541.0 183.4 \" fill=\"#000000\"/>\n<path d=\"M 547.3 179.2 L 547.3 186.8 Q 547.3 188.1, 548.0 188.7 Q 548.8 189.3, 550.2 189.3 Q 551.6 189.3, 552.4 188.7 Q 553.1 188.1, 553.1 186.9 L 553.1 179.2 L 554.6 179.2 L 554.6 186.9 Q 554.6 188.7, 553.5 189.6 Q 552.4 190.6, 550.2 190.6 Q 548.0 190.6, 546.9 189.6 Q 545.8 188.7, 545.8 186.9 L 545.8 179.2 L 547.3 179.2 \" fill=\"#000000\"/>\n<path d=\"M 564.5 184.9 L 564.5 189.7 Q 562.9 190.6, 560.5 190.6 Q 558.1 190.6, 556.8 189.1 Q 555.4 187.6, 555.4 184.8 Q 555.4 182.0, 556.8 180.5 Q 558.1 179.0, 560.6 179.0 Q 561.9 179.0, 562.9 179.4 Q 563.8 179.8, 564.5 180.7 L 563.5 181.5 Q 562.4 180.3, 560.6 180.3 Q 558.9 180.3, 558.0 181.5 Q 557.1 182.6, 557.1 184.8 Q 557.1 187.0, 558.0 188.2 Q 558.9 189.4, 560.8 189.4 Q 562.0 189.4, 563.0 189.0 L 563.0 184.9 L 564.5 184.9 \" fill=\"#000000\"/>\n<path d=\"M 571.3 184.5 Q 572.4 184.9, 572.9 185.6 Q 573.5 186.3, 573.5 187.4 Q 573.5 188.3, 573.0 189.1 Q 572.5 189.8, 571.6 190.2 Q 570.8 190.6, 569.6 190.6 Q 567.7 190.6, 566.6 189.8 Q 565.5 188.9, 565.5 187.4 Q 565.5 186.5, 566.0 185.8 Q 566.5 185.1, 567.5 184.5 Q 566.8 184.1, 566.4 183.5 Q 566.0 182.9, 566.0 181.9 Q 566.0 180.6, 566.9 179.8 Q 567.9 179.0, 569.5 179.0 Q 571.2 179.0, 572.1 179.8 Q 573.1 180.6, 573.1 181.9 Q 573.1 182.8, 572.7 183.4 Q 572.2 184.0, 571.3 184.5 M 569.5 180.2 Q 568.6 180.2, 568.1 180.7 Q 567.6 181.1, 567.6 181.9 Q 567.6 182.5, 567.9 182.9 Q 568.3 183.3, 568.8 183.5 Q 569.3 183.8, 570.2 184.1 Q 570.9 183.6, 571.2 183.1 Q 571.5 182.6, 571.5 181.9 Q 571.5 181.1, 571.0 180.7 Q 570.5 180.2, 569.5 180.2 M 569.6 189.4 Q 570.7 189.4, 571.3 188.9 Q 571.9 188.3, 571.9 187.4 Q 571.9 186.8, 571.6 186.4 Q 571.3 186.0, 570.8 185.8 Q 570.3 185.5, 569.4 185.3 L 568.6 185.0 Q 567.8 185.5, 567.5 186.1 Q 567.1 186.6, 567.1 187.4 Q 567.1 188.3, 567.8 188.9 Q 568.5 189.4, 569.6 189.4 \" fill=\"#000000\"/>\n<path class=\"bond-0 atom-0 atom-1\" d=\"M 638.5,50.5 L 646.4,39.6\" style=\"fill:none;fill-rule:evenodd;stroke:#000000;stroke-width:2.0px;stroke-linecap:butt;stroke-linejoin:miter;stroke-opacity:1\"/>\n<path class=\"bond-1 atom-0 atom-26\" d=\"M 638.5,50.5 L 641.8,50.7 L 641.4,49.0 Z\" style=\"fill:#000000;fill-rule:evenodd;fill-opacity:1;stroke:#000000;stroke-width:2.0px;stroke-linecap:butt;stroke-linejoin:miter;stroke-opacity:1;\"/>\n<path class=\"bond-1 atom-0 atom-26\" d=\"M 641.8,50.7 L 644.4,47.4 L 645.1,50.9 Z\" style=\"fill:#0000FF;fill-rule:evenodd;fill-opacity:1;stroke:#0000FF;stroke-width:2.0px;stroke-linecap:butt;stroke-linejoin:miter;stroke-opacity:1;\"/>\n<path class=\"bond-1 atom-0 atom-26\" d=\"M 641.8,50.7 L 641.4,49.0 L 644.4,47.4 Z\" style=\"fill:#0000FF;fill-rule:evenodd;fill-opacity:1;stroke:#0000FF;stroke-width:2.0px;stroke-linecap:butt;stroke-linejoin:miter;stroke-opacity:1;\"/>\n<path class=\"bond-2 atom-0 atom-4\" d=\"M 638.5,50.5 L 641.0,67.4\" style=\"fill:none;fill-rule:evenodd;stroke:#000000;stroke-width:2.0px;stroke-linecap:butt;stroke-linejoin:miter;stroke-opacity:1\"/>\n<path class=\"bond-3 atom-1 atom-2\" d=\"M 646.4,39.6 L 661.2,49.2\" style=\"fill:none;fill-rule:evenodd;stroke:#000000;stroke-width:2.0px;stroke-linecap:butt;stroke-linejoin:miter;stroke-opacity:1\"/>\n<path class=\"bond-4 atom-1 atom-31\" d=\"M 643.7,38.6 L 643.5,39.7\" style=\"fill:none;fill-rule:evenodd;stroke:#000000;stroke-width:1.0px;stroke-linecap:butt;stroke-linejoin:miter;stroke-opacity:1\"/>\n<path class=\"bond-4 atom-1 atom-31\" d=\"M 641.0,37.5 L 640.6,39.8\" style=\"fill:none;fill-rule:evenodd;stroke:#33CCCC;stroke-width:1.0px;stroke-linecap:butt;stroke-linejoin:miter;stroke-opacity:1\"/>\n<path class=\"bond-4 atom-1 atom-31\" d=\"M 638.3,36.4 L 637.7,39.9\" style=\"fill:none;fill-rule:evenodd;stroke:#33CCCC;stroke-width:1.0px;stroke-linecap:butt;stroke-linejoin:miter;stroke-opacity:1\"/>\n<path class=\"bond-5 atom-2 atom-3\" d=\"M 661.2,49.2 L 658.7,55.9\" style=\"fill:none;fill-rule:evenodd;stroke:#000000;stroke-width:2.0px;stroke-linecap:butt;stroke-linejoin:miter;stroke-opacity:1\"/>\n<path class=\"bond-5 atom-2 atom-3\" d=\"M 658.7,55.9 L 656.2,62.5\" style=\"fill:none;fill-rule:evenodd;stroke:#0000FF;stroke-width:2.0px;stroke-linecap:butt;stroke-linejoin:miter;stroke-opacity:1\"/>\n<path class=\"bond-6 atom-3 atom-4\" d=\"M 652.8,65.8 L 646.9,66.6\" style=\"fill:none;fill-rule:evenodd;stroke:#0000FF;stroke-width:2.0px;stroke-linecap:butt;stroke-linejoin:miter;stroke-opacity:1\"/>\n<path class=\"bond-6 atom-3 atom-4\" d=\"M 646.9,66.6 L 641.0,67.4\" style=\"fill:none;fill-rule:evenodd;stroke:#000000;stroke-width:2.0px;stroke-linecap:butt;stroke-linejoin:miter;stroke-opacity:1\"/>\n<path class=\"bond-7 atom-3 atom-5\" d=\"M 656.7,68.4 L 659.4,73.2\" style=\"fill:none;fill-rule:evenodd;stroke:#0000FF;stroke-width:2.0px;stroke-linecap:butt;stroke-linejoin:miter;stroke-opacity:1\"/>\n<path class=\"bond-7 atom-3 atom-5\" d=\"M 659.4,73.2 L 662.1,78.0\" style=\"fill:none;fill-rule:evenodd;stroke:#000000;stroke-width:2.0px;stroke-linecap:butt;stroke-linejoin:miter;stroke-opacity:1\"/>\n<path class=\"bond-8 atom-5 atom-6\" d=\"M 662.1,78.0 L 659.3,83.8\" style=\"fill:none;fill-rule:evenodd;stroke:#000000;stroke-width:2.0px;stroke-linecap:butt;stroke-linejoin:miter;stroke-opacity:1\"/>\n<path class=\"bond-8 atom-5 atom-6\" d=\"M 659.3,83.8 L 656.6,89.7\" style=\"fill:none;fill-rule:evenodd;stroke:#0000FF;stroke-width:2.0px;stroke-linecap:butt;stroke-linejoin:miter;stroke-opacity:1\"/>\n<path class=\"bond-9 atom-5 atom-10\" d=\"M 662.1,78.0 L 667.6,76.8\" style=\"fill:none;fill-rule:evenodd;stroke:#000000;stroke-width:2.0px;stroke-linecap:butt;stroke-linejoin:miter;stroke-opacity:1\"/>\n<path class=\"bond-9 atom-5 atom-10\" d=\"M 667.6,76.8 L 673.2,75.7\" style=\"fill:none;fill-rule:evenodd;stroke:#0000FF;stroke-width:2.0px;stroke-linecap:butt;stroke-linejoin:miter;stroke-opacity:1\"/>\n<path class=\"bond-10 atom-6 atom-7\" d=\"M 656.5,95.6 L 658.9,100.9\" style=\"fill:none;fill-rule:evenodd;stroke:#0000FF;stroke-width:2.0px;stroke-linecap:butt;stroke-linejoin:miter;stroke-opacity:1\"/>\n<path class=\"bond-10 atom-6 atom-7\" d=\"M 658.9,100.9 L 661.2,106.2\" style=\"fill:none;fill-rule:evenodd;stroke:#000000;stroke-width:2.0px;stroke-linecap:butt;stroke-linejoin:miter;stroke-opacity:1\"/>\n<path class=\"bond-11 atom-7 atom-8\" d=\"M 661.2,106.2 L 675.3,104.0\" style=\"fill:none;fill-rule:evenodd;stroke:#000000;stroke-width:2.0px;stroke-linecap:butt;stroke-linejoin:miter;stroke-opacity:1\"/>\n<path class=\"bond-12 atom-7 atom-17\" d=\"M 661.2,106.2 L 658.2,112.2\" style=\"fill:none;fill-rule:evenodd;stroke:#000000;stroke-width:2.0px;stroke-linecap:butt;stroke-linejoin:miter;stroke-opacity:1\"/>\n<path class=\"bond-12 atom-7 atom-17\" d=\"M 658.2,112.2 L 655.1,118.1\" style=\"fill:none;fill-rule:evenodd;stroke:#0000FF;stroke-width:2.0px;stroke-linecap:butt;stroke-linejoin:miter;stroke-opacity:1\"/>\n<path class=\"bond-13 atom-8 atom-13\" d=\"M 675.3,104.0 L 678.8,107.9\" style=\"fill:none;fill-rule:evenodd;stroke:#000000;stroke-width:2.0px;stroke-linecap:butt;stroke-linejoin:miter;stroke-opacity:1\"/>\n<path class=\"bond-13 atom-8 atom-13\" d=\"M 678.8,107.9 L 682.3,111.8\" style=\"fill:none;fill-rule:evenodd;stroke:#0000FF;stroke-width:2.0px;stroke-linecap:butt;stroke-linejoin:miter;stroke-opacity:1\"/>\n<path class=\"bond-14 atom-8 atom-9\" d=\"M 675.3,104.0 L 681.4,88.5\" style=\"fill:none;fill-rule:evenodd;stroke:#000000;stroke-width:2.0px;stroke-linecap:butt;stroke-linejoin:miter;stroke-opacity:1\"/>\n<path class=\"bond-15 atom-9 atom-10\" d=\"M 681.4,88.5 L 679.1,83.3\" style=\"fill:none;fill-rule:evenodd;stroke:#000000;stroke-width:2.0px;stroke-linecap:butt;stroke-linejoin:miter;stroke-opacity:1\"/>\n<path class=\"bond-15 atom-9 atom-10\" d=\"M 679.1,83.3 L 676.7,78.1\" style=\"fill:none;fill-rule:evenodd;stroke:#0000FF;stroke-width:2.0px;stroke-linecap:butt;stroke-linejoin:miter;stroke-opacity:1\"/>\n<path class=\"bond-16 atom-9 atom-11\" d=\"M 681.4,88.5 L 686.9,88.8\" style=\"fill:none;fill-rule:evenodd;stroke:#000000;stroke-width:2.0px;stroke-linecap:butt;stroke-linejoin:miter;stroke-opacity:1\"/>\n<path class=\"bond-16 atom-9 atom-11\" d=\"M 686.9,88.8 L 692.4,89.2\" style=\"fill:none;fill-rule:evenodd;stroke:#0000FF;stroke-width:2.0px;stroke-linecap:butt;stroke-linejoin:miter;stroke-opacity:1\"/>\n<path class=\"bond-17 atom-11 atom-12\" d=\"M 694.9,92.3 L 695.5,98.8\" style=\"fill:none;fill-rule:evenodd;stroke:#0000FF;stroke-width:2.0px;stroke-linecap:butt;stroke-linejoin:miter;stroke-opacity:1\"/>\n<path class=\"bond-17 atom-11 atom-12\" d=\"M 695.5,98.8 L 696.1,105.3\" style=\"fill:none;fill-rule:evenodd;stroke:#000000;stroke-width:2.0px;stroke-linecap:butt;stroke-linejoin:miter;stroke-opacity:1\"/>\n<path class=\"bond-18 atom-11 atom-14\" d=\"M 696.9,86.4 L 700.9,81.0\" style=\"fill:none;fill-rule:evenodd;stroke:#0000FF;stroke-width:2.0px;stroke-linecap:butt;stroke-linejoin:miter;stroke-opacity:1\"/>\n<path class=\"bond-18 atom-11 atom-14\" d=\"M 700.9,81.0 L 704.9,75.6\" style=\"fill:none;fill-rule:evenodd;stroke:#000000;stroke-width:2.0px;stroke-linecap:butt;stroke-linejoin:miter;stroke-opacity:1\"/>\n<path class=\"bond-19 atom-12 atom-13\" d=\"M 696.1,105.3 L 691.5,108.9\" style=\"fill:none;fill-rule:evenodd;stroke:#000000;stroke-width:2.0px;stroke-linecap:butt;stroke-linejoin:miter;stroke-opacity:1\"/>\n<path class=\"bond-19 atom-12 atom-13\" d=\"M 691.5,108.9 L 686.9,112.5\" style=\"fill:none;fill-rule:evenodd;stroke:#0000FF;stroke-width:2.0px;stroke-linecap:butt;stroke-linejoin:miter;stroke-opacity:1\"/>\n<path class=\"bond-20 atom-14 atom-15\" d=\"M 702.9,72.1 L 702.0,72.9\" style=\"fill:none;fill-rule:evenodd;stroke:#000000;stroke-width:1.0px;stroke-linecap:butt;stroke-linejoin:miter;stroke-opacity:1\"/>\n<path class=\"bond-20 atom-14 atom-15\" d=\"M 701.0,68.7 L 699.1,70.1\" style=\"fill:none;fill-rule:evenodd;stroke:#000000;stroke-width:1.0px;stroke-linecap:butt;stroke-linejoin:miter;stroke-opacity:1\"/>\n<path class=\"bond-20 atom-14 atom-15\" d=\"M 699.1,65.2 L 696.2,67.4\" style=\"fill:none;fill-rule:evenodd;stroke:#000000;stroke-width:1.0px;stroke-linecap:butt;stroke-linejoin:miter;stroke-opacity:1\"/>\n<path class=\"bond-21 atom-14 atom-16\" d=\"M 704.9,75.6 L 722.2,80.3\" style=\"fill:none;fill-rule:evenodd;stroke:#000000;stroke-width:2.0px;stroke-linecap:butt;stroke-linejoin:miter;stroke-opacity:1\"/>\n<path class=\"bond-22 atom-17 atom-18\" d=\"M 651.3,121.7 L 645.5,123.1\" style=\"fill:none;fill-rule:evenodd;stroke:#0000FF;stroke-width:2.0px;stroke-linecap:butt;stroke-linejoin:miter;stroke-opacity:1\"/>\n<path class=\"bond-22 atom-17 atom-18\" d=\"M 645.5,123.1 L 639.7,124.5\" style=\"fill:none;fill-rule:evenodd;stroke:#000000;stroke-width:2.0px;stroke-linecap:butt;stroke-linejoin:miter;stroke-opacity:1\"/>\n<path class=\"bond-23 atom-18 atom-22\" d=\"M 639.7,124.5 L 630.4,138.3\" style=\"fill:none;fill-rule:evenodd;stroke:#000000;stroke-width:2.0px;stroke-linecap:butt;stroke-linejoin:miter;stroke-opacity:1\"/>\n<path class=\"bond-24 atom-18 atom-19\" d=\"M 639.7,124.5 L 631.4,116.3\" style=\"fill:none;fill-rule:evenodd;stroke:#000000;stroke-width:2.0px;stroke-linecap:butt;stroke-linejoin:miter;stroke-opacity:1\"/>\n<path class=\"bond-25 atom-19 atom-20\" d=\"M 631.4,116.3 L 626.0,120.0\" style=\"fill:none;fill-rule:evenodd;stroke:#000000;stroke-width:2.0px;stroke-linecap:butt;stroke-linejoin:miter;stroke-opacity:1\"/>\n<path class=\"bond-25 atom-19 atom-20\" d=\"M 626.0,120.0 L 620.5,123.7\" style=\"fill:none;fill-rule:evenodd;stroke:#0000FF;stroke-width:2.0px;stroke-linecap:butt;stroke-linejoin:miter;stroke-opacity:1\"/>\n<path class=\"bond-26 atom-20 atom-21\" d=\"M 618.0,128.2 L 617.4,136.1\" style=\"fill:none;fill-rule:evenodd;stroke:#0000FF;stroke-width:2.0px;stroke-linecap:butt;stroke-linejoin:miter;stroke-opacity:1\"/>\n<path class=\"bond-27 atom-20 atom-25\" d=\"M 615.9,124.7 L 610.9,123.2\" style=\"fill:none;fill-rule:evenodd;stroke:#0000FF;stroke-width:2.0px;stroke-linecap:butt;stroke-linejoin:miter;stroke-opacity:1\"/>\n<path class=\"bond-27 atom-20 atom-25\" d=\"M 610.9,123.2 L 605.8,121.7\" style=\"fill:none;fill-rule:evenodd;stroke:#000000;stroke-width:2.0px;stroke-linecap:butt;stroke-linejoin:miter;stroke-opacity:1\"/>\n<path class=\"bond-28 atom-21 atom-22\" d=\"M 619.5,138.8 L 624.9,138.5\" style=\"fill:none;fill-rule:evenodd;stroke:#0000FF;stroke-width:2.0px;stroke-linecap:butt;stroke-linejoin:miter;stroke-opacity:1\"/>\n<path class=\"bond-28 atom-21 atom-22\" d=\"M 624.9,138.5 L 630.4,138.3\" style=\"fill:none;fill-rule:evenodd;stroke:#000000;stroke-width:2.0px;stroke-linecap:butt;stroke-linejoin:miter;stroke-opacity:1\"/>\n<path class=\"bond-29 atom-22 atom-23\" d=\"M 630.4,138.3 L 631.9,142.6\" style=\"fill:none;fill-rule:evenodd;stroke:#000000;stroke-width:2.0px;stroke-linecap:butt;stroke-linejoin:miter;stroke-opacity:1\"/>\n<path class=\"bond-29 atom-22 atom-23\" d=\"M 631.9,142.6 L 633.3,146.9\" style=\"fill:none;fill-rule:evenodd;stroke:#FF0000;stroke-width:2.0px;stroke-linecap:butt;stroke-linejoin:miter;stroke-opacity:1\"/>\n<path class=\"bond-30 atom-23 atom-24\" d=\"M 631.8,152.9 L 627.7,158.0\" style=\"fill:none;fill-rule:evenodd;stroke:#FF0000;stroke-width:2.0px;stroke-linecap:butt;stroke-linejoin:miter;stroke-opacity:1\"/>\n<path class=\"bond-30 atom-23 atom-24\" d=\"M 627.7,158.0 L 623.5,163.1\" style=\"fill:none;fill-rule:evenodd;stroke:#000000;stroke-width:2.0px;stroke-linecap:butt;stroke-linejoin:miter;stroke-opacity:1\"/>\n<path class=\"bond-31 atom-26 atom-27\" d=\"M 644.8,51.2 L 643.1,53.1\" style=\"fill:none;fill-rule:evenodd;stroke:#0000FF;stroke-width:2.0px;stroke-linecap:butt;stroke-linejoin:miter;stroke-opacity:1\"/>\n<path class=\"bond-31 atom-26 atom-27\" d=\"M 643.1,53.1 L 641.5,54.9\" style=\"fill:none;fill-rule:evenodd;stroke:#000000;stroke-width:2.0px;stroke-linecap:butt;stroke-linejoin:miter;stroke-opacity:1\"/>\n<path class=\"bond-32 atom-27 atom-28\" d=\"M 641.5,54.9 L 653.1,50.9\" style=\"fill:none;fill-rule:evenodd;stroke:#000000;stroke-width:2.0px;stroke-linecap:butt;stroke-linejoin:miter;stroke-opacity:1\"/>\n<path class=\"bond-33 atom-27 atom-30\" d=\"M 641.5,54.9 L 636.6,57.9\" style=\"fill:none;fill-rule:evenodd;stroke:#000000;stroke-width:2.0px;stroke-linecap:butt;stroke-linejoin:miter;stroke-opacity:1\"/>\n<path class=\"bond-33 atom-27 atom-30\" d=\"M 636.6,57.9 L 631.7,61.0\" style=\"fill:none;fill-rule:evenodd;stroke:#FF0000;stroke-width:2.0px;stroke-linecap:butt;stroke-linejoin:miter;stroke-opacity:1\"/>\n<path class=\"bond-34 atom-28 atom-29\" d=\"M 653.1,50.9 L 649.2,59.0\" style=\"fill:none;fill-rule:evenodd;stroke:#000000;stroke-width:2.0px;stroke-linecap:butt;stroke-linejoin:miter;stroke-opacity:1\"/>\n<path class=\"atom-3\" d=\"M 654.0 62.9 L 655.7 65.6 Q 655.8 65.9, 656.1 66.4 Q 656.4 66.9, 656.4 66.9 L 656.4 62.9 L 657.1 62.9 L 657.1 68.0 L 656.4 68.0 L 654.6 65.1 Q 654.4 64.7, 654.1 64.4 Q 653.9 64.0, 653.9 63.8 L 653.9 68.0 L 653.2 68.0 L 653.2 62.9 L 654.0 62.9 \" fill=\"#0000FF\"/>\n<path class=\"atom-6\" d=\"M 648.7 90.1 L 649.4 90.1 L 649.4 92.3 L 652.0 92.3 L 652.0 90.1 L 652.6 90.1 L 652.6 95.2 L 652.0 95.2 L 652.0 92.9 L 649.4 92.9 L 649.4 95.2 L 648.7 95.2 L 648.7 90.1 \" fill=\"#0000FF\"/>\n<path class=\"atom-6\" d=\"M 654.1 90.1 L 655.7 92.8 Q 655.9 93.1, 656.2 93.6 Q 656.4 94.1, 656.4 94.1 L 656.4 90.1 L 657.1 90.1 L 657.1 95.2 L 656.4 95.2 L 654.6 92.3 Q 654.4 91.9, 654.2 91.5 Q 654.0 91.2, 653.9 91.0 L 653.9 95.2 L 653.2 95.2 L 653.2 90.1 L 654.1 90.1 \" fill=\"#0000FF\"/>\n<path class=\"atom-10\" d=\"M 674.3 72.6 L 676.0 75.3 Q 676.1 75.6, 676.4 76.1 Q 676.7 76.6, 676.7 76.6 L 676.7 72.6 L 677.4 72.6 L 677.4 77.7 L 676.7 77.7 L 674.9 74.8 Q 674.7 74.4, 674.4 74.1 Q 674.2 73.7, 674.2 73.5 L 674.2 77.7 L 673.5 77.7 L 673.5 72.6 L 674.3 72.6 \" fill=\"#0000FF\"/>\n<path class=\"atom-10\" d=\"M 678.0 72.6 L 678.7 72.6 L 678.7 74.8 L 681.3 74.8 L 681.3 72.6 L 682.0 72.6 L 682.0 77.7 L 681.3 77.7 L 681.3 75.4 L 678.7 75.4 L 678.7 77.7 L 678.0 77.7 L 678.0 72.6 \" fill=\"#0000FF\"/>\n<path class=\"atom-11\" d=\"M 693.5 86.8 L 695.2 89.5 Q 695.4 89.8, 695.7 90.3 Q 695.9 90.8, 695.9 90.8 L 695.9 86.8 L 696.6 86.8 L 696.6 91.9 L 695.9 91.9 L 694.1 89.0 Q 693.9 88.6, 693.7 88.2 Q 693.5 87.8, 693.4 87.7 L 693.4 91.9 L 692.7 91.9 L 692.7 86.8 L 693.5 86.8 \" fill=\"#0000FF\"/>\n<path class=\"atom-13\" d=\"M 683.5 111.8 L 685.2 114.5 Q 685.3 114.8, 685.6 115.2 Q 685.8 115.7, 685.9 115.8 L 685.9 111.8 L 686.5 111.8 L 686.5 116.9 L 685.8 116.9 L 684.0 113.9 Q 683.8 113.6, 683.6 113.2 Q 683.4 112.8, 683.3 112.7 L 683.3 116.9 L 682.7 116.9 L 682.7 111.8 L 683.5 111.8 \" fill=\"#0000FF\"/>\n<path class=\"atom-13\" d=\"M 682.6 117.4 L 683.3 117.4 L 683.3 119.6 L 685.9 119.6 L 685.9 117.4 L 686.6 117.4 L 686.6 122.5 L 685.9 122.5 L 685.9 120.1 L 683.3 120.1 L 683.3 122.5 L 682.6 122.5 L 682.6 117.4 \" fill=\"#0000FF\"/>\n<path class=\"atom-17\" d=\"M 652.4 118.6 L 654.1 121.3 Q 654.3 121.5, 654.5 122.0 Q 654.8 122.5, 654.8 122.5 L 654.8 118.6 L 655.5 118.6 L 655.5 123.7 L 654.8 123.7 L 653.0 120.7 Q 652.8 120.4, 652.6 120.0 Q 652.4 119.6, 652.3 119.4 L 652.3 123.7 L 651.6 123.7 L 651.6 118.6 L 652.4 118.6 \" fill=\"#0000FF\"/>\n<path class=\"atom-17\" d=\"M 656.1 118.6 L 656.8 118.6 L 656.8 120.7 L 659.4 120.7 L 659.4 118.6 L 660.1 118.6 L 660.1 123.7 L 659.4 123.7 L 659.4 121.3 L 656.8 121.3 L 656.8 123.7 L 656.1 123.7 L 656.1 118.6 \" fill=\"#0000FF\"/>\n<path class=\"atom-20\" d=\"M 617.1 122.8 L 618.7 125.5 Q 618.9 125.8, 619.2 126.2 Q 619.4 126.7, 619.4 126.8 L 619.4 122.8 L 620.1 122.8 L 620.1 127.9 L 619.4 127.9 L 617.6 124.9 Q 617.4 124.6, 617.2 124.2 Q 617.0 123.8, 616.9 123.7 L 616.9 127.9 L 616.3 127.9 L 616.3 122.8 L 617.1 122.8 \" fill=\"#0000FF\"/>\n<path class=\"atom-21\" d=\"M 610.7 136.4 L 611.4 136.4 L 611.4 138.5 L 614.0 138.5 L 614.0 136.4 L 614.7 136.4 L 614.7 141.5 L 614.0 141.5 L 614.0 139.1 L 611.4 139.1 L 611.4 141.5 L 610.7 141.5 L 610.7 136.4 \" fill=\"#0000FF\"/>\n<path class=\"atom-21\" d=\"M 616.1 136.4 L 617.8 139.1 Q 617.9 139.3, 618.2 139.8 Q 618.5 140.3, 618.5 140.3 L 618.5 136.4 L 619.2 136.4 L 619.2 141.5 L 618.5 141.5 L 616.7 138.5 Q 616.5 138.2, 616.2 137.8 Q 616.0 137.4, 615.9 137.2 L 615.9 141.5 L 615.3 141.5 L 615.3 136.4 L 616.1 136.4 \" fill=\"#0000FF\"/>\n<path class=\"atom-23\" d=\"M 632.0 149.8 Q 632.0 148.6, 632.6 147.9 Q 633.2 147.2, 634.3 147.2 Q 635.5 147.2, 636.1 147.9 Q 636.7 148.6, 636.7 149.8 Q 636.7 151.1, 636.0 151.8 Q 635.4 152.5, 634.3 152.5 Q 633.2 152.5, 632.6 151.8 Q 632.0 151.1, 632.0 149.8 M 634.3 151.9 Q 635.1 151.9, 635.5 151.4 Q 635.9 150.8, 635.9 149.8 Q 635.9 148.8, 635.5 148.3 Q 635.1 147.8, 634.3 147.8 Q 633.5 147.8, 633.1 148.3 Q 632.7 148.8, 632.7 149.8 Q 632.7 150.9, 633.1 151.4 Q 633.5 151.9, 634.3 151.9 \" fill=\"#FF0000\"/>\n<path class=\"atom-26\" d=\"M 645.8 46.2 L 647.5 48.9 Q 647.6 49.2, 647.9 49.6 Q 648.2 50.1, 648.2 50.1 L 648.2 46.2 L 648.8 46.2 L 648.8 51.3 L 648.1 51.3 L 646.4 48.3 Q 646.1 48.0, 645.9 47.6 Q 645.7 47.2, 645.6 47.1 L 645.6 51.3 L 645.0 51.3 L 645.0 46.2 L 645.8 46.2 \" fill=\"#0000FF\"/>\n<path class=\"atom-26\" d=\"M 649.5 46.2 L 650.1 46.2 L 650.1 48.4 L 652.8 48.4 L 652.8 46.2 L 653.4 46.2 L 653.4 51.3 L 652.8 51.3 L 652.8 48.9 L 650.1 48.9 L 650.1 51.3 L 649.5 51.3 L 649.5 46.2 \" fill=\"#0000FF\"/>\n<path class=\"atom-30\" d=\"M 622.3 60.1 L 623.0 60.1 L 623.0 62.3 L 625.6 62.3 L 625.6 60.1 L 626.3 60.1 L 626.3 65.2 L 625.6 65.2 L 625.6 62.9 L 623.0 62.9 L 623.0 65.2 L 622.3 65.2 L 622.3 60.1 \" fill=\"#FF0000\"/>\n<path class=\"atom-30\" d=\"M 626.7 62.6 Q 626.7 61.4, 627.3 60.7 Q 627.9 60.1, 629.0 60.1 Q 630.1 60.1, 630.7 60.7 Q 631.3 61.4, 631.3 62.6 Q 631.3 63.9, 630.7 64.6 Q 630.1 65.3, 629.0 65.3 Q 627.9 65.3, 627.3 64.6 Q 626.7 63.9, 626.7 62.6 M 629.0 64.7 Q 629.8 64.7, 630.2 64.2 Q 630.6 63.7, 630.6 62.6 Q 630.6 61.6, 630.2 61.1 Q 629.8 60.6, 629.0 60.6 Q 628.2 60.6, 627.8 61.1 Q 627.4 61.6, 627.4 62.6 Q 627.4 63.7, 627.8 64.2 Q 628.2 64.7, 629.0 64.7 \" fill=\"#FF0000\"/>\n<path class=\"atom-31\" d=\"M 634.7 35.3 L 637.7 35.3 L 637.7 35.9 L 635.4 35.9 L 635.4 37.4 L 637.5 37.4 L 637.5 38.0 L 635.4 38.0 L 635.4 40.4 L 634.7 40.4 L 634.7 35.3 \" fill=\"#33CCCC\"/>\n<path d=\"M 620.9 179.2 L 627.7 179.2 L 627.7 180.5 L 622.4 180.5 L 622.4 183.9 L 627.1 183.9 L 627.1 185.2 L 622.4 185.2 L 622.4 190.5 L 620.9 190.5 L 620.9 179.2 \" fill=\"#000000\"/>\n<path d=\"M 630.2 182.3 L 630.4 183.4 Q 631.3 182.1, 632.7 182.1 Q 633.1 182.1, 633.7 182.3 L 633.5 183.6 Q 632.8 183.5, 632.4 183.5 Q 631.8 183.5, 631.3 183.7 Q 630.9 184.0, 630.5 184.6 L 630.5 190.5 L 629.0 190.5 L 629.0 182.3 L 630.2 182.3 \" fill=\"#000000\"/>\n<path d=\"M 634.5 186.4 Q 634.5 184.4, 635.5 183.2 Q 636.5 182.1, 638.4 182.1 Q 640.3 182.1, 641.3 183.2 Q 642.3 184.4, 642.3 186.4 Q 642.3 188.4, 641.3 189.5 Q 640.3 190.6, 638.4 190.6 Q 636.5 190.6, 635.5 189.5 Q 634.5 188.4, 634.5 186.4 M 636.0 186.4 Q 636.0 187.9, 636.6 188.6 Q 637.2 189.4, 638.4 189.4 Q 639.5 189.4, 640.1 188.6 Q 640.8 187.9, 640.8 186.4 Q 640.8 184.9, 640.1 184.1 Q 639.5 183.3, 638.4 183.3 Q 637.2 183.3, 636.6 184.1 Q 636.0 184.9, 636.0 186.4 \" fill=\"#000000\"/>\n<path d=\"M 653.1 182.1 Q 654.5 182.1, 655.2 182.9 Q 655.9 183.6, 655.9 185.0 L 655.9 190.5 L 654.4 190.5 L 654.4 185.2 Q 654.4 184.2, 654.0 183.8 Q 653.6 183.3, 652.8 183.3 Q 652.1 183.3, 651.5 183.7 Q 650.9 184.0, 650.5 184.6 Q 650.5 184.7, 650.5 185.0 L 650.5 190.5 L 649.0 190.5 L 649.0 185.2 Q 649.0 184.2, 648.6 183.8 Q 648.3 183.3, 647.4 183.3 Q 646.7 183.3, 646.1 183.7 Q 645.5 184.0, 645.1 184.6 L 645.1 190.5 L 643.6 190.5 L 643.6 182.3 L 644.8 182.3 L 645.0 183.4 Q 646.1 182.1, 647.7 182.1 Q 649.6 182.1, 650.3 183.6 Q 651.3 182.1, 653.1 182.1 \" fill=\"#000000\"/>\n<path d=\"\" fill=\"#000000\"/>\n<path d=\"M 664.6 179.2 Q 666.5 179.2, 667.5 180.0 Q 668.5 180.9, 668.5 182.5 Q 668.5 184.1, 667.5 185.0 Q 666.5 185.8, 664.6 185.8 L 662.8 185.8 L 662.8 190.5 L 661.3 190.5 L 661.3 179.2 L 664.6 179.2 M 664.6 184.6 Q 665.7 184.6, 666.3 184.0 Q 666.9 183.5, 666.9 182.5 Q 666.9 181.5, 666.3 181.0 Q 665.7 180.4, 664.6 180.4 L 662.8 180.4 L 662.8 184.6 L 664.6 184.6 \" fill=\"#000000\"/>\n<path d=\"M 673.5 179.2 Q 676.0 179.2, 677.4 180.6 Q 678.7 182.1, 678.7 184.8 Q 678.7 187.5, 677.4 189.0 Q 676.0 190.5, 673.5 190.5 L 669.9 190.5 L 669.9 179.2 L 673.5 179.2 M 673.5 189.2 Q 675.2 189.2, 676.2 188.1 Q 677.1 187.0, 677.1 184.8 Q 677.1 182.6, 676.2 181.5 Q 675.2 180.4, 673.5 180.4 L 671.4 180.4 L 671.4 189.2 L 673.5 189.2 \" fill=\"#000000\"/>\n<path d=\"M 685.6 184.5 Q 686.7 184.8, 687.2 185.5 Q 687.8 186.2, 687.8 187.1 Q 687.8 188.7, 686.8 189.6 Q 685.8 190.5, 683.9 190.5 L 680.1 190.5 L 680.1 179.2 L 683.4 179.2 Q 685.4 179.2, 686.3 179.9 Q 687.3 180.7, 687.3 182.2 Q 687.3 183.9, 685.6 184.5 M 681.6 180.4 L 681.6 184.0 L 683.4 184.0 Q 684.5 184.0, 685.1 183.5 Q 685.7 183.1, 685.7 182.2 Q 685.7 180.4, 683.4 180.4 L 681.6 180.4 M 683.9 189.2 Q 685.0 189.2, 685.6 188.7 Q 686.2 188.2, 686.2 187.1 Q 686.2 186.2, 685.5 185.8 Q 684.9 185.3, 683.6 185.3 L 681.6 185.3 L 681.6 189.2 L 683.9 189.2 \" fill=\"#000000\"/>\n<path d=\"\" fill=\"#000000\"/>\n<path d=\"M 693.2 179.1 L 694.7 179.1 L 694.7 190.5 L 693.2 190.5 L 693.2 179.1 \" fill=\"#000000\"/>\n<path d=\"M 699.7 179.2 Q 702.2 179.2, 703.6 180.6 Q 704.9 182.1, 704.9 184.8 Q 704.9 187.5, 703.6 189.0 Q 702.2 190.5, 699.7 190.5 L 696.1 190.5 L 696.1 179.2 L 699.7 179.2 M 699.7 189.2 Q 701.5 189.2, 702.4 188.1 Q 703.3 187.0, 703.3 184.8 Q 703.3 182.6, 702.4 181.5 Q 701.5 180.4, 699.7 180.4 L 697.6 180.4 L 697.6 189.2 L 699.7 189.2 \" fill=\"#000000\"/>\n<path d=\"M 706.1 188.6 L 707.7 188.6 L 707.7 190.2 L 706.1 190.2 L 706.1 188.6 M 706.1 183.1 L 707.7 183.1 L 707.7 184.7 L 706.1 184.7 L 706.1 183.1 \" fill=\"#000000\"/>\n<path d=\"\" fill=\"#000000\"/>\n<path d=\"M 715.2 180.4 L 711.7 180.4 L 711.7 179.2 L 720.1 179.2 L 720.1 180.4 L 716.8 180.4 L 716.8 190.5 L 715.2 190.5 L 715.2 180.4 \" fill=\"#000000\"/>\n<path d=\"M 726.8 184.5 Q 727.9 184.9, 728.5 185.6 Q 729.1 186.3, 729.1 187.4 Q 729.1 188.3, 728.6 189.1 Q 728.1 189.8, 727.2 190.2 Q 726.3 190.6, 725.1 190.6 Q 723.2 190.6, 722.2 189.8 Q 721.1 188.9, 721.1 187.4 Q 721.1 186.5, 721.6 185.8 Q 722.0 185.1, 723.0 184.5 Q 722.3 184.1, 721.9 183.5 Q 721.5 182.9, 721.5 181.9 Q 721.5 180.6, 722.4 179.8 Q 723.4 179.0, 725.1 179.0 Q 726.7 179.0, 727.7 179.8 Q 728.7 180.6, 728.7 181.9 Q 728.7 182.8, 728.2 183.4 Q 727.7 184.0, 726.8 184.5 M 725.1 180.2 Q 724.1 180.2, 723.6 180.7 Q 723.1 181.1, 723.1 181.9 Q 723.1 182.5, 723.4 182.9 Q 723.8 183.3, 724.3 183.5 Q 724.8 183.8, 725.8 184.1 Q 726.5 183.6, 726.8 183.1 Q 727.1 182.6, 727.1 181.9 Q 727.1 181.1, 726.5 180.7 Q 726.0 180.2, 725.1 180.2 M 725.1 189.4 Q 726.2 189.4, 726.8 188.9 Q 727.5 188.3, 727.5 187.4 Q 727.5 186.8, 727.1 186.4 Q 726.8 186.0, 726.3 185.8 Q 725.8 185.5, 724.9 185.3 L 724.2 185.0 Q 723.4 185.5, 723.0 186.1 Q 722.7 186.6, 722.7 187.4 Q 722.7 188.3, 723.3 188.9 Q 724.0 189.4, 725.1 189.4 \" fill=\"#000000\"/>\n<path d=\"M 728.8 177.6 L 730.2 177.6 L 736.2 193.6 L 734.8 193.6 L 728.8 177.6 \" fill=\"#000000\"/>\n<path d=\"M 741.0 183.4 Q 742.0 183.4, 742.8 183.8 Q 743.7 184.2, 744.1 185.0 Q 744.6 185.8, 744.6 186.9 Q 744.6 188.1, 744.0 188.9 Q 743.5 189.8, 742.5 190.2 Q 741.6 190.6, 740.5 190.6 Q 739.5 190.6, 738.5 190.2 Q 737.6 189.8, 736.9 189.1 L 737.9 188.1 Q 738.4 188.7, 739.1 189.0 Q 739.9 189.3, 740.6 189.3 Q 741.6 189.3, 742.3 188.7 Q 743.0 188.1, 743.0 186.9 Q 743.0 185.7, 742.3 185.2 Q 741.6 184.6, 740.5 184.6 Q 739.5 184.6, 738.4 185.0 L 737.5 184.6 L 738.1 179.2 L 743.9 179.2 L 743.7 180.4 L 739.4 180.4 L 739.0 183.8 Q 740.0 183.4, 741.0 183.4 \" fill=\"#000000\"/>\n<path d=\"M 747.4 179.2 L 747.4 186.8 Q 747.4 188.1, 748.1 188.7 Q 748.8 189.3, 750.3 189.3 Q 751.7 189.3, 752.4 188.7 Q 753.2 188.1, 753.2 186.9 L 753.2 179.2 L 754.7 179.2 L 754.7 186.9 Q 754.7 188.7, 753.6 189.6 Q 752.5 190.6, 750.3 190.6 Q 748.0 190.6, 746.9 189.6 Q 745.8 188.7, 745.8 186.9 L 745.8 179.2 L 747.4 179.2 \" fill=\"#000000\"/>\n<path d=\"M 764.6 184.9 L 764.6 189.7 Q 763.0 190.6, 760.6 190.6 Q 758.1 190.6, 756.8 189.1 Q 755.5 187.6, 755.5 184.8 Q 755.5 182.0, 756.8 180.5 Q 758.1 179.0, 760.6 179.0 Q 762.0 179.0, 762.9 179.4 Q 763.9 179.8, 764.5 180.7 L 763.5 181.5 Q 762.4 180.3, 760.6 180.3 Q 758.9 180.3, 758.0 181.5 Q 757.1 182.6, 757.1 184.8 Q 757.1 187.0, 758.0 188.2 Q 759.0 189.4, 760.8 189.4 Q 762.0 189.4, 763.1 189.0 L 763.1 184.9 L 764.6 184.9 \" fill=\"#000000\"/>\n<path d=\"M 769.3 179.0 Q 771.3 179.0, 772.3 180.4 Q 773.3 181.8, 773.3 184.5 Q 773.3 187.5, 772.1 189.1 Q 770.8 190.6, 768.4 190.6 Q 767.7 190.6, 767.1 190.5 Q 766.5 190.3, 765.9 190.0 L 766.5 188.9 Q 767.4 189.3, 768.4 189.3 Q 770.0 189.3, 770.8 188.3 Q 771.6 187.3, 771.7 185.1 Q 771.1 185.7, 770.4 186.0 Q 769.7 186.2, 768.9 186.2 Q 767.9 186.2, 767.1 185.8 Q 766.3 185.4, 765.9 184.6 Q 765.5 183.8, 765.5 182.8 Q 765.5 181.7, 766.0 180.9 Q 766.4 180.0, 767.3 179.5 Q 768.2 179.0, 769.3 179.0 M 767.1 182.8 Q 767.1 183.8, 767.6 184.4 Q 768.2 185.0, 769.2 185.0 Q 769.9 185.0, 770.5 184.7 Q 771.2 184.4, 771.7 183.9 Q 771.6 182.0, 771.1 181.2 Q 770.5 180.3, 769.3 180.3 Q 768.7 180.3, 768.1 180.7 Q 767.6 181.0, 767.4 181.5 Q 767.1 182.1, 767.1 182.8 \" fill=\"#000000\"/>\n</svg>"
     },
     "execution_count": 5,
     "metadata": {},
     "output_type": "execute_result"
    }
   ],
   "source": [
    "Draw.MolsToGridImage(mols, molsPerRow=4, legends=[\"From PDB ID: \"+i for i in pdb_ids])"
   ]
  },
  {
   "cell_type": "markdown",
   "metadata": {},
   "source": [
    "We encounter a problem here: When loading ligands from a PDB file, RDKit does not assign e.g. aromatic rings to the ligand. We use the RDKit function `AssignBondOrdersFromTemplate`, which assigns bonds to a molecule based on a reference molecule, e.g. in our case based on the SMILES pattern of the molecule. \n",
    "\n",
    "Check for further information: ([RDKit discussion on \"Aromaticity of non-protein molecules in PDB not detected\"](https://github.com/rdkit/rdkit/issues/1031)) and ([RDKit documentation on `AssignBondOrdersFromTemplate`](http://rdkit.org/docs/source/rdkit.Chem.AllChem.html#AssignBondOrdersFromTemplate))."
   ]
  },
  {
   "cell_type": "code",
   "execution_count": 6,
   "metadata": {
    "collapsed": true
   },
   "outputs": [
    {
     "ename": "IndexError",
     "evalue": "index 0 is out of bounds for axis 0 with size 0",
     "output_type": "error",
     "traceback": [
      "\u001B[1;31m---------------------------------------------------------------------------\u001B[0m",
      "\u001B[1;31mIndexError\u001B[0m                                Traceback (most recent call last)",
      "\u001B[1;32mC:\\Users\\Public\\Documents\\iSkysoft\\CreatorTemp/ipykernel_4996/273107.py\u001B[0m in \u001B[0;36m<module>\u001B[1;34m\u001B[0m\n\u001B[0;32m      3\u001B[0m \u001B[1;33m\u001B[0m\u001B[0m\n\u001B[0;32m      4\u001B[0m \u001B[1;31m# Get SMILES in the same order as in pdb_ids\u001B[0m\u001B[1;33m\u001B[0m\u001B[1;33m\u001B[0m\u001B[0m\n\u001B[1;32m----> 5\u001B[1;33m \u001B[0mligs_smiles\u001B[0m \u001B[1;33m=\u001B[0m \u001B[1;33m[\u001B[0m\u001B[0mligs\u001B[0m\u001B[1;33m[\u001B[0m\u001B[0mligs\u001B[0m\u001B[1;33m[\u001B[0m\u001B[1;34m\"@structureId\"\u001B[0m\u001B[1;33m]\u001B[0m\u001B[1;33m==\u001B[0m\u001B[0mpdb_id\u001B[0m\u001B[1;33m]\u001B[0m\u001B[1;33m[\u001B[0m\u001B[1;34m\"smiles\"\u001B[0m\u001B[1;33m]\u001B[0m\u001B[1;33m.\u001B[0m\u001B[0mvalues\u001B[0m\u001B[1;33m[\u001B[0m\u001B[1;36m0\u001B[0m\u001B[1;33m]\u001B[0m \u001B[1;32mfor\u001B[0m \u001B[0mpdb_id\u001B[0m \u001B[1;32min\u001B[0m \u001B[0mpdb_ids\u001B[0m\u001B[1;33m]\u001B[0m\u001B[1;33m\u001B[0m\u001B[1;33m\u001B[0m\u001B[0m\n\u001B[0m\u001B[0;32m      6\u001B[0m \u001B[1;33m\u001B[0m\u001B[0m\n\u001B[0;32m      7\u001B[0m \u001B[1;31m# Generate RDKit Mol object from SMILES\u001B[0m\u001B[1;33m\u001B[0m\u001B[1;33m\u001B[0m\u001B[0m\n",
      "\u001B[1;32mC:\\Users\\Public\\Documents\\iSkysoft\\CreatorTemp/ipykernel_4996/273107.py\u001B[0m in \u001B[0;36m<listcomp>\u001B[1;34m(.0)\u001B[0m\n\u001B[0;32m      3\u001B[0m \u001B[1;33m\u001B[0m\u001B[0m\n\u001B[0;32m      4\u001B[0m \u001B[1;31m# Get SMILES in the same order as in pdb_ids\u001B[0m\u001B[1;33m\u001B[0m\u001B[1;33m\u001B[0m\u001B[0m\n\u001B[1;32m----> 5\u001B[1;33m \u001B[0mligs_smiles\u001B[0m \u001B[1;33m=\u001B[0m \u001B[1;33m[\u001B[0m\u001B[0mligs\u001B[0m\u001B[1;33m[\u001B[0m\u001B[0mligs\u001B[0m\u001B[1;33m[\u001B[0m\u001B[1;34m\"@structureId\"\u001B[0m\u001B[1;33m]\u001B[0m\u001B[1;33m==\u001B[0m\u001B[0mpdb_id\u001B[0m\u001B[1;33m]\u001B[0m\u001B[1;33m[\u001B[0m\u001B[1;34m\"smiles\"\u001B[0m\u001B[1;33m]\u001B[0m\u001B[1;33m.\u001B[0m\u001B[0mvalues\u001B[0m\u001B[1;33m[\u001B[0m\u001B[1;36m0\u001B[0m\u001B[1;33m]\u001B[0m \u001B[1;32mfor\u001B[0m \u001B[0mpdb_id\u001B[0m \u001B[1;32min\u001B[0m \u001B[0mpdb_ids\u001B[0m\u001B[1;33m]\u001B[0m\u001B[1;33m\u001B[0m\u001B[1;33m\u001B[0m\u001B[0m\n\u001B[0m\u001B[0;32m      6\u001B[0m \u001B[1;33m\u001B[0m\u001B[0m\n\u001B[0;32m      7\u001B[0m \u001B[1;31m# Generate RDKit Mol object from SMILES\u001B[0m\u001B[1;33m\u001B[0m\u001B[1;33m\u001B[0m\u001B[0m\n",
      "\u001B[1;31mIndexError\u001B[0m: index 0 is out of bounds for axis 0 with size 0"
     ]
    }
   ],
   "source": [
    "# Load SMILES for PDB ligand structures\n",
    "ligs = pd.read_csv(\"../data/T8/PDB_top_ligands.csv\", sep=\"\\t\")\n",
    "\n",
    "# Get SMILES in the same order as in pdb_ids\n",
    "ligs_smiles = [ligs[ligs[\"@structureId\"]==pdb_id][\"smiles\"].values[0] for pdb_id in pdb_ids]\n",
    "\n",
    "# Generate RDKit Mol object from SMILES\n",
    "refmols = [Chem.MolFromSmiles(smiles) for smiles in ligs_smiles]\n",
    "\n",
    "# Assign bond orders to molecules (mols) based on SMILES patterns (refmols)\n",
    "mols = [AllChem.AssignBondOrdersFromTemplate(refmol, mol) for refmol, mol in zip(refmols, mols)]"
   ]
  },
  {
   "cell_type": "code",
   "execution_count": null,
   "metadata": {},
   "outputs": [],
   "source": [
    "Draw.MolsToGridImage(mols, molsPerRow=4, legends=[\"From PDB ID: \"+i for i in pdb_ids])"
   ]
  },
  {
   "cell_type": "markdown",
   "metadata": {},
   "source": [
    "We can also have a look at the molecules in 2D (we copy the molecules for this example to keep the original coordinates)."
   ]
  },
  {
   "cell_type": "code",
   "execution_count": null,
   "metadata": {},
   "outputs": [],
   "source": [
    "mols_2D = [] \n",
    "for mol in mols:\n",
    "    tmp=Chem.Mol(mol)\n",
    "    AllChem.Compute2DCoords(tmp)\n",
    "    mols_2D.append(tmp)\n",
    "Draw.MolsToGridImage(mols_2D, molsPerRow=4, legends=[\"From PDB ID: \"+i for i in pdb_ids])"
   ]
  },
  {
   "cell_type": "markdown",
   "metadata": {
    "nbpresent": {
     "id": "d5eff4a8-0f9d-4493-8429-496ebee43102"
    }
   },
   "source": [
    "### Start PyMol\n",
    "\n",
    "We start PyMol within the terminal."
   ]
  },
  {
   "cell_type": "code",
   "execution_count": null,
   "metadata": {
    "nbpresent": {
     "id": "745bab97-c916-4324-ad98-6eed0c309fff"
    },
    "scrolled": true
   },
   "outputs": [],
   "source": [
    "# Open PyMol in shell\n",
    "os.popen('pymol -R')"
   ]
  },
  {
   "cell_type": "markdown",
   "metadata": {},
   "source": [
    "Note: If no separate PyMol window opens at this stage, something may be wrong with your PyMol installation and needs to be fixed first! You can also try to manually start PyMol by typing `pymol -R` in your shell."
   ]
  },
  {
   "cell_type": "markdown",
   "metadata": {},
   "source": [
    "We need to wait until PyMol is launched completely. Then we can link PyMol to the Jupyter notebook via RDKit: `objPMV = PyMol.MolViewer()`. Check general functionalities of PyMol integration with RDKit on ([rdkit.Chem.PyMol documentation](http://rdkit.org/docs/source/rdkit.Chem.PyMol.html))."
   ]
  },
  {
   "cell_type": "code",
   "execution_count": null,
   "metadata": {
    "collapsed": true
   },
   "outputs": [],
   "source": [
    "# Error handling: wait until PyMol is loaded\n",
    "\n",
    "nrTry = 0  # Number of current attempt\n",
    "ttw = 10  # Time to wait in seconds\n",
    "\n",
    "while nrTry < ttw:  # Try until PyMol is loaded and the object can be saved\n",
    "    nrTry += 1\n",
    "    try:  \n",
    "        objPMV = PyMol.MolViewer()  # Save the PyMol object\n",
    "        break  # Stop the loop when PyMol is loaded        \n",
    "    except ConnectionRefusedError:  # Exception handling if PyMol is not loaded yet\n",
    "        time.sleep(1) # Wait...\n",
    "    \n",
    "if nrTry == ttw: # After ttw trys: print error message\n",
    "    print(\"Error: PyMol did not start correctly.\\n\" +\n",
    "          \"Try again and/or check if PyMol is installed completely.\")"
   ]
  },
  {
   "cell_type": "markdown",
   "metadata": {},
   "source": [
    "This is the RDKit PyMol object, which we will be using in the following in order to control PyMol from within the Jupyter notebook:"
   ]
  },
  {
   "cell_type": "code",
   "execution_count": null,
   "metadata": {},
   "outputs": [],
   "source": [
    "objPMV"
   ]
  },
  {
   "cell_type": "markdown",
   "metadata": {},
   "source": [
    "The two most important commands of the RDKit PyMol integration are: \n",
    "* `objPMV.ShowMol(object, name, showOnly)` to load the object in PyMol\n",
    "* `objPMV.GetPNG(h=height)` to show the figure in the jupyter notebook"
   ]
  },
  {
   "cell_type": "markdown",
   "metadata": {
    "nbpresent": {
     "id": "a6f67949-7456-404f-8aae-d00535774585"
    }
   },
   "source": [
    "### Show ligands with PyMol\n",
    "\n",
    "We show all ligands (pre-aligned in previous talktorial) with PyMol. \n",
    "We load each molecule individually into PyMol and set a unique PyMol name (m1, m2, ...)."
   ]
  },
  {
   "cell_type": "code",
   "execution_count": null,
   "metadata": {
    "collapsed": true,
    "nbpresent": {
     "id": "443dc920-abf9-4468-9f69-b0cfdb5a8dd7"
    },
    "scrolled": true
   },
   "outputs": [],
   "source": [
    "for mol, i in zip(mols, rangeMols):\n",
    "    objPMV.ShowMol(mol, name='m%d'%i, showOnly=False)\n",
    "    i += 1"
   ]
  },
  {
   "cell_type": "markdown",
   "metadata": {},
   "source": [
    "All ligands should be visible now in the PyMol window. We display a picture of the PyMol window in this talktorial via retrieving a *png* picture."
   ]
  },
  {
   "cell_type": "code",
   "execution_count": null,
   "metadata": {},
   "outputs": [],
   "source": [
    "objPMV.GetPNG(h=300)"
   ]
  },
  {
   "cell_type": "markdown",
   "metadata": {},
   "source": [
    "Next, we define a function from the steps described above. \n",
    "We add some styling PyMol commands. You can pass PyMol commands from RDKit to PyMol using:\n",
    "\n",
    "`objPMV.server.do(\"any_pymol_command\")`"
   ]
  },
  {
   "cell_type": "code",
   "execution_count": null,
   "metadata": {
    "collapsed": true
   },
   "outputs": [],
   "source": [
    "def visualize_ligands(objPMV, molecules):\n",
    "    '''\n",
    "    This function shows all input molecules in PyMol (within the Jupyter notebook).\n",
    "    '''\n",
    "    \n",
    "    # Initialize PyMol in order to remove all previous objects\n",
    "    objPMV.server.do(\"reinitialize\")\n",
    "    \n",
    "    # Load ligands\n",
    "    rangeMols = range(1, len(molecules)+1)\n",
    "    for mol, i in zip(molecules, rangeMols):\n",
    "        objPMV.ShowMol(mol, name='mol_%d'%i, showOnly=False)\n",
    "        toStickCmd='cmd.show(\"sticks\",\"mol_'+str(i)+'\")'\n",
    "        objPMV.server.do(toStickCmd)\n",
    "        i += 1\n",
    "    \n",
    "    # Turn camera\n",
    "    objPMV.server.do(\"turn x, -40\")\n",
    "    \n",
    "    # Set background to white\n",
    "    objPMV.server.do(\"bg_color white\")\n",
    "    # Zoom in on ligands\n",
    "    objPMV.server.do(\"zoom\")\n",
    "    # Turn on ray tracing for better image quality\n",
    "    objPMV.server.do(\"ray 1800, 1000\")\n",
    "    \n",
    "    # Export as PNG file\n",
    "    outputPNG = objPMV.GetPNG(w=1800, h=1000)\n",
    "    outputPNG.save(\"../data/T9/ligands.png\", )\n",
    "    \n",
    "    # Display in Jupyter notebook\n",
    "    return objPMV.GetPNG(h=300)"
   ]
  },
  {
   "cell_type": "code",
   "execution_count": null,
   "metadata": {},
   "outputs": [],
   "source": [
    "visualize_ligands(objPMV, mols)"
   ]
  },
  {
   "cell_type": "markdown",
   "metadata": {
    "nbpresent": {
     "id": "664c7a54-f015-4cf2-be85-53a3c4e2ba26"
    }
   },
   "source": [
    "### Extract pharmacophore features\n",
    "\n",
    "As described above, the aim of this talktorial is to generate a ligand-based ensemble pharmacophore from a set of ligands. \n",
    "First, we need to extract pharmacophore features per ligand.\n",
    "Therefore, we load a feature factory (with the default feature definitions).\n",
    "\n",
    "See also [rdkit docu on chemical features and pharmacophores](https://rdkit.readthedocs.io/en/latest/GettingStartedInPython.html#chemical-features-and-pharmacophores)."
   ]
  },
  {
   "cell_type": "code",
   "execution_count": null,
   "metadata": {
    "collapsed": true,
    "nbpresent": {
     "id": "429a52f1-4203-4a49-a84c-951881850a49"
    }
   },
   "outputs": [],
   "source": [
    "ffact = AllChem.BuildFeatureFactory(os.path.join(RDConfig.RDDataDir,'BaseFeatures.fdef'))"
   ]
  },
  {
   "cell_type": "markdown",
   "metadata": {},
   "source": [
    "We take a look at the pharmacophore features that are implemented in RDKit:"
   ]
  },
  {
   "cell_type": "code",
   "execution_count": null,
   "metadata": {},
   "outputs": [],
   "source": [
    "list(ffact.GetFeatureDefs().keys())"
   ]
  },
  {
   "cell_type": "markdown",
   "metadata": {},
   "source": [
    "As an example, we get all feature for an example molecule."
   ]
  },
  {
   "cell_type": "code",
   "execution_count": null,
   "metadata": {
    "nbpresent": {
     "id": "90070fb5-064b-4bf6-ba19-11cd9f8be392"
    }
   },
   "outputs": [],
   "source": [
    "m1 = mols[0]\n",
    "feats = ffact.GetFeaturesForMol(m1)\n",
    "print('Number of features found:',len(feats))"
   ]
  },
  {
   "cell_type": "markdown",
   "metadata": {},
   "source": [
    "The type (in RDKit called family) of a feature can be retrieved with `GetFamily()`."
   ]
  },
  {
   "cell_type": "code",
   "execution_count": null,
   "metadata": {},
   "outputs": [],
   "source": [
    "feats[0].GetFamily()"
   ]
  },
  {
   "cell_type": "markdown",
   "metadata": {},
   "source": [
    "We get the frequency of features types for our example molecule."
   ]
  },
  {
   "cell_type": "code",
   "execution_count": null,
   "metadata": {},
   "outputs": [],
   "source": [
    "feats_freq = collections.Counter([x.GetFamily() for x in feats])\n",
    "feats_freq"
   ]
  },
  {
   "cell_type": "markdown",
   "metadata": {},
   "source": [
    "We apply the functions shown above to all molecules in our ligand set. We display the frequency of feature types per molecule as DataFrame."
   ]
  },
  {
   "cell_type": "code",
   "execution_count": null,
   "metadata": {},
   "outputs": [],
   "source": [
    "# Get feature type frequency per molecule\n",
    "mols_feats_freq = []\n",
    "for i in mols:\n",
    "    feats = [x.GetFamily() for x in ffact.GetFeaturesForMol(i)]\n",
    "    feats_freq = collections.Counter(feats)\n",
    "    mols_feats_freq.append(feats_freq)\n",
    "\n",
    "# Show data as DataFrame\n",
    "p = pd.DataFrame(mols_feats_freq, index=[\"m\"+str(i) for i in range(1, len(mols)+1)]).fillna(0).astype(int)\n",
    "p.transpose()"
   ]
  },
  {
   "cell_type": "markdown",
   "metadata": {},
   "source": [
    "Furtheron, we concentrate in this talktorial only on the following feature types: hydrogen bond acceptors (acceptors), hydrogen bond donors (donors), and hydrophobic contacts (hydrophobics).\n",
    "\n",
    "We retrieve the feature RDKit objects per feature type and per molecule. "
   ]
  },
  {
   "cell_type": "code",
   "execution_count": null,
   "metadata": {
    "collapsed": true,
    "nbpresent": {
     "id": "f9137113-0afc-4729-adec-34d5f3b68c4a"
    }
   },
   "outputs": [],
   "source": [
    "acceptors = []\n",
    "donors = []\n",
    "hydrophobics = []\n",
    "\n",
    "for i in mols:\n",
    "    acceptors.append(ffact.GetFeaturesForMol(i, includeOnly='Acceptor'))\n",
    "    donors.append(ffact.GetFeaturesForMol(i, includeOnly='Donor'))\n",
    "    hydrophobics.append(ffact.GetFeaturesForMol(i, includeOnly='Hydrophobe'))\n",
    "    \n",
    "features = {\"donors\": donors,\n",
    "            \"acceptors\": acceptors,\n",
    "            \"hydrophobics\": hydrophobics}"
   ]
  },
  {
   "cell_type": "markdown",
   "metadata": {},
   "source": [
    "### Show the pharmacophore features of all ligands\n",
    "\n",
    "Pharmacophore feature types usually are displayed in defined colors, e.g. usually hydrogen bond donors, hydrogen bond acceptors, and hydrophobic contacts are colored green, red, and yellow, respectively."
   ]
  },
  {
   "cell_type": "code",
   "execution_count": null,
   "metadata": {
    "collapsed": true
   },
   "outputs": [],
   "source": [
    "feature_colors = {\"donors\": (0,0.9,0),  # Green\n",
    "                  \"acceptors\": (0.9,0,0),  # Red \n",
    "                  \"hydrophobics\": (1,0.9,0)}  # Yellow"
   ]
  },
  {
   "cell_type": "markdown",
   "metadata": {},
   "source": [
    "RDKit's PyMol integration allows us to draw spheres (representing pharmacophore features) in PyMoL using the following command:\n",
    "\n",
    "`objPMV.server.sphere(loc, sphereRad, colors[i], label, 1)`"
   ]
  },
  {
   "cell_type": "code",
   "execution_count": null,
   "metadata": {
    "collapsed": true
   },
   "outputs": [],
   "source": [
    "def visualize_features(objPMV, molecules, feature_type, features, feature_color):\n",
    "    '''\n",
    "    This function displays all input molecules and all input features as spheres in PyMOL. \n",
    "    A png picture from the PyMOL window is loaded into the Jupyter Notebook and saved as file to disc.\n",
    "    At the end, the PyMOL session is cleaned from all objects.\n",
    "    '''\n",
    "    \n",
    "    # Initialize PyMol in order to remove all previous objects\n",
    "    objPMV.server.do(\"reinitialize\")\n",
    "    \n",
    "    print(\"Number of \" + feature_type + \" in all ligands: \" + str(sum([len(i) for i in features])))\n",
    "    \n",
    "    # Load ligands\n",
    "    rangeMols = range(1, len(molecules)+1)\n",
    "    for mol, i in zip(molecules, rangeMols):\n",
    "        objPMV.ShowMol(mol, name='mol_%d'%i, showOnly=False)\n",
    "        toStickCmd='cmd.show(\"sticks\",\"mol_'+str(i)+'\")'\n",
    "        objPMV.server.do(toStickCmd)\n",
    "        i += 1\n",
    "    \n",
    "    # Load features\n",
    "    for i in range(len(features)):\n",
    "        \n",
    "        for feature in features[i]:\n",
    "            loc = list(feature.GetPos())\n",
    "            sphere_radius = 0.5\n",
    "            label = feature_type + '_%d'%(i+1)\n",
    "            objPMV.server.sphere(loc, sphere_radius, feature_color, label, 1) # show the sphere (pharmacophore feature)\n",
    "    \n",
    "    # Turn camera\n",
    "    objPMV.server.do(\"turn x, -40\")\n",
    "    \n",
    "    # Set background to white\n",
    "    objPMV.server.do(\"bg_color white\")\n",
    "    # Zoom in on ligands\n",
    "    objPMV.server.do(\"zoom\")\n",
    "    # Turn on ray tracing for better image quality\n",
    "    objPMV.server.do(\"ray 1800, 1000\")\n",
    "    \n",
    "    # Export as PNG file\n",
    "    outputPNG = objPMV.GetPNG(w=1800, h=1000)\n",
    "    outputPNG.save(\"../data/T9/ligands_features_\"+feature_type+\".png\", )\n",
    "    \n",
    "    # Display in Jupyter notebook\n",
    "    return objPMV.GetPNG(h=300)"
   ]
  },
  {
   "cell_type": "markdown",
   "metadata": {},
   "source": [
    "We use this function to visualize the features for the feature types under consideration."
   ]
  },
  {
   "cell_type": "markdown",
   "metadata": {},
   "source": [
    "#### Hydrogen bond donors"
   ]
  },
  {
   "cell_type": "code",
   "execution_count": null,
   "metadata": {
    "scrolled": true
   },
   "outputs": [],
   "source": [
    "feature_type = \"donors\"\n",
    "visualize_features(objPMV, mols, feature_type, features[feature_type], feature_colors[feature_type])"
   ]
  },
  {
   "cell_type": "markdown",
   "metadata": {},
   "source": [
    "#### Hydrogen bond acceptors"
   ]
  },
  {
   "cell_type": "code",
   "execution_count": null,
   "metadata": {
    "scrolled": false
   },
   "outputs": [],
   "source": [
    "feature_type = \"acceptors\"\n",
    "visualize_features(objPMV, mols, feature_type, features[feature_type], feature_colors[feature_type])"
   ]
  },
  {
   "cell_type": "markdown",
   "metadata": {},
   "source": [
    "#### Hydrophobic contacts"
   ]
  },
  {
   "cell_type": "code",
   "execution_count": null,
   "metadata": {
    "scrolled": false
   },
   "outputs": [],
   "source": [
    "feature_type = \"hydrophobics\"\n",
    "visualize_features(objPMV, mols, feature_type, features[feature_type], feature_colors[feature_type])"
   ]
  },
  {
   "cell_type": "markdown",
   "metadata": {},
   "source": [
    "### Collect coordinates of features per feature type\n",
    "\n",
    "Since we want to cluster features (per feature type), we now collect all coordinates of features (per feature type)."
   ]
  },
  {
   "cell_type": "code",
   "execution_count": null,
   "metadata": {
    "collapsed": true
   },
   "outputs": [],
   "source": [
    "features_coord = {\"donors\": [list(item.GetPos()) for sublist in features[\"donors\"] for item in sublist],\n",
    "                  \"acceptors\": [list(item.GetPos()) for sublist in features[\"acceptors\"] for item in sublist],\n",
    "                  \"hydrophobics\": [list(item.GetPos()) for sublist in features[\"hydrophobics\"] for item in sublist]}"
   ]
  },
  {
   "cell_type": "markdown",
   "metadata": {},
   "source": [
    "Now, we have the positions of e.g. all acceptor features:"
   ]
  },
  {
   "cell_type": "code",
   "execution_count": null,
   "metadata": {},
   "outputs": [],
   "source": [
    "features_coord[\"acceptors\"]"
   ]
  },
  {
   "cell_type": "markdown",
   "metadata": {
    "nbpresent": {
     "id": "158eefe4-423d-4245-bf13-a2c043badad9"
    }
   },
   "source": [
    "### Generate ensemble pharmacophores\n",
    "\n",
    "In order to generate ensemble pharmacophores, we use k-means clustering to cluster features per feature type."
   ]
  },
  {
   "cell_type": "markdown",
   "metadata": {},
   "source": [
    "#### Set static parameters for k-means clustering\n",
    "\n",
    "`kq`: With this paramter, we determine the number of clusters `k` per feature type depending on the number of feature points, i.e. per feature type:\n",
    "\n",
    "`k` = number_of_features / `kq`"
   ]
  },
  {
   "cell_type": "code",
   "execution_count": null,
   "metadata": {
    "collapsed": true
   },
   "outputs": [],
   "source": [
    "# k quotient (kq) used to determine k in k-means: k = number of feature points / kq\n",
    "# kq should be selected so that k (feature clusters) is for all clusters at least 1 and not larger than 4-5 clusters\n",
    "kq = 7"
   ]
  },
  {
   "cell_type": "markdown",
   "metadata": {},
   "source": [
    "#### Set static parameters for cluster selection\n",
    "\n",
    "`min_cluster_size`: We only want to retain clusters that potentially contain features from most molecules in our ligand ensemble. Therefore, we set this variable to 75% of the number of molecules in our ligand ensemble.\n",
    "\n",
    "`top_cluster_number`: With this parameter, we select only the largest cluster."
   ]
  },
  {
   "cell_type": "code",
   "execution_count": null,
   "metadata": {
    "collapsed": true
   },
   "outputs": [],
   "source": [
    "# Threshold for clustering: number = percentage of threshold value\n",
    "min_cluster_size = int(len(mols) * 0.75)\n",
    "\n",
    "# Show only top features\n",
    "top_cluster_number = 4"
   ]
  },
  {
   "cell_type": "markdown",
   "metadata": {
    "nbpresent": {
     "id": "d6398f57-7ee2-4e9c-bc19-271c975c5882"
    }
   },
   "source": [
    "#### Define k-means clustering and cluster selection functions\n",
    "\n",
    "We define a function that calculates the centers of clusters, which are derived from k-means clustering."
   ]
  },
  {
   "cell_type": "code",
   "execution_count": null,
   "metadata": {
    "collapsed": true
   },
   "outputs": [],
   "source": [
    "def clustering(feature_coord, kd):\n",
    "    '''\n",
    "    This functions computes the k-means clustering of input feature coordinates.\n",
    "    '''\n",
    "    \n",
    "    # Define parameter k as feature number divided by \"k quotient\"\n",
    "    k = math.ceil(len(feature_coord) / kq)\n",
    "    k = 2 if k == 1 else k  # Tailor-made adaption of k for hydrophobics in for the example in this talktorial\n",
    "    print('Clustering: \\nVariable k in k-means: %d of %d points\\n'%(k, len(feature_coord)))\n",
    "    \n",
    "    # Initialize of k-means\n",
    "    k_means = cluster.KMeans(n_clusters=k)\n",
    "    \n",
    "    # Compute the k-means clustering\n",
    "    k_means.fit(feature_coord)\n",
    "    \n",
    "    # Return the clusters\n",
    "    return k_means "
   ]
  },
  {
   "cell_type": "markdown",
   "metadata": {},
   "source": [
    "We define a function that sorts the clusters by size and outputs a list of indices of the largest clusters."
   ]
  },
  {
   "cell_type": "code",
   "execution_count": null,
   "metadata": {
    "collapsed": true,
    "nbpresent": {
     "id": "2d15b7c3-846f-4c64-b454-bde719d5aaff"
    }
   },
   "outputs": [],
   "source": [
    "def get_clusters(k_means, min_cluster_size, top_cluster_number):\n",
    "    '''\n",
    "    This function retrieves information on a input k-means clustering:\n",
    "    * gets cluster label for each feature\n",
    "    * counts cluster sizes and sort cluster indices by cluster size\n",
    "    * selects clusters based on size\n",
    "    * returns selected cluster indices\n",
    "    '''\n",
    "    \n",
    "    # Sort clusters by size and only show largest\n",
    "    feature_labels = k_means.labels_\n",
    "    print('Cluster labels for all features: \\n%s\\n'% feature_labels)\n",
    "\n",
    "    feature_labels_count = Counter(feature_labels)\n",
    "    print('Cluster label counter: \\n%s\\n'% feature_labels_count)\n",
    "\n",
    "    feature_labels_count = sorted(feature_labels_count.items(), \n",
    "                                  key=operator.itemgetter(1), \n",
    "                                  reverse=True)\n",
    "    print('Sorted cluster label counters: \\n%s\\n'% feature_labels_count)\n",
    "\n",
    "    # Get number of the largest clusters, which are larger then the threshold (selected clusters)\n",
    "    cluster_indices_sel = []\n",
    "    \n",
    "    for cluster_index, cluster_size in feature_labels_count:  # feature_labels_count = list of (cluster_index, cluster_size)\n",
    "        if cluster_size >= min_cluster_size and top_cluster_number > 0:\n",
    "            cluster_indices_sel.append(cluster_index)\n",
    "            top_cluster_number -= 1\n",
    "            \n",
    "    print('Cluster indices of selected clusters: \\n%s\\n'% cluster_indices_sel)\n",
    "    \n",
    "    return cluster_indices_sel"
   ]
  },
  {
   "cell_type": "markdown",
   "metadata": {},
   "source": [
    "#### Cluster features\n",
    "\n",
    "For each feature type, we perform the k-means clustering with our defined `clustering` function."
   ]
  },
  {
   "cell_type": "code",
   "execution_count": null,
   "metadata": {},
   "outputs": [],
   "source": [
    "k_means = {\"donors\": clustering(features_coord[\"donors\"], kq), \n",
    "           \"acceptors\": clustering(features_coord[\"acceptors\"], kq),\n",
    "           \"hydrophobics\": clustering(features_coord[\"hydrophobics\"], kq)}"
   ]
  },
  {
   "cell_type": "markdown",
   "metadata": {},
   "source": [
    "#### Select relevant clusters\n",
    "\n",
    "For each feature type, we select relevant clusters with our defined `get_clusters` function."
   ]
  },
  {
   "cell_type": "code",
   "execution_count": null,
   "metadata": {},
   "outputs": [],
   "source": [
    "print(\"Hydrogen bond donors\\n\")\n",
    "cluster_indices_sel_don = get_clusters(k_means[\"donors\"], min_cluster_size, top_cluster_number)"
   ]
  },
  {
   "cell_type": "code",
   "execution_count": null,
   "metadata": {},
   "outputs": [],
   "source": [
    "print(\"Hydrogen bond acceptors\\n\")\n",
    "cluster_indices_sel_acc = get_clusters(k_means[\"acceptors\"], min_cluster_size, top_cluster_number)"
   ]
  },
  {
   "cell_type": "code",
   "execution_count": null,
   "metadata": {},
   "outputs": [],
   "source": [
    "print(\"Hydrophobic contacts\\n\")\n",
    "cluster_indices_sel_h = get_clusters(k_means[\"hydrophobics\"], min_cluster_size, top_cluster_number)"
   ]
  },
  {
   "cell_type": "code",
   "execution_count": null,
   "metadata": {
    "collapsed": true,
    "scrolled": true
   },
   "outputs": [],
   "source": [
    "cluster_indices_sel = {\"donors\": cluster_indices_sel_don, \n",
    "                       \"acceptors\": cluster_indices_sel_acc, \n",
    "                       \"hydrophobics\": cluster_indices_sel_h}"
   ]
  },
  {
   "cell_type": "markdown",
   "metadata": {},
   "source": [
    "#### Get selected cluster coordinates"
   ]
  },
  {
   "cell_type": "code",
   "execution_count": null,
   "metadata": {
    "collapsed": true
   },
   "outputs": [],
   "source": [
    "def get_selected_cluster_center_coords(k_means, cluster_indices_sel, feature_type):\n",
    "    '''\n",
    "    This function retrieves cluster center coordinates for selected clusters (by their indices).\n",
    "    '''\n",
    "    \n",
    "    # Get cluster centers for a certain feature type\n",
    "    cluster_centers = k_means[feature_type].cluster_centers_\n",
    "    \n",
    "    # Cast to list and then to pandas Series (for element selection by indices)\n",
    "    cluster_centers = pd.Series(cluster_centers.tolist())\n",
    "    \n",
    "    # Select cluster centers by indices of selected clusters\n",
    "    cluster_centers_sel = cluster_centers[cluster_indices_sel[feature_type]]\n",
    "    \n",
    "    # Cast to list and return\n",
    "    return list(cluster_centers_sel)"
   ]
  },
  {
   "cell_type": "code",
   "execution_count": null,
   "metadata": {
    "collapsed": true
   },
   "outputs": [],
   "source": [
    "cluster_centers_sel = {\"donors\": get_selected_cluster_center_coords(k_means, cluster_indices_sel, \"donors\"),\n",
    "                       \"acceptors\": get_selected_cluster_center_coords(k_means, cluster_indices_sel, \"acceptors\"),\n",
    "                       \"hydrophobics\": get_selected_cluster_center_coords(k_means, cluster_indices_sel, \"hydrophobics\")}"
   ]
  },
  {
   "cell_type": "code",
   "execution_count": null,
   "metadata": {},
   "outputs": [],
   "source": [
    "cluster_centers_sel[\"acceptors\"]"
   ]
  },
  {
   "cell_type": "markdown",
   "metadata": {},
   "source": [
    "### Show clusters\n",
    "\n",
    "Per feature type, we visualize cluster centers alongside with all molecules and all feature points. "
   ]
  },
  {
   "cell_type": "code",
   "execution_count": null,
   "metadata": {
    "collapsed": true
   },
   "outputs": [],
   "source": [
    "def visualize_clusters(objPMV, molecules, feature_type, features, cluster_centers_sel, feature_color):\n",
    "    '''\n",
    "    This function displays \n",
    "    * all input molecules, \n",
    "    * all input features as spheres, and \n",
    "    * the resulting cluster centers in PyMoL. \n",
    "    A png picture from the PyMoL window is loaded into the Jupyter notebook and saved as file to disc.\n",
    "    '''\n",
    "    \n",
    "    # Initialize PyMol in order to remove all previous objects\n",
    "    objPMV.server.do(\"reinitialize\")\n",
    "    \n",
    "    print(\"Number of \" + feature_type + \" in all ligands: \" + str(sum([len(i) for i in features])))\n",
    "    \n",
    "    # Load ligands\n",
    "    rangeMols = range(1, len(molecules)+1)\n",
    "    for mol, i in zip(molecules, rangeMols):\n",
    "        objPMV.ShowMol(mol, name='mol_%d'%i, showOnly=False)\n",
    "        toStickCmd='cmd.show(\"sticks\",\"mol_'+str(i)+'\")'\n",
    "        objPMV.server.do(toStickCmd)\n",
    "        i += 1\n",
    "    \n",
    "    # Load features\n",
    "    for i in range(len(features)):\n",
    "        \n",
    "        for feature in features[i]:\n",
    "            loc = list(feature.GetPos())\n",
    "            sphere_radius = 0.5\n",
    "            label = feature_type + '_%d'%(i+1)\n",
    "            objPMV.server.sphere(loc, sphere_radius, feature_color, label, 1) # show the sphere (pharmacophore feature)\n",
    "    \n",
    "    # Load clusters\n",
    "    for i in range(len(cluster_centers_sel)):\n",
    "        loc = cluster_centers_sel[i]\n",
    "        sphere_radius = 1\n",
    "        label = feature_type + '_c%d'%(i+1)\n",
    "        objPMV.server.sphere(loc, sphere_radius, feature_color, label, 1)\n",
    "    \n",
    "    # Turn camera\n",
    "    objPMV.server.do(\"turn x, -40\")\n",
    "    \n",
    "    # Set PyMol styling\n",
    "    objPMV.server.do(\"bg_color white\")\n",
    "    objPMV.server.do(\"zoom\")\n",
    "    objPMV.server.do(\"ray 1800, 1000\")\n",
    "    \n",
    "    # Export as PNG file\n",
    "    outputPNG = objPMV.GetPNG(w=1800, h=1000)\n",
    "    outputPNG.save(\"../data/T9/ligands_features_clusters_\"+feature_type+\".png\")\n",
    "    \n",
    "    # Display in Jupyter notebook\n",
    "    return objPMV.GetPNG(h=300)"
   ]
  },
  {
   "cell_type": "markdown",
   "metadata": {},
   "source": [
    "#### Hydrogen bond donors"
   ]
  },
  {
   "cell_type": "code",
   "execution_count": null,
   "metadata": {
    "scrolled": true
   },
   "outputs": [],
   "source": [
    "feature_type = \"donors\"\n",
    "visualize_clusters(objPMV, mols, feature_type, features[feature_type], \n",
    "                   cluster_centers_sel[feature_type], \n",
    "                   feature_colors[feature_type])"
   ]
  },
  {
   "cell_type": "markdown",
   "metadata": {},
   "source": [
    "#### Hydrogen bond acceptor"
   ]
  },
  {
   "cell_type": "code",
   "execution_count": null,
   "metadata": {},
   "outputs": [],
   "source": [
    "feature_type = \"acceptors\"\n",
    "visualize_clusters(objPMV, mols, feature_type, features[feature_type], \n",
    "                   cluster_centers_sel[feature_type],  \n",
    "                   feature_colors[feature_type])"
   ]
  },
  {
   "cell_type": "markdown",
   "metadata": {},
   "source": [
    "#### Hydrophobic contacts"
   ]
  },
  {
   "cell_type": "code",
   "execution_count": null,
   "metadata": {},
   "outputs": [],
   "source": [
    "feature_type = \"hydrophobics\"\n",
    "visualize_clusters(objPMV, mols, feature_type, features[feature_type], \n",
    "                   cluster_centers_sel[feature_type], \n",
    "                   feature_colors[feature_type])"
   ]
  },
  {
   "cell_type": "markdown",
   "metadata": {},
   "source": [
    "### Show ensemble pharmacophore\n",
    "\n",
    "In this last step, we combine the clustered pharmacophoric features (i.e. hydrogen bond donors and acceptors as well as hydrophobic contacts), to one ensemble pharmacophore, representing the pharmacophoric properties of the four selected ligands."
   ]
  },
  {
   "cell_type": "code",
   "execution_count": null,
   "metadata": {
    "scrolled": true
   },
   "outputs": [],
   "source": [
    "# Initialize PyMol in order to remove all previous objects\n",
    "objPMV.server.do(\"reinitialize\")\n",
    "\n",
    "# Load ligands\n",
    "rangeMols = range(1, len(mols)+1)\n",
    "for mol, i in zip(mols, rangeMols):\n",
    "    objPMV.ShowMol(mol, name='mol_%d'%i, showOnly=False)\n",
    "    toStickCmd='cmd.show(\"sticks\",\"mol_'+str(i)+'\")'\n",
    "    objPMV.server.do(toStickCmd)\n",
    "    i += 1\n",
    "\n",
    "# Load clusters\n",
    "for feature_type in cluster_indices_sel.keys():\n",
    "    centers = cluster_centers_sel[feature_type]\n",
    "    for i in range(len(centers)):\n",
    "        loc = centers[i]\n",
    "        sphere_radius = 1\n",
    "        feature_color = feature_colors[feature_type]\n",
    "        label = feature_type + '_c%d'%(i+1)\n",
    "        objPMV.server.sphere(loc, sphere_radius, feature_color, label, 1)\n",
    "\n",
    "# Turn camera\n",
    "objPMV.server.do(\"turn x, -40\")\n",
    "\n",
    "# Set PyMol styling\n",
    "objPMV.server.do(\"bg_color white\")\n",
    "objPMV.server.do(\"zoom\")\n",
    "objPMV.server.do(\"ray 1800, 1000\")\n",
    "\n",
    "# Export as PNG file\n",
    "outputPNG = objPMV.GetPNG(w=1800, h=1000)\n",
    "outputPNG.save(\"../data/T9/ligands_ensemble_ph4.png\")\n",
    "\n",
    "# Display in Jupyter notebook\n",
    "objPMV.GetPNG(h=300)"
   ]
  },
  {
   "cell_type": "markdown",
   "metadata": {},
   "source": [
    "## Discussion\n",
    "\n",
    "In this talktorial, we used a set of pre-aligned ligands, which are known to bind EGFR, to generate an ensemble pharmacophore model. This model could now be used for virtual screening against a large library of small molecules, in order to find novel small molecules that show the observed steric and physico-chemical properties and might therefore also bind to the EGFR binding site. \n",
    "\n",
    "Before screening, the pharmacophore models are usually further optimized, e.g. features might be omitted in order to reduce the number of features for screening based on biological knowledge (some interaction might be reported as important whereas others are not) or based on chemical expertise.\n",
    "\n",
    "We do not cover the virtual screening in this talktorial, however refer to an excellent tutorial by Nik Stiefl, demonstrating pharmacophore modeling and virtual screening with RDKit ([RDKit UGM 2016 on GitHub](https://github.com/rdkit/UGM_2016/blob/master/Notebooks/Stiefl_RDKitPh4FullPublication.ipynb)).\n",
    "\n",
    "We used K-means clustering to cluster pharmacophore feature. This clustering approach has the disadvantage that the user needs to define the number of clusters beforehand, which is usually based on a visual inspection of the point distribution before clustering (or during cluster refinement) and is therefore hindering for an automated pharmacophore generation. Density-based clustering methods (also in combination with K-means clustering) can be a solution for this.\n",
    "\n",
    "## Quiz\n",
    "\n",
    "1. Explain the terms pharmacophoric features and pharmacophore.\n",
    "2. Explain the difference between structure- and ligand-based pharmacophore modeling.\n",
    "3. Explain how we derived an ensemble pharmacophore."
   ]
  },
  {
   "cell_type": "code",
   "execution_count": null,
   "metadata": {
    "collapsed": true
   },
   "outputs": [],
   "source": []
  }
 ],
 "metadata": {
  "anaconda-cloud": {},
  "kernelspec": {
   "name": "teachopencadd",
   "language": "python",
   "display_name": "teachopencadd"
  },
  "language_info": {
   "codemirror_mode": {
    "name": "ipython",
    "version": 3
   },
   "file_extension": ".py",
   "mimetype": "text/x-python",
   "name": "python",
   "nbconvert_exporter": "python",
   "pygments_lexer": "ipython3",
   "version": "3.6.6"
  }
 },
 "nbformat": 4,
 "nbformat_minor": 2
}